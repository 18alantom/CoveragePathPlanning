{
 "cells": [
  {
   "cell_type": "code",
   "execution_count": 1,
   "metadata": {
    "ExecuteTime": {
     "end_time": "2020-08-01T09:14:54.248292Z",
     "start_time": "2020-08-01T09:14:52.677987Z"
    }
   },
   "outputs": [],
   "source": [
    "from cpp_algorithms import darp, imshow, get_random_coords, get_all_area_maps"
   ]
  },
  {
   "cell_type": "code",
   "execution_count": 2,
   "metadata": {
    "ExecuteTime": {
     "end_time": "2020-08-01T09:14:55.198857Z",
     "start_time": "2020-08-01T09:14:55.011356Z"
    }
   },
   "outputs": [],
   "source": [
    "import geopandas\n",
    "import geojson\n",
    "import json\n",
    "import sys\n",
    "import shapely\n",
    "from shapely.geometry import shape\n",
    "from haversine import haversine, Unit\n",
    "from shapely.geometry import Polygon\n",
    "from shapely.geometry import Point\n",
    "from shapely.geometry import LineString\n",
    "from math import ceil\n",
    "import numpy as np\n",
    "import matplotlib.pyplot as plt\n",
    "from shapely.ops import unary_union\n",
    "import geopy\n",
    "import geopy.distance\n",
    "import pyproj\n",
    "from shapely.ops import transform\n",
    "from functools import partial"
   ]
  },
  {
   "cell_type": "code",
   "execution_count": 3,
   "metadata": {
    "ExecuteTime": {
     "end_time": "2020-08-01T09:14:55.373939Z",
     "start_time": "2020-08-01T09:14:55.319651Z"
    }
   },
   "outputs": [],
   "source": [
    "#reading the shapefile and converting it to geojson\n",
    "myshpfile = geopandas.read_file('layers\\\\POLYGON.shp')\n",
    "myshpfile.to_file('myJson.geojson', driver='GeoJSON')\n",
    "with open('myJson.geojson') as f:\n",
    "    features = json.load(f)[\"features\"] \n",
    "maparea = ([shape(feature[\"geometry\"]).buffer(0) for feature in features])"
   ]
  },
  {
   "cell_type": "code",
   "execution_count": 4,
   "metadata": {
    "ExecuteTime": {
     "end_time": "2020-08-01T09:14:55.652900Z",
     "start_time": "2020-08-01T09:14:55.643931Z"
    }
   },
   "outputs": [
    {
     "name": "stdout",
     "output_type": "stream",
     "text": [
      "[<shapely.geometry.polygon.Polygon object at 0x000001BDB5A0A9C8>\n",
      " <shapely.geometry.polygon.Polygon object at 0x000001BDB5A0AEC8>\n",
      " <shapely.geometry.polygon.Polygon object at 0x000001BDB5A3FA08>]\n"
     ]
    }
   ],
   "source": [
    "obstacles = np.zeros([3],dtype = 'O')\n",
    "for x in range(0,3):\n",
    "    obstacles[x] = maparea[x+1]\n",
    "print(obstacles)"
   ]
  },
  {
   "cell_type": "code",
   "execution_count": 5,
   "metadata": {
    "ExecuteTime": {
     "end_time": "2020-08-01T09:14:55.920438Z",
     "start_time": "2020-08-01T09:14:55.915420Z"
    }
   },
   "outputs": [
    {
     "name": "stdout",
     "output_type": "stream",
     "text": [
      "(72.79214859008789, 18.920089944412993, 72.84896850585938, 19.025283423553358)\n"
     ]
    }
   ],
   "source": [
    "# The bounds of the map minx miny maxx maxy\n",
    "outer_rect = maparea[0].bounds\n",
    "print(outer_rect)"
   ]
  },
  {
   "cell_type": "code",
   "execution_count": 6,
   "metadata": {
    "ExecuteTime": {
     "end_time": "2020-08-01T09:14:56.234473Z",
     "start_time": "2020-08-01T09:14:56.225496Z"
    }
   },
   "outputs": [],
   "source": [
    "def gridpoints(rect,dist):\n",
    "    height = haversine((rect[1],rect[0]),(rect[3],rect[0]))\n",
    "    length = haversine((rect[1],rect[0]),(rect[1],rect[2]))\n",
    "    d = geopy.distance.distance(kilometers = dist)\n",
    "    horizontalcells = ceil(length/dist)\n",
    "    verticalcells = ceil(height/dist)\n",
    "    \n",
    "    latitudelist = []\n",
    "    start = geopy.Point(rect[1],rect[0])\n",
    "    for _ in range(verticalcells):\n",
    "        latitudelist.append(start)\n",
    "        final = d.destination(point=start, bearing=0)\n",
    "        start = final\n",
    "    latitudelist.append(start)\n",
    "    \n",
    "    longitudelist = []\n",
    "    start = geopy.Point(rect[1],rect[0])\n",
    "    for _ in range(horizontalcells):\n",
    "        longitudelist.append(start)\n",
    "        final = d.destination(point=start, bearing=90)\n",
    "        start = final\n",
    "    longitudelist.append(start)\n",
    "    \n",
    "    return latitudelist,longitudelist,verticalcells,horizontalcells"
   ]
  },
  {
   "cell_type": "code",
   "execution_count": 7,
   "metadata": {
    "ExecuteTime": {
     "end_time": "2020-08-01T09:14:56.513407Z",
     "start_time": "2020-08-01T09:14:56.492462Z"
    }
   },
   "outputs": [],
   "source": [
    "latitudelist,longitudelist,vertical,horizontal = gridpoints(outer_rect,0.1) #binding rectangle and distance are sent as parameters"
   ]
  },
  {
   "cell_type": "code",
   "execution_count": 8,
   "metadata": {
    "ExecuteTime": {
     "end_time": "2020-08-01T09:14:56.867146Z",
     "start_time": "2020-08-01T09:14:56.864118Z"
    }
   },
   "outputs": [],
   "source": [
    "mapboundary = maparea[0]"
   ]
  },
  {
   "cell_type": "code",
   "execution_count": 9,
   "metadata": {
    "ExecuteTime": {
     "end_time": "2020-08-01T09:14:57.110429Z",
     "start_time": "2020-08-01T09:14:57.106406Z"
    }
   },
   "outputs": [],
   "source": [
    "bounding_rectangle_grid= Polygon([(longitudelist[0][1],latitudelist[0][0]),(longitudelist[horizontal][1],latitudelist[0][0]),(longitudelist[horizontal][1],latitudelist[vertical][0]),(longitudelist[0][1],latitudelist[vertical][0])]) "
   ]
  },
  {
   "cell_type": "code",
   "execution_count": 10,
   "metadata": {
    "ExecuteTime": {
     "end_time": "2020-08-01T09:14:57.351284Z",
     "start_time": "2020-08-01T09:14:57.347327Z"
    }
   },
   "outputs": [],
   "source": [
    "outside_map_traverse_area = bounding_rectangle_grid.difference(mapboundary) # "
   ]
  },
  {
   "cell_type": "code",
   "execution_count": 11,
   "metadata": {
    "ExecuteTime": {
     "end_time": "2020-08-01T09:14:57.576087Z",
     "start_time": "2020-08-01T09:14:57.571099Z"
    }
   },
   "outputs": [],
   "source": [
    "c = np.zeros([vertical,horizontal],dtype = int)\n",
    "lookup_c = np.zeros([vertical,horizontal],dtype = 'O')"
   ]
  },
  {
   "cell_type": "code",
   "execution_count": 12,
   "metadata": {
    "ExecuteTime": {
     "end_time": "2020-08-01T09:14:57.844919Z",
     "start_time": "2020-08-01T09:14:57.839934Z"
    }
   },
   "outputs": [],
   "source": [
    "obstacle_partial = {}\n",
    "for q in range(len(obstacles)):\n",
    "    obstacle_partial[q] = []"
   ]
  },
  {
   "cell_type": "code",
   "execution_count": 13,
   "metadata": {
    "ExecuteTime": {
     "end_time": "2020-08-01T09:14:58.211060Z",
     "start_time": "2020-08-01T09:14:58.208069Z"
    }
   },
   "outputs": [],
   "source": [
    "boundary_partial = []"
   ]
  },
  {
   "cell_type": "code",
   "execution_count": 14,
   "metadata": {
    "ExecuteTime": {
     "end_time": "2020-08-01T09:14:58.525870Z",
     "start_time": "2020-08-01T09:14:58.520877Z"
    }
   },
   "outputs": [
    {
     "name": "stdout",
     "output_type": "stream",
     "text": [
      "118 117\n"
     ]
    }
   ],
   "source": [
    "print(len(latitudelist),vertical)"
   ]
  },
  {
   "cell_type": "code",
   "execution_count": 28,
   "metadata": {
    "ExecuteTime": {
     "end_time": "2020-08-01T09:51:48.767841Z",
     "start_time": "2020-08-01T09:51:47.090123Z"
    }
   },
   "outputs": [],
   "source": [
    "for x in range(len(latitudelist)-1):\n",
    "    for y in range(len(longitudelist)-1):\n",
    "        square = Polygon([(longitudelist[y][1],latitudelist[vertical-x][0]),(longitudelist[y+1][1],latitudelist[vertical-x][0]),(longitudelist[y+1][1],latitudelist[vertical-x-1][0]),(longitudelist[y][1],latitudelist[vertical-x-1][0])]) \n",
    "        lookup_c[x,y] = square.centroid\n",
    "        # storing value of centre point\n",
    "        if(outside_map_traverse_area.contains(square)):\n",
    "            c[x,y] = -1  # region outside the map but inside the gird\n",
    "        if(square.intersects(mapboundary)):\n",
    "                z = square.intersection(mapboundary)\n",
    "                if(not z.is_empty):\n",
    "                    if(mapboundary.contains(z)):\n",
    "                        c[x,y] = 0 #region inside the map\n",
    "                    else:\n",
    "                        c[x,y] = 0 #2 is for boundary partial\n",
    "                        boundary_partial.append([x,y])\n",
    "                \n",
    "        for q in range(len(obstacles)):\n",
    "            if(square.intersects(obstacles[q])):\n",
    "                z = square.intersection(obstacles[q])\n",
    "                if(not z.is_empty):\n",
    "                    if(z.within(obstacles[q])):\n",
    "                        c[x,y] = -1    # inside the obstacle i.e fully covered\n",
    "                    else:\n",
    "                        if(not c[x,y] == 2):  \n",
    "                            c[x,y] = -2 # partially covered obstacle\n",
    "                            a = obstacle_partial[q]\n",
    "                            a.append([x,y])\n",
    "            elif(square.contains(obstacles[q])):\n",
    "                c[x,y] = -2 # partially covered obstacle"
   ]
  },
  {
   "cell_type": "code",
   "execution_count": 29,
   "metadata": {
    "ExecuteTime": {
     "end_time": "2020-08-01T09:51:48.772826Z",
     "start_time": "2020-08-01T09:51:48.768838Z"
    }
   },
   "outputs": [],
   "source": [
    "darpmatrix = np.zeros([vertical,horizontal],dtype = int)\n",
    "np.copyto(darpmatrix,c)"
   ]
  },
  {
   "cell_type": "code",
   "execution_count": 30,
   "metadata": {
    "ExecuteTime": {
     "end_time": "2020-08-01T09:51:49.033968Z",
     "start_time": "2020-08-01T09:51:48.774822Z"
    }
   },
   "outputs": [
    {
     "data": {
      "text/plain": [
       "<matplotlib.axes._subplots.AxesSubplot at 0x1bdbadbee48>"
      ]
     },
     "execution_count": 30,
     "metadata": {},
     "output_type": "execute_result"
    },
    {
     "data": {
      "image/png": "[encoded data removed]",
      "text/plain": [
       "<Figure size 432x288 with 1 Axes>"
      ]
     },
     "metadata": {
      "needs_background": "light"
     },
     "output_type": "display_data"
    }
   ],
   "source": [
    "import matplotlib.pyplot as plt\n",
    "a = plt.imshow(darpmatrix, interpolation = 'nearest')\n",
    "plt.gca()"
   ]
  },
  {
   "cell_type": "code",
   "execution_count": 31,
   "metadata": {
    "ExecuteTime": {
     "end_time": "2020-08-01T09:51:52.177848Z",
     "start_time": "2020-08-01T09:51:52.173892Z"
    }
   },
   "outputs": [],
   "source": [
    "darpmatrix[darpmatrix==-2] = -1\n",
    "darpmatrix[darpmatrix==2] = -1"
   ]
  },
  {
   "cell_type": "code",
   "execution_count": 32,
   "metadata": {
    "ExecuteTime": {
     "end_time": "2020-08-01T09:51:53.252664Z",
     "start_time": "2020-08-01T09:51:53.149924Z"
    }
   },
   "outputs": [
    {
     "data": {
      "text/plain": [
       "<matplotlib.axes._subplots.AxesSubplot at 0x1bdbae2ec48>"
      ]
     },
     "execution_count": 32,
     "metadata": {},
     "output_type": "execute_result"
    },
    {
     "data": {
      "image/png": "[encoded data removed]",
      "text/plain": [
       "<Figure size 432x288 with 1 Axes>"
      ]
     },
     "metadata": {
      "needs_background": "light"
     },
     "output_type": "display_data"
    }
   ],
   "source": [
    "import matplotlib.pyplot as plt\n",
    "a = plt.imshow(darpmatrix, interpolation = 'nearest')\n",
    "plt.gca()"
   ]
  },
  {
   "cell_type": "code",
   "execution_count": 20,
   "metadata": {
    "ExecuteTime": {
     "end_time": "2020-08-01T09:15:02.335106Z",
     "start_time": "2020-08-01T09:15:02.331148Z"
    }
   },
   "outputs": [],
   "source": [
    "start_pts = get_random_coords(darpmatrix,3)"
   ]
  },
  {
   "cell_type": "code",
   "execution_count": 21,
   "metadata": {
    "ExecuteTime": {
     "end_time": "2020-08-01T09:15:02.630585Z",
     "start_time": "2020-08-01T09:15:02.626628Z"
    }
   },
   "outputs": [],
   "source": [
    "start_pts_1 = [(sub[1], sub[0]) for sub in start_pts]"
   ]
  },
  {
   "cell_type": "code",
   "execution_count": 22,
   "metadata": {
    "ExecuteTime": {
     "end_time": "2020-08-01T09:15:02.928586Z",
     "start_time": "2020-08-01T09:15:02.924595Z"
    }
   },
   "outputs": [
    {
     "name": "stdout",
     "output_type": "stream",
     "text": [
      "[(22, 26), (41, 71), (54, 31)]\n"
     ]
    }
   ],
   "source": [
    "print(start_pts_1)"
   ]
  },
  {
   "cell_type": "code",
   "execution_count": 23,
   "metadata": {
    "ExecuteTime": {
     "end_time": "2020-08-01T09:15:03.393925Z",
     "start_time": "2020-08-01T09:15:03.272217Z"
    }
   },
   "outputs": [
    {
     "data": {
      "text/plain": [
       "<matplotlib.collections.PathCollection at 0x1bdb5d85108>"
      ]
     },
     "execution_count": 23,
     "metadata": {},
     "output_type": "execute_result"
    },
    {
     "data": {
      "image/png": "[encoded data removed]",
      "text/plain": [
       "<Figure size 432x288 with 1 Axes>"
      ]
     },
     "metadata": {
      "needs_background": "light"
     },
     "output_type": "display_data"
    }
   ],
   "source": [
    "import matplotlib.pyplot as plt\n",
    "a = plt.imshow(darpmatrix, interpolation = 'nearest')\n",
    "plt.gca()\n",
    "plt.scatter(12,73)"
   ]
  },
  {
   "cell_type": "code",
   "execution_count": 26,
   "metadata": {
    "ExecuteTime": {
     "end_time": "2020-08-01T09:16:11.170056Z",
     "start_time": "2020-08-01T09:15:46.609459Z"
    }
   },
   "outputs": [
    {
     "data": {
      "application/vnd.jupyter.widget-view+json": {
       "model_id": "07bc2140b309460f988585e14674771f",
       "version_major": 2,
       "version_minor": 0
      },
      "text/plain": [
       "HBox(children=(IntProgress(value=0, max=2536), HTML(value='')))"
      ]
     },
     "metadata": {},
     "output_type": "display_data"
    },
    {
     "name": "stdout",
     "output_type": "stream",
     "text": [
      "\n"
     ]
    },
    {
     "data": {
      "application/vnd.jupyter.widget-view+json": {
       "model_id": "4188167ad28d483982d781fc07a8ff89",
       "version_major": 2,
       "version_minor": 0
      },
      "text/plain": [
       "HBox(children=(IntProgress(value=0), HTML(value='')))"
      ]
     },
     "metadata": {},
     "output_type": "display_data"
    },
    {
     "name": "stdout",
     "output_type": "stream",
     "text": [
      "\n"
     ]
    }
   ],
   "source": [
    "A,x = darp(100,darpmatrix,start_pts,pbar=True)"
   ]
  },
  {
   "cell_type": "code",
   "execution_count": 27,
   "metadata": {
    "ExecuteTime": {
     "end_time": "2020-08-01T09:16:12.109762Z",
     "start_time": "2020-08-01T09:16:12.052729Z"
    }
   },
   "outputs": [
    {
     "data": {
      "text/plain": [
       "<matplotlib.image.AxesImage at 0x1bdbad5dc08>"
      ]
     },
     "execution_count": 27,
     "metadata": {},
     "output_type": "execute_result"
    },
    {
     "data": {
      "image/png": "[encoded data removed]",
      "text/plain": [
       "<Figure size 360x360 with 1 Axes>"
      ]
     },
     "metadata": {
      "needs_background": "light"
     },
     "output_type": "display_data"
    }
   ],
   "source": [
    "imshow(A)"
   ]
  },
  {
   "cell_type": "code",
   "execution_count": null,
   "metadata": {},
   "outputs": [],
   "source": []
  }
 ],
 "metadata": {
  "kernelspec": {
   "display_name": "Python 3",
   "language": "python",
   "name": "python3"
  },
  "language_info": {
   "codemirror_mode": {
    "name": "ipython",
    "version": 3
   },
   "file_extension": ".py",
   "mimetype": "text/x-python",
   "name": "python",
   "nbconvert_exporter": "python",
   "pygments_lexer": "ipython3",
   "version": "3.7.4"
  }
 },
 "nbformat": 4,
 "nbformat_minor": 2
}
