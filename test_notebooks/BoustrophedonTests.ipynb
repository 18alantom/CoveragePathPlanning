{
 "cells": [
  {
   "cell_type": "markdown",
   "metadata": {},
   "source": [
    "# Boustrophedon Formulation and Tests"
   ]
  },
  {
   "cell_type": "code",
   "execution_count": 2,
   "metadata": {
    "ExecuteTime": {
     "end_time": "2020-07-31T17:35:10.663236Z",
     "start_time": "2020-07-31T17:35:10.370677Z"
    }
   },
   "outputs": [
    {
     "name": "stderr",
     "output_type": "stream",
     "text": [
      "/Users/alan/opt/anaconda3/envs/data_sci/lib/python3.7/importlib/_bootstrap.py:219: RuntimeWarning: numpy.ufunc size changed, may indicate binary incompatibility. Expected 192 from C header, got 216 from PyObject\n",
      "  return f(*args, **kwds)\n",
      "/Users/alan/opt/anaconda3/envs/data_sci/lib/python3.7/importlib/_bootstrap.py:219: RuntimeWarning: numpy.ufunc size changed, may indicate binary incompatibility. Expected 192 from C header, got 216 from PyObject\n",
      "  return f(*args, **kwds)\n",
      "/Users/alan/opt/anaconda3/envs/data_sci/lib/python3.7/importlib/_bootstrap.py:219: RuntimeWarning: numpy.ufunc size changed, may indicate binary incompatibility. Expected 192 from C header, got 216 from PyObject\n",
      "  return f(*args, **kwds)\n"
     ]
    }
   ],
   "source": [
    "import math\n",
    "import time\n",
    "import numpy as np\n",
    "from tqdm.auto import tqdm\n",
    "from warnings import warn"
   ]
  },
  {
   "cell_type": "code",
   "execution_count": 1,
   "metadata": {
    "ExecuteTime": {
     "end_time": "2020-07-31T17:35:08.075180Z",
     "start_time": "2020-07-31T17:35:08.069735Z"
    }
   },
   "outputs": [],
   "source": [
    "from cpp_algorithms.common_helpers import is_valid, adjacency_test\n",
    "from cpp_algorithms.common_helpers import imshow, imshow_scatter\n",
    "from cpp_algorithms.common_helpers import get_all_area_maps, get_random_coords, get_area_map\n",
    "from cpp_algorithms.testers.metrics import coverage_metrics\n",
    "from cpp_algorithms.testers.display_funcs import printer"
   ]
  },
  {
   "cell_type": "markdown",
   "metadata": {},
   "source": [
    "# A - Star\n",
    "(untouched)"
   ]
  },
  {
   "cell_type": "code",
   "execution_count": 4,
   "metadata": {
    "ExecuteTime": {
     "end_time": "2020-07-28T19:57:25.600626Z",
     "start_time": "2020-07-28T19:57:25.592921Z"
    }
   },
   "outputs": [],
   "source": [
    "def heuristic(start, goal):\n",
    "    #Use Chebyshev distance heuristic if we can move one square either\n",
    "    #adjacent or diagonal\n",
    "    D = 1\n",
    "    D2 = 1\n",
    "    dx = abs(start[0] - goal[0])\n",
    "    dy = abs(start[1] - goal[1])\n",
    "    return D * (dx + dy) + (D2 - 2 * D) * min(dx, dy)\n",
    "    \n",
    "def get_vertex_neighbours(pos, diameter, width, height):\n",
    "    n = []\n",
    "    #Moves allow link a chess king\n",
    "    for dx, dy in [(diameter,0),(-diameter,0),(0,diameter),(0,-diameter)]:\n",
    "        x2 = pos[0] + dx\n",
    "        y2 = pos[1] + dy\n",
    "        if x2 < 0 or x2 > width-1  or y2 < 0 or y2 > height-1:\n",
    "            continue\n",
    "        n.append((x2, y2))\n",
    "    return n\n",
    "    "
   ]
  },
  {
   "cell_type": "code",
   "execution_count": 5,
   "metadata": {
    "ExecuteTime": {
     "end_time": "2020-07-28T19:57:25.613460Z",
     "start_time": "2020-07-28T19:57:25.603462Z"
    }
   },
   "outputs": [],
   "source": [
    "def AStarSearch(start, end, graph, diameter, width, height):\n",
    " \n",
    "    G = {} #Actual movement cost to each position from the start position\n",
    "    F = {} #Estimated movement cost of start to end going via this position\n",
    " \n",
    "    #Initialize starting values\n",
    "    G[start] = 0 \n",
    "    F[start] = heuristic(start, end)\n",
    " \n",
    "    closedVertices = set()\n",
    "    openVertices = set([start])\n",
    "    cameFrom = {}\n",
    "    \n",
    "    # Adding a stop condition\n",
    "    outer_iterations = 0\n",
    "    max_iterations = (len(graph[0]) * len(graph) // 2)\n",
    " \n",
    "    while len(openVertices) > 0:\n",
    "        outer_iterations += 1\n",
    "\n",
    "        if outer_iterations > max_iterations:\n",
    "            warn(\"number of iterations has exceeded max iterations\")\n",
    "            \n",
    "        #Get the vertex in the open list with the lowest F score\n",
    "        current = None\n",
    "        currentFscore = None\n",
    "        for pos in openVertices:\n",
    "            if current is None or F[pos] < currentFscore:\n",
    "                currentFscore = F[pos]\n",
    "                current = pos\n",
    " \n",
    "        #Check if we have reached the goal\n",
    "        if current == end:\n",
    "            #Retrace our route backward\n",
    "            path = [current]\n",
    "            while current in cameFrom:\n",
    "                current = cameFrom[current]\n",
    "                path.append(current)\n",
    "            path.reverse()\n",
    "            return path  #Done!\n",
    " \n",
    "        #Mark the current vertex as closed\n",
    "        openVertices.remove(current)\n",
    "        closedVertices.add(current)\n",
    " \n",
    "        #Update scores for vertices near the current position\n",
    "        for neighbour in get_vertex_neighbours(current, diameter, width, height):\n",
    "            if neighbour in closedVertices: \n",
    "                continue #We have already processed this node exhaustively\n",
    "            x=neighbour[0]\n",
    "            y=neighbour[1]\n",
    "            if graph[x][y]!=150:\n",
    "                continue\n",
    "            else:\n",
    "                candidateG = G[current] + 1\n",
    " \n",
    "            if neighbour not in openVertices:\n",
    "                openVertices.add(neighbour) #Discovered a new vertex\n",
    "            \n",
    "            elif candidateG >= G[neighbour]:\n",
    "                continue #This G score is worse than previously found\n",
    " \n",
    "            #Adopt this G score\n",
    "            cameFrom[neighbour] = current\n",
    "            G[neighbour] = candidateG\n",
    "            H = heuristic(neighbour, end)\n",
    "            F[neighbour] = G[neighbour] + H\n",
    " \n",
    "    raise RuntimeError(\"A* failed to find a solution\")"
   ]
  },
  {
   "cell_type": "code",
   "execution_count": 6,
   "metadata": {
    "ExecuteTime": {
     "end_time": "2020-07-28T19:57:25.821071Z",
     "start_time": "2020-07-28T19:57:25.814672Z"
    }
   },
   "outputs": [],
   "source": [
    "def AstarPath(M, Memory, path):\n",
    "    for q in path:\n",
    "        x=q[0]\n",
    "        y=q[1]\n",
    "        Memory.append((x, y))"
   ]
  },
  {
   "cell_type": "markdown",
   "metadata": {},
   "source": [
    "# Boustrophedon and caller"
   ]
  },
  {
   "cell_type": "code",
   "execution_count": 7,
   "metadata": {
    "ExecuteTime": {
     "end_time": "2020-07-28T19:57:27.095795Z",
     "start_time": "2020-07-28T19:57:27.073119Z"
    }
   },
   "outputs": [],
   "source": [
    "def is_valid_vectorized(coords, matrix):\n",
    "    # Bound check\n",
    "    assert coords.shape[1] == 2\n",
    "    h,w = matrix.shape\n",
    "    x,y = coords.T\n",
    "    is_within_bounds = (x >= 0) & (x < h) & (y >= 0) & (y < w)\n",
    "    x = np.clip(x.copy(), 0, h-1)\n",
    "    y = np.clip(y.copy(), 0, w-1)\n",
    "    is_not_on_obstacle = (matrix[x,y] != 0) &  (matrix[x,y] != 150)\n",
    "    return is_within_bounds & is_not_on_obstacle\n",
    "\n",
    "def backtracking_list(memory, _, matrix, x, y):\n",
    "    bt_cond_points = {\n",
    "        \"r\":  lambda p: p + np.array([[0,1]]), # right\n",
    "        \"tr\": lambda p: p + np.array([[-1,1]]), # top-right\n",
    "        \"t\":  lambda p: p + np.array([[-1,0]]), # top\n",
    "        \"tl\": lambda p: p + np.array([[-1,-1]]), # top-left\n",
    "        \"l\":  lambda p: p + np.array([[0,-1]]), # left\n",
    "        \"bl\": lambda p: p + np.array([[1,-1]]), # bottom-left\n",
    "        \"b\":  lambda p: p + np.array([[1,0]]), # bottom\n",
    "        \"br\": lambda p: p + np.array([[1,1]]), # bottom-right\n",
    "    }\n",
    "    memory_ = np.array(memory)\n",
    "    assert memory_.shape[1] == 2, \"you've messed up something\"\n",
    "    \n",
    "    eight_di = {k: bt_cond_points[k](memory_) for k in bt_cond_points}\n",
    "    is_valid_eight = {k: is_valid_vectorized(eight_di[k], matrix) for k in eight_di}\n",
    "    cond_a = np.int0(is_valid_eight[\"r\"] & ~is_valid_eight[\"br\"])\n",
    "    cond_b = np.int0(is_valid_eight[\"r\"] & ~is_valid_eight[\"tr\"])\n",
    "    cond_c = np.int0(is_valid_eight[\"l\"] & ~is_valid_eight[\"bl\"])\n",
    "    cond_d = np.int0(is_valid_eight[\"l\"] & ~is_valid_eight[\"tl\"])\n",
    "    cond_e = np.int0(is_valid_eight[\"b\"] & ~is_valid_eight[\"bl\"])\n",
    "    cond_f = np.int0(is_valid_eight[\"b\"] & ~is_valid_eight[\"br\"])\n",
    "    μ_of_s = (cond_a + cond_b+ cond_c + cond_d + cond_e + cond_f)\n",
    "     \n",
    "    backtrack_points =  memory_[μ_of_s > 0]\n",
    "    if backtrack_points.shape[0] == 0:\n",
    "        backtrack_points = memory_[is_valid_eight[\"r\"] | is_valid_eight[\"l\"] |\n",
    "                is_valid_eight[\"t\"] | is_valid_eight[\"b\"]]\n",
    "        \n",
    "    if backtrack_points.shape[0] == 0:\n",
    "        return (0,0), True\n",
    "    else:\n",
    "        closest_point_idx = ((backtrack_points - np.array([x,y]))**2).sum(axis = 1).argmin()\n",
    "        return tuple(backtrack_points[closest_point_idx]), False"
   ]
  },
  {
   "cell_type": "code",
   "execution_count": 79,
   "metadata": {
    "ExecuteTime": {
     "end_time": "2020-07-28T18:28:04.759309Z",
     "start_time": "2020-07-28T18:28:04.668414Z"
    },
    "scrolled": true
   },
   "outputs": [
    {
     "name": "stdout",
     "output_type": "stream",
     "text": [
      "1.72 ms ± 388 µs per loop (mean ± std. dev. of 5 runs, 10 loops each)\n"
     ]
    }
   ],
   "source": [
    "%timeit -n 10 -r 5 bt_point = backtracking_list(coverage_path, None,area_map, 0,0)"
   ]
  },
  {
   "cell_type": "code",
   "execution_count": 9,
   "metadata": {
    "ExecuteTime": {
     "end_time": "2020-07-28T18:32:34.950510Z",
     "start_time": "2020-07-28T18:32:34.937690Z"
    }
   },
   "outputs": [],
   "source": [
    "def backtracking_list_nv(memory, _, matrix, x, y):\n",
    "    # Non vectorised implementation, runs faster; contig array alloc takes time!?\n",
    "    bt_cond_points = {\n",
    "        \"r\":  lambda x, y: (x + (+0), y + (+1)), # right\n",
    "        \"tr\": lambda x, y: (x + (-1), y + (+1)), # top-right\n",
    "        \"t\":  lambda x, y: (x + (-1), y + (+0)), # top\n",
    "        \"tl\": lambda x, y: (x + (-1), y + (-1)), # top-left\n",
    "        \"l\":  lambda x, y: (x + (+0), y + (-1)), # left\n",
    "        \"bl\": lambda x, y: (x + (+1), y + (-1)), # bottom-left\n",
    "        \"b\":  lambda x, y: (x + (+1), y + (+0)), # bottom\n",
    "        \"br\": lambda x, y: (x + (+1), y + (+1))  # bottom-right\n",
    "    }\n",
    "    \n",
    "    μ_of_s = []; \n",
    "    for point in memory:\n",
    "        av = { k:is_valid(bt_cond_points[k](*point), matrix, [0,150]) for k in bt_cond_points }\n",
    "        μ_of_s.append(int(av[\"r\"] and  not av[\"br\"]) + int(av[\"r\"] and  not av[\"tr\"]) + \n",
    "                      int(av[\"l\"] and  not av[\"bl\"]) + int(av[\"l\"] and  not av[\"tl\"]) + \n",
    "                      int(av[\"b\"] and  not av[\"bl\"]) + int(av[\"b\"] and  not av[\"br\"]))\n",
    "    μ_of_s = np.array(μ_of_s); # backup = np.array(backup);\n",
    "    memory_ = np.array(memory)\n",
    "    \n",
    "    backtrack_points =  memory_[μ_of_s > 0]\n",
    "    if backtrack_points.shape[0] == 0:\n",
    "        return (0,0), True\n",
    "    else:\n",
    "        closest_point_idx = ((backtrack_points - np.array([x,y]))**2).sum(axis = 1).argmin()\n",
    "        return tuple(backtrack_points[closest_point_idx]), False"
   ]
  },
  {
   "cell_type": "code",
   "execution_count": 107,
   "metadata": {
    "ExecuteTime": {
     "end_time": "2020-07-28T18:31:42.799842Z",
     "start_time": "2020-07-28T18:31:38.923013Z"
    }
   },
   "outputs": [
    {
     "name": "stdout",
     "output_type": "stream",
     "text": [
      "77.5 ms ± 3.05 ms per loop (mean ± std. dev. of 5 runs, 10 loops each)\n"
     ]
    }
   ],
   "source": [
    "%timeit -n 10 -r 5 _ = backtracking_list(coverage_path, None,area_map, 0,0)"
   ]
  },
  {
   "cell_type": "code",
   "execution_count": 8,
   "metadata": {
    "ExecuteTime": {
     "end_time": "2020-07-28T19:57:32.566578Z",
     "start_time": "2020-07-28T19:57:32.558475Z"
    }
   },
   "outputs": [],
   "source": [
    "def visit(matrix, x, y, memory):\n",
    "    matrix[(x,y)] = 150 # 150 == visited\n",
    "    memory.append((x, y))\n",
    "    return x,y\n",
    "\n",
    "def boustrophedon(matrix, diameter, x, y, memory):\n",
    "    # TODO :: Variable diameter support\n",
    "    udlr = {\n",
    "        \"u\": lambda x,y : (x-diameter,y),\n",
    "        \"d\": lambda x,y : (x+diameter,y),\n",
    "        \"l\": lambda x,y : (x,y-diameter),\n",
    "        \"r\": lambda x,y : (x,y+diameter)\n",
    "    }\n",
    "    u = \"u\";d = \"d\";r = \"r\";l = \"l\"\n",
    "    visit(matrix, x, y, memory)\n",
    "    \n",
    "    while True:\n",
    "        dir_ = [u,d,r,l]\n",
    "        while len(dir_) > 0:\n",
    "            d_ = dir_.pop(0)\n",
    "            x_, y_ = udlr[d_](x,y)\n",
    "            if is_valid((x_,y_), matrix, [0, 150]):\n",
    "                x, y = visit(matrix, x_, y_, memory)\n",
    "                break\n",
    "            elif d_ == l:\n",
    "                return x, y"
   ]
  },
  {
   "cell_type": "code",
   "execution_count": 9,
   "metadata": {
    "ExecuteTime": {
     "end_time": "2020-07-28T19:57:33.661756Z",
     "start_time": "2020-07-28T19:57:33.644878Z"
    }
   },
   "outputs": [],
   "source": [
    "def bous_preprocess(area_map):\n",
    "    \"\"\"\n",
    "    Returns matrix that in the form\n",
    "    that is read by the main algorithm.\n",
    "    \"\"\"\n",
    "    matrix = np.full(area_map.shape, 0, dtype=np.uint8)\n",
    "    matrix[area_map == 0] = 255\n",
    "    return matrix\n",
    "\n",
    "def do_everything(matrix, start_point, break_after_bous=False, timeit=True):\n",
    "    t = lambda :timeit and time.time()\n",
    "    times = {\n",
    "        \"bous\": [],\n",
    "        \"btrack\":[],\n",
    "        \"astar\":[]\n",
    "    }\n",
    "    store_time = lambda name,value: timeit and times[name].append(value)\n",
    "    start_time = t()\n",
    "    \n",
    "    width, height = matrix.shape\n",
    "    radius=0.5\n",
    "    diameter=int(2*radius)\n",
    "\n",
    "    x, y = start_point\n",
    "    memory=[]\n",
    "    \n",
    "    backtrack_counts = 0\n",
    "    point_find_failed = 0 \n",
    "\n",
    "    while True:\n",
    "        sw = t()\n",
    "        critical_x, critical_y = boustrophedon(matrix, diameter, x, y, memory)\n",
    "        store_time(\"bous\", t() - sw)\n",
    "        \n",
    "        if break_after_bous:\n",
    "            print(\"break point\",critical_x,critical_y)\n",
    "            break\n",
    "            \n",
    "        sw = t()\n",
    "        next_, is_end = backtracking_list(memory, diameter, matrix, critical_x, critical_y)\n",
    "        x,y = next_\n",
    "        store_time(\"btrack\", t() - sw)\n",
    "        if is_end:\n",
    "            break\n",
    "        else:\n",
    "            start = (critical_x,critical_y )\n",
    "            end = (x, y)\n",
    "            sw = t()\n",
    "            path = AStarSearch(start, end, matrix, diameter, width, height)\n",
    "            AstarPath(matrix, memory, path)\n",
    "            store_time(\"astar\", t() - sw)\n",
    "            \n",
    "    times_avg = timeit and {k+\"_avg\":np.array(times[k]).mean() for k in times}\n",
    "    times_tot = timeit and {k+\"_tot\":np.array(times[k]).sum() for k in times}\n",
    "    times = timeit and {**times_avg, **times_tot}\n",
    "    end_time = timeit and (time.time() - start_time)\n",
    "    if timeit: times['total'] = end_time\n",
    "    timeit and printer(times)\n",
    "    return memory "
   ]
  },
  {
   "cell_type": "code",
   "execution_count": 10,
   "metadata": {
    "ExecuteTime": {
     "end_time": "2020-07-28T19:57:34.664244Z",
     "start_time": "2020-07-28T19:57:34.558935Z"
    }
   },
   "outputs": [],
   "source": [
    "area_maps = get_all_area_maps(\"./test_maps/\")"
   ]
  },
  {
   "cell_type": "code",
   "execution_count": 11,
   "metadata": {
    "ExecuteTime": {
     "end_time": "2020-07-28T19:57:35.785829Z",
     "start_time": "2020-07-28T19:57:35.530686Z"
    }
   },
   "outputs": [
    {
     "name": "stdout",
     "output_type": "stream",
     "text": [
      "times ↓\n",
      "            bous_avg : 0.0003654703180840675\n",
      "          btrack_avg : 0.0012489785539343\n",
      "           astar_avg : 0.0014533841091653576\n",
      "            bous_tot : 0.017177104949951172\n",
      "          btrack_tot : 0.05870199203491211\n",
      "           astar_tot : 0.06685566902160645\n",
      "               total : 0.1430509090423584\n",
      "\n",
      "metrics ↓\n",
      "     points_to_visit : 772\n",
      "     obstacle_points : 252\n",
      "      points_visited : 772\n",
      "   coverage_path_len : 1101\n",
      "            coverage : 1.0\n",
      "          redundancy : 0.42616580310880825\n",
      "          area_shape : (32, 32)\n",
      "\n"
     ]
    },
    {
     "data": {
      "image/png": "[encoded data removed]",
      "text/plain": [
       "<Figure size 576x576 with 1 Axes>"
      ]
     },
     "metadata": {
      "needs_background": "light"
     },
     "output_type": "display_data"
    }
   ],
   "source": [
    "area_map = area_maps[8]\n",
    "\n",
    "start_point = (12, 28)\n",
    "matrix = bous_preprocess(area_map)\n",
    "print(\"times ↓\")\n",
    "coverage_path = do_everything(matrix, start_point, break_after_bous=False)\n",
    "end_point = coverage_path[-1]\n",
    "\n",
    "print(\"\\nmetrics ↓\")\n",
    "printer(coverage_metrics(area_map, coverage_path))\n",
    "print()\n",
    "\n",
    "imshow(matrix, figsize=(8, 8), cmap=\"cividis\")                       #Shift + Tab\n",
    "imshow_scatter(coverage_path, alpha=0.4, color=\"black\",s=5)\n",
    "imshow_scatter([start_point],color=\"lightgreen\")\n",
    "imshow_scatter([end_point],color=\"red\")"
   ]
  },
  {
   "cell_type": "code",
   "execution_count": 12,
   "metadata": {
    "ExecuteTime": {
     "end_time": "2020-07-28T19:57:38.318034Z",
     "start_time": "2020-07-28T19:57:38.307845Z"
    },
    "scrolled": false
   },
   "outputs": [],
   "source": [
    "def cover_test(first_n_area_maps, times):\n",
    "    t_ = []\n",
    "    for j,area_map in tqdm(enumerate(area_maps[:first_n_area_maps]),total=first_n_area_maps):\n",
    "        t = []\n",
    "        for i in range(times):\n",
    "            start_point = get_random_coords(area_map, 1)[0]\n",
    "            matrix = bous_preprocess(area_map)\n",
    "            try:\n",
    "                s = time.time()\n",
    "                coverage_path = do_everything(matrix, start_point, timeit=False)\n",
    "                t.append(time.time() - s)\n",
    "            except:\n",
    "                print(f\"j: {j}, start: {start_point} FAILED\")\n",
    "                imshow(area_map)\n",
    "                return\n",
    "            end_point = coverage_path[-1]\n",
    "            metrics = coverage_metrics(area_map, coverage_path)\n",
    "            if metrics[\"coverage\"] < 1.0:\n",
    "                print(f\"j: {j}, start: {start_point}, end: {end_point}, cover:{metrics['coverage']} ,redun:{metrics['redundancy']}\")\n",
    "                print()\n",
    "        t_.append(np.array(t).mean())\n",
    "    return t_"
   ]
  },
  {
   "cell_type": "code",
   "execution_count": 13,
   "metadata": {
    "ExecuteTime": {
     "end_time": "2020-07-28T19:57:45.959707Z",
     "start_time": "2020-07-28T19:57:40.535366Z"
    }
   },
   "outputs": [
    {
     "data": {
      "application/vnd.jupyter.widget-view+json": {
       "model_id": "705f1cc9fb2f4a5980590d46c08e58b8",
       "version_major": 2,
       "version_minor": 0
      },
      "text/plain": [
       "HBox(children=(FloatProgress(value=0.0, max=11.0), HTML(value='')))"
      ]
     },
     "metadata": {},
     "output_type": "display_data"
    },
    {
     "name": "stderr",
     "output_type": "stream",
     "text": [
      "/Users/alan/opt/anaconda3/envs/data_sci/lib/python3.7/site-packages/ipykernel_launcher.py:22: UserWarning: number of iterations has exceeded max iterations\n"
     ]
    },
    {
     "name": "stdout",
     "output_type": "stream",
     "text": [
      "\n"
     ]
    },
    {
     "data": {
      "text/plain": [
       "[0.032391834259033206,\n",
       " 0.022753334045410155,\n",
       " 0.029361772537231445,\n",
       " 0.052572011947631836,\n",
       " 0.028550124168395995,\n",
       " 0.028410506248474122,\n",
       " 0.026017594337463378,\n",
       " 0.08865394592285156,\n",
       " 0.06439673900604248,\n",
       " 0.06884322166442872,\n",
       " 0.08887407779693604]"
      ]
     },
     "execution_count": 13,
     "metadata": {},
     "output_type": "execute_result"
    }
   ],
   "source": [
    "# If returns time without any print then SUCCESS!\n",
    "cover_test(11,10) # cover test for all the maps <= 50, 50"
   ]
  },
  {
   "cell_type": "code",
   "execution_count": 14,
   "metadata": {
    "ExecuteTime": {
     "end_time": "2020-07-28T19:58:05.001381Z",
     "start_time": "2020-07-28T19:57:48.159885Z"
    },
    "scrolled": false
   },
   "outputs": [
    {
     "data": {
      "application/vnd.jupyter.widget-view+json": {
       "model_id": "a53f03e5d27b491ab2f53e0799efca5f",
       "version_major": 2,
       "version_minor": 0
      },
      "text/plain": [
       "HBox(children=(FloatProgress(value=0.0, max=21.0), HTML(value='')))"
      ]
     },
     "metadata": {},
     "output_type": "display_data"
    },
    {
     "name": "stdout",
     "output_type": "stream",
     "text": [
      "# 0 ::  (32, 32) corners_0.png\n",
      "            bous_avg : 0.0006066295835706922\n",
      "          btrack_avg : 0.0012082788679334852\n",
      "           astar_avg : 0.00030307208790498623\n",
      "            bous_tot : 0.010919332504272461\n",
      "          btrack_tot : 0.021749019622802734\n",
      "           astar_tot : 0.005152225494384766\n",
      "               total : 0.03796982765197754\n",
      "     points_to_visit : 716\n",
      "     obstacle_points : 308\n",
      "      points_visited : 716\n",
      "   coverage_path_len : 807\n",
      "            coverage : 1.0\n",
      "          redundancy : 0.12709497206703912\n",
      "          area_shape : (32, 32)\n",
      "adjacency test pass : True\n",
      "\n",
      "# 2 ::  (256, 256) comb_9.png\n",
      "            bous_avg : 0.0012152791023254395\n",
      "          btrack_avg : 0.014023769927281205\n",
      "           astar_avg : 0.006197479535948555\n",
      "            bous_tot : 0.4520838260650635\n",
      "          btrack_tot : 5.216842412948608\n",
      "           astar_tot : 2.299264907836914\n",
      "               total : 7.97052001953125\n",
      "     points_to_visit : 33385\n",
      "     obstacle_points : 32151\n",
      "      points_visited : 33385\n",
      "   coverage_path_len : 38477\n",
      "            coverage : 1.0\n",
      "          redundancy : 0.15252358843792124\n",
      "          area_shape : (256, 256)\n",
      "adjacency test pass : True\n",
      "\n",
      "# 3 ::  (144, 256) comb_8.png\n",
      "            bous_avg : 0.003343343734741211\n",
      "          btrack_avg : 0.011790562211797478\n",
      "           astar_avg : 0.008448570966720581\n",
      "            bous_tot : 0.2975575923919678\n",
      "          btrack_tot : 1.0493600368499756\n",
      "           astar_tot : 0.7434742450714111\n",
      "               total : 2.0910308361053467\n",
      "     points_to_visit : 24720\n",
      "     obstacle_points : 12144\n",
      "      points_visited : 24720\n",
      "   coverage_path_len : 26085\n",
      "            coverage : 1.0\n",
      "          redundancy : 0.05521844660194164\n",
      "          area_shape : (144, 256)\n",
      "adjacency test pass : True\n",
      "\n",
      "# 4 ::  (32, 32) pipes_0.png\n",
      "            bous_avg : 0.0006602128346761067\n",
      "          btrack_avg : 0.0009100437164306641\n",
      "           astar_avg : 0.00024156911032540456\n",
      "            bous_tot : 0.009903192520141602\n",
      "          btrack_tot : 0.013650655746459961\n",
      "           astar_tot : 0.003381967544555664\n",
      "               total : 0.027039051055908203\n",
      "     points_to_visit : 689\n",
      "     obstacle_points : 335\n",
      "      points_visited : 689\n",
      "   coverage_path_len : 779\n",
      "            coverage : 1.0\n",
      "          redundancy : 0.13062409288824384\n",
      "          area_shape : (32, 32)\n",
      "adjacency test pass : True\n",
      "\n",
      "# 5 ::  (32, 32) pipes_1.png\n",
      "            bous_avg : 0.0004187634116724918\n",
      "          btrack_avg : 0.0008177380812795539\n",
      "           astar_avg : 0.0001951720979478624\n",
      "            bous_tot : 0.007956504821777344\n",
      "          btrack_tot : 0.015537023544311523\n",
      "           astar_tot : 0.0035130977630615234\n",
      "               total : 0.027118206024169922\n",
      "     points_to_visit : 639\n",
      "     obstacle_points : 385\n",
      "      points_visited : 639\n",
      "   coverage_path_len : 764\n",
      "            coverage : 1.0\n",
      "          redundancy : 0.19561815336463217\n",
      "          area_shape : (32, 32)\n",
      "adjacency test pass : True\n",
      "\n",
      "# 6 ::  (32, 32) pipes_2.png\n",
      "            bous_avg : 0.00033684730529785154\n",
      "          btrack_avg : 0.0008809757232666015\n",
      "           astar_avg : 0.001022746165593465\n",
      "            bous_tot : 0.008421182632446289\n",
      "          btrack_tot : 0.02202439308166504\n",
      "           astar_tot : 0.024545907974243164\n",
      "               total : 0.055140018463134766\n",
      "     points_to_visit : 654\n",
      "     obstacle_points : 370\n",
      "      points_visited : 654\n",
      "   coverage_path_len : 973\n",
      "            coverage : 1.0\n",
      "          redundancy : 0.48776758409785925\n",
      "          area_shape : (32, 32)\n",
      "adjacency test pass : True\n",
      "\n",
      "# 7 ::  (32, 32) caves_1.png\n",
      "            bous_avg : 0.0013619661331176758\n",
      "          btrack_avg : 0.0010527968406677246\n",
      "           astar_avg : 0.002979346684047154\n",
      "            bous_tot : 0.010895729064941406\n",
      "          btrack_tot : 0.008422374725341797\n",
      "           astar_tot : 0.020855426788330078\n",
      "               total : 0.04027700424194336\n",
      "     points_to_visit : 794\n",
      "     obstacle_points : 230\n",
      "      points_visited : 794\n",
      "   coverage_path_len : 893\n",
      "            coverage : 1.0\n",
      "          redundancy : 0.12468513853904284\n",
      "          area_shape : (32, 32)\n",
      "adjacency test pass : True\n",
      "\n",
      "# 8 ::  (32, 32) caves_0.png\n",
      "            bous_avg : 0.0005809980280259077\n",
      "          btrack_avg : 0.0010146533741670497\n",
      "           astar_avg : 0.0005776435136795044\n",
      "            bous_tot : 0.00987696647644043\n",
      "          btrack_tot : 0.017249107360839844\n",
      "           astar_tot : 0.00924229621887207\n",
      "               total : 0.03648209571838379\n",
      "     points_to_visit : 725\n",
      "     obstacle_points : 299\n",
      "      points_visited : 725\n",
      "   coverage_path_len : 896\n",
      "            coverage : 1.0\n",
      "          redundancy : 0.2358620689655173\n",
      "          area_shape : (32, 32)\n",
      "adjacency test pass : True\n",
      "\n",
      "# 9 ::  (32, 32) center_0.png\n",
      "            bous_avg : 0.0007597666520338792\n",
      "          btrack_avg : 0.0009075494912954477\n",
      "           astar_avg : 0.00020899375279744467\n",
      "            bous_tot : 0.00987696647644043\n",
      "          btrack_tot : 0.01179814338684082\n",
      "           astar_tot : 0.002507925033569336\n",
      "               total : 0.0242922306060791\n",
      "     points_to_visit : 723\n",
      "     obstacle_points : 301\n",
      "      points_visited : 723\n",
      "   coverage_path_len : 798\n",
      "            coverage : 1.0\n",
      "          redundancy : 0.10373443983402497\n",
      "          area_shape : (32, 32)\n",
      "adjacency test pass : True\n",
      "\n",
      "# 10 ::  (144, 256) center_1.png\n"
     ]
    },
    {
     "name": "stderr",
     "output_type": "stream",
     "text": [
      "/Users/alan/opt/anaconda3/envs/data_sci/lib/python3.7/site-packages/ipykernel_launcher.py:22: UserWarning: number of iterations has exceeded max iterations\n"
     ]
    },
    {
     "name": "stdout",
     "output_type": "stream",
     "text": [
      "            bous_avg : 0.028317672865731374\n",
      "          btrack_avg : 0.01696244307926723\n",
      "           astar_avg : 0.018626616551325872\n",
      "            bous_tot : 0.39644742012023926\n",
      "          btrack_tot : 0.2374742031097412\n",
      "           astar_tot : 0.24214601516723633\n",
      "               total : 0.8762199878692627\n",
      "     points_to_visit : 36713\n",
      "     obstacle_points : 151\n",
      "      points_visited : 36713\n",
      "   coverage_path_len : 37074\n",
      "            coverage : 1.0\n",
      "          redundancy : 0.009833029172227725\n",
      "          area_shape : (144, 256)\n",
      "adjacency test pass : True\n",
      "\n",
      "# 11 ::  (50, 144) comb_5.png\n",
      "            bous_avg : 0.0028441373039694395\n",
      "          btrack_avg : 0.0018088396857766545\n",
      "           astar_avg : 0.001951858401298523\n",
      "            bous_tot : 0.04835033416748047\n",
      "          btrack_tot : 0.030750274658203125\n",
      "           astar_tot : 0.031229734420776367\n",
      "               total : 0.11046028137207031\n",
      "     points_to_visit : 4383\n",
      "     obstacle_points : 2817\n",
      "      points_visited : 4383\n",
      "   coverage_path_len : 4620\n",
      "            coverage : 1.0\n",
      "          redundancy : 0.054072553045859006\n",
      "          area_shape : (50, 144)\n",
      "adjacency test pass : True\n",
      "\n",
      "# 12 ::  (50, 144) comb_4.png\n",
      "            bous_avg : 0.0014530294819882041\n",
      "          btrack_avg : 0.0016398429870605469\n",
      "           astar_avg : 0.0013732008031896643\n",
      "            bous_tot : 0.05521512031555176\n",
      "          btrack_tot : 0.06231403350830078\n",
      "           astar_tot : 0.05080842971801758\n",
      "               total : 0.16878604888916016\n",
      "     points_to_visit : 4161\n",
      "     obstacle_points : 3039\n",
      "      points_visited : 4161\n",
      "   coverage_path_len : 4597\n",
      "            coverage : 1.0\n",
      "          redundancy : 0.10478250420571977\n",
      "          area_shape : (50, 144)\n",
      "adjacency test pass : True\n",
      "\n",
      "# 13 ::  (50, 144) comb_6.png\n",
      "            bous_avg : 0.004716277122497559\n",
      "          btrack_avg : 0.0033800899982452393\n",
      "           astar_avg : 0.008722909291585286\n",
      "            bous_tot : 0.07546043395996094\n",
      "          btrack_tot : 0.05408143997192383\n",
      "           astar_tot : 0.1308436393737793\n",
      "               total : 0.2605278491973877\n",
      "     points_to_visit : 6042\n",
      "     obstacle_points : 1158\n",
      "      points_visited : 6042\n",
      "   coverage_path_len : 6823\n",
      "            coverage : 1.0\n",
      "          redundancy : 0.12926183382985768\n",
      "          area_shape : (50, 144)\n",
      "adjacency test pass : True\n",
      "\n",
      "# 14 ::  (144, 256) comb_7.png\n",
      "            bous_avg : 0.0014935346041324634\n",
      "          btrack_avg : 0.011046377357077483\n",
      "           astar_avg : 0.004979571092475966\n",
      "            bous_tot : 0.3091616630554199\n",
      "          btrack_tot : 2.286600112915039\n",
      "           astar_tot : 1.0257916450500488\n",
      "               total : 3.6228737831115723\n",
      "     points_to_visit : 25866\n",
      "     obstacle_points : 10998\n",
      "      points_visited : 25866\n",
      "   coverage_path_len : 28060\n",
      "            coverage : 1.0\n",
      "          redundancy : 0.08482177375705557\n",
      "          area_shape : (144, 256)\n",
      "adjacency test pass : True\n",
      "\n",
      "# 15 ::  (50, 144) comb_3.png\n",
      "            bous_avg : 0.0005339840862238519\n",
      "          btrack_avg : 0.002218738894596278\n",
      "           astar_avg : 0.000689565010790555\n",
      "            bous_tot : 0.05713629722595215\n",
      "          btrack_tot : 0.23740506172180176\n",
      "           astar_tot : 0.07309389114379883\n",
      "               total : 0.3682999610900879\n",
      "     points_to_visit : 3680\n",
      "     obstacle_points : 3520\n",
      "      points_visited : 3680\n",
      "   coverage_path_len : 4602\n",
      "            coverage : 1.0\n",
      "          redundancy : 0.25054347826086953\n",
      "          area_shape : (50, 144)\n",
      "adjacency test pass : True\n",
      "\n",
      "# 16 ::  (32, 32) comb_11.png\n",
      "            bous_avg : 0.00030965696681629527\n",
      "          btrack_avg : 0.0010551918636668813\n",
      "           astar_avg : 0.0005224305529927098\n",
      "            bous_tot : 0.013624906539916992\n",
      "          btrack_tot : 0.04642844200134277\n",
      "           astar_tot : 0.022464513778686523\n",
      "               total : 0.0827491283416748\n",
      "     points_to_visit : 772\n",
      "     obstacle_points : 252\n",
      "      points_visited : 772\n",
      "   coverage_path_len : 1114\n",
      "            coverage : 1.0\n",
      "          redundancy : 0.4430051813471503\n",
      "          area_shape : (32, 32)\n",
      "adjacency test pass : True\n",
      "\n",
      "# 17 ::  (50, 50) comb_2.png\n",
      "            bous_avg : 0.00043979956179249045\n",
      "          btrack_avg : 0.0013287845922976124\n",
      "           astar_avg : 0.0007332464059193929\n",
      "            bous_tot : 0.02155017852783203\n",
      "          btrack_tot : 0.06511044502258301\n",
      "           astar_tot : 0.03519582748413086\n",
      "               total : 0.12210702896118164\n",
      "     points_to_visit : 1318\n",
      "     obstacle_points : 1182\n",
      "      points_visited : 1318\n",
      "   coverage_path_len : 1800\n",
      "            coverage : 1.0\n",
      "          redundancy : 0.3657056145675266\n",
      "          area_shape : (50, 50)\n",
      "adjacency test pass : True\n",
      "\n",
      "# 18 ::  (50, 50) comb_0.png\n",
      "            bous_avg : 0.0007387399673461914\n",
      "          btrack_avg : 0.0012377926281520299\n",
      "           astar_avg : 0.0003067740687617549\n",
      "            bous_tot : 0.02068471908569336\n",
      "          btrack_tot : 0.034658193588256836\n",
      "           astar_tot : 0.008282899856567383\n",
      "               total : 0.06380581855773926\n",
      "     points_to_visit : 1529\n",
      "     obstacle_points : 971\n",
      "      points_visited : 1529\n",
      "   coverage_path_len : 1700\n",
      "            coverage : 1.0\n",
      "          redundancy : 0.11183780248528441\n",
      "          area_shape : (50, 50)\n",
      "adjacency test pass : True\n",
      "\n",
      "# 19 ::  (32, 32) comb_12.png\n",
      "            bous_avg : 0.0001989910679478799\n",
      "          btrack_avg : 0.0009345623754685925\n",
      "           astar_avg : 0.00037555225559922513\n",
      "            bous_tot : 0.012337446212768555\n",
      "          btrack_tot : 0.057942867279052734\n",
      "           astar_tot : 0.022908687591552734\n",
      "               total : 0.09347295761108398\n",
      "     points_to_visit : 610\n",
      "     obstacle_points : 414\n",
      "      points_visited : 610\n",
      "   coverage_path_len : 1244\n",
      "            coverage : 1.0\n",
      "          redundancy : 1.039344262295082\n",
      "          area_shape : (32, 32)\n",
      "adjacency test pass : True\n",
      "\n",
      "# 20 ::  (50, 50) comb_1.png\n",
      "            bous_avg : 0.0006266902474796071\n",
      "          btrack_avg : 0.0012745156007654527\n",
      "           astar_avg : 0.0009198839014226741\n",
      "            bous_tot : 0.02130746841430664\n",
      "          btrack_tot : 0.04333353042602539\n",
      "           astar_tot : 0.030356168746948242\n",
      "               total : 0.09517312049865723\n",
      "     points_to_visit : 1472\n",
      "     obstacle_points : 1028\n",
      "      points_visited : 1472\n",
      "   coverage_path_len : 1881\n",
      "            coverage : 1.0\n",
      "          redundancy : 0.2778532608695652\n",
      "          area_shape : (50, 50)\n",
      "adjacency test pass : True\n",
      "\n",
      "\n"
     ]
    }
   ],
   "source": [
    "display = False\n",
    "for i,path in tqdm(enumerate(Path(\"./test_maps/\").iterdir()),total=21):\n",
    "    if path.suffix != \".png\":\n",
    "        continue\n",
    "    area_map = get_area_map(path)\n",
    "    # Remove conditional to run on all maps.\n",
    "#     if area_map.shape[1] > 50:\n",
    "#         continue\n",
    "    print(f\"# {i} :: \",area_map.shape, path.name)\n",
    "    start_point = get_random_coords(area_map, 1)[0]\n",
    "    matrix = bous_preprocess(area_map)\n",
    "    coverage_path = do_everything(matrix, start_point)\n",
    "    end_point = coverage_path[-1]\n",
    "    printer(coverage_metrics(area_map, coverage_path))\n",
    "    print(f\"adjacency test pass : {adjacency_test(coverage_path)}\")\n",
    "    print()\n",
    "\n",
    "    if display:\n",
    "        imshow(matrix, cmap=\"Greys_r\",figsize=(10,10))\n",
    "        imshow_scatter(coverage_path, alpha=0.5, color=\"lightblue\",s=4)\n",
    "        imshow_scatter([start_point], color=\"black\")\n",
    "        imshow_scatter([end_point],color=\"red\")"
   ]
  }
 ],
 "metadata": {
  "kernelspec": {
   "display_name": "Python 3",
   "language": "python",
   "name": "python3"
  },
  "language_info": {
   "codemirror_mode": {
    "name": "ipython",
    "version": 3
   },
   "file_extension": ".py",
   "mimetype": "text/x-python",
   "name": "python",
   "nbconvert_exporter": "python",
   "pygments_lexer": "ipython3",
   "version": "3.7.6"
  }
 },
 "nbformat": 4,
 "nbformat_minor": 4
}
