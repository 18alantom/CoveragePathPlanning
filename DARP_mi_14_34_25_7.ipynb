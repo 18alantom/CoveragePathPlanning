{
 "cells": [
  {
   "cell_type": "code",
   "execution_count": 37,
   "metadata": {
    "ExecuteTime": {
     "end_time": "2020-07-28T04:41:48.545399Z",
     "start_time": "2020-07-28T04:41:48.538450Z"
    }
   },
   "outputs": [],
   "source": [
    "import numpy as np\n",
    "import math\n",
    "import collections\n",
    "from math import ceil,log\n",
    "import random\n",
    "from collections import deque\n",
    "from skimage import measure\n",
    "from scipy import spatial"
   ]
  },
  {
   "cell_type": "code",
   "execution_count": 38,
   "metadata": {
    "ExecuteTime": {
     "end_time": "2020-07-28T04:41:49.123937Z",
     "start_time": "2020-07-28T04:41:49.115958Z"
    }
   },
   "outputs": [],
   "source": [
    "InputMatrixRow = 100\n",
    "InputMatrixCol = 100\n",
    "Positions = [[0, 10],[80,20],[0,40],[0,90],[60,60]]\n",
    "speed = np.array([1,0.5,1,5,1])\n",
    "coverage = np.array([5,2.5,2.5,1,1])\n",
    "NumberOfRobots = len(Positions)"
   ]
  },
  {
   "cell_type": "code",
   "execution_count": 39,
   "metadata": {
    "ExecuteTime": {
     "end_time": "2020-07-28T04:41:49.394517Z",
     "start_time": "2020-07-28T04:41:49.385544Z"
    }
   },
   "outputs": [],
   "source": [
    "PositionOfObstacles = []\n",
    "for x in range(30,50):\n",
    "    for y in range(30,50):\n",
    "        PositionOfObstacles.append([x, y])\n",
    "for x in range(10,50):\n",
    "    PositionOfObstacles.append([10, x])\n",
    "for x in range(0,70):\n",
    "       PositionOfObstacles.append([x, 70])\n",
    "for x in range(30,50):\n",
    "       for y in range(30,50):\n",
    "            PositionOfObstacles.append([x, y])"
   ]
  },
  {
   "cell_type": "code",
   "execution_count": 40,
   "metadata": {
    "ExecuteTime": {
     "end_time": "2020-07-28T04:41:49.635770Z",
     "start_time": "2020-07-28T04:41:49.628789Z"
    }
   },
   "outputs": [],
   "source": [
    "#PositionOfObstacles = [[90, 90], [2, 2]]\n",
    "obstacle = 0\n",
    "if(len(PositionOfObstacles)>0):\n",
    "    obstacle = 1"
   ]
  },
  {
   "cell_type": "code",
   "execution_count": 41,
   "metadata": {
    "ExecuteTime": {
     "end_time": "2020-07-28T04:41:50.167135Z",
     "start_time": "2020-07-28T04:41:50.160156Z"
    }
   },
   "outputs": [],
   "source": [
    "Matrix = np.ones([InputMatrixRow,InputMatrixCol], dtype = bool)"
   ]
  },
  {
   "cell_type": "code",
   "execution_count": 42,
   "metadata": {
    "ExecuteTime": {
     "end_time": "2020-07-28T04:41:50.381118Z",
     "start_time": "2020-07-28T04:41:50.375137Z"
    }
   },
   "outputs": [],
   "source": [
    "for y in PositionOfObstacles:\n",
    "        Matrix[y[0],y[1]] = False"
   ]
  },
  {
   "cell_type": "code",
   "execution_count": 43,
   "metadata": {
    "ExecuteTime": {
     "end_time": "2020-07-28T04:41:50.574994Z",
     "start_time": "2020-07-28T04:41:50.568013Z"
    }
   },
   "outputs": [],
   "source": [
    "def neighboursA(x, y):\n",
    "    for dx in [-1, 1]:\n",
    "        yield x + dx, y\n",
    "    for dy in [-1, 1]:\n",
    "        yield x, y + dy"
   ]
  },
  {
   "cell_type": "code",
   "execution_count": 44,
   "metadata": {
    "ExecuteTime": {
     "end_time": "2020-07-28T04:41:50.797663Z",
     "start_time": "2020-07-28T04:41:50.776723Z"
    }
   },
   "outputs": [],
   "source": [
    "def floodfillA(is_path, x, y):\n",
    "    height = len(is_path)\n",
    "    width = len(is_path[0])\n",
    "\n",
    "    grid = [[None] * width for _ in is_path]\n",
    "    if not is_path[x][y]:\n",
    "        # If we started in a wall, we can't reach anything\n",
    "        return grid\n",
    "    grid[x][y] = 0\n",
    "    modified = deque([(x, y)])\n",
    "    while modified:\n",
    "        x, y = modified.popleft()\n",
    "        number = grid[x][y]\n",
    "        for dx, dy in neighboursA(x, y):\n",
    "            if 0 <= dx < width and 0 <= dy < height and is_path[dx][dy] and grid[dx][dy] is None:\n",
    "                grid[dx][dy] = number + 1\n",
    "                modified.append((dx, dy))\n",
    "    return grid"
   ]
  },
  {
   "cell_type": "code",
   "execution_count": 45,
   "metadata": {
    "ExecuteTime": {
     "end_time": "2020-07-28T04:41:51.035914Z",
     "start_time": "2020-07-28T04:41:50.969125Z"
    }
   },
   "outputs": [],
   "source": [
    "ans = floodfillA(Matrix, 0, 0)"
   ]
  },
  {
   "cell_type": "code",
   "execution_count": 46,
   "metadata": {
    "ExecuteTime": {
     "end_time": "2020-07-28T04:41:51.170921Z",
     "start_time": "2020-07-28T04:41:51.160900Z"
    }
   },
   "outputs": [],
   "source": [
    "def EvaluationMatrix():\n",
    "    E = np.zeros([NumberOfRobots, InputMatrixRow, InputMatrixCol]).astype('float32') \n",
    "    for x in  range(NumberOfRobots):\n",
    "        E[x] = floodfillA(Matrix,Positions[x][0], Positions[x][1])\n",
    "    return(E)"
   ]
  },
  {
   "cell_type": "code",
   "execution_count": 47,
   "metadata": {
    "ExecuteTime": {
     "end_time": "2020-07-28T04:41:51.712289Z",
     "start_time": "2020-07-28T04:41:51.375141Z"
    }
   },
   "outputs": [],
   "source": [
    "E = EvaluationMatrix()"
   ]
  },
  {
   "cell_type": "code",
   "execution_count": 48,
   "metadata": {
    "ExecuteTime": {
     "end_time": "2020-07-28T04:41:51.729164Z",
     "start_time": "2020-07-28T04:41:51.718238Z"
    }
   },
   "outputs": [],
   "source": [
    "A = np.zeros([InputMatrixRow,InputMatrixCol]).astype('float32') "
   ]
  },
  {
   "cell_type": "code",
   "execution_count": 49,
   "metadata": {
    "ExecuteTime": {
     "end_time": "2020-07-28T04:41:51.792026Z",
     "start_time": "2020-07-28T04:41:51.761108Z"
    }
   },
   "outputs": [],
   "source": [
    "def ArgMin():\n",
    "    B = np.argmin(E,axis = 0).astype('float32') \n",
    "    np.copyto(A,B)\n",
    "    for x in PositionOfObstacles:\n",
    "        A[x[0]][x[1]] = -1"
   ]
  },
  {
   "cell_type": "code",
   "execution_count": 50,
   "metadata": {
    "ExecuteTime": {
     "end_time": "2020-07-28T04:41:51.952885Z",
     "start_time": "2020-07-28T04:41:51.945014Z"
    }
   },
   "outputs": [],
   "source": [
    "ArgMin()"
   ]
  },
  {
   "cell_type": "code",
   "execution_count": 51,
   "metadata": {
    "ExecuteTime": {
     "end_time": "2020-07-28T04:41:52.138040Z",
     "start_time": "2020-07-28T04:41:52.132491Z"
    }
   },
   "outputs": [
    {
     "name": "stdout",
     "output_type": "stream",
     "text": [
      "float32\n"
     ]
    }
   ],
   "source": [
    "print(A.dtype)"
   ]
  },
  {
   "cell_type": "code",
   "execution_count": 52,
   "metadata": {
    "ExecuteTime": {
     "end_time": "2020-07-28T04:41:52.659833Z",
     "start_time": "2020-07-28T04:41:52.331978Z"
    }
   },
   "outputs": [
    {
     "data": {
      "image/png": "[encoded data removed]",
      "text/plain": [
       "<Figure size 432x288 with 1 Axes>"
      ]
     },
     "metadata": {
      "needs_background": "light"
     },
     "output_type": "display_data"
    }
   ],
   "source": [
    "import matplotlib.pyplot as plt\n",
    "%matplotlib inline \n",
    "a = plt.imshow(A, interpolation='nearest')"
   ]
  },
  {
   "cell_type": "code",
   "execution_count": 53,
   "metadata": {
    "ExecuteTime": {
     "end_time": "2020-07-28T04:41:55.062659Z",
     "start_time": "2020-07-28T04:41:55.056675Z"
    }
   },
   "outputs": [],
   "source": [
    "LI = np.zeros([NumberOfRobots], dtype=int)"
   ]
  },
  {
   "cell_type": "code",
   "execution_count": 54,
   "metadata": {
    "ExecuteTime": {
     "end_time": "2020-07-28T04:41:55.249525Z",
     "start_time": "2020-07-28T04:41:55.222596Z"
    }
   },
   "outputs": [],
   "source": [
    "def L():\n",
    "    unique, counts = np.unique(A, return_counts=True)\n",
    "    if(obstacle):\n",
    "        counts = counts[1:]\n",
    "    np.copyto(LI,counts)\n",
    "    print(LI)"
   ]
  },
  {
   "cell_type": "code",
   "execution_count": 55,
   "metadata": {
    "ExecuteTime": {
     "end_time": "2020-07-28T04:41:55.400578Z",
     "start_time": "2020-07-28T04:41:55.393520Z"
    }
   },
   "outputs": [
    {
     "name": "stdout",
     "output_type": "stream",
     "text": [
      "[1250 2425 1000 1434 3381]\n"
     ]
    }
   ],
   "source": [
    "L()"
   ]
  },
  {
   "cell_type": "code",
   "execution_count": 56,
   "metadata": {
    "ExecuteTime": {
     "end_time": "2020-07-28T04:41:55.555383Z",
     "start_time": "2020-07-28T04:41:55.550289Z"
    }
   },
   "outputs": [],
   "source": [
    "UnoccupiedCells =  (InputMatrixCol*InputMatrixRow) -len(PositionOfObstacles)"
   ]
  },
  {
   "cell_type": "code",
   "execution_count": 57,
   "metadata": {
    "ExecuteTime": {
     "end_time": "2020-07-28T04:41:55.717432Z",
     "start_time": "2020-07-28T04:41:55.710449Z"
    }
   },
   "outputs": [],
   "source": [
    "FairShares = np.zeros([NumberOfRobots]).astype('float32') \n",
    "CombinedFactor = np.ones(NumberOfRobots).astype('float32') "
   ]
  },
  {
   "cell_type": "code",
   "execution_count": 58,
   "metadata": {
    "ExecuteTime": {
     "end_time": "2020-07-28T04:41:55.919890Z",
     "start_time": "2020-07-28T04:41:55.910886Z"
    }
   },
   "outputs": [],
   "source": [
    "def FairShareArray():\n",
    "    CombinedFactor = np.multiply(speed, coverage)\n",
    "    TotalWeight = np.sum(CombinedFactor)\n",
    "    np.copyto(FairShares,CombinedFactor/TotalWeight)"
   ]
  },
  {
   "cell_type": "code",
   "execution_count": 59,
   "metadata": {
    "ExecuteTime": {
     "end_time": "2020-07-28T04:41:56.077947Z",
     "start_time": "2020-07-28T04:41:56.073672Z"
    }
   },
   "outputs": [],
   "source": [
    "FairShareArray()"
   ]
  },
  {
   "cell_type": "code",
   "execution_count": 60,
   "metadata": {
    "ExecuteTime": {
     "end_time": "2020-07-28T04:41:56.276580Z",
     "start_time": "2020-07-28T04:41:56.271591Z"
    }
   },
   "outputs": [],
   "source": [
    "def FairShare(index):\n",
    "    ans = LI[index] - ((UnoccupiedCells)*FairShares[index])\n",
    "    return(int(ans))"
   ]
  },
  {
   "cell_type": "code",
   "execution_count": 61,
   "metadata": {
    "ExecuteTime": {
     "end_time": "2020-07-28T04:41:56.499523Z",
     "start_time": "2020-07-28T04:41:56.493541Z"
    }
   },
   "outputs": [],
   "source": [
    "Digits = log((InputMatrixRow*InputMatrixCol),10)\n",
    "c_main = pow(10,-ceil(Digits))"
   ]
  },
  {
   "cell_type": "code",
   "execution_count": 62,
   "metadata": {
    "ExecuteTime": {
     "end_time": "2020-07-28T04:41:56.695649Z",
     "start_time": "2020-07-28T04:41:56.689697Z"
    }
   },
   "outputs": [],
   "source": [
    "def MiCalculation(mi,index):\n",
    "    Digits = log((InputMatrixRow*InputMatrixCol),10)\n",
    "    c = pow(10,-(ceil(Digits)))\n",
    "    mi = mi + c*(FairShare(index))\n",
    "    return mi"
   ]
  },
  {
   "cell_type": "code",
   "execution_count": 63,
   "metadata": {
    "ExecuteTime": {
     "end_time": "2020-07-28T04:41:57.778348Z",
     "start_time": "2020-07-28T04:41:56.874136Z"
    }
   },
   "outputs": [],
   "source": [
    "m = np.ones([NumberOfRobots]).astype('float32') \n",
    "E_Temp = np.zeros([NumberOfRobots, InputMatrixRow, InputMatrixCol]).astype('float32') "
   ]
  },
  {
   "cell_type": "code",
   "execution_count": 64,
   "metadata": {
    "ExecuteTime": {
     "end_time": "2020-07-28T04:41:57.848124Z",
     "start_time": "2020-07-28T04:41:57.783336Z"
    }
   },
   "outputs": [
    {
     "name": "stdout",
     "output_type": "stream",
     "text": [
      "0.001\n"
     ]
    }
   ],
   "source": [
    "Digits = log((InputMatrixRow+InputMatrixCol),10)\n",
    "c_con = pow(10,-ceil(Digits))\n",
    "print(c_con)"
   ]
  },
  {
   "cell_type": "code",
   "execution_count": 65,
   "metadata": {
    "ExecuteTime": {
     "end_time": "2020-07-28T04:41:57.915988Z",
     "start_time": "2020-07-28T04:41:57.854108Z"
    }
   },
   "outputs": [],
   "source": [
    "def ContinuityCheckA():\n",
    "    img,num  = measure.label(A, background=-1,return_num = True, connectivity = 1)\n",
    "    if num == NumberOfRobots:\n",
    "        return\n",
    "    else:\n",
    "        global obstacle,E\n",
    "        obstacle_pt = 0 \n",
    "        if(obstacle == 1):\n",
    "            obstacle_pt = 1\n",
    "        R = {}\n",
    "        Q = {}\n",
    "        ContinuityChecker = np.zeros(num).astype('float32') \n",
    "        indicesAZ = np.indices(A.shape).T[:,:,[1, 0]]\n",
    "        x_index = 0 \n",
    "        for x in range(1,num+1):\n",
    "            ContinuityChecker[x_index] = A[indicesAZ[img==x][0][0]][indicesAZ[img==x][0][1]]\n",
    "            x_index = x_index + 1\n",
    "        a = np.array(np.unique(ContinuityChecker, return_counts=True)).astype('float32') \n",
    "        for x in range(NumberOfRobots): #1, num to skip -1 of obstacle and 3 is number of robots change later\n",
    "            if (a[1][x] > 1):\n",
    "                label_traverse = int(a[0][x])\n",
    "                q = []\n",
    "                flag = 0 \n",
    "                for y in range(num):\n",
    "                    temp = []\n",
    "                    if ContinuityChecker[y] == label_traverse:\n",
    "                        start_pt = np.array([Positions[label_traverse][0],Positions[label_traverse][1]])\n",
    "                        if(any(np.equal(indicesAZ[img==y+1],start_pt).all(1))):\n",
    "                            R[label_traverse] = [indicesAZ[img==(y+1)]]\n",
    "                        else:\n",
    "                            temp = indicesAZ[img==(y+1)]\n",
    "                            q.append(temp)\n",
    "                Q[label_traverse] = q\n",
    "                ro = R[label_traverse]\n",
    "                qo = Q[label_traverse]\n",
    "                ro_new = np.array(ro[0]).astype('float32') \n",
    "                qo_new = np.array(qo[0]).astype('float32') \n",
    "                for ter in range(1,len(qo)):\n",
    "                    temp  = np.array(qo[ter]).astype('float32') \n",
    "                ro_tree = spatial.KDTree(ro_new)\n",
    "                qo_tree = spatial.KDTree(qo_new)\n",
    "                c = np.ones([InputMatrixRow,InputMatrixCol]).astype('float32') \n",
    "                for i in range(InputMatrixRow):\n",
    "                    for j in range(InputMatrixCol):\n",
    "                        distance_r, index_r = ro_tree.query([i,j])\n",
    "                        distance_q, index_q = qo_tree.query([i,j])\n",
    "                        c[i,j] = (abs(ro_new[index_r][0]-i)+ abs(ro_new[index_r][1]-j)) - (abs(qo_new[index_q][0]-i) + abs(qo_new[index_q][1]-j))\n",
    "                c = 1 + c*c_con\n",
    "                E[label_traverse] = np.multiply(c,E[label_traverse]) # do the freeze\n",
    "                #E[label_traverse]= MulAns   "
   ]
  },
  {
   "cell_type": "code",
   "execution_count": 66,
   "metadata": {
    "ExecuteTime": {
     "end_time": "2020-07-28T04:41:57.974787Z",
     "start_time": "2020-07-28T04:41:57.919965Z"
    }
   },
   "outputs": [
    {
     "name": "stdout",
     "output_type": "stream",
     "text": [
      "8439\n"
     ]
    }
   ],
   "source": [
    "SumOfErrors = np.sum((np.absolute((np.ceil(FairShares*UnoccupiedCells)) - LI)), dtype=int)\n",
    "print(SumOfErrors)"
   ]
  },
  {
   "cell_type": "code",
   "execution_count": 67,
   "metadata": {
    "ExecuteTime": {
     "end_time": "2020-07-28T04:41:58.033750Z",
     "start_time": "2020-07-28T04:41:57.981943Z"
    }
   },
   "outputs": [],
   "source": [
    "History = np.zeros([2,200]).astype('float32') "
   ]
  },
  {
   "cell_type": "code",
   "execution_count": 68,
   "metadata": {
    "ExecuteTime": {
     "end_time": "2020-07-28T04:41:58.197614Z",
     "start_time": "2020-07-28T04:41:58.178242Z"
    }
   },
   "outputs": [],
   "source": [
    "def HistoryLog(x):\n",
    "    global LeastRegions,LeastError,UnoccupiedCells\n",
    "    CurrentRegion = measure.label(A, background=-1,return_num = True, connectivity = 1)[1]\n",
    "    CurrentError  = np.sum((np.absolute((np.ceil(FairShares*UnoccupiedCells)) - LI)), dtype=int)\n",
    "    print(CurrentError)\n",
    "    History[0][x] = CurrentRegion\n",
    "    History[1][x] = CurrentError\n",
    "    if(CurrentRegion==LeastRegions and CurrentError<LeastError):\n",
    "        LeastError = CurrentError\n",
    "        LeastRegions = CurrentRegion\n",
    "        np.copyto(BestMatrix,A)\n",
    "    elif(CurrentRegion<LeastRegions and not(LeastError<CurrentError)):\n",
    "        LeastError = CurrentError\n",
    "        LeastRegions = CurrentRegion\n",
    "        np.copyto(BestMatrix,A)\n",
    "    elif(CurrentRegion>LeastRegions and LeastError>CurrentError):\n",
    "        CurrentClass = ceil((CurrentError/(UnoccupiedCells*2))*20)\n",
    "        LeastClass = ceil((LeastError/(UnoccupiedCells*2))*20)\n",
    "        print(CurrentClass,LeastClass)\n",
    "        if(CurrentClass<LeastClass):\n",
    "            LeastError = CurrentError\n",
    "            LeastRegions = CurrentRegion\n",
    "            np.copyto(BestMatrix,A)\n",
    "    "
   ]
  },
  {
   "cell_type": "code",
   "execution_count": 69,
   "metadata": {
    "ExecuteTime": {
     "end_time": "2020-07-28T04:41:58.740196Z",
     "start_time": "2020-07-28T04:41:58.730188Z"
    }
   },
   "outputs": [],
   "source": [
    "BestMatrix = np.ones([InputMatrixRow,InputMatrixCol]).astype('float32') \n",
    "np.copyto(BestMatrix,A)\n",
    "LeastError = SumOfErrors\n",
    "LeastRegions = measure.label(A, background=-1,return_num = True, connectivity = 1)[1]"
   ]
  },
  {
   "cell_type": "code",
   "execution_count": null,
   "metadata": {
    "ExecuteTime": {
     "end_time": "2020-07-28T02:35:41.052827Z",
     "start_time": "2020-07-28T02:35:41.023941Z"
    }
   },
   "outputs": [],
   "source": []
  },
  {
   "cell_type": "code",
   "execution_count": 70,
   "metadata": {
    "ExecuteTime": {
     "end_time": "2020-07-28T04:41:59.800327Z",
     "start_time": "2020-07-28T04:41:59.794342Z"
    }
   },
   "outputs": [],
   "source": [
    "def MiStep():\n",
    "    L()\n",
    "    for x in range(NumberOfRobots):\n",
    "        m[x] = MiCalculation(1,x)\n",
    "        E[x] = E[x]*m[x]\n",
    "    ArgMin()"
   ]
  },
  {
   "cell_type": "code",
   "execution_count": 71,
   "metadata": {
    "ExecuteTime": {
     "end_time": "2020-07-28T04:44:34.348917Z",
     "start_time": "2020-07-28T04:42:00.153333Z"
    }
   },
   "outputs": [
    {
     "name": "stdout",
     "output_type": "stream",
     "text": [
      "[1250 2425 1000 1434 3381]\n",
      "[1562 2233 1047 1948 2700]\n",
      "[1838 2075 1088 2486 2003]\n",
      "[2102 1897 1109 2708 1674]\n",
      "[2455 1687 1098 2845 1405]\n",
      "[3118 1254 1094 2898 1126]\n",
      "[3385 1015 1178 2932  980]\n",
      "[3514  921 1215 2944  896]\n",
      "[3364  971 1282 3002  871]\n",
      "[3281  986 1350 3038  835]\n",
      "[3175  983 1478 3062  792]\n",
      "[3224  943 1467 3093  763]\n",
      "[3231  917 1486 3122  734]\n",
      "[3161  918 1563 3132  716]\n",
      "[3127  911 1604 3145  703]\n",
      "[3137  885 1636 3145  687]\n",
      "[3107  876 1675 3156  676]\n",
      "[3097  870 1702 3148  673]\n",
      "[3106  847 1724 3145  668]\n",
      "[3128  840 1707 3143  672]\n",
      "[3147  835 1691 3143  674]\n",
      "[3155  835 1679 3143  678]\n",
      "[3156  837 1675 3143  679]\n",
      "[3156  840 1667 3143  684]\n",
      "[3159  840 1663 3143  685]\n",
      "[3161  840 1661 3143  685]\n",
      "[3162  841 1656 3144  687]\n",
      "[3161  843 1651 3147  688]\n",
      "[3157  844 1646 3152  691]\n",
      "[3158  844 1643 3154  691]\n",
      "[3158  844 1641 3156  691]\n",
      "[3159  846 1637 3156  692]\n",
      "[3160  846 1635 3156  693]\n",
      "[3159  847 1634 3156  694]\n",
      "[3160  847 1632 3156  695]\n",
      "[3161  847 1631 3156  695]\n",
      "[3160  848 1631 3156  695]\n",
      "[3162  848 1629 3156  695]\n",
      "[3160  850 1629 3157  694]\n",
      "[3161  850 1627 3157  695]\n",
      "[3161  850 1627 3157  695]\n",
      "[3161  850 1627 3157  695]\n",
      "[3160  850 1626 3159  695]\n",
      "[3161  850 1625 3167  687]\n",
      "[3161  850 1625 3166  688]\n",
      "[3161  850 1624 3164  691]\n",
      "[3161  850 1622 3163  694]\n",
      "[3161  850 1622 3163  694]\n",
      "[3161  850 1622 3161  696]\n",
      "[3162  850 1621 3161  696]\n",
      "[3162  850 1621 3161  696]\n",
      "[3162  850 1621 3161  696]\n",
      "[3160  852 1621 3161  696]\n",
      "[3162  850 1621 3161  696]\n",
      "[3162  850 1621 3161  696]\n",
      "[3162  850 1621 3161  696]\n",
      "[3160  852 1621 3161  696]\n",
      "[3162  850 1621 3161  696]\n",
      "[3162  850 1621 3161  696]\n",
      "[3162  850 1621 3161  696]\n",
      "[3160  852 1621 3161  696]\n",
      "[3162  850 1621 3161  696]\n",
      "[3162  850 1621 3161  696]\n",
      "[3162  850 1621 3161  696]\n",
      "[3160  852 1621 3161  696]\n",
      "[3162  850 1621 3161  696]\n",
      "[3162  850 1621 3161  696]\n",
      "[3162  850 1621 3161  696]\n",
      "[3160  852 1621 3161  696]\n",
      "[3162  850 1621 3161  696]\n",
      "[3162  850 1621 3161  696]\n",
      "[3162  850 1621 3161  696]\n",
      "[3160  852 1621 3161  696]\n",
      "[3162  850 1621 3161  696]\n",
      "[3162  850 1621 3161  696]\n",
      "[3162  850 1621 3161  696]\n",
      "[3160  852 1621 3161  696]\n",
      "[3162  850 1621 3161  696]\n",
      "[3162  850 1621 3161  696]\n",
      "[3162  850 1621 3161  696]\n",
      "[3160  852 1621 3161  696]\n",
      "[3162  850 1621 3161  696]\n",
      "[3162  850 1621 3161  696]\n",
      "[3162  850 1621 3161  696]\n",
      "[3159  852 1621 3161  697]\n",
      "[3164  848 1621 3162  695]\n",
      "[3159  852 1621 3161  697]\n",
      "[3162  850 1621 3161  696]\n",
      "[3162  850 1620 3161  697]\n",
      "[3162  850 1621 3162  695]\n",
      "[3159  852 1620 3161  698]\n",
      "[3164  848 1621 3162  695]\n",
      "[3159  852 1620 3161  698]\n",
      "[3162  850 1621 3162  695]\n",
      "[3162  850 1620 3161  697]\n",
      "[3162  850 1620 3161  697]\n",
      "[3160  852 1621 3162  695]\n",
      "[3162  850 1620 3161  697]\n",
      "[3162  850 1620 3161  697]\n",
      "[3162  850 1621 3162  695]\n",
      "[3159  852 1620 3161  698]\n",
      "[3164  848 1621 3162  695]\n",
      "[3159  852 1620 3161  698]\n",
      "[3162  850 1621 3162  695]\n",
      "[3162  850 1620 3161  697]\n",
      "[3162  850 1620 3161  697]\n",
      "[3160  852 1621 3162  695]\n",
      "[3162  850 1620 3161  697]\n",
      "[3162  850 1620 3161  697]\n",
      "[3162  850 1621 3162  695]\n",
      "[3159  852 1620 3161  698]\n",
      "[3164  848 1621 3162  695]\n",
      "[3159  852 1620 3161  698]\n",
      "[3162  850 1621 3162  695]\n",
      "[3162  850 1620 3161  697]\n",
      "[3162  850 1620 3161  697]\n",
      "[3160  852 1621 3162  695]\n",
      "[3162  850 1620 3161  697]\n",
      "[3162  850 1620 3161  697]\n",
      "[3162  850 1621 3162  695]\n",
      "[3159  852 1620 3161  698]\n",
      "[3164  848 1621 3162  695]\n",
      "[3159  852 1620 3161  698]\n",
      "[3162  850 1621 3162  695]\n",
      "[3162  850 1620 3161  697]\n",
      "[3162  850 1620 3161  697]\n",
      "[3160  852 1621 3162  695]\n",
      "[3162  850 1620 3161  697]\n",
      "[3162  850 1620 3161  697]\n",
      "[3162  850 1621 3162  695]\n",
      "[3159  852 1620 3161  698]\n",
      "[3164  848 1621 3162  695]\n",
      "[3159  852 1620 3161  698]\n",
      "[3162  850 1621 3162  695]\n",
      "[3162  850 1620 3161  697]\n",
      "[3162  850 1620 3161  697]\n",
      "[3160  852 1621 3162  695]\n",
      "[3162  850 1620 3161  697]\n",
      "[3162  850 1620 3161  697]\n",
      "[3162  850 1621 3162  695]\n",
      "[3159  852 1620 3161  698]\n",
      "[3164  848 1621 3162  695]\n",
      "[3159  852 1620 3161  698]\n",
      "[3162  850 1621 3162  695]\n",
      "[3162  850 1620 3161  697]\n",
      "[3162  850 1620 3161  697]\n",
      "[3160  852 1621 3162  695]\n",
      "[3162  850 1620 3161  697]\n",
      "[3162  850 1620 3161  697]\n",
      "[3162  850 1621 3162  695]\n",
      "[3159  852 1620 3161  698]\n",
      "[3164  848 1621 3162  695]\n",
      "[3159  852 1620 3161  698]\n",
      "[3162  850 1621 3162  695]\n",
      "[3162  850 1620 3161  697]\n",
      "[3162  850 1620 3161  697]\n",
      "[3160  852 1621 3162  695]\n",
      "[3162  850 1620 3161  697]\n",
      "[3162  850 1620 3161  697]\n",
      "[3162  850 1621 3162  695]\n",
      "[3159  852 1620 3161  698]\n",
      "[3164  848 1621 3162  695]\n",
      "[3159  852 1620 3161  698]\n",
      "[3162  850 1621 3162  695]\n",
      "[3162  850 1620 3161  697]\n",
      "[3162  850 1620 3161  697]\n",
      "[3160  852 1621 3162  695]\n",
      "[3162  850 1620 3161  697]\n",
      "[3162  850 1620 3161  697]\n",
      "[3162  850 1621 3162  695]\n",
      "[3159  852 1620 3161  698]\n",
      "[3164  848 1621 3162  695]\n",
      "[3159  852 1620 3161  698]\n",
      "[3162  850 1621 3162  695]\n",
      "[3162  850 1620 3161  697]\n",
      "[3162  850 1620 3161  697]\n",
      "[3160  852 1621 3162  695]\n",
      "[3162  850 1620 3161  697]\n",
      "[3162  850 1620 3161  697]\n",
      "[3162  850 1621 3162  695]\n",
      "[3159  852 1620 3161  698]\n",
      "[3164  848 1621 3162  695]\n",
      "[3159  852 1620 3161  698]\n",
      "[3162  850 1621 3162  695]\n",
      "[3162  850 1620 3161  697]\n",
      "[3162  850 1620 3161  697]\n",
      "[3160  852 1621 3162  695]\n",
      "[3162  850 1620 3161  697]\n",
      "[3162  850 1620 3161  697]\n",
      "[3162  850 1621 3162  695]\n",
      "[3159  852 1620 3161  698]\n",
      "[3164  848 1621 3162  695]\n",
      "[3159  852 1620 3161  698]\n",
      "[3162  850 1621 3162  695]\n",
      "[3162  850 1620 3161  697]\n",
      "[3162  850 1620 3161  697]\n",
      "[3160  852 1621 3162  695]\n",
      "[3162  850 1620 3161  697]\n",
      "[3162  850 1620 3161  697]\n"
     ]
    }
   ],
   "source": [
    "for x in range(1,200):\n",
    "    MiStep()\n",
    "   # HistoryLog(x)\n",
    "   # if(x%10==0):\n",
    "    ContinuityCheckA()\n"
   ]
  },
  {
   "cell_type": "code",
   "execution_count": 36,
   "metadata": {
    "ExecuteTime": {
     "end_time": "2020-07-28T04:38:00.759076Z",
     "start_time": "2020-07-28T04:38:00.414011Z"
    }
   },
   "outputs": [
    {
     "data": {
      "text/plain": [
       "<matplotlib.image.AxesImage at 0x2ac595b9cc8>"
      ]
     },
     "execution_count": 36,
     "metadata": {},
     "output_type": "execute_result"
    },
    {
     "data": {
      "image/png": "[encoded data removed]",
      "text/plain": [
       "<Figure size 432x288 with 1 Axes>"
      ]
     },
     "metadata": {
      "needs_background": "light"
     },
     "output_type": "display_data"
    }
   ],
   "source": [
    "plt.imshow(A, interpolation='nearest')"
   ]
  },
  {
   "cell_type": "code",
   "execution_count": 38,
   "metadata": {
    "ExecuteTime": {
     "end_time": "2020-07-28T04:01:47.822977Z",
     "start_time": "2020-07-28T04:01:47.712278Z"
    }
   },
   "outputs": [
    {
     "data": {
      "text/plain": [
       "<matplotlib.image.AxesImage at 0x148ce4e3e08>"
      ]
     },
     "execution_count": 38,
     "metadata": {},
     "output_type": "execute_result"
    },
    {
     "data": {
      "image/png": "[encoded data removed]",
      "text/plain": [
       "<Figure size 432x288 with 1 Axes>"
      ]
     },
     "metadata": {
      "needs_background": "light"
     },
     "output_type": "display_data"
    }
   ],
   "source": [
    "plt.imshow(BestMatrix, interpolation='nearest')"
   ]
  },
  {
   "cell_type": "code",
   "execution_count": 36,
   "metadata": {
    "ExecuteTime": {
     "end_time": "2020-07-28T03:54:44.241364Z",
     "start_time": "2020-07-28T03:54:44.237330Z"
    }
   },
   "outputs": [
    {
     "name": "stdout",
     "output_type": "stream",
     "text": [
      "[3420  930 1760 3420]\n"
     ]
    }
   ],
   "source": [
    "print(LI)"
   ]
  },
  {
   "cell_type": "code",
   "execution_count": 57,
   "metadata": {
    "ExecuteTime": {
     "end_time": "2020-07-28T02:43:45.806976Z",
     "start_time": "2020-07-28T02:43:45.762126Z"
    }
   },
   "outputs": [
    {
     "name": "stdout",
     "output_type": "stream",
     "text": [
      "[[0.000e+00 4.000e+00 4.000e+00 4.000e+00 4.000e+00 4.000e+00 4.000e+00\n",
      "  4.000e+00 4.000e+00 4.000e+00 4.000e+00 4.000e+00 4.000e+00 4.000e+00\n",
      "  4.000e+00 4.000e+00 4.000e+00 4.000e+00 4.000e+00 4.000e+00 4.000e+00\n",
      "  4.000e+00 4.000e+00 4.000e+00 4.000e+00 4.000e+00 4.000e+00 4.000e+00\n",
      "  4.000e+00 4.000e+00 4.000e+00 4.000e+00 4.000e+00 4.000e+00 4.000e+00\n",
      "  4.000e+00 4.000e+00 4.000e+00 4.000e+00 4.000e+00 4.000e+00 4.000e+00\n",
      "  4.000e+00 4.000e+00 4.000e+00 4.000e+00 4.000e+00 4.000e+00 4.000e+00\n",
      "  4.000e+00 4.000e+00 4.000e+00 4.000e+00 4.000e+00 4.000e+00 4.000e+00\n",
      "  4.000e+00 4.000e+00 4.000e+00 4.000e+00 4.000e+00 4.000e+00 4.000e+00\n",
      "  4.000e+00 4.000e+00 4.000e+00 4.000e+00 4.000e+00 4.000e+00 4.000e+00\n",
      "  4.000e+00 4.000e+00 4.000e+00 4.000e+00 4.000e+00 4.000e+00 4.000e+00\n",
      "  4.000e+00 4.000e+00 4.000e+00 4.000e+00 4.000e+00 4.000e+00 4.000e+00\n",
      "  4.000e+00 4.000e+00 4.000e+00 4.000e+00 4.000e+00 4.000e+00 4.000e+00\n",
      "  4.000e+00 4.000e+00 4.000e+00 4.000e+00 4.000e+00 4.000e+00 4.000e+00\n",
      "  4.000e+00 4.000e+00 4.000e+00 4.000e+00 4.000e+00 4.000e+00 4.000e+00\n",
      "  4.000e+00 4.000e+00 4.000e+00 4.000e+00 4.000e+00 4.000e+00 4.000e+00\n",
      "  4.000e+00 4.000e+00 4.000e+00 4.000e+00 4.000e+00 4.000e+00 4.000e+00\n",
      "  4.000e+00 4.000e+00 4.000e+00 4.000e+00 4.000e+00 4.000e+00 4.000e+00\n",
      "  4.000e+00 4.000e+00 4.000e+00 4.000e+00 4.000e+00 4.000e+00 4.000e+00\n",
      "  4.000e+00 4.000e+00 4.000e+00 4.000e+00 4.000e+00 4.000e+00 4.000e+00\n",
      "  4.000e+00 4.000e+00 4.000e+00 4.000e+00 4.000e+00 4.000e+00 4.000e+00\n",
      "  4.000e+00 4.000e+00 4.000e+00 4.000e+00 4.000e+00 4.000e+00 4.000e+00\n",
      "  4.000e+00 4.000e+00 4.000e+00 4.000e+00 4.000e+00 4.000e+00 4.000e+00\n",
      "  4.000e+00 4.000e+00 4.000e+00 4.000e+00 4.000e+00 4.000e+00 4.000e+00\n",
      "  4.000e+00 4.000e+00 4.000e+00 4.000e+00 4.000e+00 4.000e+00 4.000e+00\n",
      "  4.000e+00 4.000e+00 4.000e+00 4.000e+00 4.000e+00 4.000e+00 4.000e+00\n",
      "  4.000e+00 4.000e+00 4.000e+00 4.000e+00 4.000e+00 4.000e+00 4.000e+00\n",
      "  4.000e+00 4.000e+00 4.000e+00 4.000e+00 4.000e+00 4.000e+00 4.000e+00\n",
      "  4.000e+00 4.000e+00 4.000e+00 4.000e+00]\n",
      " [0.000e+00 2.364e+03 6.614e+03 6.356e+03 2.366e+03 6.614e+03 6.356e+03\n",
      "  2.366e+03 6.614e+03 6.358e+03 2.364e+03 6.614e+03 6.356e+03 2.364e+03\n",
      "  6.614e+03 6.358e+03 2.364e+03 6.614e+03 6.358e+03 2.366e+03 6.614e+03\n",
      "  6.356e+03 2.364e+03 6.614e+03 6.358e+03 2.364e+03 6.614e+03 6.358e+03\n",
      "  2.364e+03 6.614e+03 6.356e+03 2.366e+03 6.614e+03 6.356e+03 2.364e+03\n",
      "  6.614e+03 6.358e+03 2.366e+03 6.614e+03 6.356e+03 2.364e+03 6.614e+03\n",
      "  6.358e+03 2.364e+03 6.614e+03 6.358e+03 2.364e+03 6.614e+03 6.356e+03\n",
      "  2.366e+03 6.614e+03 6.358e+03 2.364e+03 6.614e+03 6.358e+03 2.364e+03\n",
      "  6.614e+03 6.356e+03 2.366e+03 6.614e+03 6.356e+03 2.364e+03 6.614e+03\n",
      "  6.358e+03 2.366e+03 6.614e+03 6.356e+03 2.364e+03 6.614e+03 6.358e+03\n",
      "  2.364e+03 6.614e+03 6.358e+03 2.364e+03 6.614e+03 6.356e+03 2.366e+03\n",
      "  6.614e+03 6.358e+03 2.364e+03 6.614e+03 6.358e+03 2.364e+03 6.614e+03\n",
      "  6.356e+03 2.366e+03 6.614e+03 6.356e+03 2.364e+03 6.614e+03 6.358e+03\n",
      "  2.364e+03 6.614e+03 6.358e+03 2.366e+03 6.614e+03 6.356e+03 2.364e+03\n",
      "  6.614e+03 6.356e+03 2.366e+03 6.614e+03 6.358e+03 2.364e+03 6.614e+03\n",
      "  6.358e+03 2.364e+03 6.614e+03 6.356e+03 2.366e+03 6.614e+03 6.356e+03\n",
      "  2.364e+03 6.614e+03 6.358e+03 2.364e+03 6.614e+03 6.358e+03 2.364e+03\n",
      "  6.614e+03 6.358e+03 2.366e+03 6.614e+03 6.356e+03 2.364e+03 6.614e+03\n",
      "  6.356e+03 2.366e+03 6.614e+03 6.358e+03 2.364e+03 6.614e+03 6.358e+03\n",
      "  2.364e+03 6.614e+03 6.356e+03 2.364e+03 6.614e+03 6.358e+03 2.366e+03\n",
      "  6.614e+03 6.356e+03 2.364e+03 6.614e+03 6.358e+03 2.364e+03 6.614e+03\n",
      "  6.358e+03 2.364e+03 6.614e+03 6.358e+03 2.366e+03 6.614e+03 6.356e+03\n",
      "  2.364e+03 6.614e+03 6.356e+03 2.366e+03 6.614e+03 6.358e+03 2.364e+03\n",
      "  6.614e+03 6.356e+03 2.364e+03 6.614e+03 6.358e+03 2.366e+03 6.614e+03\n",
      "  6.356e+03 2.364e+03 6.614e+03 6.358e+03 2.364e+03 6.614e+03 6.358e+03\n",
      "  2.364e+03 6.614e+03 6.358e+03 2.366e+03 6.614e+03 6.356e+03 2.364e+03\n",
      "  6.614e+03 6.356e+03 2.366e+03 6.614e+03 6.358e+03 2.364e+03 6.614e+03\n",
      "  6.356e+03 2.364e+03 6.614e+03 6.358e+03 2.364e+03 6.614e+03 6.358e+03\n",
      "  2.366e+03 6.614e+03 6.356e+03 2.364e+03]]\n",
      "[4044  932  690 3934]\n"
     ]
    }
   ],
   "source": [
    "print(History)\n",
    "print(LI)"
   ]
  },
  {
   "cell_type": "code",
   "execution_count": null,
   "metadata": {},
   "outputs": [],
   "source": []
  },
  {
   "cell_type": "code",
   "execution_count": null,
   "metadata": {},
   "outputs": [],
   "source": []
  }
 ],
 "metadata": {
  "kernelspec": {
   "display_name": "Python 3",
   "language": "python",
   "name": "python3"
  },
  "language_info": {
   "codemirror_mode": {
    "name": "ipython",
    "version": 3
   },
   "file_extension": ".py",
   "mimetype": "text/x-python",
   "name": "python",
   "nbconvert_exporter": "python",
   "pygments_lexer": "ipython3",
   "version": "3.7.4"
  }
 },
 "nbformat": 4,
 "nbformat_minor": 2
}
