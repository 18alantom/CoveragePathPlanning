{
 "cells": [
  {
   "cell_type": "code",
   "execution_count": 179,
   "metadata": {
    "ExecuteTime": {
     "end_time": "2020-07-26T07:49:31.464472Z",
     "start_time": "2020-07-26T07:49:31.461486Z"
    }
   },
   "outputs": [],
   "source": [
    "import numpy as np\n",
    "import math\n",
    "import collections\n",
    "from math import ceil,log\n",
    "import random\n",
    "from collections import deque\n",
    "from skimage import measure\n",
    "from scipy import spatial"
   ]
  },
  {
   "cell_type": "code",
   "execution_count": 180,
   "metadata": {
    "ExecuteTime": {
     "end_time": "2020-07-26T07:49:31.653301Z",
     "start_time": "2020-07-26T07:49:31.648316Z"
    }
   },
   "outputs": [],
   "source": [
    "InputMatrixRow = 100\n",
    "InputMatrixCol = 100\n",
    "Positions = [[0, 10],[0, 40],[10,0],[0,90]]\n",
    "speed = np.array([1,0.5,1,5])\n",
    "coverage = np.array([5,2.5,2.5,1])\n",
    "NumberOfRobots = len(Positions)"
   ]
  },
  {
   "cell_type": "code",
   "execution_count": 181,
   "metadata": {
    "ExecuteTime": {
     "end_time": "2020-07-26T07:49:31.836170Z",
     "start_time": "2020-07-26T07:49:31.831184Z"
    }
   },
   "outputs": [],
   "source": [
    "PositionOfObstacles = []\n",
    "for x in range(30,50):\n",
    "    for y in range(30,50):\n",
    "        PositionOfObstacles.append([x, y])\n",
    "#for x in range(10,50):\n",
    "#   PositionOfObstacles.append([10, x])\n",
    "#for x in range(0,70):\n",
    "#    PositionOfObstacles.append([x, 70])\n",
    "for x in range(30,50):\n",
    "    for y in range(30,50):\n",
    "        PositionOfObstacles.append([x, y])"
   ]
  },
  {
   "cell_type": "code",
   "execution_count": 182,
   "metadata": {
    "ExecuteTime": {
     "end_time": "2020-07-26T07:49:31.994447Z",
     "start_time": "2020-07-26T07:49:31.991422Z"
    }
   },
   "outputs": [],
   "source": [
    "#PositionOfObstacles = [[90, 90], [2, 2]]\n",
    "obstacle = 0\n",
    "if(len(PositionOfObstacles)>0):\n",
    "    obstacle = 1"
   ]
  },
  {
   "cell_type": "code",
   "execution_count": 183,
   "metadata": {
    "ExecuteTime": {
     "end_time": "2020-07-26T07:49:32.152965Z",
     "start_time": "2020-07-26T07:49:32.148975Z"
    }
   },
   "outputs": [],
   "source": [
    "Matrix = np.ones([InputMatrixRow,InputMatrixCol], dtype = bool)"
   ]
  },
  {
   "cell_type": "code",
   "execution_count": 184,
   "metadata": {
    "ExecuteTime": {
     "end_time": "2020-07-26T07:49:32.324214Z",
     "start_time": "2020-07-26T07:49:32.320191Z"
    }
   },
   "outputs": [],
   "source": [
    "for y in PositionOfObstacles:\n",
    "        Matrix[y[0],y[1]] = False"
   ]
  },
  {
   "cell_type": "code",
   "execution_count": 185,
   "metadata": {
    "ExecuteTime": {
     "end_time": "2020-07-26T07:49:32.503048Z",
     "start_time": "2020-07-26T07:49:32.498092Z"
    }
   },
   "outputs": [],
   "source": [
    "def neighboursA(x, y):\n",
    "    for dx in [-1, 1]:\n",
    "        yield x + dx, y\n",
    "    for dy in [-1, 1]:\n",
    "        yield x, y + dy"
   ]
  },
  {
   "cell_type": "code",
   "execution_count": 186,
   "metadata": {
    "ExecuteTime": {
     "end_time": "2020-07-26T07:49:32.868197Z",
     "start_time": "2020-07-26T07:49:32.663904Z"
    }
   },
   "outputs": [],
   "source": [
    "def floodfillA(is_path, x, y):\n",
    "    height = len(is_path)\n",
    "    width = len(is_path[0])\n",
    "\n",
    "    grid = [[None] * width for _ in is_path]\n",
    "    if not is_path[x][y]:\n",
    "        # If we started in a wall, we can't reach anything\n",
    "        return grid\n",
    "    grid[x][y] = 0\n",
    "    modified = deque([(x, y)])\n",
    "    while modified:\n",
    "        x, y = modified.popleft()\n",
    "        number = grid[x][y]\n",
    "        for dx, dy in neighboursA(x, y):\n",
    "            if 0 <= dx < width and 0 <= dy < height and is_path[dx][dy] and grid[dx][dy] is None:\n",
    "                grid[dx][dy] = number + 1\n",
    "                modified.append((dx, dy))\n",
    "    return grid"
   ]
  },
  {
   "cell_type": "code",
   "execution_count": 187,
   "metadata": {
    "ExecuteTime": {
     "end_time": "2020-07-26T07:49:32.939308Z",
     "start_time": "2020-07-26T07:49:32.869227Z"
    }
   },
   "outputs": [],
   "source": [
    "ans = floodfillA(Matrix, 0, 0)"
   ]
  },
  {
   "cell_type": "code",
   "execution_count": 188,
   "metadata": {
    "ExecuteTime": {
     "end_time": "2020-07-26T07:49:33.002378Z",
     "start_time": "2020-07-26T07:49:32.997391Z"
    }
   },
   "outputs": [],
   "source": [
    "def EvaluationMatrix():\n",
    "    E = np.zeros([NumberOfRobots, InputMatrixRow, InputMatrixCol])\n",
    "    for x in  range(NumberOfRobots):\n",
    "        E[x] = floodfillA(Matrix,Positions[x][0], Positions[x][1])\n",
    "    return(E)"
   ]
  },
  {
   "cell_type": "code",
   "execution_count": 189,
   "metadata": {
    "ExecuteTime": {
     "end_time": "2020-07-26T07:49:33.255327Z",
     "start_time": "2020-07-26T07:49:33.167400Z"
    }
   },
   "outputs": [],
   "source": [
    "E = EvaluationMatrix()"
   ]
  },
  {
   "cell_type": "code",
   "execution_count": 190,
   "metadata": {
    "ExecuteTime": {
     "end_time": "2020-07-26T07:49:33.337783Z",
     "start_time": "2020-07-26T07:49:33.334790Z"
    }
   },
   "outputs": [],
   "source": [
    "A = np.zeros([InputMatrixRow,InputMatrixCol])"
   ]
  },
  {
   "cell_type": "code",
   "execution_count": 191,
   "metadata": {
    "ExecuteTime": {
     "end_time": "2020-07-26T07:49:33.499970Z",
     "start_time": "2020-07-26T07:49:33.494984Z"
    }
   },
   "outputs": [],
   "source": [
    "def ArgMin():\n",
    "    B = np.argmin(E,axis = 0)\n",
    "    np.copyto(A,B)\n",
    "    for x in PositionOfObstacles:\n",
    "        A[x[0]][x[1]] = -1"
   ]
  },
  {
   "cell_type": "code",
   "execution_count": 192,
   "metadata": {
    "ExecuteTime": {
     "end_time": "2020-07-26T07:49:33.680030Z",
     "start_time": "2020-07-26T07:49:33.675013Z"
    }
   },
   "outputs": [],
   "source": [
    "ArgMin()"
   ]
  },
  {
   "cell_type": "code",
   "execution_count": 193,
   "metadata": {
    "ExecuteTime": {
     "end_time": "2020-07-26T07:49:34.030437Z",
     "start_time": "2020-07-26T07:49:33.922696Z"
    }
   },
   "outputs": [
    {
     "data": {
      "image/png": "[encoded data removed]",
      "text/plain": [
       "<Figure size 432x288 with 1 Axes>"
      ]
     },
     "metadata": {
      "needs_background": "light"
     },
     "output_type": "display_data"
    }
   ],
   "source": [
    "import matplotlib.pyplot as plt\n",
    "%matplotlib inline \n",
    "a = plt.imshow(A, interpolation='nearest')"
   ]
  },
  {
   "cell_type": "code",
   "execution_count": 194,
   "metadata": {
    "ExecuteTime": {
     "end_time": "2020-07-26T07:49:34.607261Z",
     "start_time": "2020-07-26T07:49:34.603272Z"
    }
   },
   "outputs": [],
   "source": [
    "LI = np.zeros([NumberOfRobots], dtype=int)"
   ]
  },
  {
   "cell_type": "code",
   "execution_count": 195,
   "metadata": {
    "ExecuteTime": {
     "end_time": "2020-07-26T07:49:34.799874Z",
     "start_time": "2020-07-26T07:49:34.793889Z"
    }
   },
   "outputs": [],
   "source": [
    "def L():\n",
    "    unique, counts = np.unique(A, return_counts=True)\n",
    "    if(obstacle):\n",
    "        counts = counts[1:]\n",
    "    np.copyto(LI,counts)"
   ]
  },
  {
   "cell_type": "code",
   "execution_count": 196,
   "metadata": {
    "ExecuteTime": {
     "end_time": "2020-07-26T07:49:34.959847Z",
     "start_time": "2020-07-26T07:49:34.954893Z"
    }
   },
   "outputs": [],
   "source": [
    "L()"
   ]
  },
  {
   "cell_type": "code",
   "execution_count": 197,
   "metadata": {
    "ExecuteTime": {
     "end_time": "2020-07-26T07:49:35.123815Z",
     "start_time": "2020-07-26T07:49:35.119826Z"
    }
   },
   "outputs": [],
   "source": [
    "UnoccupiedCells =  (InputMatrixCol*InputMatrixRow) -len(PositionOfObstacles)"
   ]
  },
  {
   "cell_type": "code",
   "execution_count": 198,
   "metadata": {
    "ExecuteTime": {
     "end_time": "2020-07-26T07:49:35.287747Z",
     "start_time": "2020-07-26T07:49:35.283731Z"
    }
   },
   "outputs": [],
   "source": [
    "FairShares = np.zeros([NumberOfRobots])\n",
    "CombinedFactor = np.ones(NumberOfRobots)"
   ]
  },
  {
   "cell_type": "code",
   "execution_count": 199,
   "metadata": {
    "ExecuteTime": {
     "end_time": "2020-07-26T07:49:35.463605Z",
     "start_time": "2020-07-26T07:49:35.459615Z"
    }
   },
   "outputs": [],
   "source": [
    "def FairShareArray():\n",
    "    CombinedFactor = np.multiply(speed, coverage)\n",
    "    TotalWeight = np.sum(CombinedFactor)\n",
    "    np.copyto(FairShares,CombinedFactor/TotalWeight)"
   ]
  },
  {
   "cell_type": "code",
   "execution_count": 200,
   "metadata": {
    "ExecuteTime": {
     "end_time": "2020-07-26T07:49:35.635124Z",
     "start_time": "2020-07-26T07:49:35.631135Z"
    }
   },
   "outputs": [],
   "source": [
    "FairShareArray()"
   ]
  },
  {
   "cell_type": "code",
   "execution_count": 201,
   "metadata": {
    "ExecuteTime": {
     "end_time": "2020-07-26T07:49:35.811733Z",
     "start_time": "2020-07-26T07:49:35.806713Z"
    }
   },
   "outputs": [],
   "source": [
    "def FairShare(index):\n",
    "    ans = LI[index] - ((UnoccupiedCells)*FairShares[index])\n",
    "    return(int(ans))"
   ]
  },
  {
   "cell_type": "code",
   "execution_count": 202,
   "metadata": {
    "ExecuteTime": {
     "end_time": "2020-07-26T07:49:35.996230Z",
     "start_time": "2020-07-26T07:49:35.991243Z"
    }
   },
   "outputs": [],
   "source": [
    "Digits = log((InputMatrixRow*InputMatrixCol),10)\n",
    "c_main = pow(10,-ceil(Digits))"
   ]
  },
  {
   "cell_type": "code",
   "execution_count": 203,
   "metadata": {
    "ExecuteTime": {
     "end_time": "2020-07-26T07:49:36.338305Z",
     "start_time": "2020-07-26T07:49:36.333352Z"
    }
   },
   "outputs": [],
   "source": [
    "def MiCalculation(mi,index):\n",
    "    Digits = log((InputMatrixRow*InputMatrixCol),10)\n",
    "    c = pow(10,-(ceil(Digits)))\n",
    "    mi = mi + c*(FairShare(index))\n",
    "    return mi"
   ]
  },
  {
   "cell_type": "code",
   "execution_count": 204,
   "metadata": {
    "ExecuteTime": {
     "end_time": "2020-07-26T07:49:36.499230Z",
     "start_time": "2020-07-26T07:49:36.494237Z"
    }
   },
   "outputs": [],
   "source": [
    "m = np.ones([NumberOfRobots])\n",
    "E_Temp = np.zeros([NumberOfRobots, InputMatrixRow, InputMatrixCol])"
   ]
  },
  {
   "cell_type": "code",
   "execution_count": 205,
   "metadata": {
    "ExecuteTime": {
     "end_time": "2020-07-26T07:49:36.670319Z",
     "start_time": "2020-07-26T07:49:36.665365Z"
    }
   },
   "outputs": [
    {
     "name": "stdout",
     "output_type": "stream",
     "text": [
      "0.001\n"
     ]
    }
   ],
   "source": [
    "Digits = log((InputMatrixRow+InputMatrixCol),10)\n",
    "c_con = pow(10,-ceil(Digits))\n",
    "print(c_con)"
   ]
  },
  {
   "cell_type": "code",
   "execution_count": 206,
   "metadata": {
    "ExecuteTime": {
     "end_time": "2020-07-26T07:49:36.860480Z",
     "start_time": "2020-07-26T07:49:36.846553Z"
    }
   },
   "outputs": [],
   "source": [
    "def ContinuityCheckA():\n",
    "    img,num  = measure.label(A, background=-1,return_num = True, connectivity = 1)\n",
    "    if num == NumberOfRobots:\n",
    "        return\n",
    "    else:\n",
    "        global obstacle\n",
    "        obstacle_pt = 0 \n",
    "        if(obstacle == 1):\n",
    "            obstacle_pt = 1\n",
    "        R = {}\n",
    "        Q = {}\n",
    "        ContinuityChecker = np.zeros(num)\n",
    "        indicesAZ = np.indices(A.shape).T[:,:,[1, 0]]\n",
    "        x_index = 0 \n",
    "        for x in range(1,num+1):\n",
    "            ContinuityChecker[x_index] = A[indicesAZ[img==x][0][0]][indicesAZ[img==x][0][1]]\n",
    "            x_index = x_index + 1\n",
    "        a = np.array(np.unique(ContinuityChecker, return_counts=True))\n",
    "        for x in range(NumberOfRobots): #1, num to skip -1 of obstacle and 3 is number of robots change later\n",
    "            if (a[1][x] > 1):\n",
    "                label_traverse = int(a[0][x])\n",
    "                q = []\n",
    "                flag = 0 \n",
    "                for y in range(num):\n",
    "                    temp = []\n",
    "                    if ContinuityChecker[y] == label_traverse:\n",
    "                        start_pt = np.array([Positions[label_traverse][0],Positions[label_traverse][1]])\n",
    "                        if(any(np.equal(indicesAZ[img==y+1],start_pt).all(1))):\n",
    "                            R[label_traverse] = [indicesAZ[img==(y+1)]]\n",
    "                        else:\n",
    "                            temp = indicesAZ[img==(y+1)]\n",
    "                            q.append(temp)\n",
    "                Q[label_traverse] = q\n",
    "                ro = R[label_traverse]\n",
    "                qo = Q[label_traverse]\n",
    "                ro_new = np.array(ro[0])\n",
    "                qo_new = np.array(qo[0])\n",
    "                for ter in range(1,len(qo)):\n",
    "                    temp  = np.array(qo[ter])\n",
    "                ro_tree = spatial.KDTree(ro_new)\n",
    "                qo_tree = spatial.KDTree(qo_new)\n",
    "                c = np.ones([InputMatrixRow,InputMatrixCol])\n",
    "                for i in range(InputMatrixRow):\n",
    "                    for j in range(InputMatrixCol):\n",
    "                        distance_r, index_r = ro_tree.query([i,j])\n",
    "                        distance_q, index_q = qo_tree.query([i,j])\n",
    "                        c[i,j] = (abs(ro_new[index_r][0]-i)+ abs(ro_new[index_r][1]-j)) - (abs(qo_new[index_q][0]-i) + abs(qo_new[index_q][1]-j))\n",
    "                c = 1 + c*c_con\n",
    "                MulAns = np.multiply(c,E[label_traverse]) # do the freeze\n",
    "                E[label_traverse]= MulAns   "
   ]
  },
  {
   "cell_type": "code",
   "execution_count": 207,
   "metadata": {
    "ExecuteTime": {
     "end_time": "2020-07-26T07:49:37.384749Z",
     "start_time": "2020-07-26T07:49:37.378767Z"
    }
   },
   "outputs": [],
   "source": [
    "def MiStep():\n",
    "    L()\n",
    "    for x in range(NumberOfRobots):\n",
    "        m[x] = MiCalculation(1,x)\n",
    "        E[x] = E[x]*m[x]\n",
    "    ArgMin()"
   ]
  },
  {
   "cell_type": "code",
   "execution_count": 208,
   "metadata": {
    "ExecuteTime": {
     "end_time": "2020-07-26T07:49:37.785058Z",
     "start_time": "2020-07-26T07:49:37.567607Z"
    }
   },
   "outputs": [
    {
     "data": {
      "text/plain": [
       "<matplotlib.image.AxesImage at 0x1e3b5fe9b08>"
      ]
     },
     "execution_count": 208,
     "metadata": {},
     "output_type": "execute_result"
    },
    {
     "data": {
      "image/png": "[encoded data removed]",
      "text/plain": [
       "<Figure size 432x288 with 1 Axes>"
      ]
     },
     "metadata": {
      "needs_background": "light"
     },
     "output_type": "display_data"
    }
   ],
   "source": [
    "for x in range(1,200):\n",
    "    MiStep()\n",
    "    if(x%10==0):\n",
    "        ContinuityCheckA()\n",
    "plt.imshow(A, interpolation='nearest')"
   ]
  },
  {
   "cell_type": "code",
   "execution_count": 209,
   "metadata": {
    "ExecuteTime": {
     "end_time": "2020-07-26T07:49:37.791017Z",
     "start_time": "2020-07-26T07:49:37.786022Z"
    }
   },
   "outputs": [],
   "source": [
    "MiStep()"
   ]
  },
  {
   "cell_type": "code",
   "execution_count": 178,
   "metadata": {
    "ExecuteTime": {
     "end_time": "2020-07-26T07:45:08.290908Z",
     "start_time": "2020-07-26T07:45:08.183167Z"
    }
   },
   "outputs": [
    {
     "data": {
      "text/plain": [
       "<matplotlib.image.AxesImage at 0x1e3b5f2ddc8>"
      ]
     },
     "execution_count": 178,
     "metadata": {},
     "output_type": "execute_result"
    },
    {
     "data": {
      "image/png": "[encoded data removed]",
      "text/plain": [
       "<Figure size 432x288 with 1 Axes>"
      ]
     },
     "metadata": {
      "needs_background": "light"
     },
     "output_type": "display_data"
    }
   ],
   "source": [
    "plt.imshow(A, interpolation='nearest')"
   ]
  },
  {
   "cell_type": "code",
   "execution_count": null,
   "metadata": {},
   "outputs": [],
   "source": []
  }
 ],
 "metadata": {
  "kernelspec": {
   "display_name": "Python 3",
   "language": "python",
   "name": "python3"
  },
  "language_info": {
   "codemirror_mode": {
    "name": "ipython",
    "version": 3
   },
   "file_extension": ".py",
   "mimetype": "text/x-python",
   "name": "python",
   "nbconvert_exporter": "python",
   "pygments_lexer": "ipython3",
   "version": "3.7.4"
  }
 },
 "nbformat": 4,
 "nbformat_minor": 2
}
