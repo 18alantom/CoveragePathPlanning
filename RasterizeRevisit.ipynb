{
 "cells": [
  {
   "cell_type": "code",
   "execution_count": 37,
   "metadata": {
    "ExecuteTime": {
     "end_time": "2020-08-01T13:35:50.877536Z",
     "start_time": "2020-08-01T13:35:50.872223Z"
    }
   },
   "outputs": [],
   "source": [
    "import math\n",
    "from pathlib import Path\n",
    "from zipfile import ZipFile\n",
    "import matplotlib.pyplot as plt\n",
    "import contextily as ctx\n",
    "\n",
    "import geopy\n",
    "import shapely\n",
    "import numpy as np\n",
    "import geopandas as gpd\n",
    "from geopy import distance\n",
    "\n",
    "import fiona\n",
    "from fiona import transform\n",
    "from cpp_algorithms import imshow, imshow_scatter\n",
    "from cpp_algorithms.rasterize.rasterize import rasterize"
   ]
  },
  {
   "cell_type": "code",
   "execution_count": 12,
   "metadata": {
    "ExecuteTime": {
     "end_time": "2020-08-01T13:32:22.390420Z",
     "start_time": "2020-08-01T13:32:22.387894Z"
    }
   },
   "outputs": [],
   "source": [
    "from cpp_algorithms import conversion"
   ]
  },
  {
   "cell_type": "code",
   "execution_count": 136,
   "metadata": {
    "ExecuteTime": {
     "end_time": "2020-08-01T16:12:57.495514Z",
     "start_time": "2020-08-01T16:12:57.474295Z"
    }
   },
   "outputs": [],
   "source": [
    "# Created shapfies have these valeus in the type column\n",
    "EPSG=4326\n",
    "FEATURES = [\"coverage\", \"obstacle\", \"fuel\", \"drone\"]\n",
    "\n",
    "def read_shapefile(path, to_del=False):\n",
    "    \"\"\"\n",
    "    Path of the zip file containing the .shp\n",
    "    \"\"\"\n",
    "    path = Path(path)\n",
    "    ZipFile(path).extractall(path.parent)\n",
    "    shp_all = []\n",
    "    for shfile in (path.parent/\"layers\").iterdir():\n",
    "        if shfile.suffix == \".shp\":\n",
    "            shp_all.append(gpd.read_file(shfile))\n",
    "    if to_del:\n",
    "        (path.parent/\"layers\").unlink()\n",
    "    return shp_all\n",
    "\n",
    "def get_features_dict(shape_files, key='type', fnames=FEATURES):\n",
    "    \"\"\"\n",
    "    Name of the features should be shapefile \n",
    "    `key` column values\n",
    "    \"\"\"\n",
    "    features = {}\n",
    "    for name in fnames:\n",
    "        features[name] = []\n",
    "        \n",
    "    for sh in shape_files:\n",
    "        for rows in sh.iterrows():\n",
    "            for k in features:\n",
    "                if rows[1][key].find(k) >= 0:\n",
    "                    features[k].append(rows[1].geometry)\n",
    "    return features\n",
    "\n",
    "def get_final_coverage_polygon(features):\n",
    "    \"\"\"\n",
    "    Union of coverage and difference of\n",
    "    obstacles.\n",
    "    \"\"\"\n",
    "    final = features['coverage'][0]\n",
    "    for cov in features['coverage']:\n",
    "        final = final.union(cov)\n",
    "    for obs in features['obstacle']:\n",
    "        final = final.difference(obs)\n",
    "    return final\n",
    "\n",
    "def get_bounding_points(final_coverage):\n",
    "    \"\"\"\n",
    "    lower left, top left, top right, lower right\n",
    "    \"\"\"\n",
    "    llng, llat, rlng, rlat =  final_coverage.bounds\n",
    "    ll = (llat,llng)\n",
    "    tl = (rlat,llng)\n",
    "    tr = (rlat,rlng)\n",
    "    lr = (llat,rlng)\n",
    "    return {\n",
    "        'll':ll,\n",
    "        'tl':tl,\n",
    "        'tr':tr,\n",
    "        'lr':lr\n",
    "    }\n",
    "\n",
    "def get_bounding_poly(final_coverage):\n",
    "    \"\"\"\n",
    "    shapely polygon that bound the `final_coverage`\n",
    "    polygon of the coverage area.\n",
    "    \"\"\"\n",
    "    return final_coverage.envelope\n",
    "\n",
    "def get_hv_wh(final_coverage):\n",
    "    \"\"\"\n",
    "    Get haversine calcualted width and height of\n",
    "    the smallest bounding rectangle of final_coverage.\n",
    "    \"\"\"\n",
    "    llng, llat, rlng, rlat =  final_coverage.bounds\n",
    "    ll = (llat,llng)\n",
    "    lr = (llat,rlng)\n",
    "    tr = (rlat,rlng)\n",
    "    tl = (rlat,llng)\n",
    "    w = distance.distance(ll,lr)\n",
    "    h = distance.distance(ll,tl)\n",
    "    return w, h\n",
    "\n",
    "def grid_size(side, final_coverage, returnwh=False):\n",
    "    \"\"\"\n",
    "    side : cell side in meters\n",
    "    final_coverage : area of coverage polygon\n",
    "    returnwh : True – returns the haversine \n",
    "        w,h of the bounding box \n",
    "    \"\"\"\n",
    "    w, h = get_hv_wh(final_coverage)\n",
    "    w_count = math.ceil(w.m/side)\n",
    "    h_count = math.ceil(h.m/side)\n",
    "    if returnwh:\n",
    "        return w_count, h_count, w, h\n",
    "    return w_count, h_count\n",
    "\n",
    "def create_gdframe(features, crs=f\"EPSG:{EPSG}\", no_points=False):\n",
    "    \"\"\"\n",
    "    Create GeoDataFrame from features\n",
    "    \"\"\"\n",
    "    final_coverage = get_final_coverage_polygon(features)\n",
    "    points = []\n",
    "    if not no_points:\n",
    "        for d in features['drone']:\n",
    "            points.append({\n",
    "                'type':'drone',\n",
    "                'geometry':d\n",
    "            })\n",
    "        for f in features['fuel']:\n",
    "            points.append({\n",
    "                'type':'fuel',\n",
    "                'geometry':d\n",
    "            })\n",
    "    points.append({\n",
    "        'type':'coverage',\n",
    "        'geometry':final_coverage})\n",
    "    return gpd.GeoDataFrame(points, crs=crs)"
   ]
  },
  {
   "cell_type": "code",
   "execution_count": 14,
   "metadata": {
    "ExecuteTime": {
     "end_time": "2020-08-01T13:32:32.100568Z",
     "start_time": "2020-08-01T13:32:31.871408Z"
    }
   },
   "outputs": [
    {
     "data": {
      "text/plain": [
       "(72.78930759429932, 72.85180950164795, 18.91483027045598, 19.030543097510375)"
      ]
     },
     "execution_count": 14,
     "metadata": {},
     "output_type": "execute_result"
    },
    {
     "data": {
      "image/png": "[encoded data removed]",
      "text/plain": [
       "<Figure size 720x720 with 1 Axes>"
      ]
     },
     "metadata": {
      "needs_background": "light"
     },
     "output_type": "display_data"
    }
   ],
   "source": [
    "cside = 100 # coverage side in meters\n",
    "cside = geopy.distance.distance(meters=cside)\n",
    "shape_files = read_shapefile(\"sandbox/mapme_1.zip\")\n",
    "features = get_features_dict(shape_files)\n",
    "final_coverage = get_final_coverage_polygon(features)\n",
    "bounding_poly = get_bounding_poly(final_coverage)\n",
    "bpoints = get_bounding_points(final_coverage)\n",
    "w, h = get_hv_wh(final_coverage)\n",
    "fgd_frame = create_gdframe(features)\n",
    "fgd_frame.plot(figsize=(10,10),alpha=0.3,edgecolor='k')\n",
    "plt.axis('off')"
   ]
  },
  {
   "cell_type": "code",
   "execution_count": 15,
   "metadata": {
    "ExecuteTime": {
     "end_time": "2020-08-01T13:32:33.522034Z",
     "start_time": "2020-08-01T13:32:33.508586Z"
    }
   },
   "outputs": [
    {
     "data": {
      "text/html": [
       "<div>\n",
       "<style scoped>\n",
       "    .dataframe tbody tr th:only-of-type {\n",
       "        vertical-align: middle;\n",
       "    }\n",
       "\n",
       "    .dataframe tbody tr th {\n",
       "        vertical-align: top;\n",
       "    }\n",
       "\n",
       "    .dataframe thead th {\n",
       "        text-align: right;\n",
       "    }\n",
       "</style>\n",
       "<table border=\"1\" class=\"dataframe\">\n",
       "  <thead>\n",
       "    <tr style=\"text-align: right;\">\n",
       "      <th></th>\n",
       "      <th>stroke</th>\n",
       "      <th>stroke-w</th>\n",
       "      <th>stroke-o</th>\n",
       "      <th>fill</th>\n",
       "      <th>fill-opa</th>\n",
       "      <th>type</th>\n",
       "      <th>geometry</th>\n",
       "    </tr>\n",
       "  </thead>\n",
       "  <tbody>\n",
       "    <tr>\n",
       "      <th>0</th>\n",
       "      <td>#555555</td>\n",
       "      <td>2</td>\n",
       "      <td>1</td>\n",
       "      <td>#555555</td>\n",
       "      <td>0</td>\n",
       "      <td>coverage</td>\n",
       "      <td>POLYGON ((72.83455 19.02528, 72.82064 19.01684...</td>\n",
       "    </tr>\n",
       "    <tr>\n",
       "      <th>1</th>\n",
       "      <td>#555555</td>\n",
       "      <td>2</td>\n",
       "      <td>1</td>\n",
       "      <td>#555555</td>\n",
       "      <td>0</td>\n",
       "      <td>obstacle</td>\n",
       "      <td>POLYGON ((72.82305 19.00321, 72.83403 19.00321...</td>\n",
       "    </tr>\n",
       "    <tr>\n",
       "      <th>2</th>\n",
       "      <td>#555555</td>\n",
       "      <td>2</td>\n",
       "      <td>1</td>\n",
       "      <td>#555555</td>\n",
       "      <td>0</td>\n",
       "      <td>obstacle</td>\n",
       "      <td>POLYGON ((72.81876 18.96198, 72.83438 18.96198...</td>\n",
       "    </tr>\n",
       "    <tr>\n",
       "      <th>3</th>\n",
       "      <td>#555555</td>\n",
       "      <td>2</td>\n",
       "      <td>1</td>\n",
       "      <td>#555555</td>\n",
       "      <td>0</td>\n",
       "      <td>obstacle                                      ...</td>\n",
       "      <td>POLYGON ((72.82974 18.99656, 72.82185 18.99023...</td>\n",
       "    </tr>\n",
       "  </tbody>\n",
       "</table>\n",
       "</div>"
      ],
      "text/plain": [
       "    stroke  stroke-w  stroke-o     fill  fill-opa  \\\n",
       "0  #555555         2         1  #555555         0   \n",
       "1  #555555         2         1  #555555         0   \n",
       "2  #555555         2         1  #555555         0   \n",
       "3  #555555         2         1  #555555         0   \n",
       "\n",
       "                                                type  \\\n",
       "0                                           coverage   \n",
       "1                                           obstacle   \n",
       "2                                           obstacle   \n",
       "3  obstacle                                      ...   \n",
       "\n",
       "                                            geometry  \n",
       "0  POLYGON ((72.83455 19.02528, 72.82064 19.01684...  \n",
       "1  POLYGON ((72.82305 19.00321, 72.83403 19.00321...  \n",
       "2  POLYGON ((72.81876 18.96198, 72.83438 18.96198...  \n",
       "3  POLYGON ((72.82974 18.99656, 72.82185 18.99023...  "
      ]
     },
     "execution_count": 15,
     "metadata": {},
     "output_type": "execute_result"
    }
   ],
   "source": [
    "shape_files[0]"
   ]
  },
  {
   "cell_type": "code",
   "execution_count": 16,
   "metadata": {
    "ExecuteTime": {
     "end_time": "2020-08-01T13:32:34.363842Z",
     "start_time": "2020-08-01T13:32:34.351505Z"
    }
   },
   "outputs": [
    {
     "data": {
      "text/html": [
       "<div>\n",
       "<style scoped>\n",
       "    .dataframe tbody tr th:only-of-type {\n",
       "        vertical-align: middle;\n",
       "    }\n",
       "\n",
       "    .dataframe tbody tr th {\n",
       "        vertical-align: top;\n",
       "    }\n",
       "\n",
       "    .dataframe thead th {\n",
       "        text-align: right;\n",
       "    }\n",
       "</style>\n",
       "<table border=\"1\" class=\"dataframe\">\n",
       "  <thead>\n",
       "    <tr style=\"text-align: right;\">\n",
       "      <th></th>\n",
       "      <th>marker-c</th>\n",
       "      <th>marker-s</th>\n",
       "      <th>type</th>\n",
       "      <th>geometry</th>\n",
       "    </tr>\n",
       "  </thead>\n",
       "  <tbody>\n",
       "    <tr>\n",
       "      <th>0</th>\n",
       "      <td>#7e7e7e</td>\n",
       "      <td>0</td>\n",
       "      <td>drone</td>\n",
       "      <td>POINT (72.79987 18.95386)</td>\n",
       "    </tr>\n",
       "    <tr>\n",
       "      <th>1</th>\n",
       "      <td>#7e7e7e</td>\n",
       "      <td>0</td>\n",
       "      <td>drone</td>\n",
       "      <td>POINT (72.84039 19.01473)</td>\n",
       "    </tr>\n",
       "    <tr>\n",
       "      <th>2</th>\n",
       "      <td>#7e7e7e</td>\n",
       "      <td>0</td>\n",
       "      <td>fuel                                          ...</td>\n",
       "      <td>POINT (72.81790 18.98357)</td>\n",
       "    </tr>\n",
       "  </tbody>\n",
       "</table>\n",
       "</div>"
      ],
      "text/plain": [
       "  marker-c marker-s                                               type  \\\n",
       "0  #7e7e7e        0                                              drone   \n",
       "1  #7e7e7e        0                                              drone   \n",
       "2  #7e7e7e        0  fuel                                          ...   \n",
       "\n",
       "                    geometry  \n",
       "0  POINT (72.79987 18.95386)  \n",
       "1  POINT (72.84039 19.01473)  \n",
       "2  POINT (72.81790 18.98357)  "
      ]
     },
     "execution_count": 16,
     "metadata": {},
     "output_type": "execute_result"
    }
   ],
   "source": [
    "shape_files[1]"
   ]
  },
  {
   "cell_type": "code",
   "execution_count": 152,
   "metadata": {
    "ExecuteTime": {
     "end_time": "2020-08-01T16:18:39.020888Z",
     "start_time": "2020-08-01T16:18:37.290180Z"
    }
   },
   "outputs": [],
   "source": [
    "area_map, points = conversion(100, shape_files)"
   ]
  },
  {
   "cell_type": "code",
   "execution_count": 18,
   "metadata": {
    "ExecuteTime": {
     "end_time": "2020-08-01T13:33:08.903271Z",
     "start_time": "2020-08-01T13:33:08.841910Z"
    }
   },
   "outputs": [
    {
     "data": {
      "image/png": "[encoded data removed]",
      "text/plain": [
       "<Figure size 360x360 with 1 Axes>"
      ]
     },
     "metadata": {
      "needs_background": "light"
     },
     "output_type": "display_data"
    }
   ],
   "source": [
    "imshow(area_map)\n",
    "imshow_scatter(points)"
   ]
  },
  {
   "cell_type": "code",
   "execution_count": 38,
   "metadata": {
    "ExecuteTime": {
     "end_time": "2020-08-01T13:36:05.374431Z",
     "start_time": "2020-08-01T13:36:05.369534Z"
    }
   },
   "outputs": [],
   "source": [
    "def get_points_dict(features, points_keys = ['drone', 'fuel']):\n",
    "    points = {\n",
    "        \"type\":[],\n",
    "        \"points\":[]\n",
    "        \n",
    "    }\n",
    "    for key in points_keys:\n",
    "        for point in features[key]:\n",
    "            points['type'].append(key)\n",
    "            points['points'].append(point)\n",
    "        \n",
    "    return points"
   ]
  },
  {
   "cell_type": "code",
   "execution_count": 41,
   "metadata": {
    "ExecuteTime": {
     "end_time": "2020-08-01T13:36:22.580507Z",
     "start_time": "2020-08-01T13:36:22.576928Z"
    }
   },
   "outputs": [],
   "source": [
    "def get_square(ll, side):\n",
    "    # returns the points of a square.\n",
    "    points = [ll]\n",
    "    points.append(side.destination(ll,0))\n",
    "    points.append(side.destination(points[1],90))\n",
    "    points.append(side.destination(ll,90))\n",
    "    return points"
   ]
  },
  {
   "cell_type": "code",
   "execution_count": 42,
   "metadata": {
    "ExecuteTime": {
     "end_time": "2020-08-01T13:36:22.735119Z",
     "start_time": "2020-08-01T13:36:22.730909Z"
    }
   },
   "outputs": [],
   "source": [
    "def get_lat_lng(point):\n",
    "    \"\"\"\n",
    "    From geopy points\n",
    "    \"\"\"\n",
    "    return point.latitude, point.longitude"
   ]
  },
  {
   "cell_type": "code",
   "execution_count": 43,
   "metadata": {
    "ExecuteTime": {
     "end_time": "2020-08-01T13:36:25.298502Z",
     "start_time": "2020-08-01T13:36:25.271894Z"
    }
   },
   "outputs": [],
   "source": [
    "def get_grid_lines(side, final_coverage):\n",
    "    \"\"\"\n",
    "    side : drone coverage square side\n",
    "    final_coverage : coverage_area\n",
    "    \n",
    "    returns a Grid for the bounding box\n",
    "    \"\"\"\n",
    "    P = lambda p: geopy.point.Point(p)\n",
    "    ltlg = lambda p: (p.latitude, p.longitude)\n",
    "    lglt = lambda p: (p.longitude, p.latitude)\n",
    "    \n",
    "    width, height = grid_size(side, final_coverage)\n",
    "    side = geopy.distance.distance(meters=side)\n",
    "    bpoints = get_bounding_points(final_coverage)\n",
    "    \n",
    "    ll = bpoints['ll']\n",
    "    tl = ltlg((side*height).destination(P(ll),0))\n",
    "    gline = shapely.geometry.LineString([ll[::-1],tl[::-1]])\n",
    "    prev_pair = (P(ll),P(tl))\n",
    "    \n",
    "    # Vertical lines\n",
    "    for w in range(width):\n",
    "        ll, tl = prev_pair\n",
    "        nll = side.destination(ll,90)\n",
    "        ntl = side.destination(tl,90)\n",
    "        prev_pair = (nll,ntl)\n",
    "        nll = lglt(nll)\n",
    "        ntl = lglt(ntl)\n",
    "        gline = gline.union(shapely.geometry.LineString([ntl,nll]))\n",
    "\n",
    "    ll = bpoints['ll']\n",
    "    lr = ltlg((side*width).destination(P(ll),90))\n",
    "    gline = gline.union(shapely.geometry.LineString([ll[::-1],lr[::-1]]))\n",
    "    prev_pair = (P(ll),P(lr))\n",
    "\n",
    "    # Horizontal lines\n",
    "    for h in range(height):\n",
    "        ll, lr = prev_pair\n",
    "        nll = side.destination(ll,0)\n",
    "        nlr = side.destination(lr,0)\n",
    "        prev_pair = (nll,nlr)\n",
    "        nll = lglt(nll)\n",
    "        nlr = lglt(nlr)\n",
    "        gline = gline.union(shapely.geometry.LineString([nll,nlr]))\n",
    "    return gline"
   ]
  },
  {
   "cell_type": "code",
   "execution_count": 44,
   "metadata": {
    "ExecuteTime": {
     "end_time": "2020-08-01T13:36:35.642496Z",
     "start_time": "2020-08-01T13:36:35.427528Z"
    }
   },
   "outputs": [
    {
     "data": {
      "image/svg+xml": [
       "<svg xmlns=\"http://www.w3.org/2000/svg\" xmlns:xlink=\"http://www.w3.org/1999/xlink\" width=\"100.0\" height=\"100.0\" viewBox=\"72.78781187464448 18.91574449294949 0.0656675221173515 0.11709131697217146\" preserveAspectRatio=\"xMinYMin meet\"><g transform=\"matrix(1,0,0,-1,0,37.94858030287115)\"><g><polyline fill=\"none\" stroke=\"#66cc99\" stroke-width=\"0.002341826339443429\" points=\"72.79214859008789,18.920089944412993 72.79214859008789,18.924607017620414\" opacity=\"0.8\" /><polyline fill=\"none\" stroke=\"#66cc99\" stroke-width=\"0.002341826339443429\" points=\"72.79214859008789,18.924607017620414 72.79214859008789,18.929124088632136\" opacity=\"0.8\" /><polyline fill=\"none\" stroke=\"#66cc99\" stroke-width=\"0.002341826339443429\" points=\"72.79214859008789,18.929124088632136 72.79214859008789,18.933641157447703\" opacity=\"0.8\" /><polyline fill=\"none\" stroke=\"#66cc99\" stroke-width=\"0.002341826339443429\" points=\"72.79214859008789,18.933641157447703 72.79214859008789,18.938158224066676\" opacity=\"0.8\" /><polyline fill=\"none\" stroke=\"#66cc99\" stroke-width=\"0.002341826339443429\" points=\"72.79214859008789,18.938158224066676 72.79214859008789,18.942675288488623\" opacity=\"0.8\" /><polyline fill=\"none\" stroke=\"#66cc99\" stroke-width=\"0.002341826339443429\" points=\"72.79214859008789,18.942675288488623 72.79214859008789,18.94719235071308\" opacity=\"0.8\" /><polyline fill=\"none\" stroke=\"#66cc99\" stroke-width=\"0.002341826339443429\" points=\"72.79214859008789,18.94719235071308 72.79214859008789,18.949641729713196\" opacity=\"0.8\" /><polyline fill=\"none\" stroke=\"#66cc99\" stroke-width=\"0.002341826339443429\" points=\"72.79214859008789,18.949641729713196 72.79214859008789,18.95170941073961\" opacity=\"0.8\" /><polyline fill=\"none\" stroke=\"#66cc99\" stroke-width=\"0.002341826339443429\" points=\"72.79214859008789,18.95170941073961 72.79214859008789,18.956226468567777\" opacity=\"0.8\" /><polyline fill=\"none\" stroke=\"#66cc99\" stroke-width=\"0.002341826339443429\" points=\"72.79214859008789,18.956226468567777 72.79214859008789,18.960743524197127\" opacity=\"0.8\" /><polyline fill=\"none\" stroke=\"#66cc99\" stroke-width=\"0.002341826339443429\" points=\"72.79214859008789,18.960743524197127 72.79214859008789,18.96526057762722\" opacity=\"0.8\" /><polyline fill=\"none\" stroke=\"#66cc99\" stroke-width=\"0.002341826339443429\" points=\"72.79214859008789,18.96526057762722 72.79214859008789,18.969777628857614\" opacity=\"0.8\" /><polyline fill=\"none\" stroke=\"#66cc99\" stroke-width=\"0.002341826339443429\" points=\"72.79214859008789,18.969777628857614 72.79214859008789,18.974294677887865\" opacity=\"0.8\" /><polyline fill=\"none\" stroke=\"#66cc99\" stroke-width=\"0.002341826339443429\" points=\"72.79214859008789,18.974294677887865 72.79214859008789,18.978811724717524\" opacity=\"0.8\" /><polyline fill=\"none\" stroke=\"#66cc99\" stroke-width=\"0.002341826339443429\" points=\"72.79214859008789,18.978811724717524 72.79214859008789,18.983328769346155\" opacity=\"0.8\" /><polyline fill=\"none\" stroke=\"#66cc99\" stroke-width=\"0.002341826339443429\" points=\"72.79214859008789,18.983328769346155 72.79214859008789,18.98784581177331\" opacity=\"0.8\" /><polyline fill=\"none\" stroke=\"#66cc99\" stroke-width=\"0.002341826339443429\" points=\"72.79214859008789,18.98784581177331 72.79214859008789,18.992362851998553\" opacity=\"0.8\" /><polyline fill=\"none\" stroke=\"#66cc99\" stroke-width=\"0.002341826339443429\" points=\"72.79214859008789,18.992362851998553 72.79214859008789,18.996879890021432\" opacity=\"0.8\" /><polyline fill=\"none\" stroke=\"#66cc99\" stroke-width=\"0.002341826339443429\" points=\"72.79214859008789,18.996879890021432 72.79214859008789,19.001396925841508\" opacity=\"0.8\" /><polyline fill=\"none\" stroke=\"#66cc99\" stroke-width=\"0.002341826339443429\" points=\"72.79214859008789,19.001396925841508 72.79214859008789,19.005913959458333\" opacity=\"0.8\" /><polyline fill=\"none\" stroke=\"#66cc99\" stroke-width=\"0.002341826339443429\" points=\"72.79214859008789,19.005913959458333 72.79214859008789,19.01043099087147\" opacity=\"0.8\" /><polyline fill=\"none\" stroke=\"#66cc99\" stroke-width=\"0.002341826339443429\" points=\"72.79214859008789,19.01043099087147 72.79214859008789,19.014948020080475\" opacity=\"0.8\" /><polyline fill=\"none\" stroke=\"#66cc99\" stroke-width=\"0.002341826339443429\" points=\"72.79214859008789,19.014948020080475 72.79214859008789,19.019465047084903\" opacity=\"0.8\" /><polyline fill=\"none\" stroke=\"#66cc99\" stroke-width=\"0.002341826339443429\" points=\"72.79214859008789,19.019465047084903 72.79214859008789,19.023982071884305\" opacity=\"0.8\" /><polyline fill=\"none\" stroke=\"#66cc99\" stroke-width=\"0.002341826339443429\" points=\"72.79214859008789,19.023982071884305 72.79214859008789,19.028499094478242\" opacity=\"0.8\" /><polyline fill=\"none\" stroke=\"#66cc99\" stroke-width=\"0.002341826339443429\" points=\"72.79689809769998,19.02849903343791 72.79689809768108,19.028498366014148\" opacity=\"0.8\" /><polyline fill=\"none\" stroke=\"#66cc99\" stroke-width=\"0.002341826339443429\" points=\"72.79689809768108,19.028498366014148 72.79689796975272,19.023981343439473\" opacity=\"0.8\" /><polyline fill=\"none\" stroke=\"#66cc99\" stroke-width=\"0.002341826339443429\" points=\"72.79689796975272,19.023981343439473 72.79689784182429,19.019464318659335\" opacity=\"0.8\" /><polyline fill=\"none\" stroke=\"#66cc99\" stroke-width=\"0.002341826339443429\" points=\"72.79689784182429,19.019464318659335 72.7968977138958,19.014947291674172\" opacity=\"0.8\" /><polyline fill=\"none\" stroke=\"#66cc99\" stroke-width=\"0.002341826339443429\" points=\"72.7968977138958,19.014947291674172 72.79689758596724,19.010430262484434\" opacity=\"0.8\" /><polyline fill=\"none\" stroke=\"#66cc99\" stroke-width=\"0.002341826339443429\" points=\"72.79689758596724,19.010430262484434 72.79689745803863,19.005913231090563\" opacity=\"0.8\" /><polyline fill=\"none\" stroke=\"#66cc99\" stroke-width=\"0.002341826339443429\" points=\"72.79689745803863,19.005913231090563 72.79689733010996,19.001396197493005\" opacity=\"0.8\" /><polyline fill=\"none\" stroke=\"#66cc99\" stroke-width=\"0.002341826339443429\" points=\"72.79689733010996,19.001396197493005 72.79689720218121,18.996879161692195\" opacity=\"0.8\" /><polyline fill=\"none\" stroke=\"#66cc99\" stroke-width=\"0.002341826339443429\" points=\"72.79689720218121,18.996879161692195 72.79689707425241,18.992362123688583\" opacity=\"0.8\" /><polyline fill=\"none\" stroke=\"#66cc99\" stroke-width=\"0.002341826339443429\" points=\"72.79689707425241,18.992362123688583 72.79689694632356,18.987845083482608\" opacity=\"0.8\" /><polyline fill=\"none\" stroke=\"#66cc99\" stroke-width=\"0.002341826339443429\" points=\"72.79689694632356,18.987845083482608 72.79689681839463,18.983328041074717\" opacity=\"0.8\" /><polyline fill=\"none\" stroke=\"#66cc99\" stroke-width=\"0.002341826339443429\" points=\"72.79689681839463,18.983328041074717 72.79689669046564,18.978810996465352\" opacity=\"0.8\" /><polyline fill=\"none\" stroke=\"#66cc99\" stroke-width=\"0.002341826339443429\" points=\"72.79689669046564,18.978810996465352 72.79689656253659,18.97429394965496\" opacity=\"0.8\" /><polyline fill=\"none\" stroke=\"#66cc99\" stroke-width=\"0.002341826339443429\" points=\"72.79689656253659,18.97429394965496 72.79689643460748,18.969776900643975\" opacity=\"0.8\" /><polyline fill=\"none\" stroke=\"#66cc99\" stroke-width=\"0.002341826339443429\" points=\"72.79689643460748,18.969776900643975 72.7968963066783,18.965259849432847\" opacity=\"0.8\" /><polyline fill=\"none\" stroke=\"#66cc99\" stroke-width=\"0.002341826339443429\" points=\"72.7968963066783,18.965259849432847 72.79689617874907,18.96074279602202\" opacity=\"0.8\" /><polyline fill=\"none\" stroke=\"#66cc99\" stroke-width=\"0.002341826339443429\" points=\"72.79689617874907,18.96074279602202 72.79689605081977,18.95622574041194\" opacity=\"0.8\" /><polyline fill=\"none\" stroke=\"#66cc99\" stroke-width=\"0.002341826339443429\" points=\"72.79689605081977,18.95622574041194 72.79689603919928,18.95581543268649\" opacity=\"0.8\" /><polyline fill=\"none\" stroke=\"#66cc99\" stroke-width=\"0.002341826339443429\" points=\"72.7968957545026,18.945763077332835 72.7968956670315,18.942674560390586\" opacity=\"0.8\" /><polyline fill=\"none\" stroke=\"#66cc99\" stroke-width=\"0.002341826339443429\" points=\"72.7968956670315,18.942674560390586 72.79689553910195,18.93815749598791\" opacity=\"0.8\" /><polyline fill=\"none\" stroke=\"#66cc99\" stroke-width=\"0.002341826339443429\" points=\"72.79689553910195,18.93815749598791 72.79689541117234,18.933640429388202\" opacity=\"0.8\" /><polyline fill=\"none\" stroke=\"#66cc99\" stroke-width=\"0.002341826339443429\" points=\"72.79689541117234,18.933640429388202 72.79689528324268,18.929123360591905\" opacity=\"0.8\" /><polyline fill=\"none\" stroke=\"#66cc99\" stroke-width=\"0.002341826339443429\" points=\"72.79689528324268,18.929123360591905 72.79689515531294,18.92460628959945\" opacity=\"0.8\" /><polyline fill=\"none\" stroke=\"#66cc99\" stroke-width=\"0.002341826339443429\" points=\"72.79689515531294,18.92460628959945 72.79689502740204,18.92008988374618\" opacity=\"0.8\" /><polyline fill=\"none\" stroke=\"#66cc99\" stroke-width=\"0.002341826339443429\" points=\"72.80164760531034,19.02849897239758 72.80164760523472,19.028497637550053\" opacity=\"0.8\" /><polyline fill=\"none\" stroke=\"#66cc99\" stroke-width=\"0.002341826339443429\" points=\"72.80164760523472,19.028497637550053 72.801647349378,19.023980614994645\" opacity=\"0.8\" /><polyline fill=\"none\" stroke=\"#66cc99\" stroke-width=\"0.002341826339443429\" points=\"72.801647349378,19.023980614994645 72.80164709352115,19.019463590233773\" opacity=\"0.8\" /><polyline fill=\"none\" stroke=\"#66cc99\" stroke-width=\"0.002341826339443429\" points=\"72.80164709352115,19.019463590233773 72.80164683766418,19.014946563267877\" opacity=\"0.8\" /><polyline fill=\"none\" stroke=\"#66cc99\" stroke-width=\"0.002341826339443429\" points=\"72.80164683766418,19.014946563267877 72.80164658180708,19.010429534097405\" opacity=\"0.8\" /><polyline fill=\"none\" stroke=\"#66cc99\" stroke-width=\"0.002341826339443429\" points=\"72.80164658180708,19.010429534097405 72.80164632594985,19.005912502722797\" opacity=\"0.8\" /><polyline fill=\"none\" stroke=\"#66cc99\" stroke-width=\"0.002341826339443429\" points=\"72.80164632594985,19.005912502722797 72.8016460700925,19.001395469144505\" opacity=\"0.8\" /><polyline fill=\"none\" stroke=\"#66cc99\" stroke-width=\"0.002341826339443429\" points=\"72.8016460700925,19.001395469144505 72.80164581423503,18.996878433362962\" opacity=\"0.8\" /><polyline fill=\"none\" stroke=\"#66cc99\" stroke-width=\"0.002341826339443429\" points=\"72.80164581423503,18.996878433362962 72.80164555837743,18.992361395378616\" opacity=\"0.8\" /><polyline fill=\"none\" stroke=\"#66cc99\" stroke-width=\"0.002341826339443429\" points=\"72.80164555837743,18.992361395378616 72.8016453025197,18.987844355191907\" opacity=\"0.8\" /><polyline fill=\"none\" stroke=\"#66cc99\" stroke-width=\"0.002341826339443429\" points=\"72.8016453025197,18.987844355191907 72.80164504666185,18.983327312803283\" opacity=\"0.8\" /><polyline fill=\"none\" stroke=\"#66cc99\" stroke-width=\"0.002341826339443429\" points=\"72.80164504666185,18.983327312803283 72.80164479080388,18.978810268213188\" opacity=\"0.8\" /><polyline fill=\"none\" stroke=\"#66cc99\" stroke-width=\"0.002341826339443429\" points=\"72.80164479080388,18.978810268213188 72.80164453494578,18.97429322142206\" opacity=\"0.8\" /><polyline fill=\"none\" stroke=\"#66cc99\" stroke-width=\"0.002341826339443429\" points=\"72.80164453494578,18.97429322142206 72.80164427908755,18.969776172430343\" opacity=\"0.8\" /><polyline fill=\"none\" stroke=\"#66cc99\" stroke-width=\"0.002341826339443429\" points=\"72.80164427908755,18.969776172430343 72.8016440232292,18.965259121238482\" opacity=\"0.8\" /><polyline fill=\"none\" stroke=\"#66cc99\" stroke-width=\"0.002341826339443429\" points=\"72.8016440232292,18.965259121238482 72.80164383803388,18.961989590448695\" opacity=\"0.8\" /><polyline fill=\"none\" stroke=\"#66cc99\" stroke-width=\"0.002341826339443429\" points=\"72.80164316739837,18.950149855625433 72.80164299979457,18.94719089447848\" opacity=\"0.8\" /><polyline fill=\"none\" stroke=\"#66cc99\" stroke-width=\"0.002341826339443429\" points=\"72.80164299979457,18.94719089447848 72.8016427439356,18.94267383229256\" opacity=\"0.8\" /><polyline fill=\"none\" stroke=\"#66cc99\" stroke-width=\"0.002341826339443429\" points=\"72.8016427439356,18.94267383229256 72.80164248807651,18.93815676790915\" opacity=\"0.8\" /><polyline fill=\"none\" stroke=\"#66cc99\" stroke-width=\"0.002341826339443429\" points=\"72.80164248807651,18.93815676790915 72.80164223221729,18.93363970132871\" opacity=\"0.8\" /><polyline fill=\"none\" stroke=\"#66cc99\" stroke-width=\"0.002341826339443429\" points=\"72.80164223221729,18.93363970132871 72.80164197635794,18.929122632551678\" opacity=\"0.8\" /><polyline fill=\"none\" stroke=\"#66cc99\" stroke-width=\"0.002341826339443429\" points=\"72.80164197635794,18.929122632551678 72.80164172049848,18.924605561578492\" opacity=\"0.8\" /><polyline fill=\"none\" stroke=\"#66cc99\" stroke-width=\"0.002341826339443429\" points=\"72.80164172049848,18.924605561578492 72.80164146471449,18.920089823079373\" opacity=\"0.8\" /><polyline fill=\"none\" stroke=\"#66cc99\" stroke-width=\"0.002341826339443429\" points=\"72.80639711291896,19.028498911357246 72.80639711274884,19.02849690908597\" opacity=\"0.8\" /><polyline fill=\"none\" stroke=\"#66cc99\" stroke-width=\"0.002341826339443429\" points=\"72.80639711274884,19.02849690908597 72.80639672896375,19.023979886549824\" opacity=\"0.8\" /><polyline fill=\"none\" stroke=\"#66cc99\" stroke-width=\"0.002341826339443429\" points=\"72.80639672896375,19.023979886549824 72.80639634517847,19.01946286180822\" opacity=\"0.8\" /><polyline fill=\"none\" stroke=\"#66cc99\" stroke-width=\"0.002341826339443429\" points=\"72.80639634517847,19.01946286180822 72.80639596139301,19.014945834861585\" opacity=\"0.8\" /><polyline fill=\"none\" stroke=\"#66cc99\" stroke-width=\"0.002341826339443429\" points=\"72.80639596139301,19.014945834861585 72.80639557760736,19.01042880571038\" opacity=\"0.8\" /><polyline fill=\"none\" stroke=\"#66cc99\" stroke-width=\"0.002341826339443429\" points=\"72.80639557760736,19.01042880571038 72.80639519382153,19.00591177435504\" opacity=\"0.8\" /><polyline fill=\"none\" stroke=\"#66cc99\" stroke-width=\"0.002341826339443429\" points=\"72.80639519382153,19.00591177435504 72.80639481003551,19.001394740796012\" opacity=\"0.8\" /><polyline fill=\"none\" stroke=\"#66cc99\" stroke-width=\"0.002341826339443429\" points=\"72.80639481003551,19.001394740796012 72.8063944262493,18.996877705033736\" opacity=\"0.8\" /><polyline fill=\"none\" stroke=\"#66cc99\" stroke-width=\"0.002341826339443429\" points=\"72.8063944262493,18.996877705033736 72.8063940424629,18.992360667068656\" opacity=\"0.8\" /><polyline fill=\"none\" stroke=\"#66cc99\" stroke-width=\"0.002341826339443429\" points=\"72.8063940424629,18.992360667068656 72.80639365867631,18.987843626901213\" opacity=\"0.8\" /><polyline fill=\"none\" stroke=\"#66cc99\" stroke-width=\"0.002341826339443429\" points=\"72.80639365867631,18.987843626901213 72.80639327488954,18.98332658453186\" opacity=\"0.8\" /><polyline fill=\"none\" stroke=\"#66cc99\" stroke-width=\"0.002341826339443429\" points=\"72.80639327488954,18.98332658453186 72.80639289110259,18.978809539961027\" opacity=\"0.8\" /><polyline fill=\"none\" stroke=\"#66cc99\" stroke-width=\"0.002341826339443429\" points=\"72.80639289110259,18.978809539961027 72.80639271840346,18.976776928772505\" opacity=\"0.8\" /><polyline fill=\"none\" stroke=\"#66cc99\" stroke-width=\"0.002341826339443429\" points=\"72.80639075278619,18.95364226874693 72.80639058837691,18.95170722632992\" opacity=\"0.8\" /><polyline fill=\"none\" stroke=\"#66cc99\" stroke-width=\"0.002341826339443429\" points=\"72.80639058837691,18.95170722632992 72.80639020458865,18.947190166361192\" opacity=\"0.8\" /><polyline fill=\"none\" stroke=\"#66cc99\" stroke-width=\"0.002341826339443429\" points=\"72.80639020458865,18.947190166361192 72.8063898208002,18.942673104194533\" opacity=\"0.8\" /><polyline fill=\"none\" stroke=\"#66cc99\" stroke-width=\"0.002341826339443429\" points=\"72.8063898208002,18.942673104194533 72.80638943701156,18.938156039830393\" opacity=\"0.8\" /><polyline fill=\"none\" stroke=\"#66cc99\" stroke-width=\"0.002341826339443429\" points=\"72.80638943701156,18.938156039830393 72.80638905322273,18.933638973269222\" opacity=\"0.8\" /><polyline fill=\"none\" stroke=\"#66cc99\" stroke-width=\"0.002341826339443429\" points=\"72.80638905322273,18.933638973269222 72.80638866943372,18.929121904511458\" opacity=\"0.8\" /><polyline fill=\"none\" stroke=\"#66cc99\" stroke-width=\"0.002341826339443429\" points=\"72.80638866943372,18.929121904511458 72.80638828564452,18.92460483355754\" opacity=\"0.8\" /><polyline fill=\"none\" stroke=\"#66cc99\" stroke-width=\"0.002341826339443429\" points=\"72.80638828564452,18.92460483355754 72.80638790202524,18.92008976241257\" opacity=\"0.8\" /><polyline fill=\"none\" stroke=\"#66cc99\" stroke-width=\"0.002341826339443429\" points=\"72.81114662052583,19.028498850316918 72.8111466202234,19.02849618062189\" opacity=\"0.8\" /><polyline fill=\"none\" stroke=\"#66cc99\" stroke-width=\"0.002341826339443429\" points=\"72.8111466202234,19.02849618062189 72.81114610850994,19.02397915810501\" opacity=\"0.8\" /><polyline fill=\"none\" stroke=\"#66cc99\" stroke-width=\"0.002341826339443429\" points=\"72.81114610850994,19.02397915810501 72.81114559679625,19.019462133382667\" opacity=\"0.8\" /><polyline fill=\"none\" stroke=\"#66cc99\" stroke-width=\"0.002341826339443429\" points=\"72.81114559679625,19.019462133382667 72.8111450850823,19.0149451064553\" opacity=\"0.8\" /><polyline fill=\"none\" stroke=\"#66cc99\" stroke-width=\"0.002341826339443429\" points=\"72.8111450850823,19.0149451064553 72.81114457336811,19.01042807732336\" opacity=\"0.8\" /><polyline fill=\"none\" stroke=\"#66cc99\" stroke-width=\"0.002341826339443429\" points=\"72.81114457336811,19.01042807732336 72.81114406165366,19.00591104598729\" opacity=\"0.8\" /><polyline fill=\"none\" stroke=\"#66cc99\" stroke-width=\"0.002341826339443429\" points=\"72.81114406165366,19.00591104598729 72.81114354993898,19.001394012447527\" opacity=\"0.8\" /><polyline fill=\"none\" stroke=\"#66cc99\" stroke-width=\"0.002341826339443429\" points=\"72.81114354993898,19.001394012447527 72.81114303822403,18.996876976704517\" opacity=\"0.8\" /><polyline fill=\"none\" stroke=\"#66cc99\" stroke-width=\"0.002341826339443429\" points=\"72.81114303822403,18.996876976704517 72.81114252650883,18.992359938758703\" opacity=\"0.8\" /><polyline fill=\"none\" stroke=\"#66cc99\" stroke-width=\"0.002341826339443429\" points=\"72.81114252650883,18.992359938758703 72.81114201479339,18.987842898610527\" opacity=\"0.8\" /><polyline fill=\"none\" stroke=\"#66cc99\" stroke-width=\"0.002341826339443429\" points=\"72.81114201479339,18.987842898610527 72.81114150307769,18.98332585626044\" opacity=\"0.8\" /><polyline fill=\"none\" stroke=\"#66cc99\" stroke-width=\"0.002341826339443429\" points=\"72.81114150307769,18.98332585626044 72.81114103885145,18.979228015130087\" opacity=\"0.8\" /><polyline fill=\"none\" stroke=\"#66cc99\" stroke-width=\"0.002341826339443429\" points=\"72.81113821341707,18.954287199456047 72.81113792106088,18.951706498193367\" opacity=\"0.8\" /><polyline fill=\"none\" stroke=\"#66cc99\" stroke-width=\"0.002341826339443429\" points=\"72.81113792106088,18.951706498193367 72.81113740934319,18.947189438243907\" opacity=\"0.8\" /><polyline fill=\"none\" stroke=\"#66cc99\" stroke-width=\"0.002341826339443429\" points=\"72.81113740934319,18.947189438243907 72.81113689762526,18.942672376096517\" opacity=\"0.8\" /><polyline fill=\"none\" stroke=\"#66cc99\" stroke-width=\"0.002341826339443429\" points=\"72.81113689762526,18.942672376096517 72.81113638590708,18.938155311751643\" opacity=\"0.8\" /><polyline fill=\"none\" stroke=\"#66cc99\" stroke-width=\"0.002341826339443429\" points=\"72.81113638590708,18.938155311751643 72.81113587418865,18.933638245209742\" opacity=\"0.8\" /><polyline fill=\"none\" stroke=\"#66cc99\" stroke-width=\"0.002341826339443429\" points=\"72.81113587418865,18.933638245209742 72.81113536246997,18.929121176471245\" opacity=\"0.8\" /><polyline fill=\"none\" stroke=\"#66cc99\" stroke-width=\"0.002341826339443429\" points=\"72.81113536246997,18.929121176471245 72.81113485075105,18.924604105536595\" opacity=\"0.8\" /><polyline fill=\"none\" stroke=\"#66cc99\" stroke-width=\"0.002341826339443429\" points=\"72.81113485075105,18.924604105536595 72.81113433933426,18.920089701745763\" opacity=\"0.8\" /><polyline fill=\"none\" stroke=\"#66cc99\" stroke-width=\"0.002341826339443429\" points=\"72.81589612813097,19.028498789276586 72.81589612765842,19.028495452157816\" opacity=\"0.8\" /><polyline fill=\"none\" stroke=\"#66cc99\" stroke-width=\"0.002341826339443429\" points=\"72.81589612765842,19.028495452157816 72.81589548801661,19.0239784296602\" opacity=\"0.8\" /><polyline fill=\"none\" stroke=\"#66cc99\" stroke-width=\"0.002341826339443429\" points=\"72.81589548801661,19.0239784296602 72.8158948483745,19.019461404957127\" opacity=\"0.8\" /><polyline fill=\"none\" stroke=\"#66cc99\" stroke-width=\"0.002341826339443429\" points=\"72.8158948483745,19.019461404957127 72.81589420873206,19.014944378049023\" opacity=\"0.8\" /><polyline fill=\"none\" stroke=\"#66cc99\" stroke-width=\"0.002341826339443429\" points=\"72.81589420873206,19.014944378049023 72.81589356908933,19.01042734893635\" opacity=\"0.8\" /><polyline fill=\"none\" stroke=\"#66cc99\" stroke-width=\"0.002341826339443429\" points=\"72.81589356908933,19.01042734893635 72.81589337052957,19.00902515956058\" opacity=\"0.8\" /><polyline fill=\"none\" stroke=\"#66cc99\" stroke-width=\"0.002341826339443429\" points=\"72.81588525460474,18.951712121446917 72.81588525370533,18.951705770056822\" opacity=\"0.8\" /><polyline fill=\"none\" stroke=\"#66cc99\" stroke-width=\"0.002341826339443429\" points=\"72.81588525370533,18.951705770056822 72.81588461405823,18.94718871012663\" opacity=\"0.8\" /><polyline fill=\"none\" stroke=\"#66cc99\" stroke-width=\"0.002341826339443429\" points=\"72.81588461405823,18.94718871012663 72.81588397441082,18.942671647998505\" opacity=\"0.8\" /><polyline fill=\"none\" stroke=\"#66cc99\" stroke-width=\"0.002341826339443429\" points=\"72.81588397441082,18.942671647998505 72.8158833347631,18.9381545836729\" opacity=\"0.8\" /><polyline fill=\"none\" stroke=\"#66cc99\" stroke-width=\"0.002341826339443429\" points=\"72.8158833347631,18.9381545836729 72.81588269511506,18.933637517150267\" opacity=\"0.8\" /><polyline fill=\"none\" stroke=\"#66cc99\" stroke-width=\"0.002341826339443429\" points=\"72.81588269511506,18.933637517150267 72.81588205546672,18.929120448431036\" opacity=\"0.8\" /><polyline fill=\"none\" stroke=\"#66cc99\" stroke-width=\"0.002341826339443429\" points=\"72.81588205546672,18.929120448431036 72.81588141581805,18.924603377515655\" opacity=\"0.8\" /><polyline fill=\"none\" stroke=\"#66cc99\" stroke-width=\"0.002341826339443429\" points=\"72.81588141581805,18.924603377515655 72.81588077664158,18.92008964107895\" opacity=\"0.8\" /><polyline fill=\"none\" stroke=\"#66cc99\" stroke-width=\"0.002341826339443429\" points=\"72.82064563573438,19.028498728236254 72.82064563505389,19.028494723693747\" opacity=\"0.8\" /><polyline fill=\"none\" stroke=\"#66cc99\" stroke-width=\"0.002341826339443429\" points=\"72.82064563505389,19.028494723693747 72.82064486748374,19.023977701215397\" opacity=\"0.8\" /><polyline fill=\"none\" stroke=\"#66cc99\" stroke-width=\"0.002341826339443429\" points=\"72.82064486748374,19.023977701215397 72.82064409991321,19.019460676531587\" opacity=\"0.8\" /><polyline fill=\"none\" stroke=\"#66cc99\" stroke-width=\"0.002341826339443429\" points=\"72.82064409991321,19.019460676531587 72.8206436551353,19.016843232673533\" opacity=\"0.8\" /><polyline fill=\"none\" stroke=\"#66cc99\" stroke-width=\"0.002341826339443429\" points=\"72.82063698064707,18.977564981635126 72.82063642418727,18.974290308490524\" opacity=\"0.8\" /><polyline fill=\"none\" stroke=\"#66cc99\" stroke-width=\"0.002341826339443429\" points=\"72.82063642418727,18.974290308490524 72.82063565661262,18.969773259575874\" opacity=\"0.8\" /><polyline fill=\"none\" stroke=\"#66cc99\" stroke-width=\"0.002341826339443429\" points=\"72.82063565661262,18.969773259575874 72.82063488903759,18.96525620846108\" opacity=\"0.8\" /><polyline fill=\"none\" stroke=\"#66cc99\" stroke-width=\"0.002341826339443429\" points=\"72.82063488903759,18.96525620846108 72.82063433239972,18.961980487391045\" opacity=\"0.8\" /><polyline fill=\"none\" stroke=\"#66cc99\" stroke-width=\"0.002341826339443429\" points=\"72.82063184729742,18.94735607447529 72.82063181873374,18.947187982009357\" opacity=\"0.8\" /><polyline fill=\"none\" stroke=\"#66cc99\" stroke-width=\"0.002341826339443429\" points=\"72.82063181873374,18.947187982009357 72.82063105115685,18.9426709199005\" opacity=\"0.8\" /><polyline fill=\"none\" stroke=\"#66cc99\" stroke-width=\"0.002341826339443429\" points=\"72.82063105115685,18.9426709199005 72.82063028357959,18.938153855594166\" opacity=\"0.8\" /><polyline fill=\"none\" stroke=\"#66cc99\" stroke-width=\"0.002341826339443429\" points=\"72.82063028357959,18.938153855594166 72.82062951600194,18.933636789090798\" opacity=\"0.8\" /><polyline fill=\"none\" stroke=\"#66cc99\" stroke-width=\"0.002341826339443429\" points=\"72.82062951600194,18.933636789090798 72.82062874842393,18.929119720390837\" opacity=\"0.8\" /><polyline fill=\"none\" stroke=\"#66cc99\" stroke-width=\"0.002341826339443429\" points=\"72.82062874842393,18.929119720390837 72.82062843978564,18.92730343544615\" opacity=\"0.8\" /><polyline fill=\"none\" stroke=\"#66cc99\" stroke-width=\"0.002341826339443429\" points=\"72.82062804596148,18.92498584597758 72.82062798084554,18.924602649494723\" opacity=\"0.8\" /><polyline fill=\"none\" stroke=\"#66cc99\" stroke-width=\"0.002341826339443429\" points=\"72.82062798084554,18.924602649494723 72.82062721394718,18.92008958041214\" opacity=\"0.8\" /><polyline fill=\"none\" stroke=\"#66cc99\" stroke-width=\"0.002341826339443429\" points=\"72.82539514333605,19.028498667195922 72.82539514240983,19.028493995229685\" opacity=\"0.8\" /><polyline fill=\"none\" stroke=\"#66cc99\" stroke-width=\"0.002341826339443429\" points=\"72.82539514240983,19.028493995229685 72.82539424691133,19.0239769727706\" opacity=\"0.8\" /><polyline fill=\"none\" stroke=\"#66cc99\" stroke-width=\"0.002341826339443429\" points=\"72.82539424691133,19.0239769727706 72.82539340429882,19.01972671492197\" opacity=\"0.8\" /><polyline fill=\"none\" stroke=\"#66cc99\" stroke-width=\"0.002341826339443429\" points=\"72.82539218938977,19.013598540111825 72.82539156041315,19.010425892162342\" opacity=\"0.8\" /><polyline fill=\"none\" stroke=\"#66cc99\" stroke-width=\"0.002341826339443429\" points=\"72.82539156041315,19.010425892162342 72.82539066491289,19.00590886088407\" opacity=\"0.8\" /><polyline fill=\"none\" stroke=\"#66cc99\" stroke-width=\"0.002341826339443429\" points=\"72.82539066491289,19.00590886088407 72.8253901301197,19.003211287614203\" opacity=\"0.8\" /><polyline fill=\"none\" stroke=\"#66cc99\" stroke-width=\"0.002341826339443429\" points=\"72.82538811879996,18.99306590358794 72.82538797840947,18.99235775382888\" opacity=\"0.8\" /><polyline fill=\"none\" stroke=\"#66cc99\" stroke-width=\"0.002341826339443429\" points=\"72.82538797840947,18.99235775382888 72.82538708290745,18.987840713738503\" opacity=\"0.8\" /><polyline fill=\"none\" stroke=\"#66cc99\" stroke-width=\"0.002341826339443429\" points=\"72.82538708290745,18.987840713738503 72.8253870191542,18.9875191332493\" opacity=\"0.8\" /><polyline fill=\"none\" stroke=\"#66cc99\" stroke-width=\"0.002341826339443429\" points=\"72.82538504574626,18.977564981635126 72.8253843963988,18.974289580257654\" opacity=\"0.8\" /><polyline fill=\"none\" stroke=\"#66cc99\" stroke-width=\"0.002341826339443429\" points=\"72.8253843963988,18.974289580257654 72.82538350089504,18.96977253136227\" opacity=\"0.8\" /><polyline fill=\"none\" stroke=\"#66cc99\" stroke-width=\"0.002341826339443429\" points=\"72.82538350089504,18.96977253136227 72.82538260539086,18.965255480266748\" opacity=\"0.8\" /><polyline fill=\"none\" stroke=\"#66cc99\" stroke-width=\"0.002341826339443429\" points=\"72.82538260539086,18.965255480266748 72.82538195612437,18.961980487391045\" opacity=\"0.8\" /><polyline fill=\"none\" stroke=\"#66cc99\" stroke-width=\"0.002341826339443429\" points=\"72.82537378616932,18.920770066656566 72.82537365125107,18.92008951974533\" opacity=\"0.8\" /><polyline fill=\"none\" stroke=\"#66cc99\" stroke-width=\"0.002341826339443429\" points=\"72.83014465093599,19.028498606155594 72.83014464972624,19.02849326676563\" opacity=\"0.8\" /><polyline fill=\"none\" stroke=\"#66cc99\" stroke-width=\"0.002341826339443429\" points=\"72.83014464972624,19.02849326676563 72.83014362629936,19.023976244325812\" opacity=\"0.8\" /><polyline fill=\"none\" stroke=\"#66cc99\" stroke-width=\"0.002341826339443429\" points=\"72.83014362629936,19.023976244325812 72.83014331664465,19.022609544545542\" opacity=\"0.8\" /><polyline fill=\"none\" stroke=\"#66cc99\" stroke-width=\"0.002341826339443429\" points=\"72.8301412750112,19.013598540111825 72.83014055601575,19.01042516377535\" opacity=\"0.8\" /><polyline fill=\"none\" stroke=\"#66cc99\" stroke-width=\"0.002341826339443429\" points=\"72.83014055601575,19.01042516377535 72.83013953258688,19.005908132516343\" opacity=\"0.8\" /><polyline fill=\"none\" stroke=\"#66cc99\" stroke-width=\"0.002341826339443429\" points=\"72.83013953258688,19.005908132516343 72.8301389215597,19.003211287614203\" opacity=\"0.8\" /><polyline fill=\"none\" stroke=\"#66cc99\" stroke-width=\"0.002341826339443429\" points=\"72.83013775255895,18.99805175674003 72.83013748572765,18.996874063387697\" opacity=\"0.8\" /><polyline fill=\"none\" stroke=\"#66cc99\" stroke-width=\"0.002341826339443429\" points=\"72.83013748572765,18.996874063387697 72.83013646229728,18.992357025518952\" opacity=\"0.8\" /><polyline fill=\"none\" stroke=\"#66cc99\" stroke-width=\"0.002341826339443429\" points=\"72.83013646229728,18.992357025518952 72.8301354388664,18.98783998544784\" opacity=\"0.8\" /><polyline fill=\"none\" stroke=\"#66cc99\" stroke-width=\"0.002341826339443429\" points=\"72.8301354388664,18.98783998544784 72.83013461349526,18.984197106724558\" opacity=\"0.8\" /><polyline fill=\"none\" stroke=\"#66cc99\" stroke-width=\"0.002341826339443429\" points=\"72.8301331108472,18.977564981635126 72.83013236857082,18.974288852024788\" opacity=\"0.8\" /><polyline fill=\"none\" stroke=\"#66cc99\" stroke-width=\"0.002341826339443429\" points=\"72.83013236857082,18.974288852024788 72.83013134513796,18.969771803148674\" opacity=\"0.8\" /><polyline fill=\"none\" stroke=\"#66cc99\" stroke-width=\"0.002341826339443429\" points=\"72.83013134513796,18.969771803148674 72.8301303217046,18.96525475207242\" opacity=\"0.8\" /><polyline fill=\"none\" stroke=\"#66cc99\" stroke-width=\"0.002341826339443429\" points=\"72.8301303217046,18.96525475207242 72.83012957985076,18.961980487391045\" opacity=\"0.8\" /><polyline fill=\"none\" stroke=\"#66cc99\" stroke-width=\"0.002341826339443429\" points=\"72.83012074482058,18.922985976972374 72.83012008855324,18.92008945907852\" opacity=\"0.8\" /><polyline fill=\"none\" stroke=\"#66cc99\" stroke-width=\"0.002341826339443429\" points=\"72.8348941585342,19.02849854511526 72.8348941570031,19.028492538301577\" opacity=\"0.8\" /><polyline fill=\"none\" stroke=\"#66cc99\" stroke-width=\"0.002341826339443429\" points=\"72.8348941570031,19.028492538301577 72.83489326197869,19.024981158616903\" opacity=\"0.8\" /><polyline fill=\"none\" stroke=\"#66cc99\" stroke-width=\"0.002341826339443429\" points=\"72.83488717518078,19.001101297690546 72.83488609750474,18.996873335058506\" opacity=\"0.8\" /><polyline fill=\"none\" stroke=\"#66cc99\" stroke-width=\"0.002341826339443429\" points=\"72.83488609750474,18.996873335058506 72.83488494614558,18.992356297209028\" opacity=\"0.8\" /><polyline fill=\"none\" stroke=\"#66cc99\" stroke-width=\"0.002341826339443429\" points=\"72.83488494614558,18.992356297209028 72.83488379478587,18.987839257157184\" opacity=\"0.8\" /><polyline fill=\"none\" stroke=\"#66cc99\" stroke-width=\"0.002341826339443429\" points=\"72.83488379478587,18.987839257157184 72.8348836295202,18.987190883217355\" opacity=\"0.8\" /><polyline fill=\"none\" stroke=\"#66cc99\" stroke-width=\"0.002341826339443429\" points=\"72.83486969883214,18.93253769794117 72.83486882705851,18.929117536270265\" opacity=\"0.8\" /><polyline fill=\"none\" stroke=\"#66cc99\" stroke-width=\"0.002341826339443429\" points=\"72.83486882705851,18.929117536270265 72.83486767569094,18.924600465431958\" opacity=\"0.8\" /><polyline fill=\"none\" stroke=\"#66cc99\" stroke-width=\"0.002341826339443429\" points=\"72.83486767569094,18.924600465431958 72.83486652585371,18.920089398411704\" opacity=\"0.8\" /><polyline fill=\"none\" stroke=\"#66cc99\" stroke-width=\"0.002341826339443429\" points=\"72.83964366613067,19.028498484074927 72.83964366424043,19.028491809837536\" opacity=\"0.8\" /><polyline fill=\"none\" stroke=\"#66cc99\" stroke-width=\"0.002341826339443429\" points=\"72.83964366424043,19.028491809837536 72.83964238495686,19.02397478743625\" opacity=\"0.8\" /><polyline fill=\"none\" stroke=\"#66cc99\" stroke-width=\"0.002341826339443429\" points=\"72.83964238495686,19.02397478743625 72.83964148943171,19.020812777694083\" opacity=\"0.8\" /><polyline fill=\"none\" stroke=\"#66cc99\" stroke-width=\"0.002341826339443429\" points=\"72.8396357382756,19.000506020489905 72.83963470924229,18.996872606729326\" opacity=\"0.8\" /><polyline fill=\"none\" stroke=\"#66cc99\" stroke-width=\"0.002341826339443429\" points=\"72.83963470924229,18.996872606729326 72.83963402195168,18.99444585230735\" opacity=\"0.8\" /><polyline fill=\"none\" stroke=\"#66cc99\" stroke-width=\"0.002341826339443429\" points=\"72.83962095453177,18.948306099137984 72.8396206370406,18.947185069540325\" opacity=\"0.8\" /><polyline fill=\"none\" stroke=\"#66cc99\" stroke-width=\"0.002341826339443429\" points=\"72.8396206370406,18.947185069540325 72.8396193577458,18.94266800750854\" opacity=\"0.8\" /><polyline fill=\"none\" stroke=\"#66cc99\" stroke-width=\"0.002341826339443429\" points=\"72.8396193577458,18.94266800750854 72.83961807845039,18.93815094327928\" opacity=\"0.8\" /><polyline fill=\"none\" stroke=\"#66cc99\" stroke-width=\"0.002341826339443429\" points=\"72.83961807845039,18.93815094327928 72.83961679915434,18.93363387685298\" opacity=\"0.8\" /><polyline fill=\"none\" stroke=\"#66cc99\" stroke-width=\"0.002341826339443429\" points=\"72.83961679915434,18.93363387685298 72.83961551985767,18.929116808230088\" opacity=\"0.8\" /><polyline fill=\"none\" stroke=\"#66cc99\" stroke-width=\"0.002341826339443429\" points=\"72.83961551985767,18.929116808230088 72.83961424056038,18.92459973741105\" opacity=\"0.8\" /><polyline fill=\"none\" stroke=\"#66cc99\" stroke-width=\"0.002341826339443429\" points=\"72.83961424056038,18.92459973741105 72.83961296315246,18.9200893377449\" opacity=\"0.8\" /><polyline fill=\"none\" stroke=\"#66cc99\" stroke-width=\"0.002341826339443429\" points=\"72.84439317372541,19.028498423034602 72.84439317143823,19.0284910813735\" opacity=\"0.8\" /><polyline fill=\"none\" stroke=\"#66cc99\" stroke-width=\"0.002341826339443429\" points=\"72.84439317143823,19.0284910813735 72.84439176422629,19.023974058991477\" opacity=\"0.8\" /><polyline fill=\"none\" stroke=\"#66cc99\" stroke-width=\"0.002341826339443429\" points=\"72.84439176422629,19.023974058991477 72.84439035701368,19.01945703440399\" opacity=\"0.8\" /><polyline fill=\"none\" stroke=\"#66cc99\" stroke-width=\"0.002341826339443429\" points=\"72.84439035701368,19.01945703440399 72.84438948084232,19.01664460398852\" opacity=\"0.8\" /><polyline fill=\"none\" stroke=\"#66cc99\" stroke-width=\"0.002341826339443429\" points=\"72.84438262568833,18.994640182710263 72.84438191372358,18.9923548405892\" opacity=\"0.8\" /><polyline fill=\"none\" stroke=\"#66cc99\" stroke-width=\"0.002341826339443429\" points=\"72.84438191372358,18.9923548405892 72.84438050650616,18.98783780057589\" opacity=\"0.8\" /><polyline fill=\"none\" stroke=\"#66cc99\" stroke-width=\"0.002341826339443429\" points=\"72.84438050650616,18.98783780057589 72.84437909928805,18.983320758360666\" opacity=\"0.8\" /><polyline fill=\"none\" stroke=\"#66cc99\" stroke-width=\"0.002341826339443429\" points=\"72.84437909928805,18.983320758360666 72.84437769206926,18.978803713943968\" opacity=\"0.8\" /><polyline fill=\"none\" stroke=\"#66cc99\" stroke-width=\"0.002341826339443429\" points=\"72.84437769206926,18.978803713943968 72.8443766390992,18.975423775712542\" opacity=\"0.8\" /><polyline fill=\"none\" stroke=\"#66cc99\" stroke-width=\"0.002341826339443429\" points=\"72.84437270466518,18.96279460013415 72.84437206318724,18.96073551427131\" opacity=\"0.8\" /><polyline fill=\"none\" stroke=\"#66cc99\" stroke-width=\"0.002341826339443429\" points=\"72.84437206318724,18.96073551427131 72.84437065596502,18.9562184588539\" opacity=\"0.8\" /><polyline fill=\"none\" stroke=\"#66cc99\" stroke-width=\"0.002341826339443429\" points=\"72.84437065596502,18.9562184588539 72.84436924874211,18.951701401237674\" opacity=\"0.8\" /><polyline fill=\"none\" stroke=\"#66cc99\" stroke-width=\"0.002341826339443429\" points=\"72.84436924874211,18.951701401237674 72.84436784151852,18.947184341423085\" opacity=\"0.8\" /><polyline fill=\"none\" stroke=\"#66cc99\" stroke-width=\"0.002341826339443429\" points=\"72.84436784151852,18.947184341423085 72.84436643429424,18.942667279410568\" opacity=\"0.8\" /><polyline fill=\"none\" stroke=\"#66cc99\" stroke-width=\"0.002341826339443429\" points=\"72.84436643429424,18.942667279410568 72.84436502706929,18.938150215200572\" opacity=\"0.8\" /><polyline fill=\"none\" stroke=\"#66cc99\" stroke-width=\"0.002341826339443429\" points=\"72.84436502706929,18.938150215200572 72.84436361984365,18.933633148793543\" opacity=\"0.8\" /><polyline fill=\"none\" stroke=\"#66cc99\" stroke-width=\"0.002341826339443429\" points=\"72.84436361984365,18.933633148793543 72.84436221261733,18.929116080189917\" opacity=\"0.8\" /><polyline fill=\"none\" stroke=\"#66cc99\" stroke-width=\"0.002341826339443429\" points=\"72.84436221261733,18.929116080189917 72.84436080539032,18.924599009390146\" opacity=\"0.8\" /><polyline fill=\"none\" stroke=\"#66cc99\" stroke-width=\"0.002341826339443429\" points=\"72.84436080539032,18.924599009390146 72.8443594004495,18.920089277078095\" opacity=\"0.8\" /><polyline fill=\"none\" stroke=\"#66cc99\" stroke-width=\"0.002341826339443429\" points=\"72.84914268131841,19.028498361994277 72.84910583774483,18.920089216411288\" opacity=\"0.8\" /><polyline fill=\"none\" stroke=\"#66cc99\" stroke-width=\"0.002341826339443429\" points=\"72.79214859008789,18.920089944412993 72.84910583589892,18.920081208392904\" opacity=\"0.8\" /><polyline fill=\"none\" stroke=\"#66cc99\" stroke-width=\"0.002341826339443429\" points=\"72.79214859008789,18.924607017620414 72.79689515531294,18.92460628959945\" opacity=\"0.8\" /><polyline fill=\"none\" stroke=\"#66cc99\" stroke-width=\"0.002341826339443429\" points=\"72.79689515531294,18.92460628959945 72.80164172049848,18.924605561578492\" opacity=\"0.8\" /><polyline fill=\"none\" stroke=\"#66cc99\" stroke-width=\"0.002341826339443429\" points=\"72.80164172049848,18.924605561578492 72.80638828564452,18.92460483355754\" opacity=\"0.8\" /><polyline fill=\"none\" stroke=\"#66cc99\" stroke-width=\"0.002341826339443429\" points=\"72.80638828564452,18.92460483355754 72.81113485075105,18.924604105536595\" opacity=\"0.8\" /><polyline fill=\"none\" stroke=\"#66cc99\" stroke-width=\"0.002341826339443429\" points=\"72.81113485075105,18.924604105536595 72.81588141581805,18.924603377515655\" opacity=\"0.8\" /><polyline fill=\"none\" stroke=\"#66cc99\" stroke-width=\"0.002341826339443429\" points=\"72.81588141581805,18.924603377515655 72.82062798084554,18.924602649494723\" opacity=\"0.8\" /><polyline fill=\"none\" stroke=\"#66cc99\" stroke-width=\"0.002341826339443429\" points=\"72.82062798084554,18.924602649494723 72.82115477791898,18.924602568695388\" opacity=\"0.8\" /><polyline fill=\"none\" stroke=\"#66cc99\" stroke-width=\"0.002341826339443429\" points=\"72.83243754466037,18.924600838161762 72.83486767569094,18.924600465431958\" opacity=\"0.8\" /><polyline fill=\"none\" stroke=\"#66cc99\" stroke-width=\"0.002341826339443429\" points=\"72.83486767569094,18.924600465431958 72.83961424056038,18.92459973741105\" opacity=\"0.8\" /><polyline fill=\"none\" stroke=\"#66cc99\" stroke-width=\"0.002341826339443429\" points=\"72.83961424056038,18.92459973741105 72.84436080539032,18.924599009390146\" opacity=\"0.8\" /><polyline fill=\"none\" stroke=\"#66cc99\" stroke-width=\"0.002341826339443429\" points=\"72.84436080539032,18.924599009390146 72.84910583589892,18.924598281604574\" opacity=\"0.8\" /><polyline fill=\"none\" stroke=\"#66cc99\" stroke-width=\"0.002341826339443429\" points=\"72.79214859008789,18.929124088632136 72.79689528324268,18.929123360591905\" opacity=\"0.8\" /><polyline fill=\"none\" stroke=\"#66cc99\" stroke-width=\"0.002341826339443429\" points=\"72.79689528324268,18.929123360591905 72.80164197635794,18.929122632551678\" opacity=\"0.8\" /><polyline fill=\"none\" stroke=\"#66cc99\" stroke-width=\"0.002341826339443429\" points=\"72.80164197635794,18.929122632551678 72.80638866943372,18.929121904511458\" opacity=\"0.8\" /><polyline fill=\"none\" stroke=\"#66cc99\" stroke-width=\"0.002341826339443429\" points=\"72.80638866943372,18.929121904511458 72.81113536246997,18.929121176471245\" opacity=\"0.8\" /><polyline fill=\"none\" stroke=\"#66cc99\" stroke-width=\"0.002341826339443429\" points=\"72.81113536246997,18.929121176471245 72.81588205546672,18.929120448431036\" opacity=\"0.8\" /><polyline fill=\"none\" stroke=\"#66cc99\" stroke-width=\"0.002341826339443429\" points=\"72.81588205546672,18.929120448431036 72.82062874842393,18.929119720390837\" opacity=\"0.8\" /><polyline fill=\"none\" stroke=\"#66cc99\" stroke-width=\"0.002341826339443429\" points=\"72.82062874842393,18.929119720390837 72.8217814724373,18.929119543587866\" opacity=\"0.8\" /><polyline fill=\"none\" stroke=\"#66cc99\" stroke-width=\"0.002341826339443429\" points=\"72.83383920042588,18.929117694192758 72.83486882705851,18.929117536270265\" opacity=\"0.8\" /><polyline fill=\"none\" stroke=\"#66cc99\" stroke-width=\"0.002341826339443429\" points=\"72.83486882705851,18.929117536270265 72.83961551985767,18.929116808230088\" opacity=\"0.8\" /><polyline fill=\"none\" stroke=\"#66cc99\" stroke-width=\"0.002341826339443429\" points=\"72.83961551985767,18.929116808230088 72.84436221261733,18.929116080189917\" opacity=\"0.8\" /><polyline fill=\"none\" stroke=\"#66cc99\" stroke-width=\"0.002341826339443429\" points=\"72.84436221261733,18.929116080189917 72.84910583589892,18.92911535262054\" opacity=\"0.8\" /><polyline fill=\"none\" stroke=\"#66cc99\" stroke-width=\"0.002341826339443429\" points=\"72.79214859008789,18.933641157447703 72.79689541117234,18.933640429388202\" opacity=\"0.8\" /><polyline fill=\"none\" stroke=\"#66cc99\" stroke-width=\"0.002341826339443429\" points=\"72.79689541117234,18.933640429388202 72.80164223221729,18.93363970132871\" opacity=\"0.8\" /><polyline fill=\"none\" stroke=\"#66cc99\" stroke-width=\"0.002341826339443429\" points=\"72.80164223221729,18.93363970132871 72.80638905322273,18.933638973269222\" opacity=\"0.8\" /><polyline fill=\"none\" stroke=\"#66cc99\" stroke-width=\"0.002341826339443429\" points=\"72.80638905322273,18.933638973269222 72.81113587418865,18.933638245209742\" opacity=\"0.8\" /><polyline fill=\"none\" stroke=\"#66cc99\" stroke-width=\"0.002341826339443429\" points=\"72.81113587418865,18.933638245209742 72.81588269511506,18.933637517150267\" opacity=\"0.8\" /><polyline fill=\"none\" stroke=\"#66cc99\" stroke-width=\"0.002341826339443429\" points=\"72.81588269511506,18.933637517150267 72.82062951600194,18.933636789090798\" opacity=\"0.8\" /><polyline fill=\"none\" stroke=\"#66cc99\" stroke-width=\"0.002341826339443429\" points=\"72.82062951600194,18.933636789090798 72.82379201440047,18.933636304032067\" opacity=\"0.8\" /><polyline fill=\"none\" stroke=\"#66cc99\" stroke-width=\"0.002341826339443429\" points=\"72.83520019808758,18.933634554263882 72.83961679915434,18.93363387685298\" opacity=\"0.8\" /><polyline fill=\"none\" stroke=\"#66cc99\" stroke-width=\"0.002341826339443429\" points=\"72.83961679915434,18.93363387685298 72.84436361984365,18.933633148793543\" opacity=\"0.8\" /><polyline fill=\"none\" stroke=\"#66cc99\" stroke-width=\"0.002341826339443429\" points=\"72.84436361984365,18.933633148793543 72.84910583589892,18.933632421440354\" opacity=\"0.8\" /><polyline fill=\"none\" stroke=\"#66cc99\" stroke-width=\"0.002341826339443429\" points=\"72.79214859008789,18.938158224066676 72.79689553910195,18.93815749598791\" opacity=\"0.8\" /><polyline fill=\"none\" stroke=\"#66cc99\" stroke-width=\"0.002341826339443429\" points=\"72.79689553910195,18.93815749598791 72.80164248807651,18.93815676790915\" opacity=\"0.8\" /><polyline fill=\"none\" stroke=\"#66cc99\" stroke-width=\"0.002341826339443429\" points=\"72.80164248807651,18.93815676790915 72.80638943701156,18.938156039830393\" opacity=\"0.8\" /><polyline fill=\"none\" stroke=\"#66cc99\" stroke-width=\"0.002341826339443429\" points=\"72.80638943701156,18.938156039830393 72.81113638590708,18.938155311751643\" opacity=\"0.8\" /><polyline fill=\"none\" stroke=\"#66cc99\" stroke-width=\"0.002341826339443429\" points=\"72.81113638590708,18.938155311751643 72.8158833347631,18.9381545836729\" opacity=\"0.8\" /><polyline fill=\"none\" stroke=\"#66cc99\" stroke-width=\"0.002341826339443429\" points=\"72.8158833347631,18.9381545836729 72.82063028357959,18.938153855594166\" opacity=\"0.8\" /><polyline fill=\"none\" stroke=\"#66cc99\" stroke-width=\"0.002341826339443429\" points=\"72.82063028357959,18.938153855594166 72.82378080760351,18.93815337237228\" opacity=\"0.8\" /><polyline fill=\"none\" stroke=\"#66cc99\" stroke-width=\"0.002341826339443429\" points=\"72.83656119508748,18.938151412138723 72.83961807845039,18.93815094327928\" opacity=\"0.8\" /><polyline fill=\"none\" stroke=\"#66cc99\" stroke-width=\"0.002341826339443429\" points=\"72.83961807845039,18.93815094327928 72.84436502706929,18.938150215200572\" opacity=\"0.8\" /><polyline fill=\"none\" stroke=\"#66cc99\" stroke-width=\"0.002341826339443429\" points=\"72.84436502706929,18.938150215200572 72.84910583589892,18.938149488063576\" opacity=\"0.8\" /><polyline fill=\"none\" stroke=\"#66cc99\" stroke-width=\"0.002341826339443429\" points=\"72.79214859008789,18.942675288488623 72.7928352355957,18.94267518317218\" opacity=\"0.8\" /><polyline fill=\"none\" stroke=\"#66cc99\" stroke-width=\"0.002341826339443429\" points=\"72.79529947633144,18.942674805211414 72.7968956670315,18.942674560390586\" opacity=\"0.8\" /><polyline fill=\"none\" stroke=\"#66cc99\" stroke-width=\"0.002341826339443429\" points=\"72.7968956670315,18.942674560390586 72.8016427439356,18.94267383229256\" opacity=\"0.8\" /><polyline fill=\"none\" stroke=\"#66cc99\" stroke-width=\"0.002341826339443429\" points=\"72.8016427439356,18.94267383229256 72.8063898208002,18.942673104194533\" opacity=\"0.8\" /><polyline fill=\"none\" stroke=\"#66cc99\" stroke-width=\"0.002341826339443429\" points=\"72.8063898208002,18.942673104194533 72.81113689762526,18.942672376096517\" opacity=\"0.8\" /><polyline fill=\"none\" stroke=\"#66cc99\" stroke-width=\"0.002341826339443429\" points=\"72.81113689762526,18.942672376096517 72.81588397441082,18.942671647998505\" opacity=\"0.8\" /><polyline fill=\"none\" stroke=\"#66cc99\" stroke-width=\"0.002341826339443429\" points=\"72.81588397441082,18.942671647998505 72.82063105115685,18.9426709199005\" opacity=\"0.8\" /><polyline fill=\"none\" stroke=\"#66cc99\" stroke-width=\"0.002341826339443429\" points=\"72.82063105115685,18.9426709199005 72.82287291776875,18.942670576047075\" opacity=\"0.8\" /><polyline fill=\"none\" stroke=\"#66cc99\" stroke-width=\"0.002341826339443429\" points=\"72.83792219142549,18.942668267816828 72.8396193577458,18.94266800750854\" opacity=\"0.8\" /><polyline fill=\"none\" stroke=\"#66cc99\" stroke-width=\"0.002341826339443429\" points=\"72.8396193577458,18.94266800750854 72.84436643429424,18.942667279410568\" opacity=\"0.8\" /><polyline fill=\"none\" stroke=\"#66cc99\" stroke-width=\"0.002341826339443429\" points=\"72.84436643429424,18.942667279410568 72.84910583589892,18.94266655248976\" opacity=\"0.8\" /><polyline fill=\"none\" stroke=\"#66cc99\" stroke-width=\"0.002341826339443429\" points=\"72.79214859008789,18.94719235071308 72.79240756236302,18.947192310992403\" opacity=\"0.8\" /><polyline fill=\"none\" stroke=\"#66cc99\" stroke-width=\"0.002341826339443429\" points=\"72.7976340880337,18.947191509357783 72.80164299979457,18.94719089447848\" opacity=\"0.8\" /><polyline fill=\"none\" stroke=\"#66cc99\" stroke-width=\"0.002341826339443429\" points=\"72.80164299979457,18.94719089447848 72.80639020458865,18.947190166361192\" opacity=\"0.8\" /><polyline fill=\"none\" stroke=\"#66cc99\" stroke-width=\"0.002341826339443429\" points=\"72.80639020458865,18.947190166361192 72.81113740934319,18.947189438243907\" opacity=\"0.8\" /><polyline fill=\"none\" stroke=\"#66cc99\" stroke-width=\"0.002341826339443429\" points=\"72.81113740934319,18.947189438243907 72.81588461405823,18.94718871012663\" opacity=\"0.8\" /><polyline fill=\"none\" stroke=\"#66cc99\" stroke-width=\"0.002341826339443429\" points=\"72.81588461405823,18.94718871012663 72.82063181873374,18.947187982009357\" opacity=\"0.8\" /><polyline fill=\"none\" stroke=\"#66cc99\" stroke-width=\"0.002341826339443429\" points=\"72.82063181873374,18.947187982009357 72.8207632227994,18.94718796185485\" opacity=\"0.8\" /><polyline fill=\"none\" stroke=\"#66cc99\" stroke-width=\"0.002341826339443429\" points=\"72.83928318710144,18.947185121297757 72.8396206370406,18.947185069540325\" opacity=\"0.8\" /><polyline fill=\"none\" stroke=\"#66cc99\" stroke-width=\"0.002341826339443429\" points=\"72.8396206370406,18.947185069540325 72.84436784151852,18.947184341423085\" opacity=\"0.8\" /><polyline fill=\"none\" stroke=\"#66cc99\" stroke-width=\"0.002341826339443429\" points=\"72.84436784151852,18.947184341423085 72.84910583589892,18.94718361471847\" opacity=\"0.8\" /><polyline fill=\"none\" stroke=\"#66cc99\" stroke-width=\"0.002341826339443429\" points=\"72.79214859008789,18.95170941073961 72.79373840625856,18.951709166896734\" opacity=\"0.8\" /><polyline fill=\"none\" stroke=\"#66cc99\" stroke-width=\"0.002341826339443429\" points=\"72.8037608049991,18.95170762968092 72.80639058837691,18.95170722632992\" opacity=\"0.8\" /><polyline fill=\"none\" stroke=\"#66cc99\" stroke-width=\"0.002341826339443429\" points=\"72.80639058837691,18.95170722632992 72.81113792106088,18.951706498193367\" opacity=\"0.8\" /><polyline fill=\"none\" stroke=\"#66cc99\" stroke-width=\"0.002341826339443429\" points=\"72.81113792106088,18.951706498193367 72.81588525370533,18.951705770056822\" opacity=\"0.8\" /><polyline fill=\"none\" stroke=\"#66cc99\" stroke-width=\"0.002341826339443429\" points=\"72.81588525370533,18.951705770056822 72.81589377975664,18.951705768749115\" opacity=\"0.8\" /><polyline fill=\"none\" stroke=\"#66cc99\" stroke-width=\"0.002341826339443429\" points=\"72.84064418211524,18.95170197258107 72.84436924874211,18.951701401237674\" opacity=\"0.8\" /><polyline fill=\"none\" stroke=\"#66cc99\" stroke-width=\"0.002341826339443429\" points=\"72.84436924874211,18.951701401237674 72.84910583589892,18.95170067474925\" opacity=\"0.8\" /><polyline fill=\"none\" stroke=\"#66cc99\" stroke-width=\"0.002341826339443429\" points=\"72.79214859008789,18.956226468567777 72.79689605081977,18.95622574041194\" opacity=\"0.8\" /><polyline fill=\"none\" stroke=\"#66cc99\" stroke-width=\"0.002341826339443429\" points=\"72.79689605081977,18.95622574041194 72.79721152009378,18.956225692025907\" opacity=\"0.8\" /><polyline fill=\"none\" stroke=\"#66cc99\" stroke-width=\"0.002341826339443429\" points=\"72.84200517646671,18.95621882166632 72.84437065596502,18.9562184588539\" opacity=\"0.8\" /><polyline fill=\"none\" stroke=\"#66cc99\" stroke-width=\"0.002341826339443429\" points=\"72.84437065596502,18.9562184588539 72.84910583589892,18.956217732581667\" opacity=\"0.8\" /><polyline fill=\"none\" stroke=\"#66cc99\" stroke-width=\"0.002341826339443429\" points=\"72.79214859008789,18.960743524197127 72.79689617874907,18.96074279602202\" opacity=\"0.8\" /><polyline fill=\"none\" stroke=\"#66cc99\" stroke-width=\"0.002341826339443429\" points=\"72.79689617874907,18.96074279602202 72.80068463223874,18.96074221495704\" opacity=\"0.8\" /><polyline fill=\"none\" stroke=\"#66cc99\" stroke-width=\"0.002341826339443429\" points=\"72.84361244235527,18.960735630780345 72.84437206318724,18.96073551427131\" opacity=\"0.8\" /><polyline fill=\"none\" stroke=\"#66cc99\" stroke-width=\"0.002341826339443429\" points=\"72.84437206318724,18.96073551427131 72.84910583589892,18.960734788215266\" opacity=\"0.8\" /><polyline fill=\"none\" stroke=\"#66cc99\" stroke-width=\"0.002341826339443429\" points=\"72.79214859008789,18.96526057762722 72.7968963066783,18.965259849432847\" opacity=\"0.8\" /><polyline fill=\"none\" stroke=\"#66cc99\" stroke-width=\"0.002341826339443429\" points=\"72.7968963066783,18.965259849432847 72.8016440232292,18.965259121238482\" opacity=\"0.8\" /><polyline fill=\"none\" stroke=\"#66cc99\" stroke-width=\"0.002341826339443429\" points=\"72.8016440232292,18.965259121238482 72.80313491821289,18.965258892568276\" opacity=\"0.8\" /><polyline fill=\"none\" stroke=\"#66cc99\" stroke-width=\"0.002341826339443429\" points=\"72.81875610351562,18.965256496625088 72.82063488903759,18.96525620846108\" opacity=\"0.8\" /><polyline fill=\"none\" stroke=\"#66cc99\" stroke-width=\"0.002341826339443429\" points=\"72.82063488903759,18.96525620846108 72.82538260539086,18.965255480266748\" opacity=\"0.8\" /><polyline fill=\"none\" stroke=\"#66cc99\" stroke-width=\"0.002341826339443429\" points=\"72.82538260539086,18.965255480266748 72.8301303217046,18.96525475207242\" opacity=\"0.8\" /><polyline fill=\"none\" stroke=\"#66cc99\" stroke-width=\"0.002341826339443429\" points=\"72.8301303217046,18.96525475207242 72.83437728881836,18.965254100681904\" opacity=\"0.8\" /><polyline fill=\"none\" stroke=\"#66cc99\" stroke-width=\"0.002341826339443429\" points=\"72.84528024328364,18.96525242841063 72.84910583589892,18.965251841649614\" opacity=\"0.8\" /><polyline fill=\"none\" stroke=\"#66cc99\" stroke-width=\"0.002341826339443429\" points=\"72.79214859008789,18.969777628857614 72.79689643460748,18.969776900643975\" opacity=\"0.8\" /><polyline fill=\"none\" stroke=\"#66cc99\" stroke-width=\"0.002341826339443429\" points=\"72.79689643460748,18.969776900643975 72.80164427908755,18.969776172430343\" opacity=\"0.8\" /><polyline fill=\"none\" stroke=\"#66cc99\" stroke-width=\"0.002341826339443429\" points=\"72.80164427908755,18.969776172430343 72.80313491821289,18.96977594379949\" opacity=\"0.8\" /><polyline fill=\"none\" stroke=\"#66cc99\" stroke-width=\"0.002341826339443429\" points=\"72.81875610351562,18.96977354785747 72.82063565661262,18.969773259575874\" opacity=\"0.8\" /><polyline fill=\"none\" stroke=\"#66cc99\" stroke-width=\"0.002341826339443429\" points=\"72.82063565661262,18.969773259575874 72.82538350089504,18.96977253136227\" opacity=\"0.8\" /><polyline fill=\"none\" stroke=\"#66cc99\" stroke-width=\"0.002341826339443429\" points=\"72.82538350089504,18.96977253136227 72.83013134513796,18.969771803148674\" opacity=\"0.8\" /><polyline fill=\"none\" stroke=\"#66cc99\" stroke-width=\"0.002341826339443429\" points=\"72.83013134513796,18.969771803148674 72.83437728881836,18.969771151915452\" opacity=\"0.8\" /><polyline fill=\"none\" stroke=\"#66cc99\" stroke-width=\"0.002341826339443429\" points=\"72.84589901607231,18.969769384739024 72.84910583589892,18.96976889288426\" opacity=\"0.8\" /><polyline fill=\"none\" stroke=\"#66cc99\" stroke-width=\"0.002341826339443429\" points=\"72.79214859008789,18.974294677887865 72.79689656253659,18.97429394965496\" opacity=\"0.8\" /><polyline fill=\"none\" stroke=\"#66cc99\" stroke-width=\"0.002341826339443429\" points=\"72.79689656253659,18.97429394965496 72.80164453494578,18.97429322142206\" opacity=\"0.8\" /><polyline fill=\"none\" stroke=\"#66cc99\" stroke-width=\"0.002341826339443429\" points=\"72.80164453494578,18.97429322142206 72.80490937553967,18.974292720668448\" opacity=\"0.8\" /><polyline fill=\"none\" stroke=\"#66cc99\" stroke-width=\"0.002341826339443429\" points=\"72.81875610351562,18.97429059688971 72.82063642418727,18.974290308490524\" opacity=\"0.8\" /><polyline fill=\"none\" stroke=\"#66cc99\" stroke-width=\"0.002341826339443429\" points=\"72.82063642418727,18.974290308490524 72.8253843963988,18.974289580257654\" opacity=\"0.8\" /><polyline fill=\"none\" stroke=\"#66cc99\" stroke-width=\"0.002341826339443429\" points=\"72.8253843963988,18.974289580257654 72.83013236857082,18.974288852024788\" opacity=\"0.8\" /><polyline fill=\"none\" stroke=\"#66cc99\" stroke-width=\"0.002341826339443429\" points=\"72.83013236857082,18.974288852024788 72.83437728881836,18.974288200948855\" opacity=\"0.8\" /><polyline fill=\"none\" stroke=\"#66cc99\" stroke-width=\"0.002341826339443429\" points=\"72.84469731296642,18.974286618087696 72.84910583589892,18.97428594191876\" opacity=\"0.8\" /><polyline fill=\"none\" stroke=\"#66cc99\" stroke-width=\"0.002341826339443429\" points=\"72.79214859008789,18.978811724717524 72.79689669046564,18.978810996465352\" opacity=\"0.8\" /><polyline fill=\"none\" stroke=\"#66cc99\" stroke-width=\"0.002341826339443429\" points=\"72.79689669046564,18.978810996465352 72.80164479080388,18.978810268213188\" opacity=\"0.8\" /><polyline fill=\"none\" stroke=\"#66cc99\" stroke-width=\"0.002341826339443429\" points=\"72.80164479080388,18.978810268213188 72.80639289110259,18.978809539961027\" opacity=\"0.8\" /><polyline fill=\"none\" stroke=\"#66cc99\" stroke-width=\"0.002341826339443429\" points=\"72.80639289110259,18.978809539961027 72.81081176418328,18.978808862204943\" opacity=\"0.8\" /><polyline fill=\"none\" stroke=\"#66cc99\" stroke-width=\"0.002341826339443429\" points=\"72.84342346886785,18.97880386030042 72.84437769206926,18.978803713943968\" opacity=\"0.8\" /><polyline fill=\"none\" stroke=\"#66cc99\" stroke-width=\"0.002341826339443429\" points=\"72.84437769206926,18.978803713943968 72.84910583589892,18.978802988752683\" opacity=\"0.8\" /><polyline fill=\"none\" stroke=\"#66cc99\" stroke-width=\"0.002341826339443429\" points=\"72.79214859008789,18.983328769346155 72.79689681839463,18.983328041074717\" opacity=\"0.8\" /><polyline fill=\"none\" stroke=\"#66cc99\" stroke-width=\"0.002341826339443429\" points=\"72.79689681839463,18.983328041074717 72.80164504666185,18.983327312803283\" opacity=\"0.8\" /><polyline fill=\"none\" stroke=\"#66cc99\" stroke-width=\"0.002341826339443429\" points=\"72.80164504666185,18.983327312803283 72.80639327488954,18.98332658453186\" opacity=\"0.8\" /><polyline fill=\"none\" stroke=\"#66cc99\" stroke-width=\"0.002341826339443429\" points=\"72.80639327488954,18.98332658453186 72.81114150307769,18.98332585626044\" opacity=\"0.8\" /><polyline fill=\"none\" stroke=\"#66cc99\" stroke-width=\"0.002341826339443429\" points=\"72.81114150307769,18.98332585626044 72.81435979902899,18.983325362646216\" opacity=\"0.8\" /><polyline fill=\"none\" stroke=\"#66cc99\" stroke-width=\"0.002341826339443429\" points=\"72.84214962539005,18.983321100311823 72.84437909928805,18.983320758360666\" opacity=\"0.8\" /><polyline fill=\"none\" stroke=\"#66cc99\" stroke-width=\"0.002341826339443429\" points=\"72.84437909928805,18.983320758360666 72.84910583589892,18.98332003338557\" opacity=\"0.8\" /><polyline fill=\"none\" stroke=\"#66cc99\" stroke-width=\"0.002341826339443429\" points=\"72.79214859008789,18.98784581177331 72.79689694632356,18.987845083482608\" opacity=\"0.8\" /><polyline fill=\"none\" stroke=\"#66cc99\" stroke-width=\"0.002341826339443429\" points=\"72.79689694632356,18.987845083482608 72.8016453025197,18.987844355191907\" opacity=\"0.8\" /><polyline fill=\"none\" stroke=\"#66cc99\" stroke-width=\"0.002341826339443429\" points=\"72.8016453025197,18.987844355191907 72.80639365867631,18.987843626901213\" opacity=\"0.8\" /><polyline fill=\"none\" stroke=\"#66cc99\" stroke-width=\"0.002341826339443429\" points=\"72.80639365867631,18.987843626901213 72.81114201479339,18.987842898610527\" opacity=\"0.8\" /><polyline fill=\"none\" stroke=\"#66cc99\" stroke-width=\"0.002341826339443429\" points=\"72.81114201479339,18.987842898610527 72.81143628940445,18.987842853475442\" opacity=\"0.8\" /><polyline fill=\"none\" stroke=\"#66cc99\" stroke-width=\"0.002341826339443429\" points=\"72.82496630464352,18.987840778276393 72.82538708290745,18.987840713738503\" opacity=\"0.8\" /><polyline fill=\"none\" stroke=\"#66cc99\" stroke-width=\"0.002341826339443429\" points=\"72.82538708290745,18.987840713738503 72.8301354388664,18.98783998544784\" opacity=\"0.8\" /><polyline fill=\"none\" stroke=\"#66cc99\" stroke-width=\"0.002341826339443429\" points=\"72.8301354388664,18.98783998544784 72.83488379478587,18.987839257157184\" opacity=\"0.8\" /><polyline fill=\"none\" stroke=\"#66cc99\" stroke-width=\"0.002341826339443429\" points=\"72.83488379478587,18.987839257157184 72.83570380694906,18.987839131385822\" opacity=\"0.8\" /><polyline fill=\"none\" stroke=\"#66cc99\" stroke-width=\"0.002341826339443429\" points=\"72.84103527532365,18.987838313658873 72.84438050650616,18.98783780057589\" opacity=\"0.8\" /><polyline fill=\"none\" stroke=\"#66cc99\" stroke-width=\"0.002341826339443429\" points=\"72.84438050650616,18.98783780057589 72.84910583589892,18.987837075816984\" opacity=\"0.8\" /><polyline fill=\"none\" stroke=\"#66cc99\" stroke-width=\"0.002341826339443429\" points=\"72.79214859008789,18.992362851998553 72.79689707425241,18.992362123688583\" opacity=\"0.8\" /><polyline fill=\"none\" stroke=\"#66cc99\" stroke-width=\"0.002341826339443429\" points=\"72.79689707425241,18.992362123688583 72.80164555837743,18.992361395378616\" opacity=\"0.8\" /><polyline fill=\"none\" stroke=\"#66cc99\" stroke-width=\"0.002341826339443429\" points=\"72.80164555837743,18.992361395378616 72.8063940424629,18.992360667068656\" opacity=\"0.8\" /><polyline fill=\"none\" stroke=\"#66cc99\" stroke-width=\"0.002341826339443429\" points=\"72.8063940424629,18.992360667068656 72.81114252650883,18.992359938758703\" opacity=\"0.8\" /><polyline fill=\"none\" stroke=\"#66cc99\" stroke-width=\"0.002341826339443429\" points=\"72.81114252650883,18.992359938758703 72.81273906003855,18.992359693886602\" opacity=\"0.8\" /><polyline fill=\"none\" stroke=\"#66cc99\" stroke-width=\"0.002341826339443429\" points=\"72.82450494137976,18.99235788926677 72.82538797840947,18.99235775382888\" opacity=\"0.8\" /><polyline fill=\"none\" stroke=\"#66cc99\" stroke-width=\"0.002341826339443429\" points=\"72.82538797840947,18.99235775382888 72.83013646229728,18.992357025518952\" opacity=\"0.8\" /><polyline fill=\"none\" stroke=\"#66cc99\" stroke-width=\"0.002341826339443429\" points=\"72.83013646229728,18.992357025518952 72.83488494614558,18.992356297209028\" opacity=\"0.8\" /><polyline fill=\"none\" stroke=\"#66cc99\" stroke-width=\"0.002341826339443429\" points=\"72.83488494614558,18.992356297209028 72.83839066474589,18.99235575951116\" opacity=\"0.8\" /><polyline fill=\"none\" stroke=\"#66cc99\" stroke-width=\"0.002341826339443429\" points=\"72.84227502783256,18.9923551637378 72.84438191372358,18.9923548405892\" opacity=\"0.8\" /><polyline fill=\"none\" stroke=\"#66cc99\" stroke-width=\"0.002341826339443429\" points=\"72.84438191372358,18.9923548405892 72.84910583589892,18.99235411604648\" opacity=\"0.8\" /><polyline fill=\"none\" stroke=\"#66cc99\" stroke-width=\"0.002341826339443429\" points=\"72.79214859008789,18.996879890021432 72.79689720218121,18.996879161692195\" opacity=\"0.8\" /><polyline fill=\"none\" stroke=\"#66cc99\" stroke-width=\"0.002341826339443429\" points=\"72.79689720218121,18.996879161692195 72.80164581423503,18.996878433362962\" opacity=\"0.8\" /><polyline fill=\"none\" stroke=\"#66cc99\" stroke-width=\"0.002341826339443429\" points=\"72.80164581423503,18.996878433362962 72.8063944262493,18.996877705033736\" opacity=\"0.8\" /><polyline fill=\"none\" stroke=\"#66cc99\" stroke-width=\"0.002341826339443429\" points=\"72.8063944262493,18.996877705033736 72.81114303822403,18.996876976704517\" opacity=\"0.8\" /><polyline fill=\"none\" stroke=\"#66cc99\" stroke-width=\"0.002341826339443429\" points=\"72.81114303822403,18.996876976704517 72.81222080063229,18.99687681140024\" opacity=\"0.8\" /><polyline fill=\"none\" stroke=\"#66cc99\" stroke-width=\"0.002341826339443429\" points=\"72.82982637915526,18.99687411110438 72.83013748572765,18.996874063387697\" opacity=\"0.8\" /><polyline fill=\"none\" stroke=\"#66cc99\" stroke-width=\"0.002341826339443429\" points=\"72.83013748572765,18.996874063387697 72.83488609750474,18.996873335058506\" opacity=\"0.8\" /><polyline fill=\"none\" stroke=\"#66cc99\" stroke-width=\"0.002341826339443429\" points=\"72.83488609750474,18.996873335058506 72.83963470924229,18.996872606729326\" opacity=\"0.8\" /><polyline fill=\"none\" stroke=\"#66cc99\" stroke-width=\"0.002341826339443429\" points=\"72.83963470924229,18.996872606729326 72.8417492623158,18.99687228240491\" opacity=\"0.8\" /><polyline fill=\"none\" stroke=\"#66cc99\" stroke-width=\"0.002341826339443429\" points=\"72.84560634013975,18.99687169081678 72.84910583589892,18.996871154073617\" opacity=\"0.8\" /><polyline fill=\"none\" stroke=\"#66cc99\" stroke-width=\"0.002341826339443429\" points=\"72.79214859008789,19.001396925841508 72.79689733010996,19.001396197493005\" opacity=\"0.8\" /><polyline fill=\"none\" stroke=\"#66cc99\" stroke-width=\"0.002341826339443429\" points=\"72.79689733010996,19.001396197493005 72.8016460700925,19.001395469144505\" opacity=\"0.8\" /><polyline fill=\"none\" stroke=\"#66cc99\" stroke-width=\"0.002341826339443429\" points=\"72.8016460700925,19.001395469144505 72.80639481003551,19.001394740796012\" opacity=\"0.8\" /><polyline fill=\"none\" stroke=\"#66cc99\" stroke-width=\"0.002341826339443429\" points=\"72.80639481003551,19.001394740796012 72.81114354993898,19.001394012447527\" opacity=\"0.8\" /><polyline fill=\"none\" stroke=\"#66cc99\" stroke-width=\"0.002341826339443429\" points=\"72.81114354993898,19.001394012447527 72.81140955010466,19.001393971649165\" opacity=\"0.8\" /><polyline fill=\"none\" stroke=\"#66cc99\" stroke-width=\"0.002341826339443429\" points=\"72.84682349261418,19.001388539957404 72.84910583589892,19.001388189897952\" opacity=\"0.8\" /><polyline fill=\"none\" stroke=\"#66cc99\" stroke-width=\"0.002341826339443429\" points=\"72.79214859008789,19.005913959458333 72.79689745803863,19.005913231090563\" opacity=\"0.8\" /><polyline fill=\"none\" stroke=\"#66cc99\" stroke-width=\"0.002341826339443429\" points=\"72.79689745803863,19.005913231090563 72.80164632594985,19.005912502722797\" opacity=\"0.8\" /><polyline fill=\"none\" stroke=\"#66cc99\" stroke-width=\"0.002341826339443429\" points=\"72.80164632594985,19.005912502722797 72.80639519382153,19.00591177435504\" opacity=\"0.8\" /><polyline fill=\"none\" stroke=\"#66cc99\" stroke-width=\"0.002341826339443429\" points=\"72.80639519382153,19.00591177435504 72.81114406165366,19.00591104598729\" opacity=\"0.8\" /><polyline fill=\"none\" stroke=\"#66cc99\" stroke-width=\"0.002341826339443429\" points=\"72.81114406165366,19.00591104598729 72.81400095956754,19.005910607804466\" opacity=\"0.8\" /><polyline fill=\"none\" stroke=\"#66cc99\" stroke-width=\"0.002341826339443429\" points=\"72.82304763793945,19.00590922025084 72.82539066491289,19.00590886088407\" opacity=\"0.8\" /><polyline fill=\"none\" stroke=\"#66cc99\" stroke-width=\"0.002341826339443429\" points=\"72.82539066491289,19.00590886088407 72.83013953258688,19.005908132516343\" opacity=\"0.8\" /><polyline fill=\"none\" stroke=\"#66cc99\" stroke-width=\"0.002341826339443429\" points=\"72.83013953258688,19.005908132516343 72.83403396606445,19.005907535199285\" opacity=\"0.8\" /><polyline fill=\"none\" stroke=\"#66cc99\" stroke-width=\"0.002341826339443429\" points=\"72.84645249540816,19.005905630480807 72.84910583589892,19.00590522351904\" opacity=\"0.8\" /><polyline fill=\"none\" stroke=\"#66cc99\" stroke-width=\"0.002341826339443429\" points=\"72.79214859008789,19.01043099087147 72.79689758596724,19.010430262484434\" opacity=\"0.8\" /><polyline fill=\"none\" stroke=\"#66cc99\" stroke-width=\"0.002341826339443429\" points=\"72.79689758596724,19.010430262484434 72.80164658180708,19.010429534097405\" opacity=\"0.8\" /><polyline fill=\"none\" stroke=\"#66cc99\" stroke-width=\"0.002341826339443429\" points=\"72.80164658180708,19.010429534097405 72.80639557760736,19.01042880571038\" opacity=\"0.8\" /><polyline fill=\"none\" stroke=\"#66cc99\" stroke-width=\"0.002341826339443429\" points=\"72.80639557760736,19.01042880571038 72.81114457336811,19.01042807732336\" opacity=\"0.8\" /><polyline fill=\"none\" stroke=\"#66cc99\" stroke-width=\"0.002341826339443429\" points=\"72.81114457336811,19.01042807732336 72.81589356908933,19.01042734893635\" opacity=\"0.8\" /><polyline fill=\"none\" stroke=\"#66cc99\" stroke-width=\"0.002341826339443429\" points=\"72.81589356908933,19.01042734893635 72.81674526561633,19.01042721830564\" opacity=\"0.8\" /><polyline fill=\"none\" stroke=\"#66cc99\" stroke-width=\"0.002341826339443429\" points=\"72.82304763793945,19.010426251666285 72.82539156041315,19.010425892162342\" opacity=\"0.8\" /><polyline fill=\"none\" stroke=\"#66cc99\" stroke-width=\"0.002341826339443429\" points=\"72.82539156041315,19.010425892162342 72.83014055601575,19.01042516377535\" opacity=\"0.8\" /><polyline fill=\"none\" stroke=\"#66cc99\" stroke-width=\"0.002341826339443429\" points=\"72.83014055601575,19.01042516377535 72.83403396606445,19.010424566615555\" opacity=\"0.8\" /><polyline fill=\"none\" stroke=\"#66cc99\" stroke-width=\"0.002341826339443429\" points=\"72.84823640438326,19.01042238828729 72.84910583589892,19.010422254936437\" opacity=\"0.8\" /><polyline fill=\"none\" stroke=\"#66cc99\" stroke-width=\"0.002341826339443429\" points=\"72.79214859008789,19.014948020080475 72.7968977138958,19.014947291674172\" opacity=\"0.8\" /><polyline fill=\"none\" stroke=\"#66cc99\" stroke-width=\"0.002341826339443429\" points=\"72.7968977138958,19.014947291674172 72.80164683766418,19.014946563267877\" opacity=\"0.8\" /><polyline fill=\"none\" stroke=\"#66cc99\" stroke-width=\"0.002341826339443429\" points=\"72.80164683766418,19.014946563267877 72.80639596139301,19.014945834861585\" opacity=\"0.8\" /><polyline fill=\"none\" stroke=\"#66cc99\" stroke-width=\"0.002341826339443429\" points=\"72.80639596139301,19.014945834861585 72.8111450850823,19.0149451064553\" opacity=\"0.8\" /><polyline fill=\"none\" stroke=\"#66cc99\" stroke-width=\"0.002341826339443429\" points=\"72.8111450850823,19.0149451064553 72.81589420873206,19.014944378049023\" opacity=\"0.8\" /><polyline fill=\"none\" stroke=\"#66cc99\" stroke-width=\"0.002341826339443429\" points=\"72.81589420873206,19.014944378049023 72.81948957032628,19.014943826603293\" opacity=\"0.8\" /><polyline fill=\"none\" stroke=\"#66cc99\" stroke-width=\"0.002341826339443429\" points=\"72.84633153608839,19.01493970966345 72.84910583589892,19.014939284149705\" opacity=\"0.8\" /><polyline fill=\"none\" stroke=\"#66cc99\" stroke-width=\"0.002341826339443429\" points=\"72.79214859008789,19.019465047084903 72.79689784182429,19.019464318659335\" opacity=\"0.8\" /><polyline fill=\"none\" stroke=\"#66cc99\" stroke-width=\"0.002341826339443429\" points=\"72.79689784182429,19.019464318659335 72.80164709352115,19.019463590233773\" opacity=\"0.8\" /><polyline fill=\"none\" stroke=\"#66cc99\" stroke-width=\"0.002341826339443429\" points=\"72.80164709352115,19.019463590233773 72.80639634517847,19.01946286180822\" opacity=\"0.8\" /><polyline fill=\"none\" stroke=\"#66cc99\" stroke-width=\"0.002341826339443429\" points=\"72.80639634517847,19.01946286180822 72.81114559679625,19.019462133382667\" opacity=\"0.8\" /><polyline fill=\"none\" stroke=\"#66cc99\" stroke-width=\"0.002341826339443429\" points=\"72.81114559679625,19.019462133382667 72.8158948483745,19.019461404957127\" opacity=\"0.8\" /><polyline fill=\"none\" stroke=\"#66cc99\" stroke-width=\"0.002341826339443429\" points=\"72.8158948483745,19.019461404957127 72.82064409991321,19.019460676531587\" opacity=\"0.8\" /><polyline fill=\"none\" stroke=\"#66cc99\" stroke-width=\"0.002341826339443429\" points=\"72.82064409991321,19.019460676531587 72.82495397531395,19.019460015496207\" opacity=\"0.8\" /><polyline fill=\"none\" stroke=\"#66cc99\" stroke-width=\"0.002341826339443429\" points=\"72.84118526469139,19.019457525991157 72.84439035701368,19.01945703440399\" opacity=\"0.8\" /><polyline fill=\"none\" stroke=\"#66cc99\" stroke-width=\"0.002341826339443429\" points=\"72.84439035701368,19.01945703440399 72.84910583589892,19.0194563111584\" opacity=\"0.8\" /><polyline fill=\"none\" stroke=\"#66cc99\" stroke-width=\"0.002341826339443429\" points=\"72.79214859008789,19.023982071884305 72.79689796975272,19.023981343439473\" opacity=\"0.8\" /><polyline fill=\"none\" stroke=\"#66cc99\" stroke-width=\"0.002341826339443429\" points=\"72.79689796975272,19.023981343439473 72.801647349378,19.023980614994645\" opacity=\"0.8\" /><polyline fill=\"none\" stroke=\"#66cc99\" stroke-width=\"0.002341826339443429\" points=\"72.801647349378,19.023980614994645 72.80639672896375,19.023979886549824\" opacity=\"0.8\" /><polyline fill=\"none\" stroke=\"#66cc99\" stroke-width=\"0.002341826339443429\" points=\"72.80639672896375,19.023979886549824 72.81114610850994,19.02397915810501\" opacity=\"0.8\" /><polyline fill=\"none\" stroke=\"#66cc99\" stroke-width=\"0.002341826339443429\" points=\"72.81114610850994,19.02397915810501 72.81589548801661,19.0239784296602\" opacity=\"0.8\" /><polyline fill=\"none\" stroke=\"#66cc99\" stroke-width=\"0.002341826339443429\" points=\"72.81589548801661,19.0239784296602 72.82064486748374,19.023977701215397\" opacity=\"0.8\" /><polyline fill=\"none\" stroke=\"#66cc99\" stroke-width=\"0.002341826339443429\" points=\"72.82064486748374,19.023977701215397 72.82539424691133,19.0239769727706\" opacity=\"0.8\" /><polyline fill=\"none\" stroke=\"#66cc99\" stroke-width=\"0.002341826339443429\" points=\"72.82539424691133,19.0239769727706 72.83014362629936,19.023976244325812\" opacity=\"0.8\" /><polyline fill=\"none\" stroke=\"#66cc99\" stroke-width=\"0.002341826339443429\" points=\"72.83014362629936,19.023976244325812 72.83239459927776,19.023975899078696\" opacity=\"0.8\" /><polyline fill=\"none\" stroke=\"#66cc99\" stroke-width=\"0.002341826339443429\" points=\"72.83603899580747,19.02397534011268 72.83964238495686,19.02397478743625\" opacity=\"0.8\" /><polyline fill=\"none\" stroke=\"#66cc99\" stroke-width=\"0.002341826339443429\" points=\"72.83964238495686,19.02397478743625 72.84439176422629,19.023974058991477\" opacity=\"0.8\" /><polyline fill=\"none\" stroke=\"#66cc99\" stroke-width=\"0.002341826339443429\" points=\"72.84439176422629,19.023974058991477 72.84910583589892,19.023973335962072\" opacity=\"0.8\" /><polyline fill=\"none\" stroke=\"#66cc99\" stroke-width=\"0.002341826339443429\" points=\"72.79214859008789,19.028499094478246 72.79689809768108,19.028498366014148\" opacity=\"0.8\" /><polyline fill=\"none\" stroke=\"#66cc99\" stroke-width=\"0.002341826339443429\" points=\"72.79689809768108,19.028498366014148 72.80164760523472,19.028497637550053\" opacity=\"0.8\" /><polyline fill=\"none\" stroke=\"#66cc99\" stroke-width=\"0.002341826339443429\" points=\"72.80164760523472,19.028497637550053 72.80639711274884,19.02849690908597\" opacity=\"0.8\" /><polyline fill=\"none\" stroke=\"#66cc99\" stroke-width=\"0.002341826339443429\" points=\"72.80639711274884,19.02849690908597 72.8111466202234,19.02849618062189\" opacity=\"0.8\" /><polyline fill=\"none\" stroke=\"#66cc99\" stroke-width=\"0.002341826339443429\" points=\"72.8111466202234,19.02849618062189 72.81589612765842,19.028495452157816\" opacity=\"0.8\" /><polyline fill=\"none\" stroke=\"#66cc99\" stroke-width=\"0.002341826339443429\" points=\"72.81589612765842,19.028495452157816 72.82064563505389,19.028494723693747\" opacity=\"0.8\" /><polyline fill=\"none\" stroke=\"#66cc99\" stroke-width=\"0.002341826339443429\" points=\"72.82064563505389,19.028494723693747 72.82539514240983,19.028493995229685\" opacity=\"0.8\" /><polyline fill=\"none\" stroke=\"#66cc99\" stroke-width=\"0.002341826339443429\" points=\"72.82539514240983,19.028493995229685 72.83014464972624,19.02849326676563\" opacity=\"0.8\" /><polyline fill=\"none\" stroke=\"#66cc99\" stroke-width=\"0.002341826339443429\" points=\"72.83014464972624,19.02849326676563 72.8348941570031,19.028492538301577\" opacity=\"0.8\" /><polyline fill=\"none\" stroke=\"#66cc99\" stroke-width=\"0.002341826339443429\" points=\"72.8348941570031,19.028492538301577 72.83964366424043,19.028491809837536\" opacity=\"0.8\" /><polyline fill=\"none\" stroke=\"#66cc99\" stroke-width=\"0.002341826339443429\" points=\"72.83964366424043,19.028491809837536 72.84439317143823,19.0284910813735\" opacity=\"0.8\" /><polyline fill=\"none\" stroke=\"#66cc99\" stroke-width=\"0.002341826339443429\" points=\"72.84439317143823,19.0284910813735 72.84910583589892,19.02849035856028\" opacity=\"0.8\" /><path fill-rule=\"evenodd\" fill=\"#66cc99\" stroke=\"#555555\" stroke-width=\"0.002341826339443429\" opacity=\"0.6\" d=\"M 72.82064437866211,19.016844423462285 L 72.82495397531395,19.019460015496207 L 72.82539340429882,19.01972671492197 L 72.83014331664465,19.022609544545542 L 72.83239459927776,19.023975899078696 L 72.83454895019531,19.025283423553358 L 72.83489326197869,19.024981158616903 L 72.83603899580747,19.02397534011268 L 72.83964148943171,19.020812777694083 L 72.84118526469139,19.019457525991157 L 72.84438948084232,19.01664460398852 L 72.84633153608839,19.01493970966345 L 72.84896850585938,19.012624762749855 L 72.84823640438326,19.01042238828729 L 72.84708023071289,19.0069442811546 L 72.84645249540816,19.005905630480807 L 72.84570693969727,19.00467203419329 L 72.84690856933594,19.00175052820937 L 72.84682349261418,19.001388539957404 L 72.84587860107422,18.99736817304893 L 72.84560634013975,18.99687169081678 L 72.84438262568833,18.994640182710263 L 72.84347534179688,18.9929857024871 L 72.84227502783256,18.9923551637378 L 72.8419303894043,18.992174121202286 L 72.84090042114256,18.99038862844862 L 72.84103527532365,18.987838313658873 L 72.84107208251953,18.987142228930484 L 72.84214962539005,18.983321100311823 L 72.84342346886785,18.97880386030042 L 72.8443766390992,18.975423775712542 L 72.84469731296642,18.974286618087696 L 72.84587860107422,18.97009759329888 L 72.84589901607231,18.969769384739024 L 72.84605026245117,18.967337821632306 L 72.84528024328364,18.96525242841063 L 72.84437270466518,18.96279460013415 L 72.84361244235527,18.960735630780345 L 72.8422737121582,18.9571100341766 L 72.84200517646671,18.95621882166632 L 72.84064418211524,18.95170197258107 L 72.83962095453177,18.948306099137984 L 72.83928318710144,18.947185121297757 L 72.83792219142549,18.942668267816828 L 72.83656119508748,18.938151412138723 L 72.83520019808758,18.933634554263882 L 72.83486969883214,18.93253769794117 L 72.83383920042588,18.929117694192758 L 72.83248901367188,18.924636713211353 L 72.83243754466037,18.924600838161762 L 72.83012074482058,18.922985976972374 L 72.82596588134766,18.920089944412993 L 72.82537378616932,18.920770066656566 L 72.82356262207031,18.92285049736358 L 72.82115477791898,18.924602568695388 L 72.82062804596148,18.92498584597758 L 72.81909942626953,18.926098148340685 L 72.82062843978564,18.92730343544615 L 72.82115936279297,18.92772195016037 L 72.8217814724373,18.929119543587866 L 72.82379201440047,18.933636304032067 L 72.82390594482422,18.933892253144688 L 72.82378080760351,18.93815337237228 L 72.82373428344727,18.939737593083155 L 72.82287291776875,18.942670576047075 L 72.82201766967773,18.94558272839238 L 72.8207632227994,18.94718796185485 L 72.82063184729742,18.94735607447529 L 72.81909942626953,18.949317013240446 L 72.81589377975664,18.951705768749115 L 72.81588525460474,18.951712121446917 L 72.81343460083008,18.95353827809909 L 72.81113821341707,18.954287199456047 L 72.80845642089844,18.95516181306905 L 72.80639075278619,18.95364226874693 L 72.8037608049991,18.95170762968092 L 72.80164316739837,18.950149855625433 L 72.79764175415039,18.94720634076679 L 72.7976340880337,18.947191509357783 L 72.7968957545026,18.945763077332835 L 72.79529947633144,18.942674805211414 L 72.79386520385742,18.939899960716236 L 72.7928352355957,18.939737593083155 L 72.7928352355957,18.94267518317218 L 72.7928352355957,18.94314728021845 L 72.79240756236302,18.947192310992403 L 72.79214859008789,18.949641729713196 L 72.79373840625856,18.951709166896734 L 72.79689603919928,18.95581543268649 L 72.79721152009378,18.956225692025907 L 72.80068463223874,18.96074221495704 L 72.80164383803388,18.961989590448695 L 72.80313491821289,18.963928628849857 L 72.80313491821289,18.965258892568276 L 72.80313491821289,18.96977594379949 L 72.80313491821289,18.97009759329888 L 72.80490937553967,18.974292720668448 L 72.80588150024414,18.976590993437735 L 72.80639271840346,18.976776928772505 L 72.81034469604492,18.97821430393685 L 72.81081176418328,18.978808862204943 L 72.81114103885145,18.979228015130087 L 72.81435979902899,18.983325362646216 L 72.8148078918457,18.98389576612094 L 72.81137466430664,18.987629192893266 L 72.81143628940445,18.987842853475442 L 72.81273906003855,18.992359693886602 L 72.81291961669922,18.9929857024871 L 72.81222080063229,18.99687681140024 L 72.81140955010466,19.001393971649165 L 72.81137466430664,19.001588220817155 L 72.81400095956754,19.005910607804466 L 72.81589337052957,19.00902515956058 L 72.81674526561633,19.01042721830564 L 72.81948957032628,19.014943826603293 L 72.8206436551353,19.016843232673533 L 72.82064437866211,19.016844423462285 z M 72.82304763793945,19.003211287614203 L 72.8253901301197,19.003211287614203 L 72.8301389215597,19.003211287614203 L 72.83403396606445,19.003211287614203 L 72.83403396606445,19.005907535199285 L 72.83403396606445,19.010424566615555 L 72.83403396606445,19.013598540111825 L 72.8301412750112,19.013598540111825 L 72.82539218938977,19.013598540111825 L 72.82304763793945,19.013598540111825 L 72.82304763793945,19.010426251666285 L 72.82304763793945,19.00590922025084 L 72.82304763793945,19.003211287614203 z M 72.81875610351562,18.961980487391045 L 72.82063433239972,18.961980487391045 L 72.82538195612437,18.961980487391045 L 72.83012957985076,18.961980487391045 L 72.83437728881836,18.961980487391045 L 72.83437728881836,18.965254100681904 L 72.83437728881836,18.969771151915452 L 72.83437728881836,18.974288200948855 L 72.83437728881836,18.977564981635126 L 72.8301331108472,18.977564981635126 L 72.82538504574626,18.977564981635126 L 72.82063698064707,18.977564981635126 L 72.81875610351562,18.977564981635126 L 72.81875610351562,18.97429059688971 L 72.81875610351562,18.96977354785747 L 72.81875610351562,18.965256496625088 L 72.81875610351562,18.961980487391045 z M 72.82974243164061,18.996556613132253 L 72.82538811879996,18.99306590358794 L 72.82450494137976,18.99235788926677 L 72.82184600830077,18.990226309976023 L 72.82496630464352,18.987840778276393 L 72.8253870191542,18.9875191332493 L 72.82991409301758,18.98405809076445 L 72.83013461349526,18.984197106724558 L 72.8348836295202,18.987190883217355 L 72.83557891845703,18.987629192893266 L 72.83570380694906,18.987839131385822 L 72.83839066474589,18.99235575951116 L 72.83963402195168,18.99444585230735 L 72.84021377563477,18.995420422600525 L 72.8417492623158,18.99687228240491 L 72.84296035766602,18.998017418132864 L 72.8396357382756,19.000506020489905 L 72.83884048461914,19.001101297690546 L 72.83488717518078,19.001101297690546 L 72.8309440612793,19.001101297690546 L 72.83013775255895,18.99805175674003 L 72.82982637915526,18.99687411110438 L 72.82974243164061,18.996556613132253 z\" /></g></g></svg>"
      ],
      "text/plain": [
       "<shapely.geometry.collection.GeometryCollection at 0x7f88375e8690>"
      ]
     },
     "execution_count": 44,
     "metadata": {},
     "output_type": "execute_result"
    }
   ],
   "source": [
    "grid = get_grid_lines(500, final_coverage)\n",
    "grid_intersec = grid.intersection(final_coverage)\n",
    "grid.union(final_coverage)"
   ]
  },
  {
   "cell_type": "code",
   "execution_count": 45,
   "metadata": {
    "ExecuteTime": {
     "end_time": "2020-08-01T13:36:37.314766Z",
     "start_time": "2020-08-01T13:36:37.293045Z"
    }
   },
   "outputs": [],
   "source": [
    "def grid_points(side, coverage_area):\n",
    "    \"\"\"\n",
    "    side : drone coverage square side\n",
    "    coverage_area : area to be covered by the drone\n",
    "    \"\"\"\n",
    "    width, height = grid_size(side, coverage_area)\n",
    "    side = geopy.distance.distance(meters=side)\n",
    "    bpoints = get_bounding_points(coverage_area)\n",
    "    \n",
    "\n",
    "    latitudes = []\n",
    "    start = geopy.Point(bpoints['ll'])\n",
    "    for _ in range(height):\n",
    "        latitudes.append(start)\n",
    "        final = side.destination(point=start, bearing=0)\n",
    "        start = final\n",
    "    latitudes.append(start)\n",
    "    \n",
    "    longitudes = []\n",
    "    start = geopy.Point(bpoints['ll'])\n",
    "    for _ in range(width):\n",
    "        longitudes.append(start)\n",
    "        final = side.destination(point=start, bearing=90)\n",
    "        start = final\n",
    "    longitudes.append(start)\n",
    "    \n",
    "    return latitudes, longitudes, height, width\n",
    "\n",
    "def rasterize(side, coverage_area, start_points):\n",
    "    \"\"\"\n",
    "    side : side of the drone in meters\n",
    "    coverage_area : area to be covered by the drone\n",
    "    \"\"\"\n",
    "    \n",
    "    outside_map_traverse_area = coverage_area.envelope.difference(coverage_area)\n",
    "    latitudes,longitudes,height,width = grid_points(side, coverage_area)\n",
    "    lookup_c = np.zeros([height,width],dtype = 'O')\n",
    "    raster = np.zeros([height, width],dtype = int)\n",
    "    start_coords = []\n",
    "    \n",
    "    \n",
    "    for x in range(len(latitudes)-1):\n",
    "        for y in range(len(longitudes)-1):\n",
    "            square = shapely.geometry.Polygon([(longitudes[y][1],latitudes[height-x][0]),\\\n",
    "                              (longitudes[y+1][1],latitudes[height-x][0]),\\\n",
    "                              (longitudes[y+1][1],latitudes[height-x-1][0]),\\\n",
    "                              (longitudes[y][1],latitudes[height-x-1][0])]) \n",
    "            for start_point in start_points:\n",
    "                if(start_point.within(square)):\n",
    "                    start_coords.append((x,y))\n",
    "                    \n",
    "            lookup_c[x,y] = square.centroid\n",
    "            # storing value of centre point\n",
    "            if(outside_map_traverse_area.contains(square)):\n",
    "                raster[x,y] = -1  # region outside the map but inside the gird\n",
    "            if(square.intersects(coverage_area)):\n",
    "                    z = square.intersection(coverage_area)\n",
    "                    if(not z.is_empty):\n",
    "                        if(coverage_area.contains(z)):\n",
    "                            raster[x,y] = 0 #region inside the map\n",
    "                        else:\n",
    "                            raster[x,y] = 0 #2 is for boundary partial\n",
    "                            \n",
    "    raster[0] = -1\n",
    "    raster[:,-1] = -1\n",
    "    return raster, start_coords"
   ]
  },
  {
   "cell_type": "code",
   "execution_count": 49,
   "metadata": {
    "ExecuteTime": {
     "end_time": "2020-08-01T13:36:46.536327Z",
     "start_time": "2020-08-01T13:36:40.010938Z"
    }
   },
   "outputs": [
    {
     "name": "stdout",
     "output_type": "stream",
     "text": [
      "(233, 120)\n"
     ]
    },
    {
     "data": {
      "image/png": "[encoded data removed]",
      "text/plain": [
       "<Figure size 360x360 with 1 Axes>"
      ]
     },
     "metadata": {
      "needs_background": "light"
     },
     "output_type": "display_data"
    }
   ],
   "source": [
    "# temp = matrix_lookup(50, features['coverage'][0])\n",
    "temp, start_points = rasterize(50, final_coverage,[*features['drone'],*features['fuel']])\n",
    "\n",
    "print(temp.shape)\n",
    "\n",
    "imshow(temp)\n",
    "imshow_scatter(start_points)"
   ]
  },
  {
   "cell_type": "code",
   "execution_count": 50,
   "metadata": {
    "ExecuteTime": {
     "end_time": "2020-08-01T13:36:53.382829Z",
     "start_time": "2020-08-01T13:36:53.378280Z"
    }
   },
   "outputs": [],
   "source": [
    "def get_mask(poly, h, w):\n",
    "    \"\"\"\n",
    "    Returns a boolean mask\n",
    "    \"\"\"\n",
    "    y,x = np.mgrid[:h,:w] # Creates a mesh grid\n",
    "    coors=np.hstack((x.reshape(-1, 1), y.reshape(-1,1))) # stacks the meshgrids side by side\n",
    "    mask = Path(poly).contains_points(coors).reshape(h,w)\n",
    "    return mask"
   ]
  },
  {
   "cell_type": "code",
   "execution_count": 137,
   "metadata": {
    "ExecuteTime": {
     "end_time": "2020-08-01T16:13:20.414481Z",
     "start_time": "2020-08-01T16:13:20.407085Z"
    }
   },
   "outputs": [],
   "source": [
    "def get_raster(shape_files, epsg=EPSG, scaler=2):\n",
    "    \"\"\"\n",
    "    Returns a rasterised image\n",
    "    \"\"\"\n",
    "    features = get_features_dict(shape_files)\n",
    "    final_coverage = get_final_coverage_polygon(features)\n",
    "    w,h = get_hv_wh(final_coverage)\n",
    "    fc_gpd = create_gdframe(features, no_points=True)\n",
    "    ax = fc_gpd.plot(figsize=(w.km*scaler,h.km*scaler))\n",
    "    plt.axis('off')\n",
    "    ax.figure.canvas.draw()\n",
    "    data = np.frombuffer(ax.figure.canvas.tostring_rgb(), dtype=np.uint8)\n",
    "    data = data.reshape(ax.figure.canvas.get_width_height()[::-1]+(3,))\n",
    "    data = data.mean(axis=2)\n",
    "    data[data == 110] = 0\n",
    "    data[data == 255] = -1\n",
    "    x,y = np.where(data == 0)\n",
    "    data = data[x.min():x.max(),y.min():y.max()]\n",
    "    ax.figure.clear()\n",
    "    return data"
   ]
  },
  {
   "cell_type": "code",
   "execution_count": 153,
   "metadata": {
    "ExecuteTime": {
     "end_time": "2020-08-01T16:19:55.281527Z",
     "start_time": "2020-08-01T16:19:55.274895Z"
    }
   },
   "outputs": [
    {
     "data": {
      "text/plain": [
       "(10.179478099035746, 10.125260603283568)"
      ]
     },
     "execution_count": 153,
     "metadata": {},
     "output_type": "execute_result"
    }
   ],
   "source": [
    "w.m/y, h.m/x"
   ]
  },
  {
   "cell_type": "code",
   "execution_count": 151,
   "metadata": {
    "ExecuteTime": {
     "end_time": "2020-08-01T16:16:07.984895Z",
     "start_time": "2020-08-01T16:16:07.789107Z"
    }
   },
   "outputs": [
    {
     "data": {
      "text/plain": [
       "(1150, 588)"
      ]
     },
     "execution_count": 151,
     "metadata": {},
     "output_type": "execute_result"
    },
    {
     "data": {
      "text/plain": [
       "<Figure size 861.917x1676.74 with 0 Axes>"
      ]
     },
     "metadata": {},
     "output_type": "display_data"
    }
   ],
   "source": [
    "get_raster(shape_files).shape"
   ]
  }
 ],
 "metadata": {
  "kernelspec": {
   "display_name": "Python 3",
   "language": "python",
   "name": "python3"
  },
  "language_info": {
   "codemirror_mode": {
    "name": "ipython",
    "version": 3
   },
   "file_extension": ".py",
   "mimetype": "text/x-python",
   "name": "python",
   "nbconvert_exporter": "python",
   "pygments_lexer": "ipython3",
   "version": "3.7.6"
  }
 },
 "nbformat": 4,
 "nbformat_minor": 4
}
