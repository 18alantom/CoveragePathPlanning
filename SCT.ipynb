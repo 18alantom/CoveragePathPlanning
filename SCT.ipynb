{
 "cells": [
  {
   "cell_type": "code",
   "execution_count": 12,
   "metadata": {
    "ExecuteTime": {
     "end_time": "2020-07-23T15:47:21.083645Z",
     "start_time": "2020-07-23T15:47:20.721377Z"
    }
   },
   "outputs": [],
   "source": [
    "import numpy as np\n",
    "import time\n",
    "import cv2\n",
    "import matplotlib.pyplot as plt"
   ]
  },
  {
   "cell_type": "code",
   "execution_count": 2,
   "metadata": {
    "ExecuteTime": {
     "end_time": "2020-07-23T15:45:10.647228Z",
     "start_time": "2020-07-23T15:45:10.644221Z"
    }
   },
   "outputs": [],
   "source": [
    "from testers.helpers import get_all_area_maps, imshow, imshow_scatter"
   ]
  },
  {
   "cell_type": "code",
   "execution_count": 6,
   "metadata": {
    "ExecuteTime": {
     "end_time": "2020-07-23T15:46:23.916609Z",
     "start_time": "2020-07-23T15:46:23.911904Z"
    }
   },
   "outputs": [],
   "source": [
    "def stc_preprocess(area_map):\n",
    "    \"\"\"\n",
    "    Returns matrix that in the form\n",
    "    that is read by the main algorithm.\n",
    "    \"\"\"\n",
    "    matrix = np.full(area_map.shape, 0, dtype=np.uint8)\n",
    "    matrix[area_map == 0] = 255\n",
    "    return matrix"
   ]
  },
  {
   "cell_type": "code",
   "execution_count": 35,
   "metadata": {
    "ExecuteTime": {
     "end_time": "2020-07-23T15:54:57.938427Z",
     "start_time": "2020-07-23T15:54:57.892760Z"
    }
   },
   "outputs": [
    {
     "data": {
      "text/plain": [
       "'\\nPost proc\\n'"
      ]
     },
     "execution_count": 35,
     "metadata": {},
     "output_type": "execute_result"
    }
   ],
   "source": [
    "def get_stc_path(matrix):\n",
    "    bound = matrix.shape\n",
    "    r = int(bound[0]/2)\n",
    "    c = int(bound[1]/2)\n",
    "    grid = [[((max(abs((r-1)/2-i), abs((c-1)/2-j))+1) if(all(pt for pg in matrix[2*i:2*(i+1),2*j:2*(j+1)] for pt in pg)) else -1) for j in range(c)] for i in range(r)]\n",
    "    vertices = {}\n",
    "    for i in range(r):\n",
    "        for j in range(c):\n",
    "            if grid[i][j]>=0:\n",
    "                vertices[(i, j)] = None\n",
    "    s = list(vertices.keys())[0]\n",
    "#     time_split.append(time.time()-start_time)\n",
    "#     start_time = time.time()\n",
    "    \n",
    "    pathf = []\n",
    "    pathi = {}\n",
    "    treef = {}\n",
    "    tree = {}\n",
    "    while len(vertices):\n",
    "        pathi[s] = None\n",
    "        del vertices[s]\n",
    "        if s not in tree: tree[s] = np.full(4, 0)\n",
    "        grid[s[0]][s[1]] = 0\n",
    "        tmp = [0, 0, 0, 0]\n",
    "        tmp[0] = grid[s[0]-1][s[1]] if s[0]-1>=0 and grid[s[0]-1][s[1]]!=-1 else -1\n",
    "        tmp[1] = grid[s[0]][s[1]+1] if s[1]+1<c and grid[s[0]][s[1]+1]!=-1 else -1\n",
    "        tmp[2] = grid[s[0]+1][s[1]] if s[0]+1<r and grid[s[0]+1][s[1]]!=-1 else -1\n",
    "        tmp[3] = grid[s[0]][s[1]-1] if s[1]-1>=0 and grid[s[0]][s[1]-1]!=-1 else -1\n",
    "        grt = max(tmp)\n",
    "        if grt>0:\n",
    "            ind = tmp.index(grt)\n",
    "            s = (s[0]-1, s[1]) if ind==0 else (s[0], s[1]+1) if ind==1 else (s[0]+1, s[1]) if ind==2 else (s[0], s[1]-1)\n",
    "        else:\n",
    "            pathf.append(pathi)\n",
    "            pathi = {}\n",
    "            treef.update(tree)\n",
    "            tree = {}\n",
    "            if len(vertices.keys()):\n",
    "                s = list(vertices.keys())[0]\n",
    "#     time_split.append(time.time()-start_time)\n",
    "#     start_time = time.time()\n",
    "    \n",
    "    a = np.array([len(i) for i in pathf])\n",
    "    b = np.argsort(s)\n",
    "    edgePath = [i for i in range(len(pathf))]\n",
    "    edgeJoin = [set([i]) for i in range(len(pathf))]\n",
    "    ejPath = []\n",
    "    def whichPath(ver):\n",
    "        for i in range(len(pathf)):\n",
    "            if ver in pathf[i]: return i\n",
    "        return 0\n",
    "\n",
    "    def mergePath(ind1, v1, v2):\n",
    "        ind2 = whichPath(v2)\n",
    "        edgeJoin[edgePath[ind1]] = edgeJoin[edgePath[ind1]].union(edgeJoin[edgePath[ind2]])\n",
    "        for i in edgeJoin[edgePath[ind2]]:\n",
    "            edgePath[i] = edgePath[ind1]\n",
    "        ejPath.append([v1, v2])\n",
    "\n",
    "    for index in range(len(b)-1):\n",
    "        i = b[index]\n",
    "        for j in list(pathf[i].keys()):\n",
    "            x, y = j\n",
    "            if x-1>=0 and grid[x-1][y]!=-1 and not any((x-1, y) in pathf[ind] for ind in edgeJoin[edgePath[i]]):\n",
    "                mergePath(i, j, (x-1, y))\n",
    "            if y-1>=0 and grid[x][y-1]!=-1 and not any((x, y-1) in pathf[ind] for ind in edgeJoin[edgePath[i]]):\n",
    "                mergePath(i, j, (x, y-1))\n",
    "            if x+1<r and grid[x+1][y]!=-1 and not any((x+1, y) in pathf[ind] for ind in edgeJoin[edgePath[i]]):\n",
    "                mergePath(i, j, (x+1, y))\n",
    "            if y+1<c and grid[x][y+1]!=-1 and not any((x, y+1) in pathf[ind] for ind in edgeJoin[edgePath[i]]):\n",
    "                mergePath(i, j, (x, y+1))\n",
    "\n",
    "    for p in range(len(ejPath)):\n",
    "        path = ejPath[p]\n",
    "        ind = 0 if path[0][0]-1==path[1][0] else 1 if path[0][1]+1==path[1][1] else 2 if path[0][0]+1==path[1][0] else 3\n",
    "        treef[path[0]][ind] = 1\n",
    "        treef[path[1]][(ind+2)%4] = 1\n",
    "\n",
    "#     time_split.append(time.time()-start_time)\n",
    "#     start_time = time.time()\n",
    "    \n",
    "    for p in range(len(pathf)):\n",
    "        path = list(pathf[p].keys())\n",
    "        for i in range(1, len(path)):\n",
    "            ind = 0 if path[i-1][0]-1==path[i][0] else 1 if path[i-1][1]+1==path[i][1] else 2 if path[i-1][0]+1==path[i][0] else 3\n",
    "            treef[path[i-1]][ind] = 1\n",
    "            treef[path[i]][(ind+2)%4] = 1\n",
    "            \n",
    "    finalPathf = []\n",
    "    finalPath = []\n",
    "    for i in set(edgePath):\n",
    "        vertex = tuple(2*a for a in (list(pathf[i].keys())[0]))\n",
    "        while True:\n",
    "            finalPath.append(vertex)\n",
    "            vertex_grid = tuple(int(a/2) for a in vertex)\n",
    "            if vertex[0]%2==0 and vertex[1]%2==0:\n",
    "                if treef[vertex_grid][0]:\n",
    "                    vertex = (vertex[0]-1, vertex[1])\n",
    "                else:\n",
    "                    vertex = (vertex[0], vertex[1]+1)\n",
    "            elif vertex[0]%2==0:\n",
    "                if treef[vertex_grid][1]:\n",
    "                    vertex = (vertex[0], vertex[1]+1)\n",
    "                else:\n",
    "                    vertex = (vertex[0]+1, vertex[1])\n",
    "            elif vertex[1]%2==0:\n",
    "                if treef[vertex_grid][3]:\n",
    "                    vertex = (vertex[0], vertex[1]-1)\n",
    "                else:\n",
    "                    vertex = (vertex[0]-1, vertex[1])\n",
    "            else:\n",
    "                if treef[vertex_grid][2]:\n",
    "                    vertex = (vertex[0]+1, vertex[1])\n",
    "                else:\n",
    "                    vertex = (vertex[0], vertex[1]-1)\n",
    "            if vertex==finalPath[0]: \n",
    "                finalPath.append(vertex)\n",
    "                break\n",
    "        finalPathf.append(finalPath)\n",
    "        finalPath = []\n",
    "\n",
    "    return finalPathf\n",
    "    \n",
    "\"\"\"\n",
    "Post proc\n",
    "\"\"\"\n",
    "#     for i in finalPathf:\n",
    "#         for j in i:\n",
    "#             matrix[j] = 127\n",
    "#     print(cv2.imwrite((ImagePath+'Final.png'), matrix))\n",
    "#     time_split.append(time.time()-start_time)\n",
    "#     start_time = time.time()\n",
    "    \n",
    "#     total_time = time.time() - total_time\n",
    "#     print(time_split, total_time)"
   ]
  },
  {
   "cell_type": "code",
   "execution_count": 36,
   "metadata": {
    "ExecuteTime": {
     "end_time": "2020-07-23T15:54:59.734269Z",
     "start_time": "2020-07-23T15:54:59.624735Z"
    }
   },
   "outputs": [
    {
     "data": {
      "text/plain": [
       "<matplotlib.image.AxesImage at 0x7fd534da1050>"
      ]
     },
     "execution_count": 36,
     "metadata": {},
     "output_type": "execute_result"
    },
    {
     "data": {
      "image/png": "[encoded data removed]",
      "text/plain": [
       "<Figure size 360x360 with 1 Axes>"
      ]
     },
     "metadata": {
      "needs_background": "light"
     },
     "output_type": "display_data"
    }
   ],
   "source": [
    "area_maps = get_all_area_maps(\"./test_maps/\")\n",
    "area_map = area_maps[1]\n",
    "matrix = stc_preprocess(area_map)\n",
    "imshow(matrix)"
   ]
  },
  {
   "cell_type": "code",
   "execution_count": 38,
   "metadata": {
    "ExecuteTime": {
     "end_time": "2020-07-23T15:55:08.937053Z",
     "start_time": "2020-07-23T15:55:08.930921Z"
    }
   },
   "outputs": [],
   "source": [
    "coverage_paths = get_stc_path(matrix)"
   ]
  },
  {
   "cell_type": "code",
   "execution_count": 46,
   "metadata": {
    "ExecuteTime": {
     "end_time": "2020-07-23T15:57:55.085714Z",
     "start_time": "2020-07-23T15:57:55.081097Z"
    }
   },
   "outputs": [
    {
     "data": {
      "text/plain": [
       "689"
      ]
     },
     "execution_count": 46,
     "metadata": {},
     "output_type": "execute_result"
    }
   ],
   "source": [
    "(area_map == 0).sum()"
   ]
  },
  {
   "cell_type": "code",
   "execution_count": 47,
   "metadata": {
    "ExecuteTime": {
     "end_time": "2020-07-23T15:58:14.455995Z",
     "start_time": "2020-07-23T15:58:14.450266Z"
    }
   },
   "outputs": [
    {
     "data": {
      "text/plain": [
       "623"
      ]
     },
     "execution_count": 47,
     "metadata": {},
     "output_type": "execute_result"
    }
   ],
   "source": [
    "np.sum([len(cp) for cp in coverage_paths])"
   ]
  },
  {
   "cell_type": "code",
   "execution_count": 69,
   "metadata": {
    "ExecuteTime": {
     "end_time": "2020-07-23T16:05:07.687053Z",
     "start_time": "2020-07-23T16:05:07.620080Z"
    }
   },
   "outputs": [
    {
     "data": {
      "text/plain": [
       "3"
      ]
     },
     "execution_count": 69,
     "metadata": {},
     "output_type": "execute_result"
    },
    {
     "data": {
      "image/png": "[encoded data removed]",
      "text/plain": [
       "<Figure size 360x360 with 1 Axes>"
      ]
     },
     "metadata": {
      "needs_background": "light"
     },
     "output_type": "display_data"
    }
   ],
   "source": [
    "imshow(matrix, cmap=\"Greys_r\")\n",
    "# for coverage_path in coverage_paths:\n",
    "imshow_scatter(coverage_paths[0], \"skyblue\",1, 5 )\n",
    "imshow_scatter(coverage_paths[1], \"blue\",1, 5 )\n",
    "imshow_scatter(coverage_paths[2], \"orange\",1, 5 )\n",
    "len(coverage_paths)"
   ]
  },
  {
   "cell_type": "code",
   "execution_count": 70,
   "metadata": {
    "ExecuteTime": {
     "end_time": "2020-07-23T16:05:47.986120Z",
     "start_time": "2020-07-23T16:05:47.982217Z"
    }
   },
   "outputs": [],
   "source": [
    "for cp in coverage_paths[1]:\n",
    "    if cp in coverage_paths[0]:\n",
    "        print(cp)"
   ]
  },
  {
   "cell_type": "code",
   "execution_count": 74,
   "metadata": {
    "ExecuteTime": {
     "end_time": "2020-07-23T16:06:04.593409Z",
     "start_time": "2020-07-23T16:06:04.590107Z"
    }
   },
   "outputs": [],
   "source": [
    "for cp in coverage_paths[2]:\n",
    "    if cp in coverage_paths[0]:\n",
    "        print(cp)"
   ]
  },
  {
   "cell_type": "code",
   "execution_count": 55,
   "metadata": {
    "ExecuteTime": {
     "end_time": "2020-07-23T16:01:14.450081Z",
     "start_time": "2020-07-23T16:01:14.445939Z"
    }
   },
   "outputs": [
    {
     "name": "stdout",
     "output_type": "stream",
     "text": [
      "(2, 14) (2, 14)\n",
      "(4, 26) (4, 26)\n",
      "(22, 6) (22, 6)\n"
     ]
    }
   ],
   "source": [
    "for c in coverage_paths:\n",
    "    print(c[0], c[-1])"
   ]
  },
  {
   "cell_type": "markdown",
   "metadata": {},
   "source": [
    "input is 0 for for obstacles and 255 for area to be covered."
   ]
  },
  {
   "cell_type": "code",
   "execution_count": 21,
   "metadata": {
    "ExecuteTime": {
     "end_time": "2020-07-23T15:49:18.270120Z",
     "start_time": "2020-07-23T15:49:18.229945Z"
    }
   },
   "outputs": [],
   "source": [
    "def STC(ImagePath):\n",
    "#     img = cv2.imread((ImagePath+\".png\"), 2)\n",
    "    img = cv2.imread(ImagePath, 2)\n",
    "    ret, matrix = cv2.threshold(img, 127, 255, cv2.THRESH_BINARY)\n",
    "    bound = matrix.shape\n",
    "    total_time = time.time()\n",
    "    start_time = time.time()\n",
    "    time_split = []\n",
    "    \n",
    "    r = int(bound[0]/2)\n",
    "    c = int(bound[1]/2)\n",
    "    grid = [[((max(abs((r-1)/2-i), abs((c-1)/2-j))+1) if(all(pt for pg in matrix[2*i:2*(i+1),2*j:2*(j+1)] for pt in pg)) else -1) for j in range(c)] for i in range(r)]\n",
    "    vertices = {}\n",
    "    for i in range(r):\n",
    "        for j in range(c):\n",
    "            if grid[i][j]>=0:\n",
    "                vertices[(i, j)] = None\n",
    "    s = list(vertices.keys())[0]\n",
    "    time_split.append(time.time()-start_time)\n",
    "    start_time = time.time()\n",
    "    \n",
    "    pathf = []\n",
    "    pathi = {}\n",
    "    treef = {}\n",
    "    tree = {}\n",
    "    while len(vertices):\n",
    "        pathi[s] = None\n",
    "        del vertices[s]\n",
    "        if s not in tree: tree[s] = np.full(4, 0)\n",
    "        grid[s[0]][s[1]] = 0\n",
    "        tmp = [0, 0, 0, 0]\n",
    "        tmp[0] = grid[s[0]-1][s[1]] if s[0]-1>=0 and grid[s[0]-1][s[1]]!=-1 else -1\n",
    "        tmp[1] = grid[s[0]][s[1]+1] if s[1]+1<c and grid[s[0]][s[1]+1]!=-1 else -1\n",
    "        tmp[2] = grid[s[0]+1][s[1]] if s[0]+1<r and grid[s[0]+1][s[1]]!=-1 else -1\n",
    "        tmp[3] = grid[s[0]][s[1]-1] if s[1]-1>=0 and grid[s[0]][s[1]-1]!=-1 else -1\n",
    "        grt = max(tmp)\n",
    "        if grt>0:\n",
    "            ind = tmp.index(grt)\n",
    "            s = (s[0]-1, s[1]) if ind==0 else (s[0], s[1]+1) if ind==1 else (s[0]+1, s[1]) if ind==2 else (s[0], s[1]-1)\n",
    "        else:\n",
    "            pathf.append(pathi)\n",
    "            pathi = {}\n",
    "            treef.update(tree)\n",
    "            tree = {}\n",
    "            if len(vertices.keys()):\n",
    "                s = list(vertices.keys())[0]\n",
    "    time_split.append(time.time()-start_time)\n",
    "    start_time = time.time()\n",
    "    \n",
    "    a = np.array([len(i) for i in pathf])\n",
    "    b = np.argsort(s)\n",
    "    edgePath = [i for i in range(len(pathf))]\n",
    "    edgeJoin = [set([i]) for i in range(len(pathf))]\n",
    "    ejPath = []\n",
    "    def whichPath(ver):\n",
    "        for i in range(len(pathf)):\n",
    "            if ver in pathf[i]: return i\n",
    "        return 0\n",
    "\n",
    "    def mergePath(ind1, v1, v2):\n",
    "        ind2 = whichPath(v2)\n",
    "        edgeJoin[edgePath[ind1]] = edgeJoin[edgePath[ind1]].union(edgeJoin[edgePath[ind2]])\n",
    "        for i in edgeJoin[edgePath[ind2]]:\n",
    "            edgePath[i] = edgePath[ind1]\n",
    "        ejPath.append([v1, v2])\n",
    "        #print(v1, \"-\", v2, \" - \", edgePath, \" ~ \", edgeJoin)\n",
    "\n",
    "    for index in range(len(b)-1):\n",
    "        i = b[index]\n",
    "        for j in list(pathf[i].keys()):\n",
    "            x, y = j\n",
    "            if x-1>=0 and grid[x-1][y]!=-1 and not any((x-1, y) in pathf[ind] for ind in edgeJoin[edgePath[i]]):\n",
    "                mergePath(i, j, (x-1, y))\n",
    "            if y-1>=0 and grid[x][y-1]!=-1 and not any((x, y-1) in pathf[ind] for ind in edgeJoin[edgePath[i]]):\n",
    "                mergePath(i, j, (x, y-1))\n",
    "            if x+1<r and grid[x+1][y]!=-1 and not any((x+1, y) in pathf[ind] for ind in edgeJoin[edgePath[i]]):\n",
    "                mergePath(i, j, (x+1, y))\n",
    "            if y+1<c and grid[x][y+1]!=-1 and not any((x, y+1) in pathf[ind] for ind in edgeJoin[edgePath[i]]):\n",
    "                mergePath(i, j, (x, y+1))\n",
    "\n",
    "    for p in range(len(ejPath)):\n",
    "        path = ejPath[p]\n",
    "        ind = 0 if path[0][0]-1==path[1][0] else 1 if path[0][1]+1==path[1][1] else 2 if path[0][0]+1==path[1][0] else 3\n",
    "        treef[path[0]][ind] = 1\n",
    "        treef[path[1]][(ind+2)%4] = 1\n",
    "\n",
    "    time_split.append(time.time()-start_time)\n",
    "    start_time = time.time()\n",
    "    \n",
    "    for p in range(len(pathf)):\n",
    "        path = list(pathf[p].keys())\n",
    "        for i in range(1, len(path)):\n",
    "            ind = 0 if path[i-1][0]-1==path[i][0] else 1 if path[i-1][1]+1==path[i][1] else 2 if path[i-1][0]+1==path[i][0] else 3\n",
    "            treef[path[i-1]][ind] = 1\n",
    "            treef[path[i]][(ind+2)%4] = 1\n",
    "            \n",
    "    finalPathf = []\n",
    "    finalPath = []\n",
    "    for i in set(edgePath):\n",
    "        vertex = tuple(2*a for a in (list(pathf[i].keys())[0]))\n",
    "        while True:\n",
    "            finalPath.append(vertex)\n",
    "            vertex_grid = tuple(int(a/2) for a in vertex)\n",
    "            if vertex[0]%2==0 and vertex[1]%2==0:\n",
    "                if treef[vertex_grid][0]:\n",
    "                    vertex = (vertex[0]-1, vertex[1])\n",
    "                else:\n",
    "                    vertex = (vertex[0], vertex[1]+1)\n",
    "            elif vertex[0]%2==0:\n",
    "                if treef[vertex_grid][1]:\n",
    "                    vertex = (vertex[0], vertex[1]+1)\n",
    "                else:\n",
    "                    vertex = (vertex[0]+1, vertex[1])\n",
    "            elif vertex[1]%2==0:\n",
    "                if treef[vertex_grid][3]:\n",
    "                    vertex = (vertex[0], vertex[1]-1)\n",
    "                else:\n",
    "                    vertex = (vertex[0]-1, vertex[1])\n",
    "            else:\n",
    "                if treef[vertex_grid][2]:\n",
    "                    vertex = (vertex[0]+1, vertex[1])\n",
    "                else:\n",
    "                    vertex = (vertex[0], vertex[1]-1)\n",
    "            if vertex==finalPath[0]: \n",
    "                finalPath.append(vertex)\n",
    "                break\n",
    "        finalPathf.append(finalPath)\n",
    "        finalPath = []\n",
    "\n",
    "    for i in finalPathf:\n",
    "        for j in i:\n",
    "            matrix[j] = 127\n",
    "#     print(cv2.imwrite((ImagePath+'Final.png'), matrix))\n",
    "    imshow(matrix)\n",
    "    \n",
    "    time_split.append(time.time()-start_time)\n",
    "    start_time = time.time()\n",
    "    \n",
    "    total_time = time.time() - total_time\n",
    "    print(time_split, total_time)"
   ]
  }
 ],
 "metadata": {
  "kernelspec": {
   "display_name": "Python 3",
   "language": "python",
   "name": "python3"
  },
  "language_info": {
   "codemirror_mode": {
    "name": "ipython",
    "version": 3
   },
   "file_extension": ".py",
   "mimetype": "text/x-python",
   "name": "python",
   "nbconvert_exporter": "python",
   "pygments_lexer": "ipython3",
   "version": "3.7.6"
  }
 },
 "nbformat": 4,
 "nbformat_minor": 4
}
