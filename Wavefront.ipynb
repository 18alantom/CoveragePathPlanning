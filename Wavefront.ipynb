{
 "cells": [
  {
   "cell_type": "code",
   "execution_count": 1,
   "metadata": {
    "ExecuteTime": {
     "end_time": "2020-07-23T18:51:03.839536Z",
     "start_time": "2020-07-23T18:51:02.781973Z"
    }
   },
   "outputs": [
    {
     "name": "stderr",
     "output_type": "stream",
     "text": [
      "/Users/alan/Desktop/stuff/SIH/nm_383_cpp/testers/testers.py:4: TqdmExperimentalWarning: Using `tqdm.autonotebook.tqdm` in notebook mode. Use `tqdm.tqdm` instead to force console mode (e.g. in jupyter console)\n",
      "  from tqdm.autonotebook import tqdm\n"
     ]
    }
   ],
   "source": [
    "import numpy as np\n",
    "import matplotlib.pyplot as plt\n",
    "\n",
    "from testers import get_area_map, get_random_coords, imshow, imshow_scatter\n",
    "from testers import get_all_area_maps, is_valid\n",
    "from testers import generate_no_obs_area_map, generate_point_obstacles\n",
    "\n",
    "from cpp_algorithms import dist_fill\n",
    "from copy import deepcopy\n",
    "import time"
   ]
  },
  {
   "cell_type": "code",
   "execution_count": 14,
   "metadata": {
    "ExecuteTime": {
     "end_time": "2020-07-23T18:55:44.494059Z",
     "start_time": "2020-07-23T18:55:44.490027Z"
    }
   },
   "outputs": [],
   "source": [
    "def bt_len(backtrack_paths):\n",
    "    return np.sum([len(bt) for bt in backtrack_paths])"
   ]
  },
  {
   "cell_type": "code",
   "execution_count": 2,
   "metadata": {
    "ExecuteTime": {
     "end_time": "2020-07-23T18:51:05.342989Z",
     "start_time": "2020-07-23T18:51:05.332565Z"
    }
   },
   "outputs": [],
   "source": [
    "def print_map(area_map):\n",
    "    for i in area_map:\n",
    "        for j in i:\n",
    "            print(f\"{j}\".rjust(3),end=\"\")\n",
    "        print()\n",
    "        \n",
    "def max_pool(matrix):\n",
    "    \"\"\"\n",
    "    Performs max pooling with stride 2\n",
    "    width and height should be even.\n",
    "    \"\"\"\n",
    "    h,w = matrix.shape\n",
    "    a = []\n",
    "    for i in range(2):\n",
    "        for j in range(2):\n",
    "            a.append(matrix[i::2,j::2])\n",
    "    return np.stack(a).max(axis=0).reshape(h//2,w//2)\n",
    "\n",
    "def upscale(source):\n",
    "    \"\"\"\n",
    "    Scales up each pixel by 2\n",
    "    \"\"\"\n",
    "    h,w = source.shape\n",
    "    dest = np.ones((h*2,w*2))\n",
    "    dest[0::2,0::2] = source\n",
    "    dest[1::2,0::2] = source\n",
    "    dest[0::2,1::2] = source\n",
    "    dest[1::2,1::2] = source\n",
    "    return dest"
   ]
  },
  {
   "cell_type": "code",
   "execution_count": 3,
   "metadata": {
    "ExecuteTime": {
     "end_time": "2020-07-23T18:51:07.240688Z",
     "start_time": "2020-07-23T18:51:07.226508Z"
    }
   },
   "outputs": [],
   "source": [
    "def update_keeper(keeper, next_point):\n",
    "    \"\"\"\n",
    "    Update values of the keeper dict.\n",
    "    \"\"\"\n",
    "    keeper[\"prev_point\"] = keeper[\"curr_point\"]\n",
    "    keeper[\"curr_point\"] = next_point\n",
    "    keeper[\"coverage_path\"].append(next_point)\n",
    "    \n",
    "    # If everything works this conditional \n",
    "    # should evaluate to True always\n",
    "    if not keeper[\"is_visited\"][next_point]:\n",
    "        keeper[\"is_visited\"][next_point] = True\n",
    "        return True\n",
    "    return False\n",
    "    \n",
    "def get_next_valid(c_point, keeper, obstacle):\n",
    "    \"\"\"\n",
    "    Checks points (RDLU) for one with max dist\n",
    "    and not yet visited.\n",
    "    \"\"\"\n",
    "    rdlu = lambda p:np.array([(p[0],p[1]+1),(p[0]+1,p[1]),\\\n",
    "                              (p[0],p[1]-1),(p[0]-1,p[1])])\n",
    "    max_ = -1\n",
    "    next_point = None\n",
    "    for possible_point in rdlu(c_point):\n",
    "        possible_point = tuple(possible_point)\n",
    "        \"\"\"\n",
    "        is_valid = True if the point is within bounds and \n",
    "        hasn't been visited previously.\n",
    "        \"\"\"\n",
    "        if is_valid(possible_point, keeper[\"is_visited\"], obstacle=True):\n",
    "            d_val = keeper[\"dist_map\"][possible_point]\n",
    "            if d_val > max_:\n",
    "                max_ = d_val\n",
    "                next_point = possible_point\n",
    "    return next_point \n",
    "\n",
    "def backtrack_subroutine(keeper, obstacle):\n",
    "    \"\"\"\n",
    "    Go back the coverage path, keep adding to the backtrack\n",
    "    path, once a viable point is reached, stop, record backtrack\n",
    "    path and backtrack start.\n",
    "    \"\"\"\n",
    "    # Should be True : backtrack_start == backtrack_path[0].\n",
    "    backtrack_start = len(keeper[\"coverage_path\"]) - 1 # last index of coverage_path\n",
    "    covered_path = keeper[\"coverage_path\"][::-1] # reversed coverage_path\n",
    "    backtrack_path = []\n",
    "    \n",
    "    # Covered points are obstacles.\n",
    "    covered_map = dist_map.copy()\n",
    "    x,y = np.array(covered_path).T\n",
    "    covered_map[x,y] = obstacle\n",
    "    \n",
    "    for bt_point in covered_path:\n",
    "        backtrack_path.append(bt_point)\n",
    "        next_point = get_next_valid(bt_point, keeper, obstacle)\n",
    "        if next_point is not None:\n",
    "            \"\"\"\n",
    "            keeper[\"backtrack_paths\"] stores all `backtrack_path` lists\n",
    "            keeper[\"backtrack_starts\"] stores indices where the backtracking\n",
    "                starts in the main keeper[\"coverage_path\"] list.\n",
    "            all elements in a `backtrack_path` are present in the `coverage_path`.\n",
    "            \"\"\"\n",
    "            keeper[\"backtrack_paths\"].append(backtrack_path)\n",
    "            keeper[\"backtrack_starts\"].append(backtrack_start)\n",
    "            return next_point\n",
    "    else:\n",
    "        raise Exception(\"backtrack failed\", covered_path[::-1])\n",
    "\n",
    "def wavefront_update(keeper, obstacle):\n",
    "    c_point = keeper[\"curr_point\"]\n",
    "    is_new = False\n",
    "    next_point = get_next_valid(c_point, keeper, obstacle)\n",
    "    \n",
    "    if next_point is not None:\n",
    "        # non backtrack condition.\n",
    "        is_new = update_keeper(keeper, next_point)\n",
    "    else:\n",
    "        # backtrack condition, no viable point found\n",
    "        next_point = backtrack_subroutine(keeper, obstacle)\n",
    "        is_new = update_keeper(keeper, next_point)\n",
    "    \n",
    "    # is_new should always be True,\n",
    "    # else backtrack has failed and there is an error,\n",
    "    # or the map has locked in regions.\n",
    "    return is_new"
   ]
  },
  {
   "cell_type": "code",
   "execution_count": 4,
   "metadata": {
    "ExecuteTime": {
     "end_time": "2020-07-23T18:51:08.618819Z",
     "start_time": "2020-07-23T18:51:08.610582Z"
    }
   },
   "outputs": [],
   "source": [
    "def wavefront_follow(dist_map, start_point, obstacle):\n",
    "    # Matrix of values visited.\n",
    "    is_visited = np.full(dist_map.shape,False)\n",
    "    is_visited[dist_map==-1] = True\n",
    "    is_visited[start_point] = True\n",
    "    \n",
    "    # Number of points to cover.\n",
    "    points_to_cover = dist_map.size - (dist_map == obstacle).sum() - 1\n",
    "    \n",
    "    keeper = {\n",
    "        \"is_backtracking\":False,\n",
    "        \"curr_point\": start_point,\n",
    "        \"prev_point\": start_point,\n",
    "        \"coverage_path\": [start_point],\n",
    "        \"backtrack_paths\": [],\n",
    "        \"backtrack_starts\": [],\n",
    "        \"is_visited\": is_visited,\n",
    "        \"dist_map\": dist_map\n",
    "    }\n",
    "    \n",
    "    while points_to_cover > 0:\n",
    "        is_new = wavefront_update(keeper, obstacle)\n",
    "#         print(points_to_cover, keeper[\"curr_point\"], is_new)\n",
    "#         print(is_visited.sum())\n",
    "        if is_new:\n",
    "            points_to_cover -= 1\n",
    "    return keeper[\"coverage_path\"], keeper[\"backtrack_paths\"], keeper[\"backtrack_starts\"]"
   ]
  },
  {
   "cell_type": "code",
   "execution_count": 5,
   "metadata": {
    "ExecuteTime": {
     "end_time": "2020-07-23T18:51:09.641588Z",
     "start_time": "2020-07-23T18:51:09.635979Z"
    }
   },
   "outputs": [],
   "source": [
    "def wavefront(area_map, start_point, center_point, obstacle=-1):\n",
    "    \"\"\"\n",
    "    start_point, center_point : form (x,y)\n",
    "    \n",
    "    return :\n",
    "        coverage_path : path followed on for coverage\n",
    "        backtrack_paths : paths followed to get to uncovered point, \n",
    "            subsets of coverage_path.\n",
    "        backtrack_starts : starting indices of the backtrack paths\n",
    "    \"\"\"\n",
    "    assert is_valid(start_point, area_map, obstacle), \"invalid start\"\n",
    "    assert is_valid(center_point, area_map, obstacle), \"invalid center\"\n",
    "    \n",
    "    dist_map = dist_fill(area_map, [center_point])\n",
    "    return wavefront_follow(dist_map, start_point, obstacle)"
   ]
  },
  {
   "cell_type": "code",
   "execution_count": 6,
   "metadata": {
    "ExecuteTime": {
     "end_time": "2020-07-23T18:52:42.560402Z",
     "start_time": "2020-07-23T18:52:42.462274Z"
    }
   },
   "outputs": [],
   "source": [
    "area_maps = get_all_area_maps(\"./test_maps/\")"
   ]
  },
  {
   "cell_type": "code",
   "execution_count": 20,
   "metadata": {
    "ExecuteTime": {
     "end_time": "2020-07-23T18:58:28.646136Z",
     "start_time": "2020-07-23T18:58:28.358457Z"
    }
   },
   "outputs": [
    {
     "name": "stdout",
     "output_type": "stream",
     "text": [
      "CPU times: user 65.8 ms, sys: 2.53 ms, total: 68.3 ms\n",
      "Wall time: 68.8 ms\n",
      "backtrack length : 861, coverage length : 1318\n"
     ]
    },
    {
     "data": {
      "image/png": "[encoded data removed]",
      "text/plain": [
       "<Figure size 720x720 with 1 Axes>"
      ]
     },
     "metadata": {
      "needs_background": "light"
     },
     "output_type": "display_data"
    }
   ],
   "source": [
    "area_map = area_maps[10]\n",
    "start_point = get_random_coords(area_map, 1)[0]\n",
    "center_point = get_random_coords(area_map,1)[0]\n",
    "dist_map = dist_fill(area_map,[center_point])\n",
    "# print(\"sp\",start_point, \"\\ncp\",center_point)\n",
    "\n",
    "%time coverage_path , backtrack_paths, backtrack_starts = wavefront(area_map, start_point, center_point)\n",
    "\n",
    "imshow(dist_map, cmap=\"Blues_r\", figsize=(10,10))\n",
    "\n",
    "\n",
    "plt.scatter(start_point[1],start_point[0], color=\"black\")   # Path Start\n",
    "plt.scatter(center_point[1],center_point[0], color=\"white\") # Distance Map Center\n",
    "plt.scatter(coverage_path[-1][1],coverage_path[-1][0], color=\"red\") # Path End\n",
    "imshow_scatter(coverage_path, \"black\", 0.8, 4) # Main Path\n",
    "for backtrack_path in backtrack_paths: \n",
    "    imshow_scatter(backtrack_path, \"orange\", 0.5, 7) # Backtrack Paths\n",
    "    \n",
    "print(f\"backtrack length : {bt_len(backtrack_paths)}, coverage length : {len(coverage_path)}\")"
   ]
  },
  {
   "cell_type": "code",
   "execution_count": 51,
   "metadata": {
    "ExecuteTime": {
     "end_time": "2020-07-23T19:08:59.832678Z",
     "start_time": "2020-07-23T19:08:59.823682Z"
    }
   },
   "outputs": [],
   "source": [
    "def has_isolated_areas(area_map, obstacle=-1):\n",
    "    \"\"\"\n",
    "    Flood fills the area to check if there are \n",
    "    isolated areas.\n",
    "    \"\"\"\n",
    "    get_adj = lambda x,y :[\n",
    "        (x+1,y),(x-1,y),(x,y+1),(x,y-1)\n",
    "    ]\n",
    "    \n",
    "    v_map = (area_map == obstacle).copy()\n",
    "    f_point = get_random_coords(area_map, 1, obstacle)[0]\n",
    "    to_visit = [f_point]\n",
    "    \n",
    "    while len(to_visit) > 0:\n",
    "        l = len(to_visit)\n",
    "        for point in to_visit:\n",
    "            v_map[point] = True\n",
    "            \n",
    "        for i in range(l):\n",
    "            for adj_point in get_adj(*to_visit.pop(0)):\n",
    "                if is_valid(adj_point, area_map, obstacle) \\\n",
    "                    and not v_map[adj_point] \\\n",
    "                    and adj_point not in to_visit:\n",
    "                    to_visit.append(adj_point)\n",
    "                    \n",
    "    if v_map.sum() == v_map.size:\n",
    "        return False\n",
    "    return True"
   ]
  },
  {
   "cell_type": "code",
   "execution_count": 54,
   "metadata": {
    "ExecuteTime": {
     "end_time": "2020-07-23T19:10:48.520785Z",
     "start_time": "2020-07-23T19:10:40.353970Z"
    }
   },
   "outputs": [
    {
     "name": "stdout",
     "output_type": "stream",
     "text": [
      "81.6 ms ± 3 ms per loop (mean ± std. dev. of 10 runs, 10 loops each)\n"
     ]
    }
   ],
   "source": [
    "# 4 directions is faster (~deux fois) than 8.\n",
    "timing_map = generate_no_obs_area_map([(100,100)])[0]\n",
    "%timeit -n 10 -r 10 has_isolated_areas(timing_map)"
   ]
  },
  {
   "cell_type": "code",
   "execution_count": null,
   "metadata": {},
   "outputs": [],
   "source": [
    "def shortest_path(start_point, end_point, area_map):\n",
    "    \"\"\"\n",
    "    PARAMETERS\n",
    "    ---\n",
    "    area_map : binary map, -1=obstacle, 0=area to be mapped.\n",
    "    points : [(x,y)] points around which to dist fill (fuel station).\n",
    "    \"\"\"\n",
    "    shape = area_map.shape\n",
    "    dist_map = []\n",
    "    v_map = []\n",
    "    for _ in points:\n",
    "        dm = area_map.copy()\n",
    "        dist_map.append(np.int64(dm)) # obs = -1\n",
    "        v_map.append((dm == OB).copy())\n",
    "    \n",
    "    for i,point in enumerate(points):\n",
    "        assert is_valid(point, area_map.shape), \\\n",
    "        \"invalid coordinate for center\"\n",
    "        assert dist_map[i][point] != OB, \\\n",
    "        \"center is an obstacle\"\n",
    "    \n",
    "    for i in range(len(points)):\n",
    "        pval = 0\n",
    "        center = points[i]\n",
    "        dist_map[i][center] = pval\n",
    "        v_map[i][center] = True\n",
    "\n",
    "        to_visit = []\n",
    "        get_udlr(dist_map[i], v_map[i], center, to_visit)\n",
    "        while len(to_visit) > 0:\n",
    "            pval += 1\n",
    "            l = len(to_visit)\n",
    "            for coord in to_visit:\n",
    "                dist_map[i][coord] = pval\n",
    "                v_map[i][coord] = True\n",
    "\n",
    "            for i_ in range(l):\n",
    "                coord = to_visit.pop(0)\n",
    "                get_udlr(dist_map[i], v_map[i], coord, to_visit)\n",
    "    return np.array(dist_map).min(axis=0)"
   ]
  }
 ],
 "metadata": {
  "kernelspec": {
   "display_name": "Python 3",
   "language": "python",
   "name": "python3"
  },
  "language_info": {
   "codemirror_mode": {
    "name": "ipython",
    "version": 3
   },
   "file_extension": ".py",
   "mimetype": "text/x-python",
   "name": "python",
   "nbconvert_exporter": "python",
   "pygments_lexer": "ipython3",
   "version": "3.7.6"
  }
 },
 "nbformat": 4,
 "nbformat_minor": 4
}
