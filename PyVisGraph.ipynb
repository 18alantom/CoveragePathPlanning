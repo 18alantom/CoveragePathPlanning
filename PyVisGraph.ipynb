{
 "cells": [
  {
   "cell_type": "code",
   "execution_count": 61,
   "metadata": {
    "ExecuteTime": {
     "end_time": "2020-08-01T07:14:10.750226Z",
     "start_time": "2020-08-01T07:14:10.745211Z"
    }
   },
   "outputs": [],
   "source": [
    "import geopandas\n",
    "import geojson\n",
    "import json\n",
    "import sys\n",
    "import shapely\n",
    "from shapely.geometry import shape\n",
    "from haversine import haversine, Unit\n",
    "from shapely.geometry import Polygon\n",
    "from shapely.geometry import Point\n",
    "from shapely.geometry import LineString\n",
    "from math import ceil\n",
    "import numpy as np\n",
    "import matplotlib.pyplot as plt\n",
    "from shapely.ops import unary_union\n",
    "import geopy\n",
    "import geopy.distance\n",
    "import pyproj\n",
    "from shapely.ops import transform\n",
    "from functools import partial"
   ]
  },
  {
   "cell_type": "code",
   "execution_count": 65,
   "metadata": {
    "ExecuteTime": {
     "end_time": "2020-08-01T07:27:25.269555Z",
     "start_time": "2020-08-01T07:27:25.147166Z"
    }
   },
   "outputs": [],
   "source": [
    "#reading the shapefile and converting it to geojson\n",
    "myshpfile = geopandas.read_file('layers\\\\POLYGON.shp')\n",
    "myshpfile.to_file('myJson.geojson', driver='GeoJSON')\n",
    "with open('myJson.geojson') as f:\n",
    "#print(f[0].features[0].geometry)\n",
    "    \n",
    "    features = json.load(f)[\"features\"] \n",
    "    #var_name[0].features[0].geometry\n",
    "    #var_name[1].features[0].geometry  map, 1 se obstacles\n",
    "    #var_name[2].features[]\n",
    "maparea = ([shape(feature[\"geometry\"]).buffer(0) for feature in features])"
   ]
  },
  {
   "cell_type": "code",
   "execution_count": 66,
   "metadata": {
    "ExecuteTime": {
     "end_time": "2020-08-01T07:27:26.339342Z",
     "start_time": "2020-08-01T07:27:26.333356Z"
    }
   },
   "outputs": [
    {
     "name": "stdout",
     "output_type": "stream",
     "text": [
      "[<shapely.geometry.polygon.Polygon object at 0x000001606837AF48>\n",
      " <shapely.geometry.polygon.Polygon object at 0x00000160683653C8>\n",
      " <shapely.geometry.polygon.Polygon object at 0x0000016068371988>]\n"
     ]
    }
   ],
   "source": [
    "# saving the obstacles in a list\n",
    "# give length of obstacle\n",
    "obstacles = np.zeros([3],dtype = 'O')\n",
    "for x in range(0,3):\n",
    "    obstacles[x] = maparea[x+1]\n",
    "print(obstacles)"
   ]
  },
  {
   "cell_type": "code",
   "execution_count": 33,
   "metadata": {
    "ExecuteTime": {
     "end_time": "2020-08-01T06:48:28.883287Z",
     "start_time": "2020-08-01T06:48:28.460223Z"
    }
   },
   "outputs": [],
   "source": [
    "# The bounds of the map minx miny maxx maxy\n",
    "outer_rect = maparea[0].bounds"
   ]
  },
  {
   "cell_type": "code",
   "execution_count": 34,
   "metadata": {
    "ExecuteTime": {
     "end_time": "2020-08-01T06:48:28.936383Z",
     "start_time": "2020-08-01T06:48:28.885295Z"
    }
   },
   "outputs": [],
   "source": [
    "def gridpoints(rect,dist):\n",
    "    height = haversine((rect[1],rect[0]),(rect[3],rect[0]))\n",
    "    length = haversine((rect[1],rect[0]),(rect[1],rect[2]))\n",
    "    d = geopy.distance.distance(kilometers = dist)\n",
    "    horizontalcells = ceil(length/dist)\n",
    "    verticalcells = ceil(height/dist)\n",
    "    \n",
    "    latitudelist = []\n",
    "    start = geopy.Point(rect[1],rect[0])\n",
    "    for _ in range(verticalcells):\n",
    "        latitudelist.append(start)\n",
    "        final = d.destination(point=start, bearing=0)\n",
    "        start = final\n",
    "    latitudelist.append(start)\n",
    "    \n",
    "    longitudelist = []\n",
    "    start = geopy.Point(rect[1],rect[0])\n",
    "    for _ in range(horizontalcells):\n",
    "        longitudelist.append(start)\n",
    "        final = d.destination(point=start, bearing=90)\n",
    "        start = final\n",
    "    longitudelist.append(start)\n",
    "    \n",
    "    return latitudelist,longitudelist,verticalcells,horizontalcells"
   ]
  },
  {
   "cell_type": "code",
   "execution_count": 35,
   "metadata": {
    "ExecuteTime": {
     "end_time": "2020-08-01T06:48:28.998543Z",
     "start_time": "2020-08-01T06:48:28.937381Z"
    }
   },
   "outputs": [],
   "source": [
    "latitudelist,longitudelist,vertical,horizontal = gridpoints(outer_rect,0.1) #binding rectangle and distance are sent as parameters"
   ]
  },
  {
   "cell_type": "code",
   "execution_count": 36,
   "metadata": {
    "ExecuteTime": {
     "end_time": "2020-08-01T06:48:29.145986Z",
     "start_time": "2020-08-01T06:48:29.003532Z"
    }
   },
   "outputs": [],
   "source": [
    "mapboundary = maparea[0]"
   ]
  },
  {
   "cell_type": "code",
   "execution_count": 37,
   "metadata": {
    "ExecuteTime": {
     "end_time": "2020-08-01T06:48:29.241252Z",
     "start_time": "2020-08-01T06:48:29.147878Z"
    }
   },
   "outputs": [],
   "source": [
    "bounding_rectangle_grid= Polygon([(longitudelist[0][1],latitudelist[0][0]),(longitudelist[horizontal][1],latitudelist[0][0]),(longitudelist[horizontal][1],latitudelist[vertical][0]),(longitudelist[0][1],latitudelist[vertical][0])]) "
   ]
  },
  {
   "cell_type": "code",
   "execution_count": 38,
   "metadata": {
    "ExecuteTime": {
     "end_time": "2020-08-01T06:48:29.337379Z",
     "start_time": "2020-08-01T06:48:29.242106Z"
    }
   },
   "outputs": [
    {
     "name": "stdout",
     "output_type": "stream",
     "text": [
      "POLYGON ((72.79214859008789 18.92008994441299, 72.84910583784675 18.92008994441299, 72.84910583784675 19.02578888118662, 72.79214859008789 19.02578888118662, 72.79214859008789 18.92008994441299))\n"
     ]
    }
   ],
   "source": [
    "print(bounding_rectangle_grid)"
   ]
  },
  {
   "cell_type": "code",
   "execution_count": 39,
   "metadata": {
    "ExecuteTime": {
     "end_time": "2020-08-01T06:48:29.421478Z",
     "start_time": "2020-08-01T06:48:29.362495Z"
    }
   },
   "outputs": [],
   "source": [
    "outside_map_traverse_area = bounding_rectangle_grid.difference(mapboundary) # "
   ]
  },
  {
   "cell_type": "code",
   "execution_count": 40,
   "metadata": {
    "ExecuteTime": {
     "end_time": "2020-08-01T06:48:29.796340Z",
     "start_time": "2020-08-01T06:48:29.791318Z"
    }
   },
   "outputs": [
    {
     "data": {
      "image/svg+xml": [
       "<svg xmlns=\"http://www.w3.org/2000/svg\" xmlns:xlink=\"http://www.w3.org/1999/xlink\" width=\"100.0\" height=\"100.0\" viewBox=\"72.78792063261695 18.915861986942048 0.06541316270075015 0.1141548517155222\" preserveAspectRatio=\"xMinYMin meet\"><g transform=\"matrix(1,0,0,-1,0,37.94587882559962)\"><g><path fill-rule=\"evenodd\" fill=\"#66cc99\" stroke=\"#555555\" stroke-width=\"0.002283097034310444\" opacity=\"0.6\" d=\"M 72.82596588134766,18.920089944412993 L 72.79214859008789,18.920089944412993 L 72.79214859008789,18.949641729713196 L 72.7928352355957,18.94314728021845 L 72.7928352355957,18.939737593083155 L 72.79386520385742,18.939899960716236 L 72.79764175415039,18.94720634076679 L 72.80845642089844,18.95516181306905 L 72.81343460083008,18.95353827809909 L 72.81909942626953,18.949317013240446 L 72.82201766967773,18.94558272839238 L 72.82373428344727,18.939737593083155 L 72.82390594482422,18.933892253144688 L 72.82115936279297,18.92772195016037 L 72.81909942626953,18.926098148340685 L 72.82356262207031,18.92285049736358 L 72.82596588134766,18.920089944412993 z\" /><path fill-rule=\"evenodd\" fill=\"#66cc99\" stroke=\"#555555\" stroke-width=\"0.002283097034310444\" opacity=\"0.6\" d=\"M 72.79214859008789,18.949641729713196 L 72.79214859008789,19.025788881186624 L 72.84910583784675,19.025788881186624 L 72.84910583784675,18.920089944412993 L 72.82596588134766,18.920089944412993 L 72.83248901367188,18.924636713211353 L 72.8422737121582,18.9571100341766 L 72.84605026245117,18.967337821632306 L 72.84587860107422,18.97009759329888 L 72.84107208251953,18.987142228930484 L 72.84090042114256,18.99038862844862 L 72.8419303894043,18.992174121202286 L 72.84347534179688,18.9929857024871 L 72.84587860107422,18.99736817304893 L 72.84690856933594,19.00175052820937 L 72.84570693969727,19.00467203419329 L 72.84708023071289,19.0069442811546 L 72.84896850585938,19.012624762749855 L 72.83454895019531,19.025283423553358 L 72.82064437866211,19.016844423462285 L 72.81137466430664,19.001588220817155 L 72.81291961669922,18.9929857024871 L 72.81137466430664,18.987629192893266 L 72.8148078918457,18.98389576612094 L 72.81034469604492,18.97821430393685 L 72.80588150024414,18.976590993437735 L 72.80313491821289,18.97009759329888 L 72.80313491821289,18.963928628849857 L 72.79214859008789,18.949641729713196 z\" /></g></g></svg>"
      ],
      "text/plain": [
       "<shapely.geometry.multipolygon.MultiPolygon at 0x16066b56c48>"
      ]
     },
     "execution_count": 40,
     "metadata": {},
     "output_type": "execute_result"
    }
   ],
   "source": [
    "outside_map_traverse_area"
   ]
  },
  {
   "cell_type": "code",
   "execution_count": 41,
   "metadata": {
    "ExecuteTime": {
     "end_time": "2020-08-01T06:48:30.203670Z",
     "start_time": "2020-08-01T06:48:30.091430Z"
    }
   },
   "outputs": [
    {
     "data": {
      "image/png": "[encoded data removed]",
      "text/plain": [
       "<Figure size 432x288 with 1 Axes>"
      ]
     },
     "metadata": {
      "needs_background": "light"
     },
     "output_type": "display_data"
    }
   ],
   "source": [
    "for z in obstacles:\n",
    "    x,y = z.exterior.xy\n",
    "    plt.plot(x,y, color = \"red\")\n",
    "#plt.plot(latitudelist,longitudelist,color = \"black\")"
   ]
  },
  {
   "cell_type": "code",
   "execution_count": 42,
   "metadata": {
    "ExecuteTime": {
     "end_time": "2020-08-01T06:48:30.361931Z",
     "start_time": "2020-08-01T06:48:30.345972Z"
    }
   },
   "outputs": [],
   "source": [
    "c = np.zeros([vertical,horizontal],dtype = int)\n",
    "lookup_c = np.zeros([vertical,horizontal],dtype = 'O')"
   ]
  },
  {
   "cell_type": "code",
   "execution_count": 43,
   "metadata": {
    "ExecuteTime": {
     "end_time": "2020-08-01T06:48:32.976373Z",
     "start_time": "2020-08-01T06:48:32.971380Z"
    }
   },
   "outputs": [],
   "source": [
    "obstacle_partial = {}\n",
    "for q in range(len(obstacles)):\n",
    "    obstacle_partial[q] = []"
   ]
  },
  {
   "cell_type": "code",
   "execution_count": 44,
   "metadata": {
    "ExecuteTime": {
     "end_time": "2020-08-01T06:48:33.922276Z",
     "start_time": "2020-08-01T06:48:33.465727Z"
    }
   },
   "outputs": [],
   "source": [
    "boundary_partial = []"
   ]
  },
  {
   "cell_type": "code",
   "execution_count": 45,
   "metadata": {
    "ExecuteTime": {
     "end_time": "2020-08-01T06:48:35.840467Z",
     "start_time": "2020-08-01T06:48:34.114015Z"
    }
   },
   "outputs": [],
   "source": [
    "for x in range(len(latitudelist)-1):\n",
    "    for y in range(len(longitudelist)-1):\n",
    "        square = Polygon([(longitudelist[y][1],latitudelist[x][0]),(longitudelist[y+1][1],latitudelist[x][0]),(longitudelist[y+1][1],latitudelist[x+1][0]),(longitudelist[y][1],latitudelist[x+1][0])]) \n",
    "        lookup_c[x,y] = square.centroid\n",
    "        # storing value of centre point\n",
    "        if(outside_map_traverse_area.contains(square)):\n",
    "            c[x,y] = -1  # region outside the map but inside the gird\n",
    "        if(square.intersects(mapboundary)):\n",
    "                z = square.intersection(mapboundary)\n",
    "                if(not z.is_empty):\n",
    "                    if(mapboundary.contains(z)):\n",
    "                        c[x,y] = 0 #region inside the map\n",
    "                    else:\n",
    "                        c[x,y] = 2 #2 is for boundary partial\n",
    "                        boundary_partial.append([x,y])\n",
    "                \n",
    "        for q in range(len(obstacles)):\n",
    "            if(square.intersects(obstacles[q])):\n",
    "                z = square.intersection(obstacles[q])\n",
    "                if(not z.is_empty):\n",
    "                    if(z.within(obstacles[q])):\n",
    "                        c[x,y] = -1    # inside the obstacle i.e fully covered\n",
    "                    else:\n",
    "                        if(not c[x,y] == 2):  \n",
    "                            c[x,y] = -2 # partially covered obstacle\n",
    "                            a = obstacle_partial[q]\n",
    "                            a.append([x,y])\n",
    "            elif(square.contains(obstacles[q])):\n",
    "                c[x,y] = -2 # partially covered obstacle"
   ]
  },
  {
   "cell_type": "code",
   "execution_count": 46,
   "metadata": {
    "ExecuteTime": {
     "end_time": "2020-08-01T06:48:36.330175Z",
     "start_time": "2020-08-01T06:48:36.326220Z"
    }
   },
   "outputs": [
    {
     "name": "stdout",
     "output_type": "stream",
     "text": [
      "POINT (72.79262323381941 18.92054165182155)\n"
     ]
    }
   ],
   "source": [
    "print(lookup_c[0][0])"
   ]
  },
  {
   "cell_type": "code",
   "execution_count": 51,
   "metadata": {
    "ExecuteTime": {
     "end_time": "2020-08-01T06:49:32.154281Z",
     "start_time": "2020-08-01T06:49:32.150323Z"
    }
   },
   "outputs": [],
   "source": [
    "darpmatrix = np.zeros([vertical,horizontal],dtype = int)\n",
    "np.copyto(darpmatrix,c)"
   ]
  },
  {
   "cell_type": "code",
   "execution_count": 59,
   "metadata": {
    "ExecuteTime": {
     "end_time": "2020-08-01T06:52:28.945072Z",
     "start_time": "2020-08-01T06:52:28.940086Z"
    }
   },
   "outputs": [],
   "source": [
    "darpmatrix[darpmatrix==-2] = -1\n",
    "darpmatrix[darpmatrix==2]  = -1"
   ]
  },
  {
   "cell_type": "code",
   "execution_count": 60,
   "metadata": {
    "ExecuteTime": {
     "end_time": "2020-08-01T06:52:30.343707Z",
     "start_time": "2020-08-01T06:52:30.237405Z"
    }
   },
   "outputs": [
    {
     "data": {
      "image/png": "[encoded data removed]",
      "text/plain": [
       "<Figure size 432x288 with 1 Axes>"
      ]
     },
     "metadata": {
      "needs_background": "light"
     },
     "output_type": "display_data"
    }
   ],
   "source": [
    "import matplotlib.pyplot as plt\n",
    "a = plt.imshow(c, interpolation = 'nearest')\n",
    "plt.gca().invert_yaxis()"
   ]
  },
  {
   "cell_type": "code",
   "execution_count": 20,
   "metadata": {
    "ExecuteTime": {
     "end_time": "2020-08-01T03:09:06.162903Z",
     "start_time": "2020-08-01T03:09:06.158914Z"
    }
   },
   "outputs": [],
   "source": [
    "obstacle_partial_neighbours = {}\n",
    "for q in range(len(obstacles)):\n",
    "    obstacle_partial_neighbours[q] = []"
   ]
  },
  {
   "cell_type": "code",
   "execution_count": 21,
   "metadata": {
    "ExecuteTime": {
     "end_time": "2020-08-01T03:09:07.709675Z",
     "start_time": "2020-08-01T03:09:07.704688Z"
    }
   },
   "outputs": [],
   "source": [
    "def neighboursA(x, y):\n",
    "    for dx in [-1, 1]:\n",
    "        yield x + dx, y\n",
    "    for dy in [-1, 1]:\n",
    "        yield x, y + dy"
   ]
  },
  {
   "cell_type": "code",
   "execution_count": 22,
   "metadata": {
    "ExecuteTime": {
     "end_time": "2020-08-01T03:09:08.502772Z",
     "start_time": "2020-08-01T03:09:08.493794Z"
    }
   },
   "outputs": [],
   "source": [
    "for x in obstacle_partial:\n",
    "    for y in obstacle_partial[x]:\n",
    "        if(not c[y[0]][y[1]]==2):\n",
    "            for dx, dy in neighboursA(y[0],y[1]):\n",
    "                if (c[dx][dy]== 0):\n",
    "                    obstacle_partial_neighbours[x].append([dx,dy])"
   ]
  },
  {
   "cell_type": "code",
   "execution_count": 23,
   "metadata": {
    "ExecuteTime": {
     "end_time": "2020-08-01T03:09:27.083218Z",
     "start_time": "2020-08-01T03:09:27.079230Z"
    }
   },
   "outputs": [],
   "source": [
    "for x in obstacle_partial_neighbours:\n",
    "    for y in obstacle_partial_neighbours[x]:\n",
    "        c[y[0]][y[1]] = 3"
   ]
  },
  {
   "cell_type": "code",
   "execution_count": 24,
   "metadata": {
    "ExecuteTime": {
     "end_time": "2020-08-01T03:09:30.360839Z",
     "start_time": "2020-08-01T03:09:30.181793Z"
    }
   },
   "outputs": [
    {
     "data": {
      "image/png": "[encoded data removed]",
      "text/plain": [
       "<Figure size 432x288 with 1 Axes>"
      ]
     },
     "metadata": {
      "needs_background": "light"
     },
     "output_type": "display_data"
    }
   ],
   "source": [
    "import matplotlib.pyplot as plt\n",
    "a = plt.imshow(c, interpolation = 'nearest')\n",
    "plt.gca().invert_yaxis()"
   ]
  },
  {
   "cell_type": "code",
   "execution_count": 25,
   "metadata": {
    "ExecuteTime": {
     "end_time": "2020-08-01T03:09:58.455075Z",
     "start_time": "2020-08-01T03:09:58.448093Z"
    }
   },
   "outputs": [],
   "source": [
    "boundary_partial_neighbours = []"
   ]
  },
  {
   "cell_type": "code",
   "execution_count": 26,
   "metadata": {
    "ExecuteTime": {
     "end_time": "2020-08-01T03:09:58.828304Z",
     "start_time": "2020-08-01T03:09:58.822319Z"
    }
   },
   "outputs": [],
   "source": [
    "for x in boundary_partial:\n",
    "    if(x[0]>0 and x[0]<vertical-1 and x[1]>0 and x[1]<horizontal-1):\n",
    "        for dx, dy in neighboursA(x[0],x[1]):\n",
    "            if (c[dx][dy]== 0):\n",
    "                boundary_partial_neighbours.append([dx,dy])"
   ]
  },
  {
   "cell_type": "code",
   "execution_count": 27,
   "metadata": {
    "ExecuteTime": {
     "end_time": "2020-08-01T03:09:59.212327Z",
     "start_time": "2020-08-01T03:09:59.207372Z"
    }
   },
   "outputs": [],
   "source": [
    "for x in boundary_partial_neighbours:\n",
    "    c[x[0]][x[1]] = 6"
   ]
  },
  {
   "cell_type": "code",
   "execution_count": 28,
   "metadata": {
    "ExecuteTime": {
     "end_time": "2020-08-01T03:10:00.181071Z",
     "start_time": "2020-08-01T03:10:00.055344Z"
    }
   },
   "outputs": [
    {
     "data": {
      "image/png": "[encoded data removed]",
      "text/plain": [
       "<Figure size 432x288 with 1 Axes>"
      ]
     },
     "metadata": {
      "needs_background": "light"
     },
     "output_type": "display_data"
    }
   ],
   "source": [
    "import matplotlib.pyplot as plt\n",
    "a = plt.imshow(c, interpolation = 'nearest')\n",
    "plt.gca().invert_yaxis()"
   ]
  },
  {
   "cell_type": "code",
   "execution_count": 30,
   "metadata": {
    "ExecuteTime": {
     "end_time": "2020-08-01T03:13:25.578860Z",
     "start_time": "2020-08-01T03:13:25.572875Z"
    }
   },
   "outputs": [],
   "source": [
    "import pyvisgraph as vg"
   ]
  },
  {
   "cell_type": "code",
   "execution_count": 31,
   "metadata": {
    "ExecuteTime": {
     "end_time": "2020-08-01T03:13:30.206735Z",
     "start_time": "2020-08-01T03:13:30.186768Z"
    }
   },
   "outputs": [
    {
     "name": "stdout",
     "output_type": "stream",
     "text": [
      "72.82304763793945 19.003211287614203\n",
      "72.82304763793945 19.013598540111825\n",
      "72.83403396606445 19.013598540111825\n",
      "72.83403396606445 19.003211287614203\n",
      "72.82304763793945 19.003211287614203\n"
     ]
    }
   ],
   "source": [
    "x,y = obstacles[0].exterior.coords.xy\n",
    "for _ in range(len(x)):\n",
    "    print(x[_],y[_])"
   ]
  },
  {
   "cell_type": "code",
   "execution_count": 32,
   "metadata": {
    "ExecuteTime": {
     "end_time": "2020-08-01T03:13:42.630698Z",
     "start_time": "2020-08-01T03:13:42.625681Z"
    }
   },
   "outputs": [],
   "source": [
    "polygons = []\n",
    "for shape in obstacles:\n",
    "    polygon = []\n",
    "    if(not shape.geom_type==\"Polygon\"):\n",
    "        x,y = shape.xy\n",
    "        print(x,y)\n",
    "    else:\n",
    "        x, y = shape.exterior.coords.xy\n",
    "    for _ in range(len(x)):\n",
    "        polygon.append(vg.Point(x[_], y[_]))\n",
    "        polygons.append(polygon)"
   ]
  },
  {
   "cell_type": "code",
   "execution_count": 38,
   "metadata": {
    "ExecuteTime": {
     "end_time": "2020-08-01T03:15:24.347123Z",
     "start_time": "2020-08-01T03:15:24.340142Z"
    }
   },
   "outputs": [
    {
     "name": "stdout",
     "output_type": "stream",
     "text": [
      "[[Point(72.82, 19.00), Point(72.82, 19.01), Point(72.83, 19.01), Point(72.83, 19.00)], [Point(72.82, 19.00), Point(72.82, 19.01), Point(72.83, 19.01), Point(72.83, 19.00)], [Point(72.82, 19.00), Point(72.82, 19.01), Point(72.83, 19.01), Point(72.83, 19.00)], [Point(72.82, 19.00), Point(72.82, 19.01), Point(72.83, 19.01), Point(72.83, 19.00)], [Point(72.82, 19.00), Point(72.82, 19.01), Point(72.83, 19.01), Point(72.83, 19.00)], [Point(72.82, 18.96), Point(72.82, 18.98), Point(72.83, 18.98), Point(72.83, 18.96)], [Point(72.82, 18.96), Point(72.82, 18.98), Point(72.83, 18.98), Point(72.83, 18.96)], [Point(72.82, 18.96), Point(72.82, 18.98), Point(72.83, 18.98), Point(72.83, 18.96)], [Point(72.82, 18.96), Point(72.82, 18.98), Point(72.83, 18.98), Point(72.83, 18.96)], [Point(72.82, 18.96), Point(72.82, 18.98), Point(72.83, 18.98), Point(72.83, 18.96)], [Point(72.83, 19.00), Point(72.83, 19.00), Point(72.84, 19.00), Point(72.84, 19.00), Point(72.84, 19.00), Point(72.84, 18.99), Point(72.83, 18.98), Point(72.82, 18.99)], [Point(72.83, 19.00), Point(72.83, 19.00), Point(72.84, 19.00), Point(72.84, 19.00), Point(72.84, 19.00), Point(72.84, 18.99), Point(72.83, 18.98), Point(72.82, 18.99)], [Point(72.83, 19.00), Point(72.83, 19.00), Point(72.84, 19.00), Point(72.84, 19.00), Point(72.84, 19.00), Point(72.84, 18.99), Point(72.83, 18.98), Point(72.82, 18.99)], [Point(72.83, 19.00), Point(72.83, 19.00), Point(72.84, 19.00), Point(72.84, 19.00), Point(72.84, 19.00), Point(72.84, 18.99), Point(72.83, 18.98), Point(72.82, 18.99)], [Point(72.83, 19.00), Point(72.83, 19.00), Point(72.84, 19.00), Point(72.84, 19.00), Point(72.84, 19.00), Point(72.84, 18.99), Point(72.83, 18.98), Point(72.82, 18.99)], [Point(72.83, 19.00), Point(72.83, 19.00), Point(72.84, 19.00), Point(72.84, 19.00), Point(72.84, 19.00), Point(72.84, 18.99), Point(72.83, 18.98), Point(72.82, 18.99)], [Point(72.83, 19.00), Point(72.83, 19.00), Point(72.84, 19.00), Point(72.84, 19.00), Point(72.84, 19.00), Point(72.84, 18.99), Point(72.83, 18.98), Point(72.82, 18.99)], [Point(72.83, 19.00), Point(72.83, 19.00), Point(72.84, 19.00), Point(72.84, 19.00), Point(72.84, 19.00), Point(72.84, 18.99), Point(72.83, 18.98), Point(72.82, 18.99)], [Point(72.83, 19.00), Point(72.83, 19.00), Point(72.84, 19.00), Point(72.84, 19.00), Point(72.84, 19.00), Point(72.84, 18.99), Point(72.83, 18.98), Point(72.82, 18.99)]]\n"
     ]
    }
   ],
   "source": [
    "print(polygons)"
   ]
  },
  {
   "cell_type": "code",
   "execution_count": 33,
   "metadata": {
    "ExecuteTime": {
     "end_time": "2020-08-01T03:13:48.665545Z",
     "start_time": "2020-08-01T03:13:48.661510Z"
    }
   },
   "outputs": [],
   "source": [
    "graph = vg.VisGraph()"
   ]
  },
  {
   "cell_type": "code",
   "execution_count": 34,
   "metadata": {
    "ExecuteTime": {
     "end_time": "2020-08-01T03:13:50.379620Z",
     "start_time": "2020-08-01T03:13:50.354655Z"
    }
   },
   "outputs": [
    {
     "name": "stderr",
     "output_type": "stream",
     "text": [
      "100%|██████████| 2/2 [00:00<00:00, 250.69it/s]\n"
     ]
    }
   ],
   "source": [
    "graph.build(polygons)"
   ]
  },
  {
   "cell_type": "code",
   "execution_count": 49,
   "metadata": {
    "ExecuteTime": {
     "end_time": "2020-08-01T03:18:50.967521Z",
     "start_time": "2020-08-01T03:18:50.962501Z"
    }
   },
   "outputs": [
    {
     "name": "stdout",
     "output_type": "stream",
     "text": [
      "72.81160898307775\n"
     ]
    }
   ],
   "source": [
    "initial = lookup_c[40][20].xy\n",
    "final = lookup_c[50][42].xy\n",
    "print(initial[0][0])"
   ]
  },
  {
   "cell_type": "code",
   "execution_count": 41,
   "metadata": {
    "ExecuteTime": {
     "end_time": "2020-08-01T03:17:54.252717Z",
     "start_time": "2020-08-01T03:17:54.245739Z"
    }
   },
   "outputs": [],
   "source": [
    "shortest = graph.shortest_path(vg.Point(initial[0][0],initial[1][0]), vg.Point(final[0][0],final[1][0]))"
   ]
  },
  {
   "cell_type": "code",
   "execution_count": 42,
   "metadata": {
    "ExecuteTime": {
     "end_time": "2020-08-01T03:17:54.939676Z",
     "start_time": "2020-08-01T03:17:54.934658Z"
    }
   },
   "outputs": [
    {
     "name": "stdout",
     "output_type": "stream",
     "text": [
      "[Point(72.81, 18.96), Point(72.82, 18.96), Point(72.83, 18.97)]\n"
     ]
    }
   ],
   "source": [
    "print(shortest)"
   ]
  },
  {
   "cell_type": "code",
   "execution_count": 43,
   "metadata": {
    "ExecuteTime": {
     "end_time": "2020-08-01T03:17:55.372052Z",
     "start_time": "2020-08-01T03:17:55.366068Z"
    }
   },
   "outputs": [],
   "source": [
    "path_distance = 0\n",
    "prev_point = shortest[0]\n",
    "for point in shortest[1:]:\n",
    "    path_distance += haversine((prev_point.y, prev_point.x), (point.y, point.x))\n",
    "    prev_point = point"
   ]
  },
  {
   "cell_type": "code",
   "execution_count": 44,
   "metadata": {
    "ExecuteTime": {
     "end_time": "2020-08-01T03:17:56.194651Z",
     "start_time": "2020-08-01T03:17:56.189665Z"
    }
   },
   "outputs": [
    {
     "name": "stdout",
     "output_type": "stream",
     "text": [
      "2.4582859804919046\n"
     ]
    }
   ],
   "source": [
    "print(path_distance)"
   ]
  },
  {
   "cell_type": "code",
   "execution_count": 57,
   "metadata": {
    "ExecuteTime": {
     "end_time": "2020-07-31T22:41:39.191461Z",
     "start_time": "2020-07-31T22:41:39.188492Z"
    }
   },
   "outputs": [],
   "source": [
    "list_of_fuelstations = []"
   ]
  },
  {
   "cell_type": "code",
   "execution_count": 58,
   "metadata": {
    "ExecuteTime": {
     "end_time": "2020-07-31T22:41:39.489515Z",
     "start_time": "2020-07-31T22:41:39.485527Z"
    }
   },
   "outputs": [],
   "source": [
    "circles = []"
   ]
  },
  {
   "cell_type": "code",
   "execution_count": 59,
   "metadata": {
    "ExecuteTime": {
     "end_time": "2020-07-31T22:41:39.795484Z",
     "start_time": "2020-07-31T22:41:39.791483Z"
    }
   },
   "outputs": [],
   "source": [
    "def fuelchecker(mapboundary):\n",
    "    for x in list_of_fuelstations:\n",
    "        circles.append(x.buffer(distance))\n",
    "    fuelling_range = unary_union(circles)\n",
    "    if(mapboundary.within(fuelling_range)):\n",
    "        print(\"All good\")\n",
    "    else:\n",
    "        print(\"Some Points are outside the fuelling station!\")\n",
    "        print(\"Taking them as obstacles\")\n",
    "        mapboundary = mapboundary.intersection(feulling_range)"
   ]
  },
  {
   "cell_type": "code",
   "execution_count": 60,
   "metadata": {
    "ExecuteTime": {
     "end_time": "2020-07-31T22:41:40.240914Z",
     "start_time": "2020-07-31T22:41:40.105246Z"
    },
    "scrolled": true
   },
   "outputs": [
    {
     "name": "stdout",
     "output_type": "stream",
     "text": [
      "Some Points are outside the fuelling station!\n",
      "Taking them as obstacles\n"
     ]
    },
    {
     "ename": "NameError",
     "evalue": "name 'feulling_range' is not defined",
     "output_type": "error",
     "traceback": [
      "\u001b[1;31m---------------------------------------------------------------------------\u001b[0m",
      "\u001b[1;31mNameError\u001b[0m                                 Traceback (most recent call last)",
      "\u001b[1;32m<ipython-input-60-76db621fb2e7>\u001b[0m in \u001b[0;36m<module>\u001b[1;34m\u001b[0m\n\u001b[1;32m----> 1\u001b[1;33m \u001b[0mfuelchecker\u001b[0m\u001b[1;33m(\u001b[0m\u001b[0mmapboundary\u001b[0m\u001b[1;33m)\u001b[0m\u001b[1;33m\u001b[0m\u001b[1;33m\u001b[0m\u001b[0m\n\u001b[0m",
      "\u001b[1;32m<ipython-input-59-44f1d3fdc732>\u001b[0m in \u001b[0;36mfuelchecker\u001b[1;34m(mapboundary)\u001b[0m\n\u001b[0;32m      8\u001b[0m         \u001b[0mprint\u001b[0m\u001b[1;33m(\u001b[0m\u001b[1;34m\"Some Points are outside the fuelling station!\"\u001b[0m\u001b[1;33m)\u001b[0m\u001b[1;33m\u001b[0m\u001b[1;33m\u001b[0m\u001b[0m\n\u001b[0;32m      9\u001b[0m         \u001b[0mprint\u001b[0m\u001b[1;33m(\u001b[0m\u001b[1;34m\"Taking them as obstacles\"\u001b[0m\u001b[1;33m)\u001b[0m\u001b[1;33m\u001b[0m\u001b[1;33m\u001b[0m\u001b[0m\n\u001b[1;32m---> 10\u001b[1;33m         \u001b[0mmapboundary\u001b[0m \u001b[1;33m=\u001b[0m \u001b[0mmapboundary\u001b[0m\u001b[1;33m.\u001b[0m\u001b[0mintersection\u001b[0m\u001b[1;33m(\u001b[0m\u001b[0mfeulling_range\u001b[0m\u001b[1;33m)\u001b[0m\u001b[1;33m\u001b[0m\u001b[1;33m\u001b[0m\u001b[0m\n\u001b[0m",
      "\u001b[1;31mNameError\u001b[0m: name 'feulling_range' is not defined"
     ]
    }
   ],
   "source": [
    "fuelchecker(mapboundary)"
   ]
  },
  {
   "cell_type": "code",
   "execution_count": 61,
   "metadata": {
    "ExecuteTime": {
     "end_time": "2020-07-31T22:41:40.772485Z",
     "start_time": "2020-07-31T22:41:40.768519Z"
    }
   },
   "outputs": [],
   "source": [
    "import geopy\n",
    "import geopy.distance"
   ]
  },
  {
   "cell_type": "code",
   "execution_count": 62,
   "metadata": {
    "ExecuteTime": {
     "end_time": "2020-07-31T22:41:41.066821Z",
     "start_time": "2020-07-31T22:41:41.061834Z"
    }
   },
   "outputs": [],
   "source": [
    "start = geopy.Point(-48.853, 2.349)"
   ]
  },
  {
   "cell_type": "code",
   "execution_count": 63,
   "metadata": {
    "ExecuteTime": {
     "end_time": "2020-07-31T22:41:41.333269Z",
     "start_time": "2020-07-31T22:41:41.329280Z"
    }
   },
   "outputs": [],
   "source": [
    "d = geopy.distance.distance(kilometers = 1)"
   ]
  },
  {
   "cell_type": "code",
   "execution_count": 64,
   "metadata": {
    "ExecuteTime": {
     "end_time": "2020-07-31T22:41:41.532837Z",
     "start_time": "2020-07-31T22:41:41.527882Z"
    }
   },
   "outputs": [],
   "source": [
    "final = d.destination(point=start, bearing=90)"
   ]
  },
  {
   "cell_type": "code",
   "execution_count": 65,
   "metadata": {
    "ExecuteTime": {
     "end_time": "2020-07-31T22:41:41.751939Z",
     "start_time": "2020-07-31T22:41:41.747950Z"
    }
   },
   "outputs": [
    {
     "name": "stdout",
     "output_type": "stream",
     "text": [
      "48 51m 10.7971s S, 2 21m 45.4551s E\n"
     ]
    }
   ],
   "source": [
    "print(final)"
   ]
  },
  {
   "cell_type": "code",
   "execution_count": 66,
   "metadata": {
    "ExecuteTime": {
     "end_time": "2020-07-31T22:41:41.982573Z",
     "start_time": "2020-07-31T22:41:41.976586Z"
    }
   },
   "outputs": [
    {
     "data": {
      "text/plain": [
       "Point(-48.85299919479592, 2.362626412505501, 0.0)"
      ]
     },
     "execution_count": 66,
     "metadata": {},
     "output_type": "execute_result"
    }
   ],
   "source": [
    "final"
   ]
  },
  {
   "cell_type": "code",
   "execution_count": null,
   "metadata": {},
   "outputs": [],
   "source": []
  },
  {
   "cell_type": "code",
   "execution_count": null,
   "metadata": {},
   "outputs": [],
   "source": []
  },
  {
   "cell_type": "code",
   "execution_count": null,
   "metadata": {},
   "outputs": [],
   "source": []
  }
 ],
 "metadata": {
  "kernelspec": {
   "display_name": "Python 3",
   "language": "python",
   "name": "python3"
  },
  "language_info": {
   "codemirror_mode": {
    "name": "ipython",
    "version": 3
   },
   "file_extension": ".py",
   "mimetype": "text/x-python",
   "name": "python",
   "nbconvert_exporter": "python",
   "pygments_lexer": "ipython3",
   "version": "3.7.4"
  }
 },
 "nbformat": 4,
 "nbformat_minor": 2
}
