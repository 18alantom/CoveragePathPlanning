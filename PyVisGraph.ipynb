{
 "cells": [
  {
   "cell_type": "code",
   "execution_count": 1,
   "metadata": {
    "ExecuteTime": {
     "end_time": "2020-07-31T08:26:37.973180Z",
     "start_time": "2020-07-31T08:26:37.109652Z"
    }
   },
   "outputs": [],
   "source": [
    "import geopandas\n",
    "import geojson\n",
    "import json\n",
    "import sys\n",
    "import shapely\n",
    "from shapely.geometry import shape\n",
    "from haversine import haversine, Unit\n",
    "from shapely.geometry import Polygon\n",
    "from shapely.geometry import Point\n",
    "from shapely.geometry import LineString\n",
    "from math import ceil\n",
    "import numpy as np\n",
    "import matplotlib.pyplot as plt\n",
    "from shapely.ops import unary_union\n",
    "import geopy\n",
    "import geopy.distance\n",
    "import pyproj\n",
    "from shapely.ops import transform\n",
    "from functools import partial"
   ]
  },
  {
   "cell_type": "code",
   "execution_count": 2,
   "metadata": {
    "ExecuteTime": {
     "end_time": "2020-07-31T08:26:38.042674Z",
     "start_time": "2020-07-31T08:26:37.974144Z"
    }
   },
   "outputs": [],
   "source": [
    "myshpfile = geopandas.read_file('layers\\\\POLYGON.shp')\n",
    "myshpfile.to_file('myJson.geojson', driver='GeoJSON')\n",
    "with open('myJson.geojson') as f:\n",
    "    features = json.load(f)[\"features\"]\n",
    "maparea = ([shape(feature[\"geometry\"]).buffer(0) for feature in features])"
   ]
  },
  {
   "cell_type": "markdown",
   "metadata": {
    "ExecuteTime": {
     "end_time": "2020-07-31T07:42:11.001619Z",
     "start_time": "2020-07-31T07:42:10.991646Z"
    }
   },
   "source": [
    "tfm = partial(pyproj.transform, \n",
    "              pyproj.Proj(init=\"epsg:4326\"), \n",
    "              pyproj.Proj(init=\"epsg:3031\"))\n",
    "#for _ in range(4)\n",
    "outer_rect = shapely.ops.transform(tfm, maparea[0])\n",
    "print(outer_rect)\n",
    "obstacles = []\n",
    "for _ in range(1,4):\n",
    "    obstacles.append(shapely.ops.transform(tfm, maparea[_]))"
   ]
  },
  {
   "cell_type": "code",
   "execution_count": 3,
   "metadata": {
    "ExecuteTime": {
     "end_time": "2020-07-31T08:26:38.705152Z",
     "start_time": "2020-07-31T08:26:38.697143Z"
    }
   },
   "outputs": [
    {
     "name": "stdout",
     "output_type": "stream",
     "text": [
      "[<shapely.geometry.polygon.Polygon object at 0x00000258611A2C48>, <shapely.geometry.polygon.Polygon object at 0x00000258611A2DC8>, <shapely.geometry.polygon.Polygon object at 0x00000258611E1508>]\n"
     ]
    }
   ],
   "source": [
    "obstacles = []\n",
    "for _ in range(1,4):\n",
    "    obstacles.append(maparea[_])\n",
    "print(obstacles)"
   ]
  },
  {
   "cell_type": "code",
   "execution_count": 4,
   "metadata": {
    "ExecuteTime": {
     "end_time": "2020-07-31T08:26:38.933179Z",
     "start_time": "2020-07-31T08:26:38.930153Z"
    }
   },
   "outputs": [],
   "source": [
    "outer_rect = maparea[0].bounds"
   ]
  },
  {
   "cell_type": "code",
   "execution_count": 5,
   "metadata": {
    "ExecuteTime": {
     "end_time": "2020-07-31T08:26:39.260755Z",
     "start_time": "2020-07-31T08:26:39.208705Z"
    }
   },
   "outputs": [
    {
     "name": "stdout",
     "output_type": "stream",
     "text": [
      "(72.79214859008789, 18.920089944412993, 72.84896850585938, 19.025283423553358)\n"
     ]
    }
   ],
   "source": [
    "print(outer_rect)"
   ]
  },
  {
   "cell_type": "code",
   "execution_count": 6,
   "metadata": {
    "ExecuteTime": {
     "end_time": "2020-07-31T08:26:39.490099Z",
     "start_time": "2020-07-31T08:26:39.487125Z"
    }
   },
   "outputs": [],
   "source": [
    "#haversine takes lat,long  whereas the pts are long,lat\n"
   ]
  },
  {
   "cell_type": "code",
   "execution_count": null,
   "metadata": {
    "ExecuteTime": {
     "end_time": "2020-07-31T07:00:09.117742Z",
     "start_time": "2020-07-31T07:00:09.068961Z"
    }
   },
   "outputs": [],
   "source": []
  },
  {
   "cell_type": "code",
   "execution_count": null,
   "metadata": {
    "ExecuteTime": {
     "end_time": "2020-07-31T07:00:09.171017Z",
     "start_time": "2020-07-31T07:00:09.118707Z"
    }
   },
   "outputs": [],
   "source": []
  },
  {
   "cell_type": "code",
   "execution_count": null,
   "metadata": {
    "ExecuteTime": {
     "end_time": "2020-07-31T07:00:09.221125Z",
     "start_time": "2020-07-31T07:00:09.172013Z"
    }
   },
   "outputs": [],
   "source": []
  },
  {
   "cell_type": "code",
   "execution_count": null,
   "metadata": {
    "ExecuteTime": {
     "end_time": "2020-07-31T07:00:09.273203Z",
     "start_time": "2020-07-31T07:00:09.222122Z"
    }
   },
   "outputs": [],
   "source": []
  },
  {
   "cell_type": "code",
   "execution_count": null,
   "metadata": {
    "ExecuteTime": {
     "end_time": "2020-07-31T07:00:09.323378Z",
     "start_time": "2020-07-31T07:00:09.275198Z"
    }
   },
   "outputs": [],
   "source": []
  },
  {
   "cell_type": "code",
   "execution_count": null,
   "metadata": {
    "ExecuteTime": {
     "end_time": "2020-07-31T07:00:09.375149Z",
     "start_time": "2020-07-31T07:00:09.325372Z"
    }
   },
   "outputs": [],
   "source": []
  },
  {
   "cell_type": "code",
   "execution_count": null,
   "metadata": {
    "ExecuteTime": {
     "end_time": "2020-07-31T07:00:09.427019Z",
     "start_time": "2020-07-31T07:00:09.376146Z"
    }
   },
   "outputs": [],
   "source": []
  },
  {
   "cell_type": "code",
   "execution_count": null,
   "metadata": {
    "ExecuteTime": {
     "end_time": "2020-07-31T07:00:09.477131Z",
     "start_time": "2020-07-31T07:00:09.429022Z"
    }
   },
   "outputs": [],
   "source": []
  },
  {
   "cell_type": "code",
   "execution_count": null,
   "metadata": {
    "ExecuteTime": {
     "end_time": "2020-07-31T07:00:09.528205Z",
     "start_time": "2020-07-31T07:00:09.478127Z"
    }
   },
   "outputs": [],
   "source": []
  },
  {
   "cell_type": "code",
   "execution_count": 7,
   "metadata": {
    "ExecuteTime": {
     "end_time": "2020-07-31T08:26:41.585059Z",
     "start_time": "2020-07-31T08:26:41.573091Z"
    }
   },
   "outputs": [],
   "source": [
    "def gridpoints(rect,dist):\n",
    "    height = haversine((rect[1],rect[0]),(rect[3],rect[0]))\n",
    "    length = haversine((rect[1],rect[0]),(rect[1],rect[2]))\n",
    "    d = geopy.distance.distance(kilometers = dist)\n",
    "    horizontalcells = ceil(length/dist)\n",
    "    verticalcells = ceil(height/dist)\n",
    "    \n",
    "    latitudelist = []\n",
    "    start = geopy.Point(rect[1],rect[0])\n",
    "    for _ in range(verticalcells):\n",
    "        latitudelist.append(start)\n",
    "        final = d.destination(point=start, bearing=0)\n",
    "        start = final\n",
    "    latitudelist.append(start)\n",
    "    \n",
    "    longitudelist = []\n",
    "    start = geopy.Point(rect[1],rect[0])\n",
    "    for _ in range(horizontalcells):\n",
    "        longitudelist.append(start)\n",
    "        final = d.destination(point=start, bearing=90)\n",
    "        start = final\n",
    "    longitudelist.append(start)\n",
    "    \n",
    "    return latitudelist,longitudelist,verticalcells,horizontalcells"
   ]
  },
  {
   "cell_type": "code",
   "execution_count": 8,
   "metadata": {
    "ExecuteTime": {
     "end_time": "2020-07-31T08:26:42.987670Z",
     "start_time": "2020-07-31T08:26:41.822061Z"
    }
   },
   "outputs": [],
   "source": [
    "latitudelist,longitudelist,vertical,horizontal = gridpoints(outer_rect,0.1) #binding rectangle and distance are sent as parameters"
   ]
  },
  {
   "cell_type": "code",
   "execution_count": 9,
   "metadata": {
    "ExecuteTime": {
     "end_time": "2020-07-31T08:26:43.028088Z",
     "start_time": "2020-07-31T08:26:42.989501Z"
    }
   },
   "outputs": [
    {
     "name": "stdout",
     "output_type": "stream",
     "text": [
      "72.84910583784675\n"
     ]
    }
   ],
   "source": [
    "print(longitudelist[horizontal][1])"
   ]
  },
  {
   "cell_type": "code",
   "execution_count": 10,
   "metadata": {
    "ExecuteTime": {
     "end_time": "2020-07-31T08:26:43.078228Z",
     "start_time": "2020-07-31T08:26:43.029088Z"
    }
   },
   "outputs": [
    {
     "data": {
      "text/plain": [
       "117"
      ]
     },
     "execution_count": 10,
     "metadata": {},
     "output_type": "execute_result"
    }
   ],
   "source": [
    "vertical"
   ]
  },
  {
   "cell_type": "code",
   "execution_count": null,
   "metadata": {},
   "outputs": [],
   "source": []
  },
  {
   "cell_type": "code",
   "execution_count": 11,
   "metadata": {
    "ExecuteTime": {
     "end_time": "2020-07-31T08:26:43.128821Z",
     "start_time": "2020-07-31T08:26:43.079201Z"
    }
   },
   "outputs": [],
   "source": [
    "c = np.ones([vertical,horizontal],dtype = bool)"
   ]
  },
  {
   "cell_type": "code",
   "execution_count": 12,
   "metadata": {
    "ExecuteTime": {
     "end_time": "2020-07-31T08:26:43.180031Z",
     "start_time": "2020-07-31T08:26:43.129771Z"
    }
   },
   "outputs": [],
   "source": [
    "mapboundary = maparea[0]"
   ]
  },
  {
   "cell_type": "code",
   "execution_count": 13,
   "metadata": {
    "ExecuteTime": {
     "end_time": "2020-07-31T08:26:43.232823Z",
     "start_time": "2020-07-31T08:26:43.181027Z"
    }
   },
   "outputs": [
    {
     "data": {
      "image/svg+xml": [
       "<svg xmlns=\"http://www.w3.org/2000/svg\" xmlns:xlink=\"http://www.w3.org/1999/xlink\" width=\"100.0\" height=\"100.0\" viewBox=\"72.78794085092228 18.915882205247378 0.06523539410270018 0.11360895747159461\" preserveAspectRatio=\"xMinYMin meet\"><g transform=\"matrix(1,0,0,-1,0,37.945373367966354)\"><path fill-rule=\"evenodd\" fill=\"#66cc99\" stroke=\"#555555\" stroke-width=\"0.0022721791494318922\" opacity=\"0.6\" d=\"M 72.83454895019531,19.025283423553358 L 72.84896850585938,19.012624762749855 L 72.84708023071289,19.0069442811546 L 72.84570693969727,19.00467203419329 L 72.84690856933594,19.00175052820937 L 72.84587860107422,18.99736817304893 L 72.84347534179688,18.9929857024871 L 72.8419303894043,18.992174121202286 L 72.84090042114256,18.99038862844862 L 72.84107208251953,18.987142228930484 L 72.84587860107422,18.97009759329888 L 72.84605026245117,18.967337821632306 L 72.8422737121582,18.9571100341766 L 72.83248901367188,18.924636713211353 L 72.82596588134766,18.920089944412993 L 72.82356262207031,18.92285049736358 L 72.81909942626953,18.926098148340685 L 72.82115936279297,18.92772195016037 L 72.82390594482422,18.933892253144688 L 72.82373428344727,18.939737593083155 L 72.82201766967773,18.94558272839238 L 72.81909942626953,18.949317013240446 L 72.81343460083008,18.95353827809909 L 72.80845642089844,18.95516181306905 L 72.79764175415039,18.94720634076679 L 72.79386520385742,18.939899960716236 L 72.7928352355957,18.939737593083155 L 72.7928352355957,18.94314728021845 L 72.79214859008789,18.949641729713196 L 72.80313491821289,18.963928628849857 L 72.80313491821289,18.97009759329888 L 72.80588150024414,18.976590993437735 L 72.81034469604492,18.97821430393685 L 72.8148078918457,18.98389576612094 L 72.81137466430664,18.987629192893266 L 72.81291961669922,18.9929857024871 L 72.81137466430664,19.001588220817155 L 72.82064437866211,19.016844423462285 L 72.83454895019531,19.025283423553358 z\" /></g></svg>"
      ],
      "text/plain": [
       "<shapely.geometry.polygon.Polygon at 0x258611a2788>"
      ]
     },
     "execution_count": 13,
     "metadata": {},
     "output_type": "execute_result"
    }
   ],
   "source": [
    "maparea[0]"
   ]
  },
  {
   "cell_type": "code",
   "execution_count": 14,
   "metadata": {
    "ExecuteTime": {
     "end_time": "2020-07-31T08:26:43.328453Z",
     "start_time": "2020-07-31T08:26:43.324431Z"
    }
   },
   "outputs": [],
   "source": [
    "boundingrectangle = Polygon([(longitudelist[0][1],latitudelist[0][0]),(longitudelist[horizontal][1],latitudelist[0][0]),(longitudelist[horizontal][1],latitudelist[vertical][0]),(longitudelist[0][1],latitudelist[vertical][0])]) "
   ]
  },
  {
   "cell_type": "code",
   "execution_count": 15,
   "metadata": {
    "ExecuteTime": {
     "end_time": "2020-07-31T08:26:43.534303Z",
     "start_time": "2020-07-31T08:26:43.530287Z"
    }
   },
   "outputs": [
    {
     "name": "stdout",
     "output_type": "stream",
     "text": [
      "POLYGON ((72.79214859008789 18.92008994441299, 72.84910583784675 18.92008994441299, 72.84910583784675 19.02578888118662, 72.79214859008789 19.02578888118662, 72.79214859008789 18.92008994441299))\n"
     ]
    }
   ],
   "source": [
    "print(boundingrectangle)"
   ]
  },
  {
   "cell_type": "code",
   "execution_count": 16,
   "metadata": {
    "ExecuteTime": {
     "end_time": "2020-07-31T08:26:43.715818Z",
     "start_time": "2020-07-31T08:26:43.712831Z"
    }
   },
   "outputs": [],
   "source": [
    "maptraversearea = boundingrectangle.difference(mapboundary)"
   ]
  },
  {
   "cell_type": "code",
   "execution_count": 17,
   "metadata": {
    "ExecuteTime": {
     "end_time": "2020-07-31T08:26:43.912173Z",
     "start_time": "2020-07-31T08:26:43.904380Z"
    }
   },
   "outputs": [
    {
     "data": {
      "image/svg+xml": [
       "<svg xmlns=\"http://www.w3.org/2000/svg\" xmlns:xlink=\"http://www.w3.org/1999/xlink\" width=\"100.0\" height=\"100.0\" viewBox=\"72.78792063261695 18.915861986942048 0.06541316270075015 0.1141548517155222\" preserveAspectRatio=\"xMinYMin meet\"><g transform=\"matrix(1,0,0,-1,0,37.94587882559962)\"><g><path fill-rule=\"evenodd\" fill=\"#66cc99\" stroke=\"#555555\" stroke-width=\"0.002283097034310444\" opacity=\"0.6\" d=\"M 72.82596588134766,18.920089944412993 L 72.79214859008789,18.920089944412993 L 72.79214859008789,18.949641729713196 L 72.7928352355957,18.94314728021845 L 72.7928352355957,18.939737593083155 L 72.79386520385742,18.939899960716236 L 72.79764175415039,18.94720634076679 L 72.80845642089844,18.95516181306905 L 72.81343460083008,18.95353827809909 L 72.81909942626953,18.949317013240446 L 72.82201766967773,18.94558272839238 L 72.82373428344727,18.939737593083155 L 72.82390594482422,18.933892253144688 L 72.82115936279297,18.92772195016037 L 72.81909942626953,18.926098148340685 L 72.82356262207031,18.92285049736358 L 72.82596588134766,18.920089944412993 z\" /><path fill-rule=\"evenodd\" fill=\"#66cc99\" stroke=\"#555555\" stroke-width=\"0.002283097034310444\" opacity=\"0.6\" d=\"M 72.79214859008789,18.949641729713196 L 72.79214859008789,19.025788881186624 L 72.84910583784675,19.025788881186624 L 72.84910583784675,18.920089944412993 L 72.82596588134766,18.920089944412993 L 72.83248901367188,18.924636713211353 L 72.8422737121582,18.9571100341766 L 72.84605026245117,18.967337821632306 L 72.84587860107422,18.97009759329888 L 72.84107208251953,18.987142228930484 L 72.84090042114256,18.99038862844862 L 72.8419303894043,18.992174121202286 L 72.84347534179688,18.9929857024871 L 72.84587860107422,18.99736817304893 L 72.84690856933594,19.00175052820937 L 72.84570693969727,19.00467203419329 L 72.84708023071289,19.0069442811546 L 72.84896850585938,19.012624762749855 L 72.83454895019531,19.025283423553358 L 72.82064437866211,19.016844423462285 L 72.81137466430664,19.001588220817155 L 72.81291961669922,18.9929857024871 L 72.81137466430664,18.987629192893266 L 72.8148078918457,18.98389576612094 L 72.81034469604492,18.97821430393685 L 72.80588150024414,18.976590993437735 L 72.80313491821289,18.97009759329888 L 72.80313491821289,18.963928628849857 L 72.79214859008789,18.949641729713196 z\" /></g></g></svg>"
      ],
      "text/plain": [
       "<shapely.geometry.multipolygon.MultiPolygon at 0x258611fdb48>"
      ]
     },
     "execution_count": 17,
     "metadata": {},
     "output_type": "execute_result"
    }
   ],
   "source": [
    "maptraversearea"
   ]
  },
  {
   "cell_type": "code",
   "execution_count": 18,
   "metadata": {
    "ExecuteTime": {
     "end_time": "2020-07-31T08:26:44.086037Z",
     "start_time": "2020-07-31T08:26:44.082047Z"
    }
   },
   "outputs": [],
   "source": [
    "shapes = []\n"
   ]
  },
  {
   "cell_type": "code",
   "execution_count": 19,
   "metadata": {
    "ExecuteTime": {
     "end_time": "2020-07-31T08:26:44.258679Z",
     "start_time": "2020-07-31T08:26:44.253726Z"
    }
   },
   "outputs": [],
   "source": [
    "shapes.append(Polygon([(0.5, 0.5),(1.5, 0.5),(1.5, 1.5),(0.5, 1.5)]))"
   ]
  },
  {
   "cell_type": "code",
   "execution_count": 20,
   "metadata": {
    "ExecuteTime": {
     "end_time": "2020-07-31T08:26:44.432216Z",
     "start_time": "2020-07-31T08:26:44.427229Z"
    }
   },
   "outputs": [],
   "source": [
    "shapes.append(Polygon([(3, 3),(5, 6.5),(4,4)]))"
   ]
  },
  {
   "cell_type": "code",
   "execution_count": 21,
   "metadata": {
    "ExecuteTime": {
     "end_time": "2020-07-31T08:26:44.614660Z",
     "start_time": "2020-07-31T08:26:44.610173Z"
    }
   },
   "outputs": [],
   "source": [
    "shapes.append(LineString([(20, 60), (50, 60)]))"
   ]
  },
  {
   "cell_type": "code",
   "execution_count": 22,
   "metadata": {
    "ExecuteTime": {
     "end_time": "2020-07-31T08:26:44.791124Z",
     "start_time": "2020-07-31T08:26:44.786169Z"
    }
   },
   "outputs": [],
   "source": [
    "shapes.append(Polygon([(20,20),(20,40),(40,40),(40,20)]))\n",
    "shapes.append(Polygon([(30,30),(30,45),(45,45),(45,30)]))"
   ]
  },
  {
   "cell_type": "code",
   "execution_count": 23,
   "metadata": {
    "ExecuteTime": {
     "end_time": "2020-07-31T08:26:44.958294Z",
     "start_time": "2020-07-31T08:26:44.953295Z"
    }
   },
   "outputs": [],
   "source": [
    "shapes.append(Polygon([(60.1,60.1),(60.7,60.7),(60.1,60.7)]))"
   ]
  },
  {
   "cell_type": "code",
   "execution_count": 24,
   "metadata": {
    "ExecuteTime": {
     "end_time": "2020-07-31T08:26:45.150013Z",
     "start_time": "2020-07-31T08:26:45.147056Z"
    }
   },
   "outputs": [],
   "source": [
    "#shapes"
   ]
  },
  {
   "cell_type": "code",
   "execution_count": 25,
   "metadata": {
    "ExecuteTime": {
     "end_time": "2020-07-31T08:26:45.472944Z",
     "start_time": "2020-07-31T08:26:45.357221Z"
    }
   },
   "outputs": [
    {
     "data": {
      "image/png": "[encoded data removed]",
      "text/plain": [
       "<Figure size 432x288 with 1 Axes>"
      ]
     },
     "metadata": {
      "needs_background": "light"
     },
     "output_type": "display_data"
    }
   ],
   "source": [
    "for _ in obstacles:\n",
    "    x,y = _.exterior.xy\n",
    "    plt.plot(x,y, color = \"red\")\n",
    "#plt.plot(latitudelist,longitudelist,color = \"black\")"
   ]
  },
  {
   "cell_type": "code",
   "execution_count": 56,
   "metadata": {
    "ExecuteTime": {
     "end_time": "2020-07-31T09:02:50.934451Z",
     "start_time": "2020-07-31T09:02:50.929468Z"
    }
   },
   "outputs": [],
   "source": [
    "c = np.ones([horizontal,vertical],dtype = bool)\n",
    "lookup_c = [[0 for x in range(horizontal)] for y in range(vertical)] "
   ]
  },
  {
   "cell_type": "code",
   "execution_count": 74,
   "metadata": {
    "ExecuteTime": {
     "end_time": "2020-07-31T09:14:19.396002Z",
     "start_time": "2020-07-31T09:14:19.382038Z"
    }
   },
   "outputs": [
    {
     "ename": "TypeError",
     "evalue": "'Point' object is not subscriptable",
     "output_type": "error",
     "traceback": [
      "\u001b[1;31m---------------------------------------------------------------------------\u001b[0m",
      "\u001b[1;31mTypeError\u001b[0m                                 Traceback (most recent call last)",
      "\u001b[1;32m<ipython-input-74-cfdacbb2035c>\u001b[0m in \u001b[0;36m<module>\u001b[1;34m\u001b[0m\n\u001b[0;32m      2\u001b[0m     \u001b[1;32mfor\u001b[0m \u001b[0my\u001b[0m \u001b[1;32min\u001b[0m \u001b[0mrange\u001b[0m\u001b[1;33m(\u001b[0m\u001b[0mlen\u001b[0m\u001b[1;33m(\u001b[0m\u001b[0mlongitudelist\u001b[0m\u001b[1;33m)\u001b[0m\u001b[1;33m-\u001b[0m\u001b[1;36m1\u001b[0m\u001b[1;33m)\u001b[0m\u001b[1;33m:\u001b[0m\u001b[1;33m\u001b[0m\u001b[1;33m\u001b[0m\u001b[0m\n\u001b[0;32m      3\u001b[0m         \u001b[0msquare\u001b[0m \u001b[1;33m=\u001b[0m \u001b[0mPolygon\u001b[0m\u001b[1;33m(\u001b[0m\u001b[1;33m[\u001b[0m\u001b[1;33m(\u001b[0m\u001b[0mlongitudelist\u001b[0m\u001b[1;33m[\u001b[0m\u001b[0my\u001b[0m\u001b[1;33m]\u001b[0m\u001b[1;33m[\u001b[0m\u001b[1;36m1\u001b[0m\u001b[1;33m]\u001b[0m\u001b[1;33m,\u001b[0m\u001b[0mlatitudelist\u001b[0m\u001b[1;33m[\u001b[0m\u001b[0mx\u001b[0m\u001b[1;33m]\u001b[0m\u001b[1;33m[\u001b[0m\u001b[1;36m0\u001b[0m\u001b[1;33m]\u001b[0m\u001b[1;33m)\u001b[0m\u001b[1;33m,\u001b[0m\u001b[1;33m(\u001b[0m\u001b[0mlongitudelist\u001b[0m\u001b[1;33m[\u001b[0m\u001b[0my\u001b[0m\u001b[1;33m+\u001b[0m\u001b[1;36m1\u001b[0m\u001b[1;33m]\u001b[0m\u001b[1;33m[\u001b[0m\u001b[1;36m1\u001b[0m\u001b[1;33m]\u001b[0m\u001b[1;33m,\u001b[0m\u001b[0mlatitudelist\u001b[0m\u001b[1;33m[\u001b[0m\u001b[0mx\u001b[0m\u001b[1;33m]\u001b[0m\u001b[1;33m[\u001b[0m\u001b[1;36m0\u001b[0m\u001b[1;33m]\u001b[0m\u001b[1;33m)\u001b[0m\u001b[1;33m,\u001b[0m\u001b[1;33m(\u001b[0m\u001b[0mlongitudelist\u001b[0m\u001b[1;33m[\u001b[0m\u001b[0my\u001b[0m\u001b[1;33m+\u001b[0m\u001b[1;36m1\u001b[0m\u001b[1;33m]\u001b[0m\u001b[1;33m[\u001b[0m\u001b[1;36m1\u001b[0m\u001b[1;33m]\u001b[0m\u001b[1;33m,\u001b[0m\u001b[0mlatitudelist\u001b[0m\u001b[1;33m[\u001b[0m\u001b[0mx\u001b[0m\u001b[1;33m+\u001b[0m\u001b[1;36m1\u001b[0m\u001b[1;33m]\u001b[0m\u001b[1;33m[\u001b[0m\u001b[1;36m0\u001b[0m\u001b[1;33m]\u001b[0m\u001b[1;33m)\u001b[0m\u001b[1;33m,\u001b[0m\u001b[1;33m(\u001b[0m\u001b[0mlongitudelist\u001b[0m\u001b[1;33m[\u001b[0m\u001b[0my\u001b[0m\u001b[1;33m]\u001b[0m\u001b[1;33m[\u001b[0m\u001b[1;36m1\u001b[0m\u001b[1;33m]\u001b[0m\u001b[1;33m,\u001b[0m\u001b[0mlatitudelist\u001b[0m\u001b[1;33m[\u001b[0m\u001b[0mx\u001b[0m\u001b[1;33m+\u001b[0m\u001b[1;36m1\u001b[0m\u001b[1;33m]\u001b[0m\u001b[1;33m[\u001b[0m\u001b[1;36m0\u001b[0m\u001b[1;33m]\u001b[0m\u001b[1;33m)\u001b[0m\u001b[1;33m]\u001b[0m\u001b[1;33m)\u001b[0m\u001b[1;33m\u001b[0m\u001b[1;33m\u001b[0m\u001b[0m\n\u001b[1;32m----> 4\u001b[1;33m         \u001b[0mlookup_c\u001b[0m\u001b[1;33m[\u001b[0m\u001b[0mx\u001b[0m\u001b[1;33m]\u001b[0m\u001b[1;33m[\u001b[0m\u001b[0my\u001b[0m\u001b[1;33m]\u001b[0m \u001b[1;33m=\u001b[0m \u001b[0msquare\u001b[0m\u001b[1;33m.\u001b[0m\u001b[0mcentroid\u001b[0m\u001b[1;33m[\u001b[0m\u001b[1;36m0\u001b[0m\u001b[1;33m]\u001b[0m\u001b[1;33m\u001b[0m\u001b[1;33m\u001b[0m\u001b[0m\n\u001b[0m\u001b[0;32m      5\u001b[0m         \u001b[1;31m# storing value of centre point\u001b[0m\u001b[1;33m\u001b[0m\u001b[1;33m\u001b[0m\u001b[1;33m\u001b[0m\u001b[0m\n\u001b[0;32m      6\u001b[0m         \u001b[1;31m#print(square)\u001b[0m\u001b[1;33m\u001b[0m\u001b[1;33m\u001b[0m\u001b[1;33m\u001b[0m\u001b[0m\n",
      "\u001b[1;31mTypeError\u001b[0m: 'Point' object is not subscriptable"
     ]
    }
   ],
   "source": [
    "for x in range(len(latitudelist)-1):\n",
    "    for y in range(len(longitudelist)-1):\n",
    "        square = Polygon([(longitudelist[y][1],latitudelist[x][0]),(longitudelist[y+1][1],latitudelist[x][0]),(longitudelist[y+1][1],latitudelist[x+1][0]),(longitudelist[y][1],latitudelist[x+1][0])]) \n",
    "        lookup_c[x][y] = square.centroid\n",
    "        # storing value of centre point\n",
    "        #print(square)\n",
    "        if(not mapboundary.contains(square)):\n",
    "            c[y,x] = False\n",
    "        #a,b = square.exterior.xy\n",
    "        #plt.plot(a,b, color = \"black\",alpha = 0.2)\n",
    "        for _ in obstacles:\n",
    "            if(square.intersects(_)):\n",
    "                z = square.intersection(_)\n",
    "                if(not z.is_empty):\n",
    "                    #print(y,x)\n",
    "                    c[y,x] = False\n",
    "            elif(square.contains(_)):\n",
    "                c[y,x] = False\n",
    "#for _ in shapes:\n",
    "#  x,y = _.exterior.xy\n",
    "#   plt.plot(x,y, color = \"red\")"
   ]
  },
  {
   "cell_type": "code",
   "execution_count": 60,
   "metadata": {
    "ExecuteTime": {
     "end_time": "2020-07-31T09:03:13.605640Z",
     "start_time": "2020-07-31T09:03:13.599656Z"
    }
   },
   "outputs": [
    {
     "name": "stdout",
     "output_type": "stream",
     "text": [
      "POINT (72.79262323381941 18.92054165182155)\n"
     ]
    }
   ],
   "source": [
    "print(lookup_c[0][0])"
   ]
  },
  {
   "cell_type": "code",
   "execution_count": null,
   "metadata": {},
   "outputs": [],
   "source": []
  },
  {
   "cell_type": "code",
   "execution_count": 61,
   "metadata": {
    "ExecuteTime": {
     "end_time": "2020-07-31T09:04:18.524262Z",
     "start_time": "2020-07-31T09:04:18.519275Z"
    }
   },
   "outputs": [
    {
     "name": "stdout",
     "output_type": "stream",
     "text": [
      "[[False False False ... False False False]\n",
      " [False False False ... False False False]\n",
      " [False False False ... False False False]\n",
      " ...\n",
      " [False False False ... False False False]\n",
      " [False False False ... False False False]\n",
      " [False False False ... False False False]]\n"
     ]
    }
   ],
   "source": [
    "print(c)"
   ]
  },
  {
   "cell_type": "markdown",
   "metadata": {},
   "source": [
    "imgshow_(c)"
   ]
  },
  {
   "cell_type": "code",
   "execution_count": 62,
   "metadata": {
    "ExecuteTime": {
     "end_time": "2020-07-31T09:04:19.882451Z",
     "start_time": "2020-07-31T09:04:19.767774Z"
    }
   },
   "outputs": [
    {
     "data": {
      "image/png": "[encoded data removed]",
      "text/plain": [
       "<Figure size 432x288 with 1 Axes>"
      ]
     },
     "metadata": {
      "needs_background": "light"
     },
     "output_type": "display_data"
    }
   ],
   "source": [
    "import matplotlib.pyplot as plt\n",
    "a = plt.imshow(c, interpolation = 'nearest')"
   ]
  },
  {
   "cell_type": "code",
   "execution_count": 63,
   "metadata": {
    "ExecuteTime": {
     "end_time": "2020-07-31T09:04:20.619528Z",
     "start_time": "2020-07-31T09:04:20.616526Z"
    }
   },
   "outputs": [],
   "source": [
    "import pyvisgraph as vg"
   ]
  },
  {
   "cell_type": "code",
   "execution_count": 185,
   "metadata": {
    "ExecuteTime": {
     "end_time": "2020-07-31T08:24:16.060389Z",
     "start_time": "2020-07-31T08:24:16.046446Z"
    }
   },
   "outputs": [
    {
     "name": "stdout",
     "output_type": "stream",
     "text": [
      "0.5 0.5\n",
      "1.5 0.5\n",
      "1.5 1.5\n",
      "0.5 1.5\n",
      "0.5 0.5\n"
     ]
    }
   ],
   "source": [
    "x,y = obstacles[0].exterior.coords.xy\n",
    "for _ in range(len(x)):\n",
    "    print(x[_],y[_])"
   ]
  },
  {
   "cell_type": "code",
   "execution_count": 64,
   "metadata": {
    "ExecuteTime": {
     "end_time": "2020-07-31T09:04:24.440015Z",
     "start_time": "2020-07-31T09:04:24.434033Z"
    }
   },
   "outputs": [],
   "source": [
    "polygons = []\n",
    "for shape in obstacles:\n",
    "    polygon = []\n",
    "    if(not shape.geom_type==\"Polygon\"):\n",
    "        x,y = shape.xy\n",
    "        print(x,y)\n",
    "    else:\n",
    "        x, y = shape.exterior.coords.xy\n",
    "    for _ in range(len(x)):\n",
    "        polygon.append(vg.Point(x[_], y[_]))\n",
    "        polygons.append(polygon)"
   ]
  },
  {
   "cell_type": "code",
   "execution_count": 65,
   "metadata": {
    "ExecuteTime": {
     "end_time": "2020-07-31T09:04:27.283862Z",
     "start_time": "2020-07-31T09:04:27.277877Z"
    }
   },
   "outputs": [
    {
     "name": "stdout",
     "output_type": "stream",
     "text": [
      "[[Point(72.82, 19.00), Point(72.82, 19.01), Point(72.83, 19.01), Point(72.83, 19.00), Point(72.82, 19.00)], [Point(72.82, 19.00), Point(72.82, 19.01), Point(72.83, 19.01), Point(72.83, 19.00), Point(72.82, 19.00)], [Point(72.82, 19.00), Point(72.82, 19.01), Point(72.83, 19.01), Point(72.83, 19.00), Point(72.82, 19.00)], [Point(72.82, 19.00), Point(72.82, 19.01), Point(72.83, 19.01), Point(72.83, 19.00), Point(72.82, 19.00)], [Point(72.82, 19.00), Point(72.82, 19.01), Point(72.83, 19.01), Point(72.83, 19.00), Point(72.82, 19.00)], [Point(72.82, 18.96), Point(72.82, 18.98), Point(72.83, 18.98), Point(72.83, 18.96), Point(72.82, 18.96)], [Point(72.82, 18.96), Point(72.82, 18.98), Point(72.83, 18.98), Point(72.83, 18.96), Point(72.82, 18.96)], [Point(72.82, 18.96), Point(72.82, 18.98), Point(72.83, 18.98), Point(72.83, 18.96), Point(72.82, 18.96)], [Point(72.82, 18.96), Point(72.82, 18.98), Point(72.83, 18.98), Point(72.83, 18.96), Point(72.82, 18.96)], [Point(72.82, 18.96), Point(72.82, 18.98), Point(72.83, 18.98), Point(72.83, 18.96), Point(72.82, 18.96)], [Point(72.83, 19.00), Point(72.83, 19.00), Point(72.84, 19.00), Point(72.84, 19.00), Point(72.84, 19.00), Point(72.84, 18.99), Point(72.83, 18.98), Point(72.82, 18.99), Point(72.83, 19.00)], [Point(72.83, 19.00), Point(72.83, 19.00), Point(72.84, 19.00), Point(72.84, 19.00), Point(72.84, 19.00), Point(72.84, 18.99), Point(72.83, 18.98), Point(72.82, 18.99), Point(72.83, 19.00)], [Point(72.83, 19.00), Point(72.83, 19.00), Point(72.84, 19.00), Point(72.84, 19.00), Point(72.84, 19.00), Point(72.84, 18.99), Point(72.83, 18.98), Point(72.82, 18.99), Point(72.83, 19.00)], [Point(72.83, 19.00), Point(72.83, 19.00), Point(72.84, 19.00), Point(72.84, 19.00), Point(72.84, 19.00), Point(72.84, 18.99), Point(72.83, 18.98), Point(72.82, 18.99), Point(72.83, 19.00)], [Point(72.83, 19.00), Point(72.83, 19.00), Point(72.84, 19.00), Point(72.84, 19.00), Point(72.84, 19.00), Point(72.84, 18.99), Point(72.83, 18.98), Point(72.82, 18.99), Point(72.83, 19.00)], [Point(72.83, 19.00), Point(72.83, 19.00), Point(72.84, 19.00), Point(72.84, 19.00), Point(72.84, 19.00), Point(72.84, 18.99), Point(72.83, 18.98), Point(72.82, 18.99), Point(72.83, 19.00)], [Point(72.83, 19.00), Point(72.83, 19.00), Point(72.84, 19.00), Point(72.84, 19.00), Point(72.84, 19.00), Point(72.84, 18.99), Point(72.83, 18.98), Point(72.82, 18.99), Point(72.83, 19.00)], [Point(72.83, 19.00), Point(72.83, 19.00), Point(72.84, 19.00), Point(72.84, 19.00), Point(72.84, 19.00), Point(72.84, 18.99), Point(72.83, 18.98), Point(72.82, 18.99), Point(72.83, 19.00)], [Point(72.83, 19.00), Point(72.83, 19.00), Point(72.84, 19.00), Point(72.84, 19.00), Point(72.84, 19.00), Point(72.84, 18.99), Point(72.83, 18.98), Point(72.82, 18.99), Point(72.83, 19.00)]]\n"
     ]
    }
   ],
   "source": [
    "print(polygons)"
   ]
  },
  {
   "cell_type": "code",
   "execution_count": 66,
   "metadata": {
    "ExecuteTime": {
     "end_time": "2020-07-31T09:04:29.398368Z",
     "start_time": "2020-07-31T09:04:29.394378Z"
    }
   },
   "outputs": [],
   "source": [
    "graph = vg.VisGraph()"
   ]
  },
  {
   "cell_type": "code",
   "execution_count": 67,
   "metadata": {
    "ExecuteTime": {
     "end_time": "2020-07-31T09:04:29.867493Z",
     "start_time": "2020-07-31T09:04:29.851534Z"
    }
   },
   "outputs": [
    {
     "name": "stderr",
     "output_type": "stream",
     "text": [
      "100%|██████████| 2/2 [00:00<00:00, 249.49it/s]\n"
     ]
    }
   ],
   "source": [
    "graph.build(polygons)"
   ]
  },
  {
   "cell_type": "code",
   "execution_count": 82,
   "metadata": {
    "ExecuteTime": {
     "end_time": "2020-07-31T09:29:11.063711Z",
     "start_time": "2020-07-31T09:29:11.057763Z"
    }
   },
   "outputs": [
    {
     "name": "stdout",
     "output_type": "stream",
     "text": [
      "18.956678174218688\n"
     ]
    }
   ],
   "source": [
    "initial = lookup_c[40][40].xy\n",
    "final = lookup_c[100][50].xy\n",
    "print(initial[1][0])"
   ]
  },
  {
   "cell_type": "code",
   "execution_count": 83,
   "metadata": {
    "ExecuteTime": {
     "end_time": "2020-07-31T09:29:23.832870Z",
     "start_time": "2020-07-31T09:29:23.826886Z"
    }
   },
   "outputs": [],
   "source": [
    " shortest = graph.shortest_path(vg.Point(initial[0][0],initial[1][0]), vg.Point(final[0][0],final[1][0]))"
   ]
  },
  {
   "cell_type": "code",
   "execution_count": 84,
   "metadata": {
    "ExecuteTime": {
     "end_time": "2020-07-31T09:29:25.236212Z",
     "start_time": "2020-07-31T09:29:25.230227Z"
    }
   },
   "outputs": [
    {
     "name": "stdout",
     "output_type": "stream",
     "text": [
      "[Point(72.83, 18.96), Point(72.83, 18.96), Point(72.84, 19.00), Point(72.84, 19.01)]\n"
     ]
    }
   ],
   "source": [
    "print(shortest)"
   ]
  },
  {
   "cell_type": "code",
   "execution_count": 85,
   "metadata": {
    "ExecuteTime": {
     "end_time": "2020-07-31T09:30:08.655773Z",
     "start_time": "2020-07-31T09:30:08.650820Z"
    }
   },
   "outputs": [],
   "source": [
    "path_distance = 0\n",
    "prev_point = shortest[0]\n",
    "for point in shortest[1:]:\n",
    "    path_distance += haversine((prev_point.y, prev_point.x), (point.y, point.x))\n",
    "    prev_point = point"
   ]
  },
  {
   "cell_type": "code",
   "execution_count": 86,
   "metadata": {
    "ExecuteTime": {
     "end_time": "2020-07-31T09:30:09.420067Z",
     "start_time": "2020-07-31T09:30:09.189651Z"
    }
   },
   "outputs": [
    {
     "name": "stdout",
     "output_type": "stream",
     "text": [
      "6.280827001913147\n"
     ]
    }
   ],
   "source": [
    "print(path_distance)"
   ]
  },
  {
   "cell_type": "code",
   "execution_count": 194,
   "metadata": {
    "ExecuteTime": {
     "end_time": "2020-07-31T08:24:20.437598Z",
     "start_time": "2020-07-31T08:24:20.433604Z"
    }
   },
   "outputs": [],
   "source": [
    "list_of_fuelstations = []"
   ]
  },
  {
   "cell_type": "code",
   "execution_count": 195,
   "metadata": {
    "ExecuteTime": {
     "end_time": "2020-07-31T08:24:20.755845Z",
     "start_time": "2020-07-31T08:24:20.750843Z"
    }
   },
   "outputs": [],
   "source": [
    "circles = []"
   ]
  },
  {
   "cell_type": "code",
   "execution_count": 196,
   "metadata": {
    "ExecuteTime": {
     "end_time": "2020-07-31T08:24:20.944972Z",
     "start_time": "2020-07-31T08:24:20.938024Z"
    }
   },
   "outputs": [],
   "source": [
    "def fuelchecker(mapboundary):\n",
    "    for x in list_of_fuelstations:\n",
    "        circles.append(x.buffer(distance))\n",
    "    fuelling_range = unary_union(circles)\n",
    "    if(mapboundary.within(fuelling_range)):\n",
    "        print(\"All good\")\n",
    "    else:\n",
    "        print(\"Some Points are outside the fuelling station!\")\n",
    "        print(\"Taking them as obstacles\")\n",
    "        mapboundary = mapboundary.intersection(feulling_range)"
   ]
  },
  {
   "cell_type": "code",
   "execution_count": 197,
   "metadata": {
    "ExecuteTime": {
     "end_time": "2020-07-31T08:24:21.163964Z",
     "start_time": "2020-07-31T08:24:21.141991Z"
    }
   },
   "outputs": [
    {
     "name": "stdout",
     "output_type": "stream",
     "text": [
      "Some Points are outside the fuelling station!\n",
      "Taking them as obstacles\n"
     ]
    },
    {
     "ename": "NameError",
     "evalue": "name 'feulling_range' is not defined",
     "output_type": "error",
     "traceback": [
      "\u001b[1;31m---------------------------------------------------------------------------\u001b[0m",
      "\u001b[1;31mNameError\u001b[0m                                 Traceback (most recent call last)",
      "\u001b[1;32m<ipython-input-197-76db621fb2e7>\u001b[0m in \u001b[0;36m<module>\u001b[1;34m\u001b[0m\n\u001b[1;32m----> 1\u001b[1;33m \u001b[0mfuelchecker\u001b[0m\u001b[1;33m(\u001b[0m\u001b[0mmapboundary\u001b[0m\u001b[1;33m)\u001b[0m\u001b[1;33m\u001b[0m\u001b[1;33m\u001b[0m\u001b[0m\n\u001b[0m",
      "\u001b[1;32m<ipython-input-196-44f1d3fdc732>\u001b[0m in \u001b[0;36mfuelchecker\u001b[1;34m(mapboundary)\u001b[0m\n\u001b[0;32m      8\u001b[0m         \u001b[0mprint\u001b[0m\u001b[1;33m(\u001b[0m\u001b[1;34m\"Some Points are outside the fuelling station!\"\u001b[0m\u001b[1;33m)\u001b[0m\u001b[1;33m\u001b[0m\u001b[1;33m\u001b[0m\u001b[0m\n\u001b[0;32m      9\u001b[0m         \u001b[0mprint\u001b[0m\u001b[1;33m(\u001b[0m\u001b[1;34m\"Taking them as obstacles\"\u001b[0m\u001b[1;33m)\u001b[0m\u001b[1;33m\u001b[0m\u001b[1;33m\u001b[0m\u001b[0m\n\u001b[1;32m---> 10\u001b[1;33m         \u001b[0mmapboundary\u001b[0m \u001b[1;33m=\u001b[0m \u001b[0mmapboundary\u001b[0m\u001b[1;33m.\u001b[0m\u001b[0mintersection\u001b[0m\u001b[1;33m(\u001b[0m\u001b[0mfeulling_range\u001b[0m\u001b[1;33m)\u001b[0m\u001b[1;33m\u001b[0m\u001b[1;33m\u001b[0m\u001b[0m\n\u001b[0m",
      "\u001b[1;31mNameError\u001b[0m: name 'feulling_range' is not defined"
     ]
    }
   ],
   "source": [
    "fuelchecker(mapboundary)"
   ]
  },
  {
   "cell_type": "code",
   "execution_count": 198,
   "metadata": {
    "ExecuteTime": {
     "end_time": "2020-07-31T08:24:22.505344Z",
     "start_time": "2020-07-31T08:24:21.604222Z"
    }
   },
   "outputs": [],
   "source": [
    "import geopy\n",
    "import geopy.distance"
   ]
  },
  {
   "cell_type": "code",
   "execution_count": 127,
   "metadata": {
    "ExecuteTime": {
     "end_time": "2020-07-31T06:09:19.580060Z",
     "start_time": "2020-07-31T06:09:19.576072Z"
    }
   },
   "outputs": [],
   "source": [
    "start = geopy.Point(-48.853, 2.349)"
   ]
  },
  {
   "cell_type": "code",
   "execution_count": 128,
   "metadata": {
    "ExecuteTime": {
     "end_time": "2020-07-31T06:09:19.812323Z",
     "start_time": "2020-07-31T06:09:19.808299Z"
    }
   },
   "outputs": [],
   "source": [
    "d = geopy.distance.distance(kilometers = 1)"
   ]
  },
  {
   "cell_type": "code",
   "execution_count": 132,
   "metadata": {
    "ExecuteTime": {
     "end_time": "2020-07-31T06:09:32.675453Z",
     "start_time": "2020-07-31T06:09:32.670494Z"
    }
   },
   "outputs": [],
   "source": [
    "final = d.destination(point=start, bearing=90)"
   ]
  },
  {
   "cell_type": "code",
   "execution_count": 133,
   "metadata": {
    "ExecuteTime": {
     "end_time": "2020-07-31T06:09:33.189487Z",
     "start_time": "2020-07-31T06:09:33.045459Z"
    }
   },
   "outputs": [
    {
     "name": "stdout",
     "output_type": "stream",
     "text": [
      "48 51m 10.7971s S, 2 21m 45.4551s E\n"
     ]
    }
   ],
   "source": [
    "print(final)"
   ]
  },
  {
   "cell_type": "code",
   "execution_count": 134,
   "metadata": {
    "ExecuteTime": {
     "end_time": "2020-07-31T06:09:33.244125Z",
     "start_time": "2020-07-31T06:09:33.240349Z"
    }
   },
   "outputs": [
    {
     "data": {
      "text/plain": [
       "Point(-48.85299919479592, 2.362626412505501, 0.0)"
      ]
     },
     "execution_count": 134,
     "metadata": {},
     "output_type": "execute_result"
    }
   ],
   "source": [
    "final"
   ]
  },
  {
   "cell_type": "code",
   "execution_count": null,
   "metadata": {},
   "outputs": [],
   "source": []
  },
  {
   "cell_type": "code",
   "execution_count": null,
   "metadata": {},
   "outputs": [],
   "source": []
  }
 ],
 "metadata": {
  "kernelspec": {
   "display_name": "Python 3",
   "language": "python",
   "name": "python3"
  },
  "language_info": {
   "codemirror_mode": {
    "name": "ipython",
    "version": 3
   },
   "file_extension": ".py",
   "mimetype": "text/x-python",
   "name": "python",
   "nbconvert_exporter": "python",
   "pygments_lexer": "ipython3",
   "version": "3.7.4"
  }
 },
 "nbformat": 4,
 "nbformat_minor": 2
}
