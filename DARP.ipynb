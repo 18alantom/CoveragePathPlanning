{
 "cells": [
  {
   "cell_type": "markdown",
   "metadata": {},
   "source": [
    "# DARP me baby one more time!"
   ]
  },
  {
   "cell_type": "code",
   "execution_count": 1,
   "metadata": {
    "ExecuteTime": {
     "end_time": "2020-07-30T13:38:03.187194Z",
     "start_time": "2020-07-30T13:38:02.183703Z"
    }
   },
   "outputs": [],
   "source": [
    "import numpy as np\n",
    "import matplotlib.pyplot as plt\n",
    "from time import time\n",
    "from skimage import measure\n",
    "from warnings import warn\n",
    "from tqdm.auto import tqdm"
   ]
  },
  {
   "cell_type": "code",
   "execution_count": 2,
   "metadata": {
    "ExecuteTime": {
     "end_time": "2020-07-30T13:38:03.432154Z",
     "start_time": "2020-07-30T13:38:03.190941Z"
    }
   },
   "outputs": [],
   "source": [
    "from cpp_algorithms.testers import imshow, imshow_scatter\n",
    "from cpp_algorithms.testers import get_all_area_maps, get_random_coords\n",
    "from cpp_algorithms.fuel_path.dist_matrix import dist_fill"
   ]
  },
  {
   "cell_type": "code",
   "execution_count": 3,
   "metadata": {
    "ExecuteTime": {
     "end_time": "2020-07-30T13:38:03.439372Z",
     "start_time": "2020-07-30T13:38:03.435021Z"
    }
   },
   "outputs": [],
   "source": [
    "\"\"\"\n",
    "Initialization\n",
    "\"\"\"\n",
    "PATH = \"./test_maps/\"\n",
    "OBS = -1 # constant for obstacle area\n",
    "COV =  0 # constant for coverage area\n",
    "\n",
    "def get_test_init(number_of_drones, idx=0):\n",
    "    area_map = get_all_area_maps(PATH)[idx]\n",
    "    n = get_random_coords(area_map, number_of_drones)\n",
    "    return area_map, n"
   ]
  },
  {
   "cell_type": "code",
   "execution_count": 4,
   "metadata": {
    "ExecuteTime": {
     "end_time": "2020-07-30T13:38:03.459947Z",
     "start_time": "2020-07-30T13:38:03.442643Z"
    }
   },
   "outputs": [],
   "source": [
    "\"\"\"\n",
    "Helpers\n",
    "\"\"\"\n",
    "def rmse(a,b):\n",
    "    \"\"\"\n",
    "    Root Mean Square Error\n",
    "    \"\"\"\n",
    "    return ((a - b)**2).mean()**0.5\n",
    "\n",
    "def get_obstacle_coords(area_map, obstacle=OBS):\n",
    "    \"\"\"\n",
    "    Returns coords of obstacles.\n",
    "    \"\"\"\n",
    "    return np.stack(list(np.where(area_map == obstacle))).T\n",
    "\n",
    "def has_obstacles(area_map, obstacle=OBS):\n",
    "    \"\"\"\n",
    "    True if the area map has obstacles\n",
    "    \"\"\"\n",
    "    return (area_map == obstacle).sum() > 0\n",
    "\n",
    "def get_evaluation_matrices(start_points, area_map):\n",
    "    \"\"\"\n",
    "    Returns evaluation matrices for all the drones.\n",
    "    Which are distance maps from their start_points\n",
    "    \"\"\"\n",
    "    return np.float32(np.stack([dist_fill(area_map,[sp]) for sp in start_points]))\n",
    "\n",
    "def get_assignment_matrix(E, obstacle=OBS):\n",
    "    \"\"\"\n",
    "    Assigns coord depending on evaluation matrices \n",
    "    and returns the matrix.\n",
    "    \"\"\"\n",
    "    mask = (E[0] == obstacle)\n",
    "    A = E.argmin(axis=0)\n",
    "    A[mask] = -1\n",
    "    return A\n",
    "\n",
    "def get_assigned_count(A, arr=True, obstacle=OBS):\n",
    "    \"\"\"\n",
    "    A : assignment matrix\n",
    "    return count dict\n",
    "    \"\"\"\n",
    "    c = {}\n",
    "    uc = np.unique(A, return_counts=True)\n",
    "    if not arr:\n",
    "        for drone,count in zip(*uc):\n",
    "            if drone==obstacle:\n",
    "                continue\n",
    "            else:\n",
    "                c[drone] = count\n",
    "        return c\n",
    "    else:\n",
    "        return uc[1][uc[0] != OBS]\n",
    "\n",
    "def get_no_obs_count(area_map, obstacle=OBS):\n",
    "    \"\"\"\n",
    "    Return count of points that are not obstacles\n",
    "    \"\"\"\n",
    "    return (area_map != obstacle).sum()\n",
    "\n",
    "def get_coverage_ratio(drone_speed, drone_coverage):\n",
    "    \"\"\"\n",
    "    Normalized values of the drone coverage per unit time\n",
    "    \"\"\"\n",
    "    coverage_per_time = (drone_coverage**0.5)*drone_speed\n",
    "    return coverage_per_time/coverage_per_time.sum()\n",
    "\n",
    "def get_c(area_map):\n",
    "    \"\"\"\n",
    "    area_map : for size calculation\n",
    "    \"\"\"\n",
    "    learning_rate = np.log10(area_map.size) # learning_rate\n",
    "    return 10**(-np.ceil(learning_rate))    # tunable parameter c\n",
    "\n",
    "def get_fair_share(i, assigned_count, nobs_count, coverage_ratio):\n",
    "    \"\"\"\n",
    "    assigned_count : number of cells assigned to each drone\n",
    "    nobs_count : total number of cells that can be covered\n",
    "    coverage_ratio : ratio of cells to be assigned to each drone\n",
    "    \"\"\"\n",
    "    try:\n",
    "        return assigned_count[i] - np.round(coverage_ratio[i] * nobs_count)\n",
    "    except IndexError as error:\n",
    "        raise IndexError(\"the vicissitudes of cyclic coordinate descent\"\\\n",
    "                        +\"\\n\"+ \"count of assigned areas has dropped below `n`\"+\"\\n\"+repr(error))"
   ]
  },
  {
   "cell_type": "code",
   "execution_count": 5,
   "metadata": {
    "ExecuteTime": {
     "end_time": "2020-07-30T13:38:03.479021Z",
     "start_time": "2020-07-30T13:38:03.463633Z"
    }
   },
   "outputs": [],
   "source": [
    "\"\"\"\n",
    "Functions to calculate the contiguity correction matrix.\n",
    "\"\"\"\n",
    "def get_area_indices(area, value, inv=False, obstacle=OBS):\n",
    "    \"\"\"\n",
    "    returns indices that have value and not obstacle\n",
    "    if inv returns indices that don't have value and obstacle\n",
    "    \"\"\"\n",
    "    try:\n",
    "        value = int(value)\n",
    "        if inv:\n",
    "            return np.concatenate([np.where((area != value)&(area!=obstacle))]).T\n",
    "        return np.concatenate([np.where((area == value)&(area!=obstacle))]).T\n",
    "    except:\n",
    "        mask = area == value[0]\n",
    "        if inv:\n",
    "            mask = area != value[0]\n",
    "        for v in value[1:]:\n",
    "            if inv:\n",
    "                mask &= area != v\n",
    "            else:\n",
    "                mask |= area == v\n",
    "        mask &= area != obstacle\n",
    "        return np.concatenate([np.where(mask)]).T\n",
    "\n",
    "def get_region_dist_map(index_matrix, coords):\n",
    "    \"\"\"\n",
    "    Broadcasts coords along index_matrix and returns the min l1\n",
    "    \"\"\"\n",
    "    b_val = index_matrix.shape[0]\n",
    "    coords = np.broadcast_to(coords, (b_val, *coords.shape))\n",
    "    assert coords.shape[0] == index_matrix.shape[0] and \\\n",
    "        coords.shape[2] == index_matrix.shape[2], \\\n",
    "        \"something went wrong in broadcasting\"\n",
    "    \n",
    "    # To change the distance function change this line.\n",
    "    return np.abs(index_matrix - coords).sum(axis=2).min(axis=1)\n",
    "\n",
    "def get_ci(cont_map, r, q):\n",
    "    \"\"\"\n",
    "    cont_map : continuity map that assigns unique labels to every isolated !obstacle\n",
    "    r : value of region with the start point\n",
    "    c : value(s) of region without the start point\n",
    "    \"\"\"\n",
    "    index_matrix = np.indices(cont_map.shape).transpose(1,2,0).reshape(-1, 2)[:,None,:]\n",
    "    r_indices = get_area_indices(cont_map, r, obstacle=0)\n",
    "    q_indices = get_area_indices(cont_map, q, obstacle=0)\n",
    "\n",
    "    min_dist_r = get_region_dist_map(index_matrix, r_indices).reshape(cont_map.shape)\n",
    "    min_dist_q = get_region_dist_map(index_matrix, q_indices).reshape(cont_map.shape)\n",
    "    return min_dist_r - min_dist_q"
   ]
  },
  {
   "cell_type": "code",
   "execution_count": 6,
   "metadata": {
    "ExecuteTime": {
     "end_time": "2020-07-30T13:38:03.494418Z",
     "start_time": "2020-07-30T13:38:03.481681Z"
    }
   },
   "outputs": [],
   "source": [
    "\"\"\"\n",
    "Functions that deal with continuity.\n",
    "\"\"\"\n",
    "def coord_in_list(coord, list_):\n",
    "    \"\"\"\n",
    "    Checks if coord is present in the list exactly once.\n",
    "    \"\"\"\n",
    "    return (np.abs(np.array(coord) - list_).sum(axis=1) ==0).sum() == 1\n",
    "\n",
    "def continuity_check(A, n, i):\n",
    "    \"\"\"\n",
    "    True if all areas are continuous.\n",
    "    A : assignment map\n",
    "    n : number of drones\n",
    "    \"\"\"\n",
    "    cont_map, cont_count = measure.label(A, return_num=True, background=-1)\n",
    "    xy = get_area_indices(A,i)\n",
    "    x,y = xy.T\n",
    "    values_at_xy = cont_map[x,y]\n",
    "    not_is_cont = len(np.unique(values_at_xy)) > 1\n",
    "    if not_is_cont:\n",
    "        return False, xy, values_at_xy, cont_map\n",
    "    else:\n",
    "        return True, None, None, None\n",
    "\n",
    "def continuity_fix(A, E, i, n, mi, start_point, mask, xy, values_at_xy, cont_map):\n",
    "    \"\"\"\n",
    "    Fix continuity when there is none.\n",
    "    \"\"\"\n",
    "    r = None\n",
    "    q = None\n",
    "    some_constant = 10**-np.log10(np.array(A.shape).sum())\n",
    "    uniq = np.unique(values_at_xy)\n",
    "    for v in uniq:\n",
    "        if coord_in_list(start_point,xy[values_at_xy == v]):\n",
    "            r = v\n",
    "            break\n",
    "    q = uniq[uniq!=r]\n",
    "    C_i = get_ci(cont_map, r, q)\n",
    "    C_i[mask] = 1\n",
    "#     E[i] = C_i*mi*E[i]\n",
    "    E[i] = E[i]*(C_i * some_constant + 1)\n",
    "    \n",
    "def continuity_check_fix(A, E, i, n, mi, mask, start_point):\n",
    "    \"\"\"\n",
    "    Calculate C_i and fix if `i`th drone's areas are not contiguous.\n",
    "    \"\"\"\n",
    "    is_contig, xy, values_at_xy, cont_map = continuity_check(A, n, i)\n",
    "    if is_contig:\n",
    "        return\n",
    "    else:\n",
    "        continuity_fix(A, E, i, n, mi, start_point, mask, xy, values_at_xy, cont_map)"
   ]
  },
  {
   "cell_type": "code",
   "execution_count": 7,
   "metadata": {
    "ExecuteTime": {
     "end_time": "2020-07-30T13:38:03.515508Z",
     "start_time": "2020-07-30T13:38:03.498548Z"
    }
   },
   "outputs": [],
   "source": [
    "\"\"\"\n",
    "loop functions\n",
    "\"\"\"\n",
    "\n",
    "def spfix(A, start_points):\n",
    "    \"\"\"\n",
    "    Something is wrong.\n",
    "    \"\"\"\n",
    "    for i,sp in enumerate(start_points):\n",
    "        A[sp] = i\n",
    "\n",
    "def apply_mask_E(mask, E, obstacle=OBS):\n",
    "    E[:, mask] = obstacle\n",
    "    \n",
    "def mi_step(start_points, E, m, c, nobs_count, coverage_ratio, obstacle=OBS):\n",
    "    \"\"\"\n",
    "    E : evaluation matrices for all drones\n",
    "    m : array of m_i values \n",
    "    c : tunable parameter\n",
    "    nobs_count : total area that can be covered\n",
    "    coverage_ratio : coverage ratio for all drones\n",
    "    \"\"\"\n",
    "    n = E.shape[0]\n",
    "    mask = E[0] == obstacle\n",
    "    A = get_assignment_matrix(E) # E changes ∴ A changes\n",
    "    for i in range(len(m)):\n",
    "        start_point = start_points[i]\n",
    "        assigned_count = get_assigned_count(A, arr=True) # Counts of cells assigned to each drone\n",
    "        fs_i = get_fair_share(i, assigned_count, nobs_count, coverage_ratio) # Difference between optimal and assigned\n",
    "        m[i] = 1 + c * fs_i # alter the m param\n",
    "        E[i] = E[i] * m[i]  # update evaluation matrix\n",
    "        apply_mask_E(mask, E)\n",
    "        A = get_assignment_matrix(E) # E changes ∴ A changes\n",
    "        continuity_check_fix(A, E, i, n, m[i], mask, start_point)\n",
    "    return A\n",
    "\n",
    "def iterate(epochs, start_points, E, c, nobs_count, coverage_ratio, obstacle=OBS, print_stuff=False):\n",
    "    \"\"\"\n",
    "    epochs : number of iterations to iterate the loop in the iterate function for.\n",
    "    E : initial evaluation matrix for all the drones\n",
    "    c : tunable paramter `c`\n",
    "    nobs_count : number of cells that can be covered\n",
    "    coverage_ratio : ratio of coverage\n",
    "    \"\"\"\n",
    "    n = E.shape[0]\n",
    "    m = np.ones(n, dtype=np.float32)\n",
    "    optimal_count = np.round(coverage_ratio * nobs_count)\n",
    "    best_A = get_assignment_matrix(E)\n",
    "    min_loss = float('inf')\n",
    "    losses = []\n",
    "    for i in tqdm(range(epochs)):\n",
    "        A = mi_step(start_points, E, m, c, nobs_count, coverage_ratio)\n",
    "        assigned_count = get_assigned_count(A)\n",
    "        loss = rmse(assigned_count, optimal_count)\n",
    "        losses.append(loss)\n",
    "        if print_stuff:\n",
    "            print(f\"ASGN : {assigned_count}\\nRMSE : {loss:0.2f}\")\n",
    "        if loss < min_loss:\n",
    "            min_loss = loss\n",
    "            best_A = A\n",
    "    return best_A, losses"
   ]
  },
  {
   "cell_type": "code",
   "execution_count": 21,
   "metadata": {
    "ExecuteTime": {
     "end_time": "2020-07-30T13:41:41.783591Z",
     "start_time": "2020-07-30T13:41:41.774136Z"
    }
   },
   "outputs": [],
   "source": [
    "def darp_run(map_no=3, n=3,epochs=300 drone_speed=None, drone_coverage=None):\n",
    "    area_map, start_points = get_test_init(n,map_no) # get test values\n",
    "    c = get_c(area_map)\n",
    "\n",
    "    E = get_evaluation_matrices(start_points, area_map) # Distance maps for each\n",
    "    A = get_assignment_matrix(E) # Assignment matrix.\n",
    "    \n",
    "    \n",
    "    [imshow(e, 1,5,i+1, figsize=(22,5))for i,e in enumerate(E[:3])]\n",
    "    imshow(A, 1,5,4)\n",
    "    imshow_scatter([start_points], color=\"white\")\n",
    "\n",
    "\n",
    "    if drone_coverage is None or drone_speed is None:\n",
    "        drone_speed = np.ones(n)        \n",
    "        drone_coverage = np.ones(n)     \n",
    "\n",
    "    nobs_count = get_no_obs_count(area_map)                # Number of coverable cells.\n",
    "    coverage_ratio = get_coverage_ratio(drone_speed, drone_coverage) \n",
    "    assigned_count = get_assigned_count(A)                 # Counts in the form of an array\n",
    "    optimal_count = np.round(coverage_ratio * nobs_count)  # Optimal number of cells assigned to each drone\n",
    "    print(\"target count  : \",optimal_count)\n",
    "    print(\"before darp\")\n",
    "    print(\"current count : \",assigned_count)\n",
    "    print(\"RMSE : \",rmse(assigned_count, optimal_count))\n",
    "    print()\n",
    "\n",
    "    tic = time()\n",
    "    A, losses = iterate(epochs, start_points, E.copy(), c, nobs_count, coverage_ratio, print_stuff=False)\n",
    "    print(f'time taken : {(time()-tic)*1000:.2f} ms\\n')\n",
    "    \n",
    "    assigned_count= get_assigned_count(A)\n",
    "    print(\"after darp\")\n",
    "    print(\"current_count : \", assigned_count)\n",
    "    print(\"RMSE : \",rmse(assigned_count, optimal_count))\n",
    "\n",
    "    imshow(A,1,5,5);\n",
    "    plt.figure(figsize=(22,5))\n",
    "    plt.plot(losses)\n",
    "    return A,losses"
   ]
  },
  {
   "cell_type": "code",
   "execution_count": 32,
   "metadata": {
    "ExecuteTime": {
     "end_time": "2020-07-30T13:43:42.120581Z",
     "start_time": "2020-07-30T13:43:41.189129Z"
    }
   },
   "outputs": [
    {
     "name": "stdout",
     "output_type": "stream",
     "text": [
      "target count  :  [143. 143. 143. 143. 143.]\n",
      "before darp\n",
      "current count :  [186 165 169  33 163]\n",
      "RMSE :  55.693805759707246\n",
      "\n"
     ]
    },
    {
     "data": {
      "application/vnd.jupyter.widget-view+json": {
       "model_id": "ca6f8b7a024b46d296091e7c392b697d",
       "version_major": 2,
       "version_minor": 0
      },
      "text/plain": [
       "HBox(children=(FloatProgress(value=0.0, max=300.0), HTML(value='')))"
      ]
     },
     "metadata": {},
     "output_type": "display_data"
    },
    {
     "name": "stdout",
     "output_type": "stream",
     "text": [
      "\n",
      "time taken : 463.84 ms\n",
      "\n",
      "after darp\n",
      "current_count :  [143 144 143 143 143]\n",
      "RMSE :  0.4472135954999579\n"
     ]
    },
    {
     "data": {
      "image/png": "[encoded data removed]",
      "text/plain": [
       "<Figure size 1584x360 with 5 Axes>"
      ]
     },
     "metadata": {
      "needs_background": "light"
     },
     "output_type": "display_data"
    },
    {
     "data": {
      "image/png": "[encoded data removed]",
      "text/plain": [
       "<Figure size 1584x360 with 1 Axes>"
      ]
     },
     "metadata": {
      "needs_background": "light"
     },
     "output_type": "display_data"
    }
   ],
   "source": [
    "_ = darp_run(0,5)"
   ]
  },
  {
   "cell_type": "code",
   "execution_count": null,
   "metadata": {},
   "outputs": [],
   "source": []
  }
 ],
 "metadata": {
  "kernelspec": {
   "display_name": "Python 3",
   "language": "python",
   "name": "python3"
  },
  "language_info": {
   "codemirror_mode": {
    "name": "ipython",
    "version": 3
   },
   "file_extension": ".py",
   "mimetype": "text/x-python",
   "name": "python",
   "nbconvert_exporter": "python",
   "pygments_lexer": "ipython3",
   "version": "3.7.6"
  }
 },
 "nbformat": 4,
 "nbformat_minor": 4
}
