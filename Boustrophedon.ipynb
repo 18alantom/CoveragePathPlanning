{
 "cells": [
  {
   "cell_type": "code",
   "execution_count": 1,
   "metadata": {
    "ExecuteTime": {
     "end_time": "2020-07-28T18:32:19.839577Z",
     "start_time": "2020-07-28T18:32:19.222277Z"
    }
   },
   "outputs": [],
   "source": [
    "import numpy as np\n",
    "import math\n",
    "from scipy.spatial import distance\n",
    "from warnings import warn\n",
    "import time\n",
    "from tqdm.auto import tqdm\n",
    "from pathlib import Path"
   ]
  },
  {
   "cell_type": "code",
   "execution_count": 2,
   "metadata": {
    "ExecuteTime": {
     "end_time": "2020-07-28T18:32:20.609717Z",
     "start_time": "2020-07-28T18:32:19.842202Z"
    }
   },
   "outputs": [],
   "source": [
    "from cpp_algorithms.testers import imshow, imshow_scatter\n",
    "from cpp_algorithms.testers import get_all_area_maps, get_random_coords, get_area_map\n",
    "from cpp_algorithms.testers.metrics import coverage_metrics\n",
    "from cpp_algorithms.testers.display_funcs import printer\n",
    "from cpp_algorithms.testers import is_valid, adjacency_test"
   ]
  },
  {
   "cell_type": "markdown",
   "metadata": {},
   "source": [
    "# A - Star, Backtracking\n",
    "(untouched)"
   ]
  },
  {
   "cell_type": "code",
   "execution_count": 3,
   "metadata": {
    "ExecuteTime": {
     "end_time": "2020-07-28T18:32:22.394254Z",
     "start_time": "2020-07-28T18:32:22.366259Z"
    }
   },
   "outputs": [],
   "source": [
    "\"\"\"\n",
    "Old backtracking list function\n",
    "\"\"\"\n",
    "def backtracking_list(Memory, diameter, M, Critical_x, Critical_y):\n",
    "    resultList=[]\n",
    "    backup=[]\n",
    "    flag=0\n",
    "    \n",
    "    for a in Memory:\n",
    "        x=a[0]\n",
    "        y=a[1]\n",
    "        sum1=0\n",
    "        \n",
    "        if(sum(map(sum, M[x:x-diameter:-1, y+diameter:y+2*diameter])) == 255*diameter*diameter and (sum(map(sum, M[x:x+diameter, y+diameter:y+2*diameter]))<255*diameter*diameter   or sum(map(sum, M[x:x+diameter, y+diameter:y+2*diameter])) == 150*diameter*diameter)):\n",
    "            sum1=sum1+1\n",
    "        \n",
    "        if(sum(map(sum, M[x:x-diameter:-1, y+diameter:y+2*diameter])) == 255*diameter*diameter and (sum(map(sum, M[x-diameter:x-2*diameter:-1, y+diameter:y+2*diameter])) <255*diameter*diameter or sum(map(sum, M[x-diameter:x-2*diameter:-1, y+diameter:y+2*diameter])) == 150*diameter*diameter)):\n",
    "            sum1=sum1+1\n",
    "            \n",
    "        if(sum(map(sum, M[x:x-diameter:-1, y-diameter:y])) == 255*diameter*diameter and (sum(map(sum, M[x:x+diameter, y:y-diameter:-1])) <255*diameter*diameter  or sum(map(sum, M[x:x+diameter, y:y-diameter:-1])) == 150*diameter*diameter)):\n",
    "            sum1=sum1+1\n",
    "            \n",
    "            \n",
    "        if(sum(map(sum, M[x:x-diameter:-1, y-diameter:y])) == 255*diameter*diameter and (sum(map(sum, M[x-diameter:x-2*diameter:-1, y:y-diameter:-1]))<255*diameter*diameter or sum(map(sum, M[x-diameter:x-2*diameter:-1, y:y-diameter:-1])) == 150*diameter*diameter)):\n",
    "            sum1=sum1+1\n",
    "            \n",
    "        if(sum(map(sum, M[x+diameter:x:-1, y:y+diameter])) == 255*diameter*diameter and (sum(map(sum, M[x:x+diameter, y:y-diameter:-1])) <255*diameter*diameter or sum(map(sum, M[x:x+diameter, y:y-diameter:-1])) == 150*diameter*diameter)):\n",
    "            sum1=sum1+1\n",
    "            \n",
    "        if(sum(map(sum, M[x+diameter:x:-1, y:y+diameter])) == 255*diameter*diameter and (sum(map(sum, M[x:x+diameter, y+diameter:y+2*diameter])) <255*diameter*diameter or sum(map(sum, M[x:x+diameter, y+diameter:y+2*diameter])) == 150*diameter*diameter)):\n",
    "            sum1=sum1+1\n",
    "        \n",
    "        if(sum1==0 and (sum(map(sum, M[x-diameter: x-2*diameter:-1, y:y+diameter])) ==255*diameter*diameter or sum(map(sum, M[x+diameter: x:-1, y:y+diameter])) == 255*diameter*diameter or sum(map(sum, M[x: x-diameter:-1, y+diameter: y+2*diameter]))==255*diameter*diameter or sum(map(sum, M[x: x-diameter:-1, y-diameter: y])) ==255*diameter*diameter)):\n",
    "            backup.append(a)\n",
    "            \n",
    "        if sum1 >= 1:\n",
    "            resultList.append(a)\n",
    "            \n",
    "            \n",
    "    if (len(resultList) ==0 and len(backup)==0):\n",
    "        return 0, 0\n",
    "    \n",
    "    if(len(resultList)!=0):\n",
    "        if(len(resultList)==1):\n",
    "            for i in resultList:\n",
    "                x=i[0]\n",
    "                y=i[1]\n",
    "                #print(x, y)\n",
    "                return x, y\n",
    "             \n",
    "        else:\n",
    "            minimum=[]\n",
    "            for z in resultList:\n",
    "                p1=(Critical_x, Critical_y)\n",
    "                p2=(z[0], z[1])\n",
    "                d=distance.euclidean(p1, p2)\n",
    "                minimum.append(d)\n",
    "                #print(minimum)\n",
    "                \n",
    "    else:\n",
    "        flag=1\n",
    "        if(len(backup)==1):\n",
    "            for i in backup:\n",
    "                x=i[0]\n",
    "                y=i[1]\n",
    "                return x,y\n",
    "        else:\n",
    "            minimum=[]\n",
    "            for z in backup:\n",
    "                p1=(Critical_x, Critical_y)\n",
    "                p2=(z[0], z[1])\n",
    "                d=distance.euclidean(p1, p2)\n",
    "                minimum.append(d)\n",
    "            \n",
    "        \n",
    "            \n",
    "    min1=minimum[0]\n",
    "    index=0\n",
    "        \n",
    "    for p in range(len(minimum)):\n",
    "        if minimum[p] < min1:\n",
    "            index=p\n",
    "            min1=minimum[p]\n",
    "    \n",
    "    list_of_coord=[] \n",
    "    if(flag==1):\n",
    "        list_of_coord=backup[index]\n",
    "    else:\n",
    "        list_of_coord=resultList[index]\n",
    "    \n",
    "    return list_of_coord[0], list_of_coord[1]"
   ]
  },
  {
   "cell_type": "code",
   "execution_count": 4,
   "metadata": {
    "ExecuteTime": {
     "end_time": "2020-07-28T18:32:23.062173Z",
     "start_time": "2020-07-28T18:32:23.053013Z"
    }
   },
   "outputs": [],
   "source": [
    "def heuristic(start, goal):\n",
    "    #Use Chebyshev distance heuristic if we can move one square either\n",
    "    #adjacent or diagonal\n",
    "    D = 1\n",
    "    D2 = 1\n",
    "    dx = abs(start[0] - goal[0])\n",
    "    dy = abs(start[1] - goal[1])\n",
    "    return D * (dx + dy) + (D2 - 2 * D) * min(dx, dy)\n",
    "    \n",
    "def get_vertex_neighbours(pos, diameter, width, height):\n",
    "    n = []\n",
    "    #Moves allow link a chess king\n",
    "    for dx, dy in [(diameter,0),(-diameter,0),(0,diameter),(0,-diameter)]:\n",
    "        x2 = pos[0] + dx\n",
    "        y2 = pos[1] + dy\n",
    "        if x2 < 0 or x2 > width-1  or y2 < 0 or y2 > height-1:\n",
    "            continue\n",
    "        n.append((x2, y2))\n",
    "    return n\n",
    "    "
   ]
  },
  {
   "cell_type": "code",
   "execution_count": 5,
   "metadata": {
    "ExecuteTime": {
     "end_time": "2020-07-28T18:32:23.663098Z",
     "start_time": "2020-07-28T18:32:23.652093Z"
    }
   },
   "outputs": [],
   "source": [
    "def AStarSearch(start, end, graph, diameter, width, height):\n",
    " \n",
    "    G = {} #Actual movement cost to each position from the start position\n",
    "    F = {} #Estimated movement cost of start to end going via this position\n",
    " \n",
    "    #Initialize starting values\n",
    "    G[start] = 0 \n",
    "    F[start] = heuristic(start, end)\n",
    " \n",
    "    closedVertices = set()\n",
    "    openVertices = set([start])\n",
    "    cameFrom = {}\n",
    "    \n",
    "    # Adding a stop condition\n",
    "    outer_iterations = 0\n",
    "    max_iterations = (len(graph[0]) * len(graph) // 2)\n",
    " \n",
    "    while len(openVertices) > 0:\n",
    "        outer_iterations += 1\n",
    "\n",
    "        if outer_iterations > max_iterations:\n",
    "            warn(\"number of iterations has exceeded max iterations\")\n",
    "            \n",
    "        #Get the vertex in the open list with the lowest F score\n",
    "        current = None\n",
    "        currentFscore = None\n",
    "        for pos in openVertices:\n",
    "            if current is None or F[pos] < currentFscore:\n",
    "                currentFscore = F[pos]\n",
    "                current = pos\n",
    " \n",
    "        #Check if we have reached the goal\n",
    "        if current == end:\n",
    "            #Retrace our route backward\n",
    "            path = [current]\n",
    "            while current in cameFrom:\n",
    "                current = cameFrom[current]\n",
    "                path.append(current)\n",
    "            path.reverse()\n",
    "            return path  #Done!\n",
    " \n",
    "        #Mark the current vertex as closed\n",
    "        openVertices.remove(current)\n",
    "        closedVertices.add(current)\n",
    " \n",
    "        #Update scores for vertices near the current position\n",
    "        for neighbour in get_vertex_neighbours(current, diameter, width, height):\n",
    "            if neighbour in closedVertices: \n",
    "                continue #We have already processed this node exhaustively\n",
    "            x=neighbour[0]\n",
    "            y=neighbour[1]\n",
    "            if graph[x][y]!=150:\n",
    "                continue\n",
    "            else:\n",
    "                candidateG = G[current] + 1\n",
    " \n",
    "            if neighbour not in openVertices:\n",
    "                openVertices.add(neighbour) #Discovered a new vertex\n",
    "            \n",
    "            elif candidateG >= G[neighbour]:\n",
    "                continue #This G score is worse than previously found\n",
    " \n",
    "            #Adopt this G score\n",
    "            cameFrom[neighbour] = current\n",
    "            G[neighbour] = candidateG\n",
    "            H = heuristic(neighbour, end)\n",
    "            F[neighbour] = G[neighbour] + H\n",
    " \n",
    "    raise RuntimeError(\"A* failed to find a solution\")"
   ]
  },
  {
   "cell_type": "code",
   "execution_count": 6,
   "metadata": {
    "ExecuteTime": {
     "end_time": "2020-07-28T18:32:24.373848Z",
     "start_time": "2020-07-28T18:32:24.367402Z"
    }
   },
   "outputs": [],
   "source": [
    "def AstarPath(M, Memory, path):\n",
    "    for q in path:\n",
    "        x=q[0]\n",
    "        y=q[1]\n",
    "        Memory.append((x, y))"
   ]
  },
  {
   "cell_type": "markdown",
   "metadata": {},
   "source": [
    "# Boustrophedon and caller"
   ]
  },
  {
   "cell_type": "code",
   "execution_count": 7,
   "metadata": {
    "ExecuteTime": {
     "end_time": "2020-07-28T18:32:25.662576Z",
     "start_time": "2020-07-28T18:32:25.648252Z"
    }
   },
   "outputs": [],
   "source": [
    "def is_valid_vectorized(coords, matrix):\n",
    "    # Bound check\n",
    "    assert coords.shape[1] == 2\n",
    "    h,w = matrix.shape\n",
    "    x,y = coords.T\n",
    "    is_within_bounds = (x >= 0) & (x < h) & (y >= 0) & (y < w)\n",
    "    x = np.clip(x.copy(), 0, h-1)\n",
    "    y = np.clip(y.copy(), 0, w-1)\n",
    "    is_not_on_obstacle = (matrix[x,y] != 0) &  (matrix[x,y] != 150)\n",
    "    return is_within_bounds & is_not_on_obstacle\n",
    "\n",
    "def backtracking_list(memory, _, matrix, x, y):\n",
    "    bt_cond_points = {\n",
    "        \"r\":  lambda p: p + np.array([[0,1]]), # right\n",
    "        \"tr\": lambda p: p + np.array([[-1,1]]), # top-right\n",
    "        \"t\":  lambda p: p + np.array([[-1,0]]), # top\n",
    "        \"tl\": lambda p: p + np.array([[-1,-1]]), # top-left\n",
    "        \"l\":  lambda p: p + np.array([[0,-1]]), # left\n",
    "        \"bl\": lambda p: p + np.array([[1,-1]]), # bottom-left\n",
    "        \"b\":  lambda p: p + np.array([[1,0]]), # bottom\n",
    "        \"br\": lambda p: p + np.array([[1,1]]), # bottom-right\n",
    "    }\n",
    "    memory_ = np.array(memory)\n",
    "    assert memory_.shape[1] == 2, \"you've messed up something\"\n",
    "    \n",
    "    eight_di = {k: bt_cond_points[k](memory_) for k in bt_cond_points}\n",
    "    is_valid_eight = {k: is_valid_vectorized(eight_di[k], matrix) for k in eight_di}\n",
    "    cond_a = np.int0(is_valid_eight[\"r\"] & ~is_valid_eight[\"br\"])\n",
    "    cond_b = np.int0(is_valid_eight[\"r\"] & ~is_valid_eight[\"tr\"])\n",
    "    cond_c = np.int0(is_valid_eight[\"l\"] & ~is_valid_eight[\"bl\"])\n",
    "    cond_d = np.int0(is_valid_eight[\"l\"] & ~is_valid_eight[\"tl\"])\n",
    "    cond_e = np.int0(is_valid_eight[\"b\"] & ~is_valid_eight[\"bl\"])\n",
    "    cond_f = np.int0(is_valid_eight[\"b\"] & ~is_valid_eight[\"br\"])\n",
    "    μ_of_s = (cond_a + cond_b+ cond_c + cond_d + cond_e + cond_f)\n",
    "     \n",
    "    backtrack_points =  memory_[μ_of_s > 0]\n",
    "    if backtrack_points.shape[0] == 0:\n",
    "        return (0,0), True\n",
    "    else:\n",
    "        closest_point_idx = ((backtrack_points - np.array([x,y]))**2).sum(axis = 1).argmin()\n",
    "        return tuple(backtrack_points[closest_point_idx]), False"
   ]
  },
  {
   "cell_type": "code",
   "execution_count": 79,
   "metadata": {
    "ExecuteTime": {
     "end_time": "2020-07-28T18:28:04.759309Z",
     "start_time": "2020-07-28T18:28:04.668414Z"
    }
   },
   "outputs": [
    {
     "name": "stdout",
     "output_type": "stream",
     "text": [
      "1.72 ms ± 388 µs per loop (mean ± std. dev. of 5 runs, 10 loops each)\n"
     ]
    }
   ],
   "source": [
    "%timeit -n 10 -r 5 bt_point = backtracking_list(coverage_path, None,area_map, 0,0)"
   ]
  },
  {
   "cell_type": "code",
   "execution_count": 9,
   "metadata": {
    "ExecuteTime": {
     "end_time": "2020-07-28T18:32:34.950510Z",
     "start_time": "2020-07-28T18:32:34.937690Z"
    }
   },
   "outputs": [],
   "source": [
    "def backtracking_list(memory, _, matrix, x, y):\n",
    "    # Non vectorised implementation, runs faster; contig array alloc takes time!?\n",
    "    bt_cond_points = {\n",
    "        \"r\":  lambda x, y: (x + (+0), y + (+1)), # right\n",
    "        \"tr\": lambda x, y: (x + (-1), y + (+1)), # top-right\n",
    "        \"t\":  lambda x, y: (x + (-1), y + (+0)), # top\n",
    "        \"tl\": lambda x, y: (x + (-1), y + (-1)), # top-left\n",
    "        \"l\":  lambda x, y: (x + (+0), y + (-1)), # left\n",
    "        \"bl\": lambda x, y: (x + (+1), y + (-1)), # bottom-left\n",
    "        \"b\":  lambda x, y: (x + (+1), y + (+0)), # bottom\n",
    "        \"br\": lambda x, y: (x + (+1), y + (+1))  # bottom-right\n",
    "    }\n",
    "    \n",
    "    μ_of_s = []; \n",
    "    for point in memory:\n",
    "        av = { k:is_valid(bt_cond_points[k](*point), matrix, [0,150]) for k in bt_cond_points }\n",
    "        μ_of_s.append(int(av[\"r\"] and  not av[\"br\"]) + int(av[\"r\"] and  not av[\"tr\"]) + \n",
    "                      int(av[\"l\"] and  not av[\"bl\"]) + int(av[\"l\"] and  not av[\"tl\"]) + \n",
    "                      int(av[\"b\"] and  not av[\"bl\"]) + int(av[\"b\"] and  not av[\"br\"]))\n",
    "    μ_of_s = np.array(μ_of_s); # backup = np.array(backup);\n",
    "    memory_ = np.array(memory)\n",
    "    \n",
    "    backtrack_points =  memory_[μ_of_s > 0]\n",
    "    if backtrack_points.shape[0] == 0:\n",
    "        return (0,0), True\n",
    "    else:\n",
    "        closest_point_idx = ((backtrack_points - np.array([x,y]))**2).sum(axis = 1).argmin()\n",
    "        return tuple(backtrack_points[closest_point_idx]), False"
   ]
  },
  {
   "cell_type": "code",
   "execution_count": 107,
   "metadata": {
    "ExecuteTime": {
     "end_time": "2020-07-28T18:31:42.799842Z",
     "start_time": "2020-07-28T18:31:38.923013Z"
    }
   },
   "outputs": [
    {
     "name": "stdout",
     "output_type": "stream",
     "text": [
      "77.5 ms ± 3.05 ms per loop (mean ± std. dev. of 5 runs, 10 loops each)\n"
     ]
    }
   ],
   "source": [
    "%timeit -n 10 -r 5 _ = backtracking_list(coverage_path, None,area_map, 0,0)"
   ]
  },
  {
   "cell_type": "code",
   "execution_count": 10,
   "metadata": {
    "ExecuteTime": {
     "end_time": "2020-07-28T18:32:40.433372Z",
     "start_time": "2020-07-28T18:32:40.425364Z"
    }
   },
   "outputs": [],
   "source": [
    "def visit(matrix, x, y, memory):\n",
    "    matrix[(x,y)] = 150 # 150 == visited\n",
    "    memory.append((x, y))\n",
    "    return x,y\n",
    "\n",
    "def boustrophedon(matrix, diameter, x, y, memory):\n",
    "    # TODO :: Variable diameter support\n",
    "    udlr = {\n",
    "        \"u\": lambda x,y : (x-diameter,y),\n",
    "        \"d\": lambda x,y : (x+diameter,y),\n",
    "        \"l\": lambda x,y : (x,y-diameter),\n",
    "        \"r\": lambda x,y : (x,y+diameter)\n",
    "    }\n",
    "    u = \"u\";d = \"d\";r = \"r\";l = \"l\"\n",
    "    visit(matrix, x, y, memory)\n",
    "    \n",
    "    while True:\n",
    "        dir_ = [u,d,r,l]\n",
    "        while len(dir_) > 0:\n",
    "            d_ = dir_.pop(0)\n",
    "            x_, y_ = udlr[d_](x,y)\n",
    "            if is_valid((x_,y_), matrix, [0, 150]):\n",
    "                x, y = visit(matrix, x_, y_, memory)\n",
    "                break\n",
    "            elif d_ == l:\n",
    "                return x, y"
   ]
  },
  {
   "cell_type": "code",
   "execution_count": 14,
   "metadata": {
    "ExecuteTime": {
     "end_time": "2020-07-28T18:32:51.006585Z",
     "start_time": "2020-07-28T18:32:50.988950Z"
    }
   },
   "outputs": [],
   "source": [
    "def bous_preprocess(area_map):\n",
    "    \"\"\"\n",
    "    Returns matrix that in the form\n",
    "    that is read by the main algorithm.\n",
    "    \"\"\"\n",
    "    matrix = np.full(area_map.shape, 0, dtype=np.uint8)\n",
    "    matrix[area_map == 0] = 255\n",
    "    return matrix\n",
    "\n",
    "def do_everything(matrix, start_point, break_after_bous=False, timeit=True):\n",
    "    t = lambda :timeit and time.time()\n",
    "    times = {\n",
    "        \"bous\": [],\n",
    "        \"btrack\":[],\n",
    "        \"astar\":[]\n",
    "    }\n",
    "    store_time = lambda name,value: timeit and times[name].append(value)\n",
    "    start_time = t()\n",
    "    \n",
    "    width, height = matrix.shape\n",
    "    radius=0.5\n",
    "    diameter=int(2*radius)\n",
    "\n",
    "    x, y = start_point\n",
    "    memory=[]\n",
    "    \n",
    "    backtrack_counts = 0\n",
    "    point_find_failed = 0 \n",
    "\n",
    "    while True:\n",
    "        sw = t()\n",
    "        critical_x, critical_y = boustrophedon(matrix, diameter, x, y, memory)\n",
    "        store_time(\"bous\", t() - sw)\n",
    "        \n",
    "        \n",
    "        if break_after_bous:\n",
    "            print(\"break point\",critical_x,critical_y)\n",
    "            break\n",
    "            \n",
    "#         print(\"bt time\")\n",
    "        sw = t()\n",
    "        next_, is_end = backtracking_list(memory, diameter, matrix, critical_x, critical_y)\n",
    "        x,y = next_\n",
    "        store_time(\"btrack\", t() - sw)\n",
    "        if is_end:\n",
    "            break\n",
    "        else:\n",
    "            start = (critical_x,critical_y )\n",
    "            end = (x, y)\n",
    "            sw = t()\n",
    "            path = AStarSearch(start, end, matrix, diameter, width, height)\n",
    "            AstarPath(matrix, memory, path)\n",
    "            store_time(\"astar\", t() - sw)\n",
    "            \n",
    "    times_avg = timeit and {k+\"_avg\":np.array(times[k]).mean() for k in times}\n",
    "    times_tot = timeit and {k+\"_tot\":np.array(times[k]).sum() for k in times}\n",
    "    times = timeit and {**times_avg, **times_tot}\n",
    "    end_time = timeit and (time.time() - start_time)\n",
    "    if timeit: times['total'] = end_time\n",
    "    timeit and printer(times)\n",
    "    return memory "
   ]
  },
  {
   "cell_type": "code",
   "execution_count": 12,
   "metadata": {
    "ExecuteTime": {
     "end_time": "2020-07-28T18:32:42.449717Z",
     "start_time": "2020-07-28T18:32:42.358965Z"
    }
   },
   "outputs": [],
   "source": [
    "area_maps = get_all_area_maps(\"./test_maps/\")"
   ]
  },
  {
   "cell_type": "code",
   "execution_count": 17,
   "metadata": {
    "ExecuteTime": {
     "end_time": "2020-07-28T18:35:03.983107Z",
     "start_time": "2020-07-28T18:35:03.891045Z"
    }
   },
   "outputs": [
    {
     "name": "stdout",
     "output_type": "stream",
     "text": [
      "times ↓\n",
      "            bous_avg : 0.0007131099700927734\n",
      "          btrack_avg : 0.001026153564453125\n",
      "           astar_avg : nan\n",
      "            bous_tot : 0.0007131099700927734\n",
      "          btrack_tot : 0.001026153564453125\n",
      "           astar_tot : 0.0\n",
      "               total : 0.0020868778228759766\n",
      "\n",
      "metrics ↓\n",
      "     points_to_visit : 772\n",
      "     obstacle_points : 252\n",
      "      points_visited : 20\n",
      "   coverage_path_len : 20\n",
      "            coverage : 0.025906735751295335\n",
      "          redundancy : 0.0\n",
      "          area_shape : (32, 32)\n",
      "\n"
     ]
    },
    {
     "name": "stderr",
     "output_type": "stream",
     "text": [
      "/Users/alan/opt/anaconda3/envs/data_sci/lib/python3.7/site-packages/ipykernel_launcher.py:55: RuntimeWarning: Mean of empty slice.\n"
     ]
    },
    {
     "data": {
      "image/png": "[encoded data removed]",
      "text/plain": [
       "<Figure size 576x576 with 1 Axes>"
      ]
     },
     "metadata": {
      "needs_background": "light"
     },
     "output_type": "display_data"
    }
   ],
   "source": [
    "area_map = area_maps[8]\n",
    "\n",
    "start_point = (12, 28)\n",
    "matrix = bous_preprocess(area_map)\n",
    "print(\"times ↓\")\n",
    "coverage_path = do_everything(matrix, start_point, break_after_bous=False)\n",
    "end_point = coverage_path[-1]\n",
    "\n",
    "print(\"\\nmetrics ↓\")\n",
    "printer(coverage_metrics(area_map, coverage_path))\n",
    "print()\n",
    "\n",
    "imshow(matrix, figsize=(8, 8), cmap=\"cividis\")                       #Shift + Tab\n",
    "imshow_scatter(coverage_path, alpha=0.4, color=\"black\",s=5)\n",
    "imshow_scatter([start_point],color=\"lightgreen\")\n",
    "imshow_scatter([end_point],color=\"red\")"
   ]
  },
  {
   "cell_type": "code",
   "execution_count": 90,
   "metadata": {
    "ExecuteTime": {
     "end_time": "2020-07-28T18:29:13.105990Z",
     "start_time": "2020-07-28T18:29:13.095863Z"
    },
    "scrolled": false
   },
   "outputs": [],
   "source": [
    "def cover_test(first_n_area_maps, times):\n",
    "    t_ = []\n",
    "    for j,area_map in tqdm(enumerate(area_maps[:first_n_area_maps]),total=first_n_area_maps):\n",
    "        t = []\n",
    "        for i in range(times):\n",
    "            start_point = get_random_coords(area_map, 1)[0]\n",
    "            matrix = bous_preprocess(area_map)\n",
    "            try:\n",
    "                s = time.time()\n",
    "                coverage_path = do_everything(matrix, start_point, timeit=False)\n",
    "                t.append(time.time() - s)\n",
    "            except:\n",
    "                print(f\"j: {j}, start: {start_point} FAILED\")\n",
    "                imshow(area_map)\n",
    "                return\n",
    "            end_point = coverage_path[-1]\n",
    "            metrics = coverage_metrics(area_map, coverage_path)\n",
    "            if metrics[\"coverage\"] < 1.0:\n",
    "                print(f\"j: {j}, start: {start_point}, end: {end_point}, cover:{metrics['coverage']} ,redun:{metrics['redundancy']}\")\n",
    "                print()\n",
    "        t_.append(np.array(t).mean())\n",
    "    return t_"
   ]
  },
  {
   "cell_type": "code",
   "execution_count": 91,
   "metadata": {
    "ExecuteTime": {
     "end_time": "2020-07-28T18:29:19.853298Z",
     "start_time": "2020-07-28T18:29:14.653983Z"
    }
   },
   "outputs": [
    {
     "data": {
      "application/vnd.jupyter.widget-view+json": {
       "model_id": "f1e0609ea0284f0f9783a92ba5eedcc2",
       "version_major": 2,
       "version_minor": 0
      },
      "text/plain": [
       "HBox(children=(FloatProgress(value=0.0, max=11.0), HTML(value='')))"
      ]
     },
     "metadata": {},
     "output_type": "display_data"
    },
    {
     "name": "stderr",
     "output_type": "stream",
     "text": [
      "/Users/alan/opt/anaconda3/envs/data_sci/lib/python3.7/site-packages/ipykernel_launcher.py:22: UserWarning: number of iterations has exceeded max iterations\n"
     ]
    },
    {
     "name": "stdout",
     "output_type": "stream",
     "text": [
      "j: 8, start: (12, 28), end: (17, 30), cover:0.025906735751295335 ,redun:0.0\n",
      "\n",
      "\n"
     ]
    },
    {
     "data": {
      "text/plain": [
       "[0.03179330825805664,\n",
       " 0.022915577888488768,\n",
       " 0.028238415718078613,\n",
       " 0.04246551990509033,\n",
       " 0.024263644218444826,\n",
       " 0.03200762271881104,\n",
       " 0.026227903366088868,\n",
       " 0.08608648777008057,\n",
       " 0.06126809120178223,\n",
       " 0.06248509883880615,\n",
       " 0.09094016551971436]"
      ]
     },
     "execution_count": 91,
     "metadata": {},
     "output_type": "execute_result"
    }
   ],
   "source": [
    "# If returns time without any print then SUCCESS!\n",
    "cover_test(11,10) # cover test for all the maps <= 50, 50"
   ]
  },
  {
   "cell_type": "code",
   "execution_count": 553,
   "metadata": {
    "ExecuteTime": {
     "end_time": "2020-07-28T16:58:08.003174Z",
     "start_time": "2020-07-28T16:44:22.289114Z"
    },
    "scrolled": false
   },
   "outputs": [
    {
     "data": {
      "application/vnd.jupyter.widget-view+json": {
       "model_id": "634e7f0f9f0e4a74a7e52ba5cd9c3690",
       "version_major": 2,
       "version_minor": 0
      },
      "text/plain": [
       "HBox(children=(FloatProgress(value=0.0, max=21.0), HTML(value='')))"
      ]
     },
     "metadata": {},
     "output_type": "display_data"
    },
    {
     "name": "stdout",
     "output_type": "stream",
     "text": [
      "# 0 ::  (32, 32) corners_0.png\n",
      "            bous_avg : 0.0006550864169472142\n",
      "          btrack_avg : 0.027687875848067433\n",
      "           astar_avg : 0.0002460877100626628\n",
      "            bous_tot : 0.01244664192199707\n",
      "          btrack_tot : 0.5260696411132812\n",
      "           astar_tot : 0.00442957878112793\n",
      "               total : 0.5431210994720459\n",
      "     points_to_visit : 716\n",
      "     obstacle_points : 308\n",
      "      points_visited : 716\n",
      "   coverage_path_len : 806\n",
      "            coverage : 1.0\n",
      "          redundancy : 0.12569832402234637\n",
      "          area_shape : (32, 32)\n",
      "adjacency test pass : True\n",
      "\n",
      "# 2 ::  (256, 256) comb_9.png\n",
      "            bous_avg : 0.0011901212831070482\n",
      "          btrack_avg : 1.3173962680477338\n",
      "           astar_avg : 0.0034853007342364336\n",
      "            bous_tot : 0.44153499603271484\n",
      "          btrack_tot : 488.75401544570923\n",
      "           astar_tot : 1.2895612716674805\n",
      "               total : 490.4877858161926\n",
      "     points_to_visit : 33385\n",
      "     obstacle_points : 32151\n",
      "      points_visited : 33385\n",
      "   coverage_path_len : 38019\n",
      "            coverage : 1.0\n",
      "          redundancy : 0.13880485247865804\n",
      "          area_shape : (256, 256)\n",
      "adjacency test pass : True\n",
      "\n",
      "# 3 ::  (144, 256) comb_8.png\n",
      "            bous_avg : 0.0030395189921061196\n",
      "          btrack_avg : 0.7154895464579264\n",
      "           astar_avg : 0.0025292945944744606\n",
      "            bous_tot : 0.28267526626586914\n",
      "          btrack_tot : 66.54052782058716\n",
      "           astar_tot : 0.2326951026916504\n",
      "               total : 67.05652403831482\n",
      "     points_to_visit : 24720\n",
      "     obstacle_points : 12144\n",
      "      points_visited : 24720\n",
      "   coverage_path_len : 25774\n",
      "            coverage : 1.0\n",
      "          redundancy : 0.04263754045307433\n",
      "          area_shape : (144, 256)\n",
      "adjacency test pass : True\n",
      "\n",
      "# 4 ::  (32, 32) pipes_0.png\n",
      "            bous_avg : 0.0005966354818905101\n",
      "          btrack_avg : 0.024411257575539982\n",
      "           astar_avg : 0.00022079050540924072\n",
      "            bous_tot : 0.010142803192138672\n",
      "          btrack_tot : 0.4149913787841797\n",
      "           astar_tot : 0.0035326480865478516\n",
      "               total : 0.4288489818572998\n",
      "     points_to_visit : 689\n",
      "     obstacle_points : 335\n",
      "      points_visited : 689\n",
      "   coverage_path_len : 800\n",
      "            coverage : 1.0\n",
      "          redundancy : 0.16110304789550067\n",
      "          area_shape : (32, 32)\n",
      "adjacency test pass : True\n",
      "\n",
      "# 5 ::  (32, 32) pipes_1.png\n",
      "            bous_avg : 0.0005748773875989412\n",
      "          btrack_avg : 0.0509934801804392\n",
      "           astar_avg : 0.0005549589792887369\n",
      "            bous_tot : 0.010922670364379883\n",
      "          btrack_tot : 0.9688761234283447\n",
      "           astar_tot : 0.009989261627197266\n",
      "               total : 0.990020751953125\n",
      "     points_to_visit : 639\n",
      "     obstacle_points : 385\n",
      "      points_visited : 639\n",
      "   coverage_path_len : 784\n",
      "            coverage : 1.0\n",
      "          redundancy : 0.22691705790297334\n",
      "          area_shape : (32, 32)\n",
      "adjacency test pass : True\n",
      "\n",
      "# 6 ::  (32, 32) pipes_2.png\n",
      "            bous_avg : 0.000656691464510831\n",
      "          btrack_avg : 0.03382287242195823\n",
      "           astar_avg : 0.0006145182110014416\n",
      "            bous_tot : 0.014447212219238281\n",
      "          btrack_tot : 0.744103193283081\n",
      "           astar_tot : 0.012904882431030273\n",
      "               total : 0.7716560363769531\n",
      "     points_to_visit : 654\n",
      "     obstacle_points : 370\n",
      "      points_visited : 654\n",
      "   coverage_path_len : 864\n",
      "            coverage : 1.0\n",
      "          redundancy : 0.32110091743119273\n",
      "          area_shape : (32, 32)\n",
      "adjacency test pass : True\n",
      "\n",
      "# 7 ::  (32, 32) caves_1.png\n",
      "            bous_avg : 0.0012072433124889028\n",
      "          btrack_avg : 0.04136761752041904\n",
      "           astar_avg : 0.0011603593826293944\n",
      "            bous_tot : 0.01327967643737793\n",
      "          btrack_tot : 0.4550437927246094\n",
      "           astar_tot : 0.011603593826293945\n",
      "               total : 0.48006296157836914\n",
      "     points_to_visit : 794\n",
      "     obstacle_points : 230\n",
      "      points_visited : 794\n",
      "   coverage_path_len : 912\n",
      "            coverage : 1.0\n",
      "          redundancy : 0.1486146095717884\n",
      "          area_shape : (32, 32)\n",
      "adjacency test pass : True\n",
      "\n",
      "# 8 ::  (32, 32) caves_0.png\n",
      "            bous_avg : 0.0007459640502929688\n",
      "          btrack_avg : 0.03533647855122884\n",
      "           astar_avg : 0.000620722770690918\n",
      "            bous_tot : 0.011189460754394531\n",
      "          btrack_tot : 0.5300471782684326\n",
      "           astar_tot : 0.008690118789672852\n",
      "               total : 0.550086259841919\n",
      "     points_to_visit : 725\n",
      "     obstacle_points : 299\n",
      "      points_visited : 725\n",
      "   coverage_path_len : 914\n",
      "            coverage : 1.0\n",
      "          redundancy : 0.2606896551724138\n",
      "          area_shape : (32, 32)\n",
      "adjacency test pass : True\n",
      "\n",
      "# 9 ::  (32, 32) center_0.png\n",
      "            bous_avg : 0.0008446999958583287\n",
      "          btrack_avg : 0.02949636323111398\n",
      "           astar_avg : 0.0004507761735182542\n",
      "            bous_tot : 0.011825799942016602\n",
      "          btrack_tot : 0.4129490852355957\n",
      "           astar_tot : 0.005860090255737305\n",
      "               total : 0.4308910369873047\n",
      "     points_to_visit : 723\n",
      "     obstacle_points : 301\n",
      "      points_visited : 723\n",
      "   coverage_path_len : 814\n",
      "            coverage : 1.0\n",
      "          redundancy : 0.12586445366528354\n",
      "          area_shape : (32, 32)\n",
      "adjacency test pass : True\n",
      "\n",
      "# 10 ::  (144, 256) center_1.png\n",
      "            bous_avg : 0.030020526477268765\n",
      "          btrack_avg : 1.265210679599217\n",
      "           astar_avg : 0.02306083532480093\n",
      "            bous_tot : 0.4202873706817627\n",
      "          btrack_tot : 17.712949514389038\n",
      "           astar_tot : 0.2997908592224121\n",
      "               total : 18.43323588371277\n",
      "     points_to_visit : 36713\n",
      "     obstacle_points : 151\n",
      "      points_visited : 36713\n",
      "   coverage_path_len : 37034\n",
      "            coverage : 1.0\n",
      "          redundancy : 0.008743496853975463\n",
      "          area_shape : (144, 256)\n",
      "adjacency test pass : True\n",
      "\n",
      "# 11 ::  (50, 144) comb_5.png\n",
      "            bous_avg : 0.0030948362852397716\n",
      "          btrack_avg : 0.1654201306794819\n",
      "           astar_avg : 0.0016322400834825304\n",
      "            bous_tot : 0.058801889419555664\n",
      "          btrack_tot : 3.1429824829101562\n",
      "           astar_tot : 0.029380321502685547\n",
      "               total : 3.231350898742676\n",
      "     points_to_visit : 4383\n",
      "     obstacle_points : 2817\n",
      "      points_visited : 4383\n",
      "   coverage_path_len : 4645\n",
      "            coverage : 1.0\n",
      "          redundancy : 0.05977640885238422\n",
      "          area_shape : (50, 144)\n",
      "adjacency test pass : True\n",
      "\n",
      "# 12 ::  (50, 144) comb_4.png\n",
      "            bous_avg : 0.0015091101328531902\n",
      "          btrack_avg : 0.10670102967156304\n",
      "           astar_avg : 0.00166647093636649\n",
      "            bous_tot : 0.054327964782714844\n",
      "          btrack_tot : 3.8412370681762695\n",
      "           astar_tot : 0.05832648277282715\n",
      "               total : 3.9544341564178467\n",
      "     points_to_visit : 4161\n",
      "     obstacle_points : 3039\n",
      "      points_visited : 4161\n",
      "   coverage_path_len : 4560\n",
      "            coverage : 1.0\n",
      "          redundancy : 0.09589041095890405\n",
      "          area_shape : (50, 144)\n",
      "adjacency test pass : True\n",
      "\n",
      "# 13 ::  (50, 144) comb_6.png\n",
      "            bous_avg : 0.004460978507995606\n",
      "          btrack_avg : 0.2567237377166748\n",
      "           astar_avg : 0.011102325037906044\n",
      "            bous_tot : 0.08921957015991211\n",
      "          btrack_tot : 5.134474754333496\n",
      "           astar_tot : 0.21094417572021484\n",
      "               total : 5.434887170791626\n",
      "     points_to_visit : 6042\n",
      "     obstacle_points : 1158\n",
      "      points_visited : 6042\n",
      "   coverage_path_len : 6796\n",
      "            coverage : 1.0\n",
      "          redundancy : 0.12479311486262823\n",
      "          area_shape : (50, 144)\n",
      "adjacency test pass : True\n",
      "\n",
      "# 14 ::  (144, 256) comb_7.png\n"
     ]
    },
    {
     "name": "stderr",
     "output_type": "stream",
     "text": [
      "/Users/alan/opt/anaconda3/envs/data_sci/lib/python3.7/site-packages/ipykernel_launcher.py:22: UserWarning: number of iterations has exceeded max iterations\n"
     ]
    },
    {
     "name": "stdout",
     "output_type": "stream",
     "text": [
      "            bous_avg : 0.001707020038511695\n",
      "          btrack_avg : 0.9967232890245391\n",
      "           astar_avg : 0.009699706937752519\n",
      "            bous_tot : 0.34993910789489746\n",
      "          btrack_tot : 204.32827425003052\n",
      "           astar_tot : 1.9787402153015137\n",
      "               total : 206.658282995224\n",
      "     points_to_visit : 25866\n",
      "     obstacle_points : 10998\n",
      "      points_visited : 25866\n",
      "   coverage_path_len : 28288\n",
      "            coverage : 1.0\n",
      "          redundancy : 0.09363643392870946\n",
      "          area_shape : (144, 256)\n",
      "adjacency test pass : True\n",
      "\n",
      "# 15 ::  (50, 144) comb_3.png\n",
      "            bous_avg : 0.00047543616521926154\n",
      "          btrack_avg : 0.14622059776669458\n",
      "           astar_avg : 0.0004228101326869084\n",
      "            bous_tot : 0.04992079734802246\n",
      "          btrack_tot : 15.35316276550293\n",
      "           astar_tot : 0.04397225379943848\n",
      "               total : 15.447703838348389\n",
      "     points_to_visit : 3680\n",
      "     obstacle_points : 3520\n",
      "      points_visited : 3680\n",
      "   coverage_path_len : 4487\n",
      "            coverage : 1.0\n",
      "          redundancy : 0.21929347826086953\n",
      "          area_shape : (50, 144)\n",
      "adjacency test pass : True\n",
      "\n",
      "# 16 ::  (32, 32) comb_11.png\n",
      "            bous_avg : 0.0002626491629559061\n",
      "          btrack_avg : 0.02793984309486721\n",
      "           astar_avg : 0.0001979351043701172\n",
      "            bous_tot : 0.01208186149597168\n",
      "          btrack_tot : 1.2852327823638916\n",
      "           astar_tot : 0.008907079696655273\n",
      "               total : 1.306506872177124\n",
      "     points_to_visit : 772\n",
      "     obstacle_points : 252\n",
      "      points_visited : 772\n",
      "   coverage_path_len : 1054\n",
      "            coverage : 1.0\n",
      "          redundancy : 0.3652849740932642\n",
      "          area_shape : (32, 32)\n",
      "adjacency test pass : True\n",
      "\n",
      "# 17 ::  (50, 50) comb_2.png\n",
      "            bous_avg : 0.0004106836116060298\n",
      "          btrack_avg : 0.052821641272686896\n",
      "           astar_avg : 0.0005130145860754925\n",
      "            bous_tot : 0.0193021297454834\n",
      "          btrack_tot : 2.482617139816284\n",
      "           astar_tot : 0.023598670959472656\n",
      "               total : 2.5258209705352783\n",
      "     points_to_visit : 1318\n",
      "     obstacle_points : 1182\n",
      "      points_visited : 1318\n",
      "   coverage_path_len : 1733\n",
      "            coverage : 1.0\n",
      "          redundancy : 0.3148710166919575\n",
      "          area_shape : (50, 50)\n",
      "adjacency test pass : True\n",
      "\n",
      "# 18 ::  (50, 50) comb_0.png\n",
      "            bous_avg : 0.0008169986583568432\n",
      "          btrack_avg : 0.0663975786279749\n",
      "           astar_avg : 0.00035567467029278097\n",
      "            bous_tot : 0.022058963775634766\n",
      "          btrack_tot : 1.7927346229553223\n",
      "           astar_tot : 0.009247541427612305\n",
      "               total : 1.8242650032043457\n",
      "     points_to_visit : 1529\n",
      "     obstacle_points : 971\n",
      "      points_visited : 1529\n",
      "   coverage_path_len : 1699\n",
      "            coverage : 1.0\n",
      "          redundancy : 0.11118378024852849\n",
      "          area_shape : (50, 50)\n",
      "adjacency test pass : True\n",
      "\n",
      "# 19 ::  (32, 32) comb_12.png\n",
      "            bous_avg : 0.0002020136002571352\n",
      "          btrack_avg : 0.03420279487486808\n",
      "           astar_avg : 0.00033583015692038615\n",
      "            bous_tot : 0.012524843215942383\n",
      "          btrack_tot : 2.1205732822418213\n",
      "           astar_tot : 0.020485639572143555\n",
      "               total : 2.153975009918213\n",
      "     points_to_visit : 610\n",
      "     obstacle_points : 414\n",
      "      points_visited : 610\n",
      "   coverage_path_len : 1271\n",
      "            coverage : 1.0\n",
      "          redundancy : 1.083606557377049\n",
      "          area_shape : (32, 32)\n",
      "adjacency test pass : True\n",
      "\n",
      "# 20 ::  (50, 50) comb_1.png\n",
      "            bous_avg : 0.0005873862434835995\n",
      "          btrack_avg : 0.062180771547205305\n",
      "           astar_avg : 0.0009530024095015092\n",
      "            bous_tot : 0.019971132278442383\n",
      "          btrack_tot : 2.1141462326049805\n",
      "           astar_tot : 0.031449079513549805\n",
      "               total : 2.165803909301758\n",
      "     points_to_visit : 1472\n",
      "     obstacle_points : 1028\n",
      "      points_visited : 1472\n",
      "   coverage_path_len : 1863\n",
      "            coverage : 1.0\n",
      "          redundancy : 0.265625\n",
      "          area_shape : (50, 50)\n",
      "adjacency test pass : True\n",
      "\n",
      "\n"
     ]
    }
   ],
   "source": [
    "display = False\n",
    "for i,path in tqdm(enumerate(Path(\"./test_maps/\").iterdir()),total=21):\n",
    "    if path.suffix != \".png\":\n",
    "        continue\n",
    "    area_map = get_area_map(path)\n",
    "    # Remove conditional to run on all maps.\n",
    "#     if area_map.shape[1] > 50:\n",
    "#         continue\n",
    "    print(f\"# {i} :: \",area_map.shape, path.name)\n",
    "    start_point = get_random_coords(area_map, 1)[0]\n",
    "    matrix = bous_preprocess(area_map)\n",
    "    coverage_path = do_everything(matrix, start_point)\n",
    "    end_point = coverage_path[-1]\n",
    "    printer(coverage_metrics(area_map, coverage_path))\n",
    "    print(f\"adjacency test pass : {adjacency_test(coverage_path)}\")\n",
    "    print()\n",
    "\n",
    "    if display:\n",
    "        imshow(matrix, cmap=\"Greys_r\",figsize=(10,10))\n",
    "        imshow_scatter(coverage_path, alpha=0.5, color=\"lightblue\",s=4)\n",
    "        imshow_scatter([start_point], color=\"black\")\n",
    "        imshow_scatter([end_point],color=\"red\")"
   ]
  }
 ],
 "metadata": {
  "kernelspec": {
   "display_name": "Python 3",
   "language": "python",
   "name": "python3"
  },
  "language_info": {
   "codemirror_mode": {
    "name": "ipython",
    "version": 3
   },
   "file_extension": ".py",
   "mimetype": "text/x-python",
   "name": "python",
   "nbconvert_exporter": "python",
   "pygments_lexer": "ipython3",
   "version": "3.7.6"
  }
 },
 "nbformat": 4,
 "nbformat_minor": 4
}
