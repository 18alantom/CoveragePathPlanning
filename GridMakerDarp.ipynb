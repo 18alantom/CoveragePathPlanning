{
 "cells": [
  {
   "cell_type": "code",
   "execution_count": 1,
   "metadata": {
    "ExecuteTime": {
     "end_time": "2020-08-01T16:33:53.771774Z",
     "start_time": "2020-08-01T16:33:52.376655Z"
    }
   },
   "outputs": [],
   "source": [
    "from cpp_algorithms import darp, imshow, get_random_coords, get_all_area_maps"
   ]
  },
  {
   "cell_type": "code",
   "execution_count": 2,
   "metadata": {
    "ExecuteTime": {
     "end_time": "2020-08-01T16:33:53.937114Z",
     "start_time": "2020-08-01T16:33:53.772762Z"
    }
   },
   "outputs": [],
   "source": [
    "import geopandas\n",
    "import geojson\n",
    "import json\n",
    "import sys\n",
    "import shapely\n",
    "from shapely.geometry import shape\n",
    "from haversine import haversine, Unit\n",
    "from shapely.geometry import Polygon\n",
    "from shapely.geometry import Point\n",
    "from shapely.geometry import LineString\n",
    "from math import ceil\n",
    "import numpy as np\n",
    "import matplotlib.pyplot as plt\n",
    "from shapely.ops import unary_union\n",
    "import geopy\n",
    "import geopy.distance\n",
    "import pyproj\n",
    "from shapely.ops import transform\n",
    "from functools import partial"
   ]
  },
  {
   "cell_type": "code",
   "execution_count": 3,
   "metadata": {
    "ExecuteTime": {
     "end_time": "2020-08-01T16:33:54.206830Z",
     "start_time": "2020-08-01T16:33:53.937668Z"
    }
   },
   "outputs": [],
   "source": [
    "myshpfile = geopandas.read_file('layers\\\\POLYGON.shp')\n",
    "myshpfile.to_file('myJson.geojson', driver='GeoJSON')\n",
    "with open('myJson.geojson') as f:\n",
    "    features = json.load(f)[\"features\"] \n",
    "maparea = ([shape(feature[\"geometry\"]).buffer(0) for feature in features])"
   ]
  },
  {
   "cell_type": "code",
   "execution_count": 4,
   "metadata": {
    "ExecuteTime": {
     "end_time": "2020-08-01T16:33:54.603790Z",
     "start_time": "2020-08-01T16:33:54.207690Z"
    }
   },
   "outputs": [],
   "source": [
    "obstacles = np.zeros([3],dtype = 'O')\n",
    "for x in range(0,3):\n",
    "    obstacles[x] = maparea[x+1]"
   ]
  },
  {
   "cell_type": "code",
   "execution_count": 5,
   "metadata": {
    "ExecuteTime": {
     "end_time": "2020-08-01T16:33:54.800881Z",
     "start_time": "2020-08-01T16:33:54.604785Z"
    }
   },
   "outputs": [
    {
     "name": "stdout",
     "output_type": "stream",
     "text": [
      "(72.79214859008789, 18.920089944412993, 72.84896850585938, 19.025283423553358)\n"
     ]
    }
   ],
   "source": [
    "# The bounds of the map minx miny maxx maxy\n",
    "outer_rect = maparea[0].bounds\n",
    "print(outer_rect)"
   ]
  },
  {
   "cell_type": "code",
   "execution_count": 6,
   "metadata": {
    "ExecuteTime": {
     "end_time": "2020-08-01T16:33:54.849951Z",
     "start_time": "2020-08-01T16:33:54.801878Z"
    }
   },
   "outputs": [],
   "source": [
    "def gridpoints(rect,dist):\n",
    "    height = haversine((rect[1],rect[0]),(rect[3],rect[0]))\n",
    "    length = haversine((rect[1],rect[0]),(rect[1],rect[2]))\n",
    "    d = geopy.distance.distance(kilometers = dist)\n",
    "    horizontalcells = ceil(length/dist)\n",
    "    verticalcells = ceil(height/dist)\n",
    "    \n",
    "    latitudelist = []\n",
    "    start = geopy.Point(rect[1],rect[0])\n",
    "    for _ in range(verticalcells):\n",
    "        latitudelist.append(start)\n",
    "        final = d.destination(point=start, bearing=0)\n",
    "        start = final\n",
    "    latitudelist.append(start)\n",
    "    \n",
    "    longitudelist = []\n",
    "    start = geopy.Point(rect[1],rect[0])\n",
    "    for _ in range(horizontalcells):\n",
    "        longitudelist.append(start)\n",
    "        final = d.destination(point=start, bearing=90)\n",
    "        start = final\n",
    "    longitudelist.append(start)\n",
    "    \n",
    "    return latitudelist,longitudelist,verticalcells,horizontalcells"
   ]
  },
  {
   "cell_type": "code",
   "execution_count": 7,
   "metadata": {
    "ExecuteTime": {
     "end_time": "2020-08-01T16:33:54.912577Z",
     "start_time": "2020-08-01T16:33:54.852924Z"
    }
   },
   "outputs": [],
   "source": [
    "latitudelist,longitudelist,vertical,horizontal = gridpoints(outer_rect,0.1) #binding rectangle and distance are sent as parameters"
   ]
  },
  {
   "cell_type": "code",
   "execution_count": 8,
   "metadata": {
    "ExecuteTime": {
     "end_time": "2020-08-01T16:33:54.963041Z",
     "start_time": "2020-08-01T16:33:54.915530Z"
    }
   },
   "outputs": [],
   "source": [
    "mapboundary = maparea[0]"
   ]
  },
  {
   "cell_type": "code",
   "execution_count": 9,
   "metadata": {
    "ExecuteTime": {
     "end_time": "2020-08-01T16:33:55.035818Z",
     "start_time": "2020-08-01T16:33:54.965031Z"
    }
   },
   "outputs": [],
   "source": [
    "bounding_rectangle_grid= Polygon([(longitudelist[0][1],latitudelist[0][0]),(longitudelist[horizontal][1],latitudelist[0][0]),(longitudelist[horizontal][1],latitudelist[vertical][0]),(longitudelist[0][1],latitudelist[vertical][0])]) "
   ]
  },
  {
   "cell_type": "code",
   "execution_count": 10,
   "metadata": {
    "ExecuteTime": {
     "end_time": "2020-08-01T16:33:55.119007Z",
     "start_time": "2020-08-01T16:33:55.036815Z"
    }
   },
   "outputs": [],
   "source": [
    "outside_map_non_traverse_area = bounding_rectangle_grid.difference(mapboundary) # "
   ]
  },
  {
   "cell_type": "code",
   "execution_count": 11,
   "metadata": {
    "ExecuteTime": {
     "end_time": "2020-08-01T16:33:55.171143Z",
     "start_time": "2020-08-01T16:33:55.119965Z"
    }
   },
   "outputs": [],
   "source": [
    "c = np.zeros([vertical,horizontal],dtype = int)\n",
    "lookup_c = np.zeros([vertical,horizontal],dtype = 'O')"
   ]
  },
  {
   "cell_type": "code",
   "execution_count": 12,
   "metadata": {
    "ExecuteTime": {
     "end_time": "2020-08-01T16:33:55.221934Z",
     "start_time": "2020-08-01T16:33:55.172108Z"
    }
   },
   "outputs": [],
   "source": [
    "obstacle_partial = {}\n",
    "for q in range(len(obstacles)):\n",
    "    obstacle_partial[q] = []"
   ]
  },
  {
   "cell_type": "code",
   "execution_count": 13,
   "metadata": {
    "ExecuteTime": {
     "end_time": "2020-08-01T16:33:55.271612Z",
     "start_time": "2020-08-01T16:33:55.222818Z"
    }
   },
   "outputs": [],
   "source": [
    "boundary_partial = []"
   ]
  },
  {
   "cell_type": "code",
   "execution_count": null,
   "metadata": {
    "ExecuteTime": {
     "end_time": "2020-08-01T16:17:38.098445Z",
     "start_time": "2020-08-01T16:17:38.091463Z"
    }
   },
   "outputs": [],
   "source": []
  },
  {
   "cell_type": "code",
   "execution_count": 14,
   "metadata": {
    "ExecuteTime": {
     "end_time": "2020-08-01T16:33:55.325091Z",
     "start_time": "2020-08-01T16:33:55.272610Z"
    }
   },
   "outputs": [],
   "source": [
    "def matrixandlookup(c,lookup_c,outside_map_traverse_area,mapboundary,rect,dist):\n",
    "    latitudelist,longitudelist,vertical,horizontal = gridpoints(rect,dist)\n",
    "    for x in range(len(latitudelist)-1):\n",
    "        for y in range(len(longitudelist)-1):\n",
    "            square = Polygon([(longitudelist[y][1],latitudelist[vertical-x][0]),(longitudelist[y+1][1],latitudelist[vertical-x][0]),(longitudelist[y+1][1],latitudelist[vertical-x-1][0]),(longitudelist[y][1],latitudelist[vertical-x-1][0])]) \n",
    "            lookup_c[x,y] = square.centroid\n",
    "            # storing value of centre point\n",
    "            if(outside_map_traverse_area.contains(square)):\n",
    "                c[x,y] = -1  # region outside the map but inside the gird\n",
    "            if(square.intersects(mapboundary)):\n",
    "                    z = square.intersection(mapboundary)\n",
    "                    if(not z.is_empty):\n",
    "                        if(mapboundary.contains(z)):\n",
    "                            c[x,y] = 0 #region inside the map\n",
    "                        else:\n",
    "                            c[x,y] = 0 #2 is for boundary partial\n",
    "                            #boundary_partial.append([x,y])\n",
    "\n",
    "            for q in range(len(obstacles)):\n",
    "                if(square.intersects(obstacles[q])):\n",
    "                    z = square.intersection(obstacles[q])\n",
    "                    if(not z.is_empty):\n",
    "                        if(z.within(obstacles[q])):\n",
    "                            c[x,y] = -1    # inside the obstacle i.e fully covered\n",
    "                        else:\n",
    "                            if(not c[x,y] == 2):  \n",
    "                                c[x,y] = -2 # partially covered obstacle\n",
    "                                #a = obstacle_partial[q]\n",
    "                                #a.append([x,y])\n",
    "                elif(square.contains(obstacles[q])):\n",
    "                    c[x,y] = -2 # partially covered obstacle\n"
   ]
  },
  {
   "cell_type": "code",
   "execution_count": 15,
   "metadata": {
    "ExecuteTime": {
     "end_time": "2020-08-01T16:33:56.996890Z",
     "start_time": "2020-08-01T16:33:55.326090Z"
    }
   },
   "outputs": [],
   "source": [
    "matrixandlookup(c,lookup_c,outside_map_non_traverse_area,mapboundary,outer_rect,0.1) #binding rectangle and distance  are the last 2 parameters"
   ]
  },
  {
   "cell_type": "code",
   "execution_count": 16,
   "metadata": {
    "ExecuteTime": {
     "end_time": "2020-08-01T16:33:57.002866Z",
     "start_time": "2020-08-01T16:33:56.997841Z"
    }
   },
   "outputs": [],
   "source": [
    "darpmatrix = np.zeros([vertical,horizontal],dtype = int)\n",
    "np.copyto(darpmatrix,c)"
   ]
  },
  {
   "cell_type": "code",
   "execution_count": 17,
   "metadata": {
    "ExecuteTime": {
     "end_time": "2020-08-01T16:33:58.205010Z",
     "start_time": "2020-08-01T16:33:57.004823Z"
    }
   },
   "outputs": [
    {
     "data": {
      "text/plain": [
       "<matplotlib.axes._subplots.AxesSubplot at 0x1b4414c3dc8>"
      ]
     },
     "execution_count": 17,
     "metadata": {},
     "output_type": "execute_result"
    },
    {
     "data": {
      "image/png": "[encoded data removed]",
      "text/plain": [
       "<Figure size 432x288 with 1 Axes>"
      ]
     },
     "metadata": {
      "needs_background": "light"
     },
     "output_type": "display_data"
    }
   ],
   "source": [
    "import matplotlib.pyplot as plt\n",
    "a = plt.imshow(darpmatrix, interpolation = 'nearest')\n",
    "plt.gca()"
   ]
  },
  {
   "cell_type": "code",
   "execution_count": 18,
   "metadata": {
    "ExecuteTime": {
     "end_time": "2020-08-01T16:33:58.210997Z",
     "start_time": "2020-08-01T16:33:58.206008Z"
    }
   },
   "outputs": [],
   "source": [
    "darpmatrix[darpmatrix==-2] = -1\n",
    "darpmatrix[darpmatrix==2] = -1"
   ]
  },
  {
   "cell_type": "code",
   "execution_count": 19,
   "metadata": {
    "ExecuteTime": {
     "end_time": "2020-08-01T16:33:58.360662Z",
     "start_time": "2020-08-01T16:33:58.212992Z"
    }
   },
   "outputs": [
    {
     "data": {
      "text/plain": [
       "<matplotlib.axes._subplots.AxesSubplot at 0x1b441756108>"
      ]
     },
     "execution_count": 19,
     "metadata": {},
     "output_type": "execute_result"
    },
    {
     "data": {
      "image/png": "[encoded data removed]",
      "text/plain": [
       "<Figure size 432x288 with 1 Axes>"
      ]
     },
     "metadata": {
      "needs_background": "light"
     },
     "output_type": "display_data"
    }
   ],
   "source": [
    "import matplotlib.pyplot as plt\n",
    "a = plt.imshow(darpmatrix, interpolation = 'nearest')\n",
    "plt.gca()"
   ]
  },
  {
   "cell_type": "code",
   "execution_count": 20,
   "metadata": {
    "ExecuteTime": {
     "end_time": "2020-08-01T16:33:58.365648Z",
     "start_time": "2020-08-01T16:33:58.361659Z"
    }
   },
   "outputs": [],
   "source": [
    "start_pts = get_random_coords(darpmatrix,3)"
   ]
  },
  {
   "cell_type": "code",
   "execution_count": 21,
   "metadata": {
    "ExecuteTime": {
     "end_time": "2020-08-01T16:33:58.464771Z",
     "start_time": "2020-08-01T16:33:58.366647Z"
    }
   },
   "outputs": [],
   "source": [
    "start_pts_1 = [(sub[1], sub[0]) for sub in start_pts]"
   ]
  },
  {
   "cell_type": "code",
   "execution_count": 22,
   "metadata": {
    "ExecuteTime": {
     "end_time": "2020-08-01T16:33:58.527152Z",
     "start_time": "2020-08-01T16:33:58.467789Z"
    }
   },
   "outputs": [
    {
     "name": "stdout",
     "output_type": "stream",
     "text": [
      "[(47, 16), (43, 102), (38, 113)]\n"
     ]
    }
   ],
   "source": [
    "print(start_pts_1)"
   ]
  },
  {
   "cell_type": "code",
   "execution_count": 23,
   "metadata": {
    "ExecuteTime": {
     "end_time": "2020-08-01T16:33:58.732102Z",
     "start_time": "2020-08-01T16:33:58.529030Z"
    }
   },
   "outputs": [
    {
     "data": {
      "text/plain": [
       "<matplotlib.collections.PathCollection at 0x1b4417e2788>"
      ]
     },
     "execution_count": 23,
     "metadata": {},
     "output_type": "execute_result"
    },
    {
     "data": {
      "image/png": "[encoded data removed]",
      "text/plain": [
       "<Figure size 432x288 with 1 Axes>"
      ]
     },
     "metadata": {
      "needs_background": "light"
     },
     "output_type": "display_data"
    }
   ],
   "source": [
    "import matplotlib.pyplot as plt\n",
    "a = plt.imshow(darpmatrix, interpolation = 'nearest')\n",
    "plt.gca()\n",
    "plt.scatter(12,73)"
   ]
  },
  {
   "cell_type": "code",
   "execution_count": 24,
   "metadata": {
    "ExecuteTime": {
     "end_time": "2020-08-01T16:34:23.744972Z",
     "start_time": "2020-08-01T16:33:58.734097Z"
    }
   },
   "outputs": [
    {
     "data": {
      "application/vnd.jupyter.widget-view+json": {
       "model_id": "3869b9d61be04c2d8aa634cc6b72efc1",
       "version_major": 2,
       "version_minor": 0
      },
      "text/plain": [
       "HBox(children=(IntProgress(value=0, max=2840), HTML(value='')))"
      ]
     },
     "metadata": {},
     "output_type": "display_data"
    },
    {
     "name": "stdout",
     "output_type": "stream",
     "text": [
      "\n"
     ]
    },
    {
     "data": {
      "application/vnd.jupyter.widget-view+json": {
       "model_id": "a20d1627d6a943d9b2fcdedf41032c63",
       "version_major": 2,
       "version_minor": 0
      },
      "text/plain": [
       "HBox(children=(IntProgress(value=0), HTML(value='')))"
      ]
     },
     "metadata": {},
     "output_type": "display_data"
    },
    {
     "name": "stdout",
     "output_type": "stream",
     "text": [
      "\n"
     ]
    }
   ],
   "source": [
    "A,x = darp(100,darpmatrix,start_pts,pbar=True)"
   ]
  },
  {
   "cell_type": "code",
   "execution_count": 25,
   "metadata": {
    "ExecuteTime": {
     "end_time": "2020-08-01T16:34:23.784897Z",
     "start_time": "2020-08-01T16:34:23.745968Z"
    }
   },
   "outputs": [
    {
     "data": {
      "text/plain": [
       "<matplotlib.image.AxesImage at 0x1b4447d9688>"
      ]
     },
     "execution_count": 25,
     "metadata": {},
     "output_type": "execute_result"
    },
    {
     "data": {
      "image/png": "[encoded data removed]",
      "text/plain": [
       "<Figure size 360x360 with 1 Axes>"
      ]
     },
     "metadata": {
      "needs_background": "light"
     },
     "output_type": "display_data"
    }
   ],
   "source": [
    "imshow(A)"
   ]
  },
  {
   "cell_type": "code",
   "execution_count": null,
   "metadata": {},
   "outputs": [],
   "source": []
  }
 ],
 "metadata": {
  "kernelspec": {
   "display_name": "Python 3",
   "language": "python",
   "name": "python3"
  },
  "language_info": {
   "codemirror_mode": {
    "name": "ipython",
    "version": 3
   },
   "file_extension": ".py",
   "mimetype": "text/x-python",
   "name": "python",
   "nbconvert_exporter": "python",
   "pygments_lexer": "ipython3",
   "version": "3.7.4"
  }
 },
 "nbformat": 4,
 "nbformat_minor": 2
}
