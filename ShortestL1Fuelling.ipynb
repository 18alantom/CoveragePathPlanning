{
 "cells": [
  {
   "cell_type": "markdown",
   "metadata": {},
   "source": [
    "# Shortest L1 Fuelling"
   ]
  },
  {
   "cell_type": "code",
   "execution_count": 1,
   "metadata": {
    "ExecuteTime": {
     "end_time": "2020-08-14T15:54:46.785206Z",
     "start_time": "2020-08-14T15:54:45.073116Z"
    }
   },
   "outputs": [],
   "source": [
    "import numpy as np\n",
    "import matplotlib.pyplot as plt\n",
    "from copy import deepcopy\n",
    "\n",
    "from cpp_algorithms.constants import FU, OB \n",
    "from cpp_algorithms.common_helpers import is_valid\n",
    "from cpp_algorithms.dist_fill import dist_fill "
   ]
  },
  {
   "cell_type": "markdown",
   "metadata": {},
   "source": [
    "The functions are all from the `fuel_path` module, just copied into this notebook.\n",
    "\n",
    "**Constants**\n",
    "- `FU` – Value in the dist_map that pertains to the fuelling point, don't change, it's 0.\n",
    "- `OB` – Value in that pertains to an obstacle, don't change, it's -1.\n",
    "\n",
    "**Helpers**\n",
    "- `dist_fill` – Flood fills an area map with L1 distances from the start point.\n",
    "- `is_valid` – Checks if a coord is within bounds and not an obstacle on the given area_map."
   ]
  },
  {
   "cell_type": "markdown",
   "metadata": {},
   "source": [
    "## Fuel Path Functions"
   ]
  },
  {
   "cell_type": "markdown",
   "metadata": {},
   "source": [
    "Functions from `fuel_path_helpers.py`"
   ]
  },
  {
   "cell_type": "code",
   "execution_count": 2,
   "metadata": {
    "ExecuteTime": {
     "end_time": "2020-08-14T15:54:46.806717Z",
     "start_time": "2020-08-14T15:54:46.789076Z"
    }
   },
   "outputs": [],
   "source": [
    "def udlr(x,y):\n",
    "    \"\"\"\n",
    "    Returns : Up Down Left Right, from (x,y)\n",
    "    \"\"\"\n",
    "    return [(x,y+1),(x,y-1),(x-1,y),(x+1,y)]\n",
    "\n",
    "def get_step(dist_map, point, obs=OB):\n",
    "    \"\"\"\n",
    "    Get smallest valid L1 step from `point`.\n",
    "    \"\"\"\n",
    "    sh = dist_map.shape\n",
    "    min_ = float('inf')\n",
    "    p = point\n",
    "    for direc in udlr(*point):\n",
    "        x,y = direc\n",
    "        if x < 0 or y < 0 or \\\n",
    "            x >= sh[0] or y >= sh[1]:\n",
    "            continue\n",
    "        val = dist_map[direc]\n",
    "        if val < min_ and val != obs:\n",
    "            min_ = val\n",
    "            p = direc\n",
    "    return p, min_\n",
    "\n",
    "def path_to_fuel(dist_map, loc, fuel=FU, obs=OB):\n",
    "    \"\"\"\n",
    "    PARAMETERS\n",
    "    ---\n",
    "    dist_map : copy of the area_map \n",
    "    loc : (x,y) robot location\n",
    "    fuel : value of fuel on the `dist_map`\n",
    "    obs : value of obstacle on the `dist_map`\n",
    "    \"\"\"\n",
    "    loc = tuple(loc)\n",
    "    path = [loc]\n",
    "    cell = dist_map[loc]\n",
    "    while cell != fuel:\n",
    "        loc, cell = get_step(dist_map, loc, obs)\n",
    "        path.append(loc)\n",
    "    return path\n",
    "\n",
    "def get_refuel_idx(dist_map, coverage_path, fuel_cap):\n",
    "    \"\"\"\n",
    "    PARAMETERS\n",
    "    ---\n",
    "    dist_map : distance map where fuel points are 0 valued, \n",
    "        (m,n) shape nd array\n",
    "    coverage_path : sequence of coords that traverses the `dist_map`.\n",
    "        list of tuples, [(x1,y1),...,(xm,ym)]\n",
    "    fuel_cap : capacity of the fuel required by the drone, int.\n",
    "    \n",
    "    RETURNS\n",
    "    ---\n",
    "    points : indices in the coverage_path where refuelling detour is taken.\n",
    "    fcap : fuel capacity at every point in the coverage_path.\n",
    "    \"\"\"\n",
    "    coverage_path = np.array(coverage_path)\n",
    "    x,y = coverage_path.T\n",
    "    dist = dist_map.copy()[x,y]\n",
    "    plen = dist.shape[0]\n",
    "    fcap = np.full(dist.shape, 0)\n",
    "\n",
    "    points = []\n",
    "\n",
    "    cu = 0 # coverage_path distance travelled by the drone\n",
    "    fuel_req = 0 # initial req 0 cause starting with full tank\n",
    "\n",
    "    i = 0\n",
    "    while True:\n",
    "        i+=1\n",
    "        ini_fuel = (fuel_cap - fuel_req)\n",
    "        assert ini_fuel > 0, \"no fuel left to complete coverage_path\" \n",
    "        # start : how many points have previously been covered.\n",
    "        # end   : how many points can be covered with available fuel.\n",
    "        start = cu\n",
    "        end = cu + ini_fuel\n",
    "        \n",
    "        # If end index overshoots coverage_path length,\n",
    "        # end index should be the coverage_path length (ie last position -1)\n",
    "        if plen - end < 0:\n",
    "            end = plen\n",
    "        sl = slice(start, end)\n",
    "\n",
    "        # Amount of distance that can be travelled by the drone\n",
    "        # taking into account the last loc.\n",
    "        p_seg_len = end - start\n",
    "        fin_fuel = ini_fuel - p_seg_len\n",
    "\n",
    "        # Possible fuel remaining starting index \n",
    "        fcap[sl] = np.arange(ini_fuel, fin_fuel, -1)\n",
    "        # if : Remaining fuel is sufficient.\n",
    "        if ini_fuel - (plen - cu) >=0:\n",
    "            break\n",
    "\n",
    "        freq = fcap[sl] - dist[sl]\n",
    "        try:\n",
    "            idx = freq[freq >= 0].argmin()\n",
    "        except ValueError:\n",
    "            raise ValueError(\"coverage path can't be traversed, insufficient fuel capacity\")\n",
    "        \n",
    "        if len(points) > 1 and points[-1] == points[-2]:\n",
    "            raise ValueError(f\"coverage path can't be traversed, insufficient fuel capacity\\n stuck at coverage path index :{points[-1]}\")\n",
    "\n",
    "        cu += idx\n",
    "\n",
    "        points.append(cu)\n",
    "        fuel_req = dist[cu]\n",
    "    return points, fcap"
   ]
  },
  {
   "cell_type": "markdown",
   "metadata": {},
   "source": [
    "Functions from `fuel_path.py`"
   ]
  },
  {
   "cell_type": "code",
   "execution_count": 3,
   "metadata": {
    "ExecuteTime": {
     "end_time": "2020-08-14T15:54:46.833290Z",
     "start_time": "2020-08-14T15:54:46.818629Z"
    }
   },
   "outputs": [],
   "source": [
    "def get_fuel_paths(coverage_path, area_map, fuel_points, fuel_capacity):\n",
    "    \"\"\"\n",
    "    Calculates detour paths to the closest fuel point with optimal\n",
    "    fuel consumption.\n",
    "\n",
    "    PARAMETERS\n",
    "    ---\n",
    "    coverage_path : the drone coverage path as a list of tuples\n",
    "        [(x1,y1),...,(xm,ym)]\n",
    "\n",
    "    area_map : 2 dim numpy array of the area, \n",
    "        obstacles : -1, area to map: 0\n",
    "\n",
    "    fuel_points : non obstacle points on the map which are\n",
    "        fuel_points as a list of tuples.\n",
    "        [(x1,y1),...,(xm,ym)]\n",
    "\n",
    "    fuel_capacity : int, fuel capacity of the drone interms of \n",
    "        1 = time required to move to an adjacent cell.\n",
    "\n",
    "\n",
    "    RETURNS\n",
    "    ---\n",
    "    fuel_dist_map : a matrix of distance to the closest fuel point.\n",
    "\n",
    "    detour_indices : indices of the path list where detour for \n",
    "        fuelling has to be taken.\n",
    "\n",
    "    paths_to_refuel : list of shortest path starting at `path[detour_inces[i]]` \n",
    "        and ending at `fuel_points[i]`.\n",
    "\n",
    "    fuel_capacity : list of how much fuel is remaining, same lenght as path.\n",
    "    \"\"\"\n",
    "    fuel_dist_map = dist_fill(area_map, fuel_points)\n",
    "    detour_indices, fuel_capacity = get_refuel_idx(fuel_dist_map, coverage_path, fuel_capacity)\n",
    "\n",
    "    paths_to_refuel = []\n",
    "    for idx in detour_indices:\n",
    "        detour_location = coverage_path[idx]\n",
    "        path_to_refuel = path_to_fuel(fuel_dist_map, detour_location)\n",
    "        paths_to_refuel.append(path_to_refuel)\n",
    "    \n",
    "    return (\n",
    "        fuel_dist_map,\n",
    "        detour_indices,\n",
    "        paths_to_refuel,\n",
    "        fuel_capacity\n",
    "    )\n",
    "\n",
    "def splice_paths(coverage_path, fuel_paths, detour_idx, double_center=False):\n",
    "    \"\"\"\n",
    "    Inserts detour path to the fuelling station into the original path\n",
    "    and returns it along with start and end indices of the full path which.\n",
    "\n",
    "    PARAMETERS\n",
    "    ---\n",
    "    coverage_path : the drone coverage path as a list of tuples\n",
    "        [(x1,y1),...,(xm,ym)]\n",
    "\n",
    "    fuel_paths : list of fuel paths\n",
    "        [[(x1,y1),...,(xn,yn)],...,[...]]\n",
    "\n",
    "    detour_idx : indices where the drone takes a detour from the main path.\n",
    "\n",
    "    double_center : whether the fuel point coordinate should be repeated.\n",
    "\n",
    "\n",
    "    RETURNS\n",
    "    ---\n",
    "    full_path : The entire path of the drone on the map.\n",
    "\n",
    "    detour_start_end_idx : Indices of the full path where\n",
    "        detour starts and ends, they are the same coords.\n",
    "        (start, end) \n",
    "    \"\"\"\n",
    "    coverage_path = deepcopy(coverage_path)\n",
    "    fuel_paths = deepcopy(fuel_paths)\n",
    "    detour_start_end_idx = []\n",
    "    segments = []\n",
    "    last_idx = 0\n",
    "    cumu_len = 0\n",
    "    for idx,fuel_path in zip(detour_idx,fuel_paths):\n",
    "        s_e = []\n",
    "        \n",
    "        seg = np.array(coverage_path[last_idx:idx])\n",
    "        segments.append(seg)\n",
    "        cumu_len += seg.shape[0]\n",
    "        s_e.append(cumu_len)\n",
    "        \n",
    "        if double_center:\n",
    "            splice_in = [*fuel_path,*fuel_path[::-1][:-1]]\n",
    "        else:\n",
    "            splice_in = [*fuel_path,*fuel_path[::-1][1:-1]]\n",
    "        \n",
    "        seg = np.array(splice_in)\n",
    "        cumu_len += seg.shape[0]\n",
    "        s_e.append(cumu_len)\n",
    "        \n",
    "        detour_start_end_idx.append(tuple(s_e))\n",
    "        segments.append(seg)\n",
    "        last_idx = idx\n",
    "    \n",
    "    segments.append(coverage_path[last_idx:])\n",
    "    full_path = np.concatenate(segments)\n",
    "    \n",
    "    return full_path, detour_start_end_idx"
   ]
  },
  {
   "cell_type": "markdown",
   "metadata": {},
   "source": [
    "## Usage"
   ]
  },
  {
   "cell_type": "code",
   "execution_count": 4,
   "metadata": {
    "ExecuteTime": {
     "end_time": "2020-08-14T15:54:46.841233Z",
     "start_time": "2020-08-14T15:54:46.835620Z"
    }
   },
   "outputs": [],
   "source": [
    "from cpp_algorithms import bcd\n",
    "from cpp_algorithms import get_all_area_maps, get_random_coords\n",
    "from cpp_algorithms.testers.display_funcs import printer\n",
    "from cpp_algorithms.common_helpers import plot, imshow, imshow_scatter\n",
    "from cpp_algorithms.testers.metrics import coverage_metrics, fuel_metrics"
   ]
  },
  {
   "cell_type": "markdown",
   "metadata": {},
   "source": [
    "### Getting the coverage path using bcd"
   ]
  },
  {
   "cell_type": "code",
   "execution_count": 5,
   "metadata": {
    "ExecuteTime": {
     "end_time": "2020-08-14T15:54:47.141174Z",
     "start_time": "2020-08-14T15:54:46.848809Z"
    }
   },
   "outputs": [
    {
     "name": "stdout",
     "output_type": "stream",
     "text": [
      "     points_to_visit : 1318\n",
      "     obstacle_points : 1182\n",
      "      points_visited : 1318\n",
      "   coverage_path_len : 1742\n",
      "            coverage : 1.0\n",
      "          redundancy : 0.32169954476479523\n",
      "          area_shape : (50, 50)\n"
     ]
    },
    {
     "data": {
      "image/png": "[encoded data removed]",
      "text/plain": [
       "<Figure size 504x504 with 1 Axes>"
      ]
     },
     "metadata": {
      "needs_background": "light"
     },
     "output_type": "display_data"
    }
   ],
   "source": [
    "# ---- Get The Map ----\n",
    "area_maps = get_all_area_maps(\"./test_maps/\")   # all area maps in the folder\n",
    "area_map = area_maps[10]\n",
    "\n",
    "# ---- Calculate Coverage Path ----\n",
    "start_point = get_random_coords(area_map, 1)[0] # returns a random coord not on an obstacle\n",
    "coverage_path = bcd(area_map, start_point)      # calculate coverage path using bcd\n",
    "end_point = coverage_path[-1]\n",
    "\n",
    "# ---- Display The Stuff ----\n",
    "imshow(area_map, figsize=(7,7),cmap=\"Blues_r\");                # shows the area_map\n",
    "plot(coverage_path, alpha=0.5, color=\"orange\")\n",
    "imshow_scatter([start_point], color=\"green\")    # show the start_point   (green)\n",
    "imshow_scatter([end_point], color=\"red\")        # show the end_point     (red)\n",
    "\n",
    "cm = coverage_metrics(area_map, coverage_path)  # calculate coverage metrics\n",
    "printer(cm)                                     # print coverage metrics"
   ]
  },
  {
   "cell_type": "markdown",
   "metadata": {},
   "source": [
    "### Calculating the fuel path "
   ]
  },
  {
   "cell_type": "code",
   "execution_count": 6,
   "metadata": {
    "ExecuteTime": {
     "end_time": "2020-08-14T15:54:47.218304Z",
     "start_time": "2020-08-14T15:54:47.151032Z"
    }
   },
   "outputs": [],
   "source": [
    "fuel_points = get_random_coords(area_map, 2) # 2 random coords for fuel points\n",
    "fuel_capacity = 300\n",
    "\n",
    "# Compute the fuel paths, returns 4 values. \n",
    "# Check the docstring (Shift-Tab in the function signature).\n",
    "dist_map, detour_indices, fuel_paths, fuel_capacity = \\\n",
    "get_fuel_paths(coverage_path, area_map, fuel_points, fuel_capacity,)"
   ]
  },
  {
   "cell_type": "markdown",
   "metadata": {},
   "source": [
    "#### Displaying the return values"
   ]
  },
  {
   "cell_type": "code",
   "execution_count": 7,
   "metadata": {
    "ExecuteTime": {
     "end_time": "2020-08-14T15:54:47.293774Z",
     "start_time": "2020-08-14T15:54:47.223213Z"
    }
   },
   "outputs": [
    {
     "name": "stdout",
     "output_type": "stream",
     "text": [
      "fp   [(42, 35), (41, 35), (41, 34), (41, 33)]\n",
      "idx  [245, 410, 592, 842, 1097, 1320, 1568]\n",
      "fc   [300 299 298 297 296 295 294 293 292 291]\n"
     ]
    },
    {
     "data": {
      "image/png": "[encoded data removed]",
      "text/plain": [
       "<Figure size 360x360 with 1 Axes>"
      ]
     },
     "metadata": {
      "needs_background": "light"
     },
     "output_type": "display_data"
    }
   ],
   "source": [
    "print(\"fp  \", fuel_paths[0][:4])  # All the fuel paths\n",
    "print(\"idx \", detour_indices)     # Indices in the cov path where detours to the fuel point\n",
    "print(\"fc  \", fuel_capacity[:10]) # Remaining fuel capacity at every point in the cov path\n",
    "\n",
    "imshow(dist_map);                 # Map of distances to the fuel points\n",
    "imshow_scatter(fuel_points, color=\"white\", s=10)"
   ]
  },
  {
   "cell_type": "markdown",
   "metadata": {},
   "source": [
    "#### Displaying the paths"
   ]
  },
  {
   "cell_type": "code",
   "execution_count": 8,
   "metadata": {
    "ExecuteTime": {
     "end_time": "2020-08-14T15:54:47.529353Z",
     "start_time": "2020-08-14T15:54:47.299900Z"
    }
   },
   "outputs": [
    {
     "data": {
      "image/png": "[encoded data removed]",
      "text/plain": [
       "<Figure size 720x720 with 1 Axes>"
      ]
     },
     "metadata": {
      "needs_background": "light"
     },
     "output_type": "display_data"
    }
   ],
   "source": [
    "imshow(dist_map,figsize=(10,10))\n",
    "plot(coverage_path, color=\"white\") # The coverage path\n",
    "[plot(fuel_path, color=\"orange\") for fuel_path in fuel_paths]; # The entire fuel path\n",
    "[imshow_scatter([fuel_path[ 0]], color=\"yellow\",s=30) for fuel_path in fuel_paths];   # The fuel start points\n",
    "[imshow_scatter([fuel_path[-1]], color=\"red\",s=30) for fuel_path in fuel_paths];      # The fuel end points"
   ]
  }
 ],
 "metadata": {
  "kernelspec": {
   "display_name": "Python 3",
   "language": "python",
   "name": "python3"
  },
  "language_info": {
   "codemirror_mode": {
    "name": "ipython",
    "version": 3
   },
   "file_extension": ".py",
   "mimetype": "text/x-python",
   "name": "python",
   "nbconvert_exporter": "python",
   "pygments_lexer": "ipython3",
   "version": "3.7.6"
  }
 },
 "nbformat": 4,
 "nbformat_minor": 4
}
