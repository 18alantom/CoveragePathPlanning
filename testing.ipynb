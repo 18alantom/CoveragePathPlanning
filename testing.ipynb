{
 "cells": [
  {
   "cell_type": "markdown",
   "metadata": {},
   "source": [
    "# ToDo\n",
    "\n",
    "## Path generation API\n",
    "### Single Robot Path Generation\n",
    "- Generate coverage path from given area map and list of relevant points (start, end, fuel).\n",
    "- Generate fuel path from given fuel map and coverage path\n",
    "- Generate combined path \n",
    "\n",
    "### Multiple Robot Path Generation\n",
    "- Obtain area division map from DARP\n",
    "- Pass area division map to all algos with relevant cell value to represent mapping area.\n",
    "- Same interface as single robot path generation.\n",
    "\n",
    "## Testing\n",
    "### Functions to visualize\n",
    "\n",
    "\n",
    "### Metrics\n",
    "#### Percents\n",
    "- **Coverage** - Percentage of non obstacle cells covered by the path.\n",
    "- **Redundancy** - Percentage of cells from the path that have been revisited (backtracked).\n",
    "\n",
    "#### Timings\n",
    "- **Coverage Path computation time** - Time taken by the algorithm to compute the coverage path.\n",
    "- **Fuel Path computation time** - Time taken to compute the refuel path.\n",
    "- **Fuel dist map generation time** - Time required to generate the fuel distance map.\n",
    "\n",
    "#### Numbers\n",
    "- **Coverage cells** - Number of cells to be covered.\n",
    "- **Non covered cells** - Cells that haven't been covered.\n",
    "- **Backtrack** - Count of coverage path cells that have been revisited.\n",
    "- **Coverage Path length** - Number of steps in the area coverage path.\n",
    "- **Fuel Path length** - Number of steps in the refueling path.\n",
    "- **Total Path length** - Sum of the above two points.\n",
    "    \n",
    "### Running Tests On\n",
    "- Resolutions, Get obstacle maps of the following resolutions.\n",
    "    - (32, 32)\n",
    "    - (50, 50)\n",
    "    - (144, 50)\n",
    "    - (256, 144)\n",
    "    - (256, 256)\n",
    "- Obstacle types\n",
    "    - None\n",
    "    - Point obstacles (single cell obstacles generated randomly).\n",
    "    - Region obstacles (region obstacles that have been painted).\n",
    "        - Corners\n",
    "        - Central\n",
    "        - Caves\n",
    "        - Pipes, Bottlenecks\n",
    "    - Combination of both."
   ]
  },
  {
   "cell_type": "markdown",
   "metadata": {},
   "source": [
    "# Testing"
   ]
  },
  {
   "cell_type": "code",
   "execution_count": 44,
   "metadata": {
    "ExecuteTime": {
     "end_time": "2020-07-19T17:46:11.834252Z",
     "start_time": "2020-07-19T17:46:11.829272Z"
    }
   },
   "outputs": [],
   "source": [
    "# Import\n",
    "\n",
    "import numpy as np\n",
    "import matplotlib.pyplot as plt\n",
    "\n",
    "from PIL import Image\n",
    "from pathlib import Path"
   ]
  },
  {
   "cell_type": "code",
   "execution_count": 92,
   "metadata": {
    "ExecuteTime": {
     "end_time": "2020-07-19T18:08:53.362992Z",
     "start_time": "2020-07-19T18:08:53.351231Z"
    }
   },
   "outputs": [],
   "source": [
    "# Constants\n",
    "\n",
    "OB = -1 # Value for obstacle.\n",
    "NO = 0  # Value for region to be mapped.\n",
    "AMS_PATH = \"./test_maps/\" # Area Maps Paths"
   ]
  },
  {
   "cell_type": "markdown",
   "metadata": {},
   "source": [
    "## Getting area maps"
   ]
  },
  {
   "cell_type": "code",
   "execution_count": 93,
   "metadata": {
    "ExecuteTime": {
     "end_time": "2020-07-19T18:08:53.986070Z",
     "start_time": "2020-07-19T18:08:53.974860Z"
    }
   },
   "outputs": [],
   "source": [
    "resolutions = [(32, 32),(50, 50),(144, 50),(256, 144),(256,256)]\n",
    "\n",
    "def imshow(area_map,figsize=(5,5),cmap=\"viridis\"):\n",
    "    \"\"\"\n",
    "    Display with no interpolation.\n",
    "    \"\"\"\n",
    "    plt.figure(figsize=figsize)\n",
    "    ax = plt.imshow(area_map,interpolation='none',cmap=cmap)\n",
    "    plt.axis('off');\n",
    "    return ax\n",
    "\n",
    "def generate_no_obs_area_map(resolutions=resolutions):\n",
    "    \"\"\"\n",
    "    resolutions : list of tuples [(rows, cols)]\n",
    "    \"\"\"\n",
    "    area_maps = []\n",
    "    for res in resolutions:\n",
    "        area_maps.append(np.zeros(res))\n",
    "    return area_maps\n",
    "\n",
    "def get_area_map(path):\n",
    "    \"\"\"\n",
    "    path : path to area map png, png should have only \n",
    "    0 255 as values.\n",
    "    returns area_map with cell values\n",
    "    obstacle : OBS\n",
    "    non obstacle : NOB\n",
    "    \"\"\"\n",
    "    am = np.array(Image.open(path))\n",
    "    ma = np.array(am).mean(axis=2) == 255\n",
    "    am = np.int8(np.zeros(ma.shape))\n",
    "    am[ma] = NO\n",
    "    am[~ma]  = OB\n",
    "    return am\n",
    "\n",
    "def get_area_map_list(folder_path=AMS_PATH):\n",
    "    \"\"\"\n",
    "    folder_path : path to the folder contiaining the maps (.png)\n",
    "    \"\"\"\n",
    "    ams = []\n",
    "    for path in Path(folder_path).iterdir():\n",
    "        try:\n",
    "            ams.append(get_area_map(path))\n",
    "        except:\n",
    "            continue\n",
    "    return ams"
   ]
  }
 ],
 "metadata": {
  "kernelspec": {
   "display_name": "Python 3",
   "language": "python",
   "name": "python3"
  },
  "language_info": {
   "codemirror_mode": {
    "name": "ipython",
    "version": 3
   },
   "file_extension": ".py",
   "mimetype": "text/x-python",
   "name": "python",
   "nbconvert_exporter": "python",
   "pygments_lexer": "ipython3",
   "version": "3.7.6"
  }
 },
 "nbformat": 4,
 "nbformat_minor": 4
}
